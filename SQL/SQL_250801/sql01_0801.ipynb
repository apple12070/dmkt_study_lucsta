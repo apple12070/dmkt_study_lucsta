{
 "cells": [
  {
   "cell_type": "markdown",
   "id": "9fe61c39-d21b-4b55-86d0-0487b474f915",
   "metadata": {},
   "source": [
    "### DDL (Data Definition Language) - 데이터 정의 언어 (*구조/스키마 관리)\n",
    "- CREATE DATABASE dbname\n",
    "- CREATE DATABASE IF NOT EXISTS dbname\n",
    "- SHOW DATABASES\n",
    "- USE dbname\n",
    "- CREATE TABLE tablename\n",
    "- DROP TABLE tablename\n",
    "- DROP TABLE IF EXISTS tablename\n",
    "- ALTER TABLE tablename ADD COLUMN 속성명 속성값;\n",
    "- ALTER TABLE tablename MODIFY COLUMN 속성명 속성값;\n",
    "- ALTER TABLE tablename CHANGE COLUMN 속성명A 속성명B 속성값;\n",
    "- ALTER TABLE tablename DROP COLUMN 속성명;"
   ]
  },
  {
   "cell_type": "markdown",
   "id": "0b88ba0f-7231-4792-bf77-3f998ede53f6",
   "metadata": {},
   "source": [
    "### DML (Data Manipulation Language) - 데이터 조작 언어 (*데이터 조작)\n",
    "- INSERT INTO tablename VALUES (Field Value, Field Value, Field Value, Field Value);\n",
    "- INSERT INTO tablename (Field, Field, Field, Field); VALUES (Field Value,Field Value,Field Value);\n",
    "```\n",
    "- INSERT INTO students (Field, Field, Field) VALUES\n",
    "      (Field Value, Field Value, Field Value),\n",
    "      (Field Value, Field Value, Field Value);\n",
    "```\n",
    "- DESC tablename\n",
    "- SELECT * FROM tablename;\n",
    "- SELECT column FROM tablename;\n",
    "- SELECT column, column FROM tablename;\n",
    "- SELECT * FROM tablename WHERE column = value;\n",
    "- \"=\" / \">\" / \"!=\" / \"<>\"\n",
    "- SELECT * FROM tablename WHERE column >= value AND column = value;\n",
    "- SELECT * FROM tablename WHERE column >= value OR column = value;\n",
    "- SELECT * FROM tablename WHERE name LIKE \"%value%\";\n",
    "- SELECT * FROM tablename WHERE name LIKE \"_value_\";\n",
    "- UPDATE tablename SET column = value;\n",
    "- UPDATE tablename SET column = value, column = value WHERE primarykey = 1;    # Safe Mode\n",
    "- DELETE FROM tablename;\n",
    "- DELETE FROM tablename WHERE primarykey = value;\n",
    "- ** 문자열은 \"\", 문자는 '' 구분!!"
   ]
  },
  {
   "cell_type": "markdown",
   "id": "f634794a-38e3-4b4a-a7b7-1940004368e5",
   "metadata": {},
   "source": [
    "### DCL (Data Control Language) — 데이터 제어 언어 (*권한 및 보안 관리)\n",
    "\n",
    "\n",
    "- USE mysql => 현재 존재하는 사용자 정보 확인\n",
    "- SELECT host, user FROM user; => 사용자별 세부 권한 확인\n",
    "\n",
    "```\n",
    "CREATE USER \"사용자이름@사용권한범위(*localhost)\"\n",
    "IDENTIFIED BY \"패스워드\"\n",
    "```\n",
    "\n",
    "- 사용권한범위 : localhost // %\n",
    "\n",
    "- SET PASSWORD FOR \"사용자이름\"@\"권한범위\" = \"변경하고싶은 패스워드\" => 패스워드 변경 시\n",
    "- DROP USER \"사용자이름\"@\"권한범위\" => 특정 사용자 계정 삭제 시\n",
    "- SHOW GRANTS FOR \"사용자이름@권한범위\" (ex. SHOW GRANTS FOR \"root@localhost\") => 특정 사용자가 가진 권한을 확인하고 싶을 때\n",
    "- GRANT SELECT ON db이름.테이블이름 TO \"사용자이름@권한범위\" => 특정 DB > 특정 Table에만 접근할 수 있도록 제한\n",
    "- GRANT ALL ON db.* TO \"사용자이름@권한범위\" => 특정 DB > 모든 Table에 접근할 수 있도록 제한\n",
    "- GRANT INSERT, UPDATE, SELECT ON . TO \"사용자이름@권한범위\" => 특정 권한만 줄 수 있도록 선택할 수 있음"
   ]
  },
  {
   "cell_type": "markdown",
   "id": "c8a5354a-a9e0-4932-a4de-ce68df8a7d10",
   "metadata": {},
   "source": [
    "#### 미션 1 ! 회원 정보 관리 시스템을 구축하기 위한 멤버십  DB를 하나 만들어주세요.\n",
    "- DB 안에는 1개의 테이블이 존재합니다.\n",
    "- 해당 테이블 내 각각의 레코드 안에는 회원 번호, 이름, 이메일, 생년월일, 가입일시, 포인트, 성별이 반드시 속성으로 포함되어있어야 합니다.\n",
    "- 최소 3명의 회원 정보가 삽입되어있도록 임의로 데이터를 적용해주세요.\n",
    "- 해당 DB 및 테이블이 모두 설계되었다면, 고객 포인트가 1000 이상인 회원만 조회할 수 있도록 코드를 작성해주세요.\n",
    "- 이메일 도메인이 @google.com인 사람만 조회할 수 있도록 코드를 작성해주세요."
   ]
  },
  {
   "cell_type": "markdown",
   "id": "5341ac75-8ebc-4e34-b368-192a88b0e21d",
   "metadata": {},
   "source": [
    "### SELECT 문법 :\n",
    "- LIMIT : 가져올 수 있는 데이터 중 일부만 가져오고 싶을 때\n",
    "- COUNT (*집계함수) : 데이터의 총 개수를 확인하고 싶을 때\n",
    "- DISTINCT : 특정 값을 가져올 때, 중복된 값을 출력하지 않고 싶을 때\n",
    "- SUM : 해당 컬럼값의 합계 -> 수치형 데이터\n",
    "- AVG : 해당 컬럼값의 평균 -> 수치형 데이터\n",
    "- MAX : 해당 컬럼값의 최댓값 -> 수치형 데이터\n",
    "- MIN : 해당 컬럼값의 최솟값 -> 수치형 데이터\n",
    "- GROUP BY : 특정 컬럼값을 기반으로 그룹핑하기\n",
    "  - SELECT rating FROM film GROUP BY rating -> film이라는 테이블에서 rating값을 찾아오는데, 해당 rating의 값을 그룹화해서 찾아와라!!\n",
    "  - SELECT COUNT(*) FROM film GROUP BY rating -> 각 rating 값의 종류별로 몇개의 데이터가 있는지 확인\n",
    "  - SELECT COUNT(*) FROM film WHERE 조건문 GROUP BY rating -> 특정 조건에 맞는 데이터 중 rating 값의 종류별로 몇 개의 데이터가 있는지 확인\n",
    "- ORDER BY : 특정 컬럼값을 기준으로 데이터를 정렬 (*오름차순 = ASC || 내림차순 = DESC)\n",
    "  - 만약 DESC, ASC 중 그 어떤 값도 입력하지 않는다면, 기본 디폴트 값은 ASC 정렬로 실행됨.\n",
    "\n",
    "```\n",
    "<사용 순서>\n",
    "SELECT 컬럼명\n",
    "FROM 테이블명\n",
    "WHERE 조건절\n",
    "GROUP BY 컬럼\n",
    "ORDER BY 컬럼\n",
    "LIMIT 출력갯수\n",
    "```"
   ]
  },
  {
   "cell_type": "markdown",
   "id": "2f9034c5-55c7-46d9-acff-26abff973010",
   "metadata": {},
   "source": [
    "### Data 대분류 리스트 :\n",
    "1) 수치형 데이터 : (1, 2, 1.1 등) -> 해당 수치값이 각각 고유한 의미\n",
    "2) 범주형 데이터 : (남/여, 미성년/성인 등) -> 중복값 제거해야하는 경우 많음 (*DISTINCT() 사용)"
   ]
  },
  {
   "cell_type": "markdown",
   "id": "5b98524b-a93d-4af4-8389-8d3815f20319",
   "metadata": {},
   "source": [
    "### SQL 중급 단계\n",
    "1) FOREIGN KEY (*외래키) <-> PRIMARY KEY (*고유키)\n",
    "2) HAVING\n",
    "   - HAVING 절을 활용해서 조건 비교!!!\n",
    "   - WHERE 절을 활용해서도 조건 비교 가능한데, 왜 굳이 HAVING절이 필요할까?\n",
    "   - 특정 테이블 내 데이터를 그룹핑하는 GROUP BY를 적용한 상태에서 집계함수가 포함된 조건식을 사용하려고 할 때, 반드시 HAVING절을 사용해야 함!!!\n",
    "3) JOIN (*실제 실무에서도 굉장히 많이 사용되는 기능)\n",
    "   - 1개의 테이블에 너무 맣은 방대한 데이터를 몰아넣는 경우는 없음!!\n",
    "   - 복수의 테이블을 관리하는 경우가 빈번 -> 각각의 테이블간 연결고리를 FOREIGN KEY로 만들어놓고, 해당 테이블간 연결하는 경우가 숙명적으로 많을 수밖에 없음 -> 그래서 해당 문법을 정말 많이 사용함!!!\n",
    "   - 서로 다른 테이블을 하나의 연결된 테이블로 활용하고자 할 때 사용\n",
    "   - INNER JOIN : 서로 다른 테이블간 매칭되는 데이터에 한해서, 해당 데이터를 기준으로 연결\n",
    "   - (*JOIN이라는 문법을 사용하면 default가 INNER JOIN이기 때문에 실무에서는 INNER라는 수식어 생략 가능)\n",
    "   - 서로 다른 테이블을 하나로 연결하기 위해서는 어떤 데이터를 기준으로 연결할 것인가?에 대한 의문이 생길 수 있음 -> ON 전치사\n",
    "   - OUTER JOIN : 서로 매칭되지 않는 데이터도 모두 찾아옴!!! (*상대적으로 많이 사용하지 않음) (주로 한쪽에만 데이터가 있는 경우 필터링하기 위해 사용 -> 근데 이런 경우는 많이 없음)\n",
    "     - LEFT OUTER JOIN : 먼저 언급된 (*Left data = 부모 데이터)를 기준으로 다른 테이블을 연결, 부모데이터와 매칭되지 않은 데이터가 존재하더라도 해당 데이터를 누락시키지 않고 찾아옴\n",
    "     - RIGHT OUTER JOIN : 자식 데이터를 기준으로 다른 테이블을 연결, 매칭되지 않은 데이터들을 누락시키지 않고 모두 찾아옴\n",
    "4) SubQuery\n",
    "   - SQL문 안에 포함되어 있는 SQL문 => 중첩 SQL문\n",
    "5) INDEX\n",
    "   - 파이썬 > 리스트 > 리스트 자료구조 내부에 있는 아이템들에게 각각 인덱스값을 부여\n",
    "   - SQL구문을 활용해서 컬럼 안에 입력되어있는 데이터들에게 개별적인 인덱스값을 부여 -> 값을 서칭해서 찾아오는 빈도 잦음 -> 너무 많은 시간, 과정\n",
    "   - 인덱스 종류 \n",
    "     - 클러스터형 인덱스 : 영어 사전과 같은 형태로 데이터를 정렬한다고 생각하면 됨 ex. Primary Key // Foreign Key // Unique\n",
    "     - 보조 인덱스 : 데이터는 그대로 둔 상태에서 마치 책으로 비유하면 책 끝부분에 있는 찾아보기 인덱스(색인) 페이지 정도로 생각하면 됨.\n",
    "                   ex) SHOW INDEX FROM customers; # 특정 테이블 내 인덱스 값 조회\n",
    "                   ex) ALTER TABLE userTbl ADD CONSTRAINT TESTDate UNIQUE(mDate);\n",
    "                   ex) CREATE INDEX idx_birth ON userTbl(birthYear);  # 보조 인덱스 생성하는 방법\n",
    "                   ex) ALTER TABLE userTbl ADD INDEX idx_addr(addr);  # 보조 인덱스 생성하는 방법\n",
    "                   ex) ALTER TABLE userTbl DROP INDEX idx_addr;   # 보조 인덱스 삭제하는 방법"
   ]
  },
  {
   "cell_type": "markdown",
   "id": "766a7590-de02-4d4a-b61a-642e4566dc60",
   "metadata": {},
   "source": [
    "### 무신사 브랜드 사용할 것 같은 느낌으로 Table 생성 -> 마케터의 관점에서 어떻게 사용하면 좋을까?\n",
    "- 고객 테이블 (*고객 정보를 가지고 있는 데이터 -> 나이,성별,주소,이메일,전화번호 등)\n",
    "- 상품 테이블 (*상품 정보 가지고 있는 데이터 -> 재고, 메인카테고리, 서브카테고리, 상품가격, 할인가격, 할인율 등)\n",
    "- 주문 테이블 (*주문 정보 가지고 있는 데이터 -> 주문수량, 주문한 날짜,외래 키 -> 고객 & 상품)\n",
    "- 리뷰 테이블 (*리뷰 정보 가지고 있는 데이터 -> 평점, 리뷰내용, 리뷰작성 날짜, 외래 키 -> 고객 & 상품)"
   ]
  },
  {
   "cell_type": "markdown",
   "id": "dd5a72b9-5f33-48b8-a894-10894203ee03",
   "metadata": {
    "jupyter": {
     "source_hidden": true
    }
   },
   "source": [
    "### 데이터 분석 마케터\n",
    "- 자사 매출 증대롤 목표 -> 마케팅\n",
    "- 회원들의 등급을 파악하고 해당 등급에 따른 차별화된 CRM 마케팅을 해야겠다는 생각\n",
    "- 회원등급별 인원수 -> 가장 많은 등급에 속해있는 사용자들을 분석해서 페르소나화 해야겠다\n",
    "- 미션 1) 결론 : 회원등급별 인원수 출력\n",
    "\n",
    "- 자사몰에서 상품을 판매중 -> 꾸준하게 잘 판매되고 있는 상품과 그렇지 않은 상품을 구분\n",
    "- 잘 판매되고 있는 상품은 지속적으로 신규고객 및 충성고객 확보를 목표\n",
    "- 판매실적이 좋지 않은 상품은 단종 || 리뉴얼 재고 관리\n",
    "- 미션 2) 결론 : 상품별 평균평점 출력\n",
    "\n",
    "- OKR, KPI, NSM\n",
    "- NSM 지표 의거해서 월별 주문건수가 00건 이하로 나오면 위기// 000건 이상이 나오면 긍정\n",
    "- 현재 시점을 기준으로 최근 1개월간 전체 주문건수를 확인\n",
    "- 미션 3) 결론 : 최근 30일 이내에 주문된 전체 총 건수 출력"
   ]
  },
  {
   "cell_type": "markdown",
   "id": "465cd6c0-0c71-4424-a197-dcd7b86eee06",
   "metadata": {},
   "source": [
    "### Python & MySQL (feat. SQL)"
   ]
  },
  {
   "cell_type": "markdown",
   "id": "6e645f53-e960-496c-a18b-ed60d91ddfa6",
   "metadata": {
    "jupyter": {
     "source_hidden": true
    }
   },
   "source": [
    "- pip install pymysql\n",
    "- 패턴코드 (Pattern Code)\n",
    "  - Python에서 정해진 규칙을 활용해서 SQL 문법 실행"
   ]
  },
  {
   "cell_type": "markdown",
   "id": "29ebb13b-1240-49a0-a500-0fc5ed3df516",
   "metadata": {},
   "source": [
    "### MySQL 중.고급 문법 및 단계"
   ]
  },
  {
   "cell_type": "markdown",
   "id": "9cdb199f-20d8-4efd-9104-4827fcbfbde8",
   "metadata": {},
   "source": [
    "- 다양한 SQL 함수\n",
    "  - 문자열 함수 : \n",
    "    1) LENGTH(string) : 문자의 길이를 반환하는 함수\n",
    "    2) UPPER(string) : 특정 문자를 대문자로 변환시켜주는 함수\n",
    "    3) LOWER(string) : 특정 문자를 소문자로 변환시켜주는 함수\n",
    "    4) CONCAT(string1,string2, ...) : 복수의 문자열을 하나로 연결하는 함수\n",
    "    5) SUBSTRING(string, start, length) : 문자열에서 일부 문자열만 추출해주는 함수 (무언가의 하위목록) (추출할 문자컬럼,시작번호(sql은 0아닌 1이 카운트 시작), start부터 몇 개의 문자를 찾아올 것인지)\n",
    "    - 날짜/시간 함수 :\n",
    "      1) NOW() : 현재 날짜와 시간을 반환하는 함수\n",
    "      2) CURDATE() : 현재 날짜를 반환하는 함수\n",
    "      3) CURTIME() : 현재 시간을 반환하는 함수\n",
    "      4) DATE_ADD(date, INTERVAL unit) : 특정 날짜에서 간격을 추가해주는 함수\n",
    "         - unit type : MONTH / DAY / HOUR / MINUTE / SECOND\n",
    "      6) DATE_SUB(date, INTERVAL unit) : 특정 날짜에서 간격을 빼주는 함수\n",
    "         - unit type : MONTH / DAY / HOUR / MINUTE / SECOND\n",
    "      7) EXTRACT((추출해오고자 하는 값 = field) FROM (추출해오고자 하는 대상 = source))\n",
    "      8) YEAR(), MONTH(), DAY(), HOUR(), MINUTE(), SECOND()\n",
    "      9) DAYOFWEEK() : 특정 날짜의 요일을 반환 -> 1요일 : 일요일 // 7요일 : 토요일\n",
    "      10) DATE_FORMAT() : 형식지정자로 값을 받아서 요일을 출력할 수 있음 -> %W, %a\n",
    "          - %Y : 4자리 연도 2025\n",
    "          - %y : 연도의 마지막 2자리 25\n",
    "          - %M : 영문 월 June\n",
    "          - %m : 월을 두자리 숫자로 표기 01 02 07\n",
    "          - %c : 월을 한자리 숫자로 표기 1 2 3 5 7\n",
    "          - %D : 일을 숫자 + 영문 접미사로 표기 1st 21th\n",
    "          - %d : 일을 두자리 숫자로 표기 31 10 09\n",
    "          - %H : 시간을 24시간 형식의 두자리로 표기 15 18 20\n",
    "          - %h : 시간을 12시간 형식의 두자리로 표기 03 09 11\n",
    "          - %i : 분을 두자리 숫자로 표기\n",
    "          - %s : 초를 두자리 숫자로 표기\n",
    "      12) TIMESTAMPDIFF(unit, start_datetime, end_datetime) : 두 날짜 혹은 시간 값의 차이를 계산할 때 사용하는 함수 (*MAX() 함수를 사용하면 가장 최댓값 => 가장 최근 일시 추출 가능)\n",
    "          - unit type : MONTH / DAY / HOUR / MINUTE / SECOND\n",
    "      13) ABS(number) : Absolute : 절대적인 - 절댓값을 추출\n",
    "      14) CEIL(number) : 올림처리\n",
    "      15) FLOOR(number) : 버림처리\n",
    "      16) ROUND(number) : 반올림처리 -> ROUND(숫자A,숫자B) -> 숫자B가 최종적인 반올림의 결과값이 되도록 한다. (ex) ROUND(number,1)의 경우 소수점 두번째 자리에서 반올림하여 소수점 첫번째 자리까지 출력\n",
    "      17) SQRT(number) : 해당 숫자의 제곱근을 반환하는 함수\n",
    "- SubQuery 고급활용 : SQL 쿼리문 안에 또다른 SQL 쿼리문이 존재하는 것\n",
    "  - 기본적으로 서브쿼리는 최근 문법인 JOIN ON 이라는 문법으로 대체 가능\n",
    "  - 신문법에서는 JOIN ON -> JOIN USING()로 대체 가능\n",
    "  - 하지만, 서브쿼리를 여전히 메인 문법으로 사용하고 있는 조직 존재\n",
    "  - 과거 문법이어도 충분히 인지해야 하는 경우가 빈번하게 발생하기 때문에 꼭 학습\n",
    "      1) 특정 테이블의 필드값을 어떤 조건 하에 다른 테이블과 연결하여 값을 찾아와야 하는 경우 굉장히 많이 사용됨.\n",
    "      2) 서브쿼리를 FROM절에서 사용할 때에는 반드시 AS 구문을 사용해야 함\n",
    "      3) 상관 서브쿼리 : 기존 서브쿼리와 달리, 데이터를 참조하고자 하는 테이블이 동일한 경우, 해당 테이블을 사용하는 위치에 따라 상위에서 관리되고 있는 테이블을 참조할 수도 있는데, 이 상황을 상관 서브쿼리라고 부릅\n",
    "- 집합 연산자\n",
    "  - 합집합 : 서로 다른 집합을 하나로 합쳐서 사용할 때 -> 서로 다른 테이블을 하나로 합쳐서 사용할 때\n",
    "    - UNION : 서로 다른 테이블을 하나로 결합할 때, 중복된 행은 제거!!!\n",
    "    - UNION ALL : 서로 다른 테이블을 하나로 결합할 때, 중복된 행까지 모두 포함!!!\n",
    "  - 교집합 : 서로 다른 집합의 공통 집합을 추출할 때\n",
    "    - INTERSECTION : 서로 다른 테이블의 공통 부분만 추출할 때 사용\n",
    "  - 차집합 : 서로 다른 테이블을 놓고 결합할 때, 어느 한쪽 영역에만 속해있는 부분만 가져올 때\n",
    "    - EXCEPT : 서로 다른 테이블 결합 시, 어느 한쪽 데이터만 찾아오고 싶을 때\n",
    "- Transacton / COMMIT / ROLLBACK\n",
    "  - 이미 만들어져있는 DB -> TABLE 존재 -> TABLE 안에 값을 수정하고 싶음 -> WHERE 조건을 기준으로 값을 수정한다는 것을 깜빡!\n",
    "  - START TRANSACTION; -> 해당 명령어가 존재한다면, 데이터 수정 후 돌아갈 수 있는 환경을 세팅\n",
    "  - ROLLBACK; -> START TRANSACTION;이 존재한다는 전제하에, 데이터 편집 전 단계로 돌려주는 명령어\n",
    "  - COMMIT; -> 해당 명령어를 입력 및 실행하는 순간, 임시저장공간에 있던 데이터를 실제 데이터에 적용!\n",
    "    (*COMMIT 이후에는 ROLLBACK 기능이 적용될 수 없음!!!)\n",
    "- VIEW\n",
    "  - VIEW는 실제 테이블을 기반으로 한 \"가상 테이블\"을 생성하고자 할 때 사용할 수 있는 명령어!\n",
    "  - VIEW를 사용하면 복잡한 쿼리문을 단순화 시킬 수 있음!\n",
    "  - CREATE VIEW \"가상테이블명\" AS \"실제 데이터\"\n",
    "  - 만약, 동일한 이름으로 가상테이블이 이미 존재하는 경우, 추가로 생성하고자 할 때에는 에러가 발생!!\n",
    "  - CREATE OR REPLACE VIEW \"가상 테이블명\" AS \"실제 데이터\"\n",
    "    => 신규로 가상테이블을 생성하거나 또는 덮어쓰기 가능!\n",
    "  - DROP VIEW \"가상 테이블명\"; => 해당 가상 테이블을 삭제,제거하는 기능!\n",
    "- WITH\n",
    "  - VIEW와 마찬가지로 \"가상 테이블\"을 생성하고자 할 때 사용할 수 있는 명령어!!!\n",
    "  - WITH절은 VIEW와 달리 구문을 실행하는 동안에서 작동하고 메모리공간에 제거됨!!\n",
    "    -> 값을 나중에 찾아올 수 없음\n",
    "  - WITH \"가상 테이블명\" AS (SELECT ~)\n",
    "- CASE WHEN\n",
    "  - 프로그래밍 언어에서 자주 사용되는 if-else문 절과 매우 비슷\n",
    "  - 어떤 조건에 따라서 출력을 다르게 하고자 할 때 많이 사용됨!\n",
    "  - ```\n",
    "    CASE\n",
    "        WHEN 조건1 THEN 결과1\n",
    "        WHEN 조건2 THEN 결과2\n",
    "                ....\n",
    "        ELSE 파이널 결과\n",
    "    END\n",
    "    ```\n",
    "- GROUP_CONCAT()\n",
    "  - MySQL에서 제공하는 문자열 집계 함수로, 그룹 내의 여러 행을 하나의 문자열로 결합하는 역할\n",
    "  - ```\n",
    "    GROUP_CONCAT(expression)\n",
    "    GROUP_CONCAT(expression SEPARATOR separator_string = 구분자 문자열 ; x /)\n",
    "    기본 구분자 값 => 쉼표 , \n",
    "    ```\n",
    "  - 한 개의 행 안에 여러개의 컬럼을 나눠서 출력하고 싶을 때 사용하는 함수\n",
    "- 고급 윈도우 함수"
   ]
  }
 ],
 "metadata": {
  "kernelspec": {
   "display_name": "Python [conda env:base] *",
   "language": "python",
   "name": "conda-base-py"
  },
  "language_info": {
   "codemirror_mode": {
    "name": "ipython",
    "version": 3
   },
   "file_extension": ".py",
   "mimetype": "text/x-python",
   "name": "python",
   "nbconvert_exporter": "python",
   "pygments_lexer": "ipython3",
   "version": "3.13.5"
  }
 },
 "nbformat": 4,
 "nbformat_minor": 5
}
