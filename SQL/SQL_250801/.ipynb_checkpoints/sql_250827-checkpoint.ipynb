{
 "cells": [
  {
   "cell_type": "code",
   "execution_count": 2,
   "id": "e556b80a-7510-4834-a0c0-a28a8bb7a1d2",
   "metadata": {},
   "outputs": [
    {
     "ename": "IndentationError",
     "evalue": "unindent does not match any outer indentation level (<string>, line 57)",
     "output_type": "error",
     "traceback": [
      "\u001b[1;36m  File \u001b[1;32m<string>:57\u001b[1;36m\u001b[0m\n\u001b[1;33m    3) ORDER BY : 특정 부분집합 내 정렬 기준을 정의하고자 할 때 사용\u001b[0m\n\u001b[1;37m                                               ^\u001b[0m\n\u001b[1;31mIndentationError\u001b[0m\u001b[1;31m:\u001b[0m unindent does not match any outer indentation level\n"
     ]
    }
   ],
   "source": [
    "#### SQL 고급문법\n",
    "- 윈도우 함수 : SQL 쿼리문 안에서 데이터 집합을 세분화하여 각 부분에 대한 계산을 수행하는 함수\n",
    "- (* 만약 전체데이터가 너무 방대해서, 특정 부분만 추출해서 연산 처리를 해야한다면?)\n",
    "  1) RANK() : 순위를 매기는데, 동일한 값이 있을 경우 같은 순위를 부여하고 다음 순위는 건너뛴다.\n",
    "  2) DENSE_RANK() : 순위를 매기는데, 동일한 값이 있을 경우, 같은 순위 부여 후 다음 순위를 건너뛰지 않는다\n",
    "  3) ROW_NUMBER() : 순위와 상관없이 각 행에 고유한 번호를 부여하는 것\n",
    "     > 위 3개의 함수는 공통적으로 OVER절을 함께 사용한다!!!\n",
    "     > ORDER BY 절을 통해서 순위를 매길 기준을 정의한다!!!\n",
    "- 윈도우 함수에서 많이 사용되는 구문 :\n",
    "  1) PARTITION BY : 특정 컬럼을 기준으로 데이터를 부분집합으로서 분할할 때 사용!(실무에서 사용하긴 애매)\n",
    "  2) ORDER BY : 특정 부분집합 내 정렬 기준을 정의하고자 할 때 사용\n",
    "  3) ROWS : 특정 부분집합의 범위를 설정할 때 사용!\n",
    "     - ROWS BETWEEN UNBOUNDED PRECEDING AND CURRENT ROW\n",
    "     - UNBOUNDED PRECEDING : 앞에서 파티션을 통해 설정된 부분집합의 첫번째 행부터 시작\n",
    "     - UNBOUNDED FOLLOWING : 앞에서 파티션을 통해 설정된 부분집합의 마지막번째 행까지\n",
    "     - CURRENT ROW : 현재 행을 포함\n",
    "     - n PRECEDING/FOLLOWING : n번째#### SQL 고급문법\n",
    "- 윈도우 함수 : SQL 쿼리문 안에서 데이터 집합을 세분화하여 각 부분에 대한 계산을 수행하는 함수\n",
    "- (* 만약 전체데이터가 너무 방대해서, 특정 부분만 추출해서 연산 처리를 해야한다면?)\n",
    "  1) RANK() : 순위를 매기는데, 동일한 값이 있을 경우 같은 순위를 부여하고 다음 순위는 건너뛴다.\n",
    "  2) DENSE_RANK() : 순위를 매기는데, 동일한 값이 있을 경우, 같은 순위 부여 후 다음 순위를 건너뛰지 않는다\n",
    "  3) ROW_NUMBER() : 순위와 상관없이 각 행에 고유한 번호를 부여하는 것\n",
    "     > 위 3개의 함수는 공통적으로 OVER절을 함께 사용한다!!!\n",
    "     > ORDER BY 절을 통해서 순위를 매길 기준을 정의한다!!!\n",
    "- 윈도우 함수에서 많이 사용되는 구문 :\n",
    "  1) PARTITION BY : 특정 컬럼을 기준으로 데이터를 부분집합으로서 분할할 때 사용!(실무에서 사용하긴 애매)\n",
    "     - COUNT()\n",
    "     - SUM()\n",
    "     - AVG()\n",
    "     - MIN()\n",
    "     - MAX()\n",
    "     - RANK()\n",
    "     - DEBSE_RANK()\n",
    "     - ROW_NUMBER()\n",
    "     - LEAD() : 현재 행을 기준으로 n번째 이전 행의 값을 가져옴\n",
    "       - LAG(column, n, defalut value) OVER (PARTITION BY ... ORDER BY ...)\n",
    "         - default value -> 찾아올 값이 없을 때 오류 대신 지정한 기본값을 반환하도록 하는 옵션\n",
    "     - LAG() : 현재 행을 기준으로 n번째 이후 행의 값을 가져옴\n",
    "       - LEAD(column, n, default value) OVER (PARTITION BY ... ORDER BY ...)\n",
    "     - FIRST_VALUE() :그룹 내 정렬된 결과의 첫번째 값\n",
    "       - (*파티션을 통해 부분집합화된 그룹의 첫번째 값을 가져오는데 사용)\n",
    "       - FIRST_VALUE(column) OVER (PARTITION BY ... ORDER BY ...)\n",
    "     - LAST_VALUE() : 그룹 내 정렬된 결과의 마지막 값\n",
    "       - (*파티션을 통해 부분집합화된 그룹의 마지막 값을 가져오는데 사용)\n",
    "       - LAST_VALUE(column) OVER (\n",
    "  PARTITION BY ...\n",
    "  ORDER BY ...\n",
    "  ROWS BETWEEN UNBOUNDED PRECEDING AND UNBOUNDED FOLLOWING\n",
    ") \n",
    "** LAST_VALUE()는 ROWS BETWEEN UNBOUNDED PRECEDING AND UNBOUNDED FOLLOWING을 같이 써야 진짜 \"전체 파티션 내 마지막 값\"을 얻을 수 있음.\n",
    "그렇지 않으면 현재 행까지의 마지막 값만 반환될 수 있음.\n",
    "        * UNBOUNDED PRECEDING : 해당 파티션의 첫번째 행부터 불러오겠다\n",
    "        * UNBOUNDED FOLLOWING : 해당 파티션의 마지막 행까지 불러오겠다\n",
    "        * CURRENT ROW : 해당 파티션의 현재 행까지 불러오겠다\n",
    "        * 1 PRECEDING : 해당 행을 기준으로 하나 앞의 행의 값까지 불러오겠다.\n",
    "        * 1 FOLLOWING : 해당 행을 기준으로 하나 뒤의 행의 값까지 불러오겠다.\n",
    "  3) ORDER BY : 특정 부분집합 내 정렬 기준을 정의하고자 할 때 사용\n",
    "  4) ROWS : 특정 부분집합의 범위를 설정할 때 사용!\n",
    "     (*특정 부분집합의 행을 물리적으로 해석)\n",
    "     - ROWS BETWEEN UNBOUNDED PRECEDING AND CURRENT ROW\n",
    "     - UNBOUNDED PRECEDING : 앞에서 파티션을 통해 설정된 부분집합의 첫번째 행부터 시작\n",
    "     - UNBOUNDED FOLLOWING : 앞에서 파티션을 통해 설정된 부분집합의 마지막번째 행까지\n",
    "     - CURRENT ROW : 현재 행을 포함\n",
    "     - n PRECEDING/FOLLOWING : n번째 행 앞이나 뒤\n",
    "  6) RANGE : 정렬하고자 하는 기준값과 동일한 값을 가진 모든 행을 하나의 그룹으로 정의\n",
    "     (*특정 부분집합 내 동일한 값을 가지고 있는 요소를 하나의 행으로 정의)\n",
    "  7) SUM(revenue) : 일반적인 집계함수의 기능, 만약 GROUP BY절과 함께 사용한다면 해당 그룹의 revenue값을 계산한다고 판단!\n",
    "  8) SUM(revenue) OVER() : 윈도우 함수로서 기능. OVER()는 특정 파티션이 내부에서 정의된 상태라면, 해당 파티션을 기준으로 revenue값을 집계합니다. 하지만, OVER() 안에 특정 파티션이 정의되지 않았다면, 전체 결과 세트에 대해서 SUM함수를 적용하라는 의미를 가지고 있습니다.\n",
    "  9) PERCENT_RANK() : 행의 백분위 순위를 계산\n",
    "      - 0~1까지 행의 값을 나눠서 순위를 매길 때 사용\n",
    "  10) CUME_DIST() : 행의 누적분포를 계산\n",
    "      - 0~1까지 나옴\n",
    "  11) NTILE() : 행을 n개의 그룹으로 분할."
   ]
  }
 ],
 "metadata": {
  "kernelspec": {
   "display_name": "Python 3 (ipykernel)",
   "language": "python",
   "name": "python3"
  },
  "language_info": {
   "codemirror_mode": {
    "name": "ipython",
    "version": 3
   },
   "file_extension": ".py",
   "mimetype": "text/x-python",
   "name": "python",
   "nbconvert_exporter": "python",
   "pygments_lexer": "ipython3",
   "version": "3.13.5"
  }
 },
 "nbformat": 4,
 "nbformat_minor": 5
}
