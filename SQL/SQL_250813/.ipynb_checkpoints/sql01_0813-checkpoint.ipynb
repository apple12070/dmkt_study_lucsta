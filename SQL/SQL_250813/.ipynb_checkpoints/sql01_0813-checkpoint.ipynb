{
 "cells": [
  {
   "cell_type": "code",
   "execution_count": 4,
   "id": "44d4b9db-d7b1-459e-8d97-7642e61447ca",
   "metadata": {},
   "outputs": [
    {
     "name": "stdout",
     "output_type": "stream",
     "text": [
      "Collecting pymysql\n",
      "  Using cached PyMySQL-1.1.1-py3-none-any.whl.metadata (4.4 kB)\n",
      "Using cached PyMySQL-1.1.1-py3-none-any.whl (44 kB)\n",
      "Installing collected packages: pymysql\n",
      "Successfully installed pymysql-1.1.1\n",
      "Note: you may need to restart the kernel to use updated packages.\n"
     ]
    }
   ],
   "source": [
    "pip install pymysql"
   ]
  },
  {
   "cell_type": "code",
   "execution_count": 25,
   "id": "6652aa0c-3249-4440-8c24-0cd3e9bc8398",
   "metadata": {},
   "outputs": [],
   "source": [
    "import pymysql\n",
    "\n",
    "db = pymysql.connect(\n",
    "    host = \"localhost\",\n",
    "    port = 3306,\n",
    "    user = \"root\",\n",
    "    passwd = \"forena1303!!\",\n",
    "    db = \"ecommerce_v1\",\n",
    "    charset = \"utf8\"\n",
    ")"
   ]
  },
  {
   "cell_type": "code",
   "execution_count": 26,
   "id": "056368df-0edd-4ccd-959f-4945ebc09ab2",
   "metadata": {},
   "outputs": [
    {
     "data": {
      "text/plain": [
       "<pymysql.connections.Connection at 0x2a6e4e7afd0>"
      ]
     },
     "execution_count": 26,
     "metadata": {},
     "output_type": "execute_result"
    }
   ],
   "source": [
    "db"
   ]
  },
  {
   "cell_type": "code",
   "execution_count": 27,
   "id": "4c4bce76-f155-43f4-aebc-fe00afd21edd",
   "metadata": {},
   "outputs": [],
   "source": [
    "ecommerce_v1 = db.cursor()"
   ]
  },
  {
   "cell_type": "code",
   "execution_count": 28,
   "id": "35e1560c-c0fd-4a8b-bd80-01150e56b7cc",
   "metadata": {},
   "outputs": [
    {
     "data": {
      "text/plain": [
       "<pymysql.cursors.Cursor at 0x2a6e3479810>"
      ]
     },
     "execution_count": 28,
     "metadata": {},
     "output_type": "execute_result"
    }
   ],
   "source": [
    "ecommerce_v1\n",
    "# 이 db이름만 입력했을 때 Cursor 떠야 함!"
   ]
  },
  {
   "cell_type": "code",
   "execution_count": 29,
   "id": "15eb8a51-e61c-470e-a426-0dfda7bc3153",
   "metadata": {},
   "outputs": [],
   "source": [
    "sql = \"\"\"\n",
    "    CREATE TABLE product(\n",
    "        product_CODE VARCHAR(20) NOT NULL PRIMARY KEY,\n",
    "        TITLE VARCHAR(200) NOT NULL,\n",
    "        ORI_PRICE INT,\n",
    "        DISCOUNT_PRICE INT,\n",
    "        DISCOUNT_PERCENT INT,\n",
    "        DELIVERY VARCHAR(2)\n",
    "    );\n",
    "\"\"\""
   ]
  },
  {
   "cell_type": "code",
   "execution_count": 30,
   "id": "1f0e934a-1961-4e95-a02e-b85971b9d5c9",
   "metadata": {},
   "outputs": [
    {
     "data": {
      "text/plain": [
       "'\\n    CREATE TABLE product(\\n        product_CODE VARCHAR(20) NOT NULL PRIMARY KEY,\\n        TITLE VARCHAR(200) NOT NULL,\\n        ORI_PRICE INT,\\n        DISCOUNT_PRICE INT,\\n        DISCOUNT_PERCENT INT,\\n        DELIVERY VARCHAR(2)\\n    );\\n'"
      ]
     },
     "execution_count": 30,
     "metadata": {},
     "output_type": "execute_result"
    }
   ],
   "source": [
    "sql\n",
    "# 우리가 입력한 테이블 정보가 뜸"
   ]
  },
  {
   "cell_type": "code",
   "execution_count": null,
   "id": "f975070d-cedc-440b-8d63-931b73101a16",
   "metadata": {},
   "outputs": [],
   "source": [
    "ecommerce_v1.execute(sql)"
   ]
  },
  {
   "cell_type": "code",
   "execution_count": 9,
   "id": "d0b7133a-3b0f-4479-9b7e-b4adca0baf5e",
   "metadata": {},
   "outputs": [],
   "source": [
    "db.commit()"
   ]
  },
  {
   "cell_type": "code",
   "execution_count": 10,
   "id": "0bc65c16-090e-4d83-95a2-5a84f7d48c15",
   "metadata": {},
   "outputs": [],
   "source": [
    "db.close()"
   ]
  },
  {
   "cell_type": "code",
   "execution_count": 1,
   "id": "180a126d-9933-4f7d-b46a-b1271ec5b9e4",
   "metadata": {},
   "outputs": [],
   "source": [
    "import pymysql\n",
    "\n",
    "db = pymysql.connect(\n",
    "    host = \"localhost\",\n",
    "    port = 3306,\n",
    "    user = \"root\",\n",
    "    passwd = \"forena1303!!\",\n",
    "    db = \"ecommerce_v1\",\n",
    "    charset = \"utf8\"\n",
    ")"
   ]
  },
  {
   "cell_type": "code",
   "execution_count": 33,
   "id": "8da8bf1c-8b8f-49ac-abf6-d8f13d51d4a8",
   "metadata": {},
   "outputs": [],
   "source": [
    "cursor = db.cursor()"
   ]
  },
  {
   "cell_type": "code",
   "execution_count": 3,
   "id": "9e8d9c7a-8a92-4b79-96e1-49e22d53df32",
   "metadata": {},
   "outputs": [
    {
     "name": "stdout",
     "output_type": "stream",
     "text": [
      "\n",
      "        INSERT INTO product VALUES(\n",
      "            '215670514',\n",
      "            '스위트바니 여름신상 5900원 ~ 롱원피스 티셔츠/긴팔/반팔',\n",
      "            23000,\n",
      "            6900,\n",
      "            70,\n",
      "            'F'\n",
      "        )\n",
      "    \n",
      "\n",
      "        INSERT INTO product VALUES(\n",
      "            '215670515',\n",
      "            '스위트바니 여름신상 5900원 ~ 롱원피스 티셔츠/긴팔/반팔',\n",
      "            23000,\n",
      "            6900,\n",
      "            70,\n",
      "            'F'\n",
      "        )\n",
      "    \n",
      "\n",
      "        INSERT INTO product VALUES(\n",
      "            '215670516',\n",
      "            '스위트바니 여름신상 5900원 ~ 롱원피스 티셔츠/긴팔/반팔',\n",
      "            23000,\n",
      "            6900,\n",
      "            70,\n",
      "            'F'\n",
      "        )\n",
      "    \n",
      "\n",
      "        INSERT INTO product VALUES(\n",
      "            '215670517',\n",
      "            '스위트바니 여름신상 5900원 ~ 롱원피스 티셔츠/긴팔/반팔',\n",
      "            23000,\n",
      "            6900,\n",
      "            70,\n",
      "            'F'\n",
      "        )\n",
      "    \n",
      "\n",
      "        INSERT INTO product VALUES(\n",
      "            '215670518',\n",
      "            '스위트바니 여름신상 5900원 ~ 롱원피스 티셔츠/긴팔/반팔',\n",
      "            23000,\n",
      "            6900,\n",
      "            70,\n",
      "            'F'\n",
      "        )\n",
      "    \n",
      "\n",
      "        INSERT INTO product VALUES(\n",
      "            '215670519',\n",
      "            '스위트바니 여름신상 5900원 ~ 롱원피스 티셔츠/긴팔/반팔',\n",
      "            23000,\n",
      "            6900,\n",
      "            70,\n",
      "            'F'\n",
      "        )\n",
      "    \n",
      "\n",
      "        INSERT INTO product VALUES(\n",
      "            '215670520',\n",
      "            '스위트바니 여름신상 5900원 ~ 롱원피스 티셔츠/긴팔/반팔',\n",
      "            23000,\n",
      "            6900,\n",
      "            70,\n",
      "            'F'\n",
      "        )\n",
      "    \n",
      "\n",
      "        INSERT INTO product VALUES(\n",
      "            '215670521',\n",
      "            '스위트바니 여름신상 5900원 ~ 롱원피스 티셔츠/긴팔/반팔',\n",
      "            23000,\n",
      "            6900,\n",
      "            70,\n",
      "            'F'\n",
      "        )\n",
      "    \n",
      "\n",
      "        INSERT INTO product VALUES(\n",
      "            '215670522',\n",
      "            '스위트바니 여름신상 5900원 ~ 롱원피스 티셔츠/긴팔/반팔',\n",
      "            23000,\n",
      "            6900,\n",
      "            70,\n",
      "            'F'\n",
      "        )\n",
      "    \n",
      "\n",
      "        INSERT INTO product VALUES(\n",
      "            '215670523',\n",
      "            '스위트바니 여름신상 5900원 ~ 롱원피스 티셔츠/긴팔/반팔',\n",
      "            23000,\n",
      "            6900,\n",
      "            70,\n",
      "            'F'\n",
      "        )\n",
      "    \n"
     ]
    }
   ],
   "source": [
    "for index in range(10) :\n",
    "    product_code = 215670513 + index + 1\n",
    "    SQL = f\"\"\"\n",
    "        INSERT INTO product VALUES(\n",
    "            '{product_code}',\n",
    "            '스위트바니 여름신상 5900원 ~ 롱원피스 티셔츠/긴팔/반팔',\n",
    "            23000,\n",
    "            6900,\n",
    "            70,\n",
    "            'F'\n",
    "        )\n",
    "    \"\"\"\n",
    "    print(SQL)\n",
    "    cursor.execute(SQL)"
   ]
  },
  {
   "cell_type": "code",
   "execution_count": null,
   "id": "95e29b46-a607-4204-93fc-4a08156009a2",
   "metadata": {},
   "outputs": [],
   "source": [
    "(X) cursor.execute(SQL)\n",
    "# 파이썬에서 SQL을 실행하는 명령어\n",
    "# 이 반복문이 저 for문 안에 있어야 함! 여기서 실행시키면 10개가 아닌 1개만 들어감 (위에서 실행시키고 여기서 또 실행시키면 에러 뜸 주의)"
   ]
  },
  {
   "cell_type": "code",
   "execution_count": 4,
   "id": "fee8b33c-945f-4b59-a070-e56efe80c499",
   "metadata": {},
   "outputs": [],
   "source": [
    "db.commit()"
   ]
  },
  {
   "cell_type": "code",
   "execution_count": 5,
   "id": "80976e9d-d96b-4ceb-ace5-8a6dfaa3d51a",
   "metadata": {},
   "outputs": [],
   "source": [
    "db.close()"
   ]
  },
  {
   "cell_type": "code",
   "execution_count": 34,
   "id": "83dcc7e4-d19d-4206-9d34-1c0a3da0d4d4",
   "metadata": {},
   "outputs": [
    {
     "name": "stdout",
     "output_type": "stream",
     "text": [
      "('215670514', '스위트바니 여름신상 5900원 ~ 롱원피스 티셔츠/긴팔/반팔', 23000, 6900, 70, 'F')\n"
     ]
    }
   ],
   "source": [
    "SQL = \"SELECT * FROM product\"\n",
    "cursor.execute(SQL)\n",
    "row = cursor.fetchone()\n",
    "\n",
    "print(row)"
   ]
  },
  {
   "cell_type": "code",
   "execution_count": 15,
   "id": "a6e89b08-91d2-4535-a231-0b70f1111e58",
   "metadata": {},
   "outputs": [],
   "source": [
    "# fetchall() : 해당 테이블 내 모든 데이터를 가져옵니다.\n",
    "# fetchone() : 매칭되는 해당 값 중 첫번째 값을 가져옵니다.\n",
    "# > 이미 앞에서 먼저 찾아온 값이 존재한다면, 해당 값 이후부터 값을 찾아옵니다.\n",
    "# fetchmany() : 해당 메서드함수 내 인자값으로 작성된 숫자만큼의 데이터를 가져옵니다."
   ]
  },
  {
   "cell_type": "code",
   "execution_count": 7,
   "id": "fc545ac5-7b1b-429f-af82-a5cadd643d76",
   "metadata": {},
   "outputs": [
    {
     "name": "stdout",
     "output_type": "stream",
     "text": [
      "None\n"
     ]
    }
   ],
   "source": [
    "row = cursor.fetchone()\n",
    "print(row)"
   ]
  },
  {
   "cell_type": "code",
   "execution_count": 8,
   "id": "e58d1f7f-00bc-4738-a90e-567eaf6a8527",
   "metadata": {},
   "outputs": [
    {
     "name": "stdout",
     "output_type": "stream",
     "text": [
      "()\n"
     ]
    }
   ],
   "source": [
    "rows = cursor.fetchmany(2)\n",
    "print(rows)"
   ]
  },
  {
   "cell_type": "code",
   "execution_count": 9,
   "id": "53f2c859-1fed-4cc8-a97f-8e60bf741e3c",
   "metadata": {},
   "outputs": [],
   "source": [
    "rowsAll = cursor.fetchall()\n",
    "for row in rowsAll :\n",
    "    print(row)"
   ]
  },
  {
   "cell_type": "code",
   "execution_count": 46,
   "id": "634589a6-ba60-43a1-abc7-c9b3cc3fa24f",
   "metadata": {},
   "outputs": [],
   "source": [
    "SQL = \"\"\"\n",
    "    UPDATE product SET\n",
    "        TITLE = \"썸머 가디건 코디전\", \n",
    "        ORI_PRICE = 33000, \n",
    "        DISCOUNT_PRICE = 9900, \n",
    "        DISCOUNT_PERCENT = 70\n",
    "    WHERE PRODUCT_CODE = \"215670520\"\n",
    "\"\"\""
   ]
  },
  {
   "cell_type": "code",
   "execution_count": 47,
   "id": "dcedbf94-e4b6-45e3-9ced-8018efab027a",
   "metadata": {},
   "outputs": [
    {
     "data": {
      "text/plain": [
       "1"
      ]
     },
     "execution_count": 47,
     "metadata": {},
     "output_type": "execute_result"
    }
   ],
   "source": [
    "cursor.execute(SQL)"
   ]
  },
  {
   "cell_type": "code",
   "execution_count": 48,
   "id": "df0d8b5c-3d62-4fb5-8315-628aca980d83",
   "metadata": {},
   "outputs": [],
   "source": [
    "db.commit()"
   ]
  },
  {
   "cell_type": "code",
   "execution_count": 49,
   "id": "e4b82860-1805-436d-86df-203aabfb8ef0",
   "metadata": {},
   "outputs": [],
   "source": [
    "# 프로그래밍 언어는 CRUD -> 4가지 기능을 기본적으로 가지고 있다."
   ]
  },
  {
   "cell_type": "code",
   "execution_count": 50,
   "id": "ba05fea1-1786-45a5-98af-7e3ea58d97a9",
   "metadata": {},
   "outputs": [
    {
     "name": "stdout",
     "output_type": "stream",
     "text": [
      "DELETE FROM product WHERE PRODUCT_CODE = '215673150';\n"
     ]
    }
   ],
   "source": [
    "SQL = \"\"\"DELETE FROM product WHERE PRODUCT_CODE = '215673150';\"\"\"\n",
    "print(SQL)"
   ]
  },
  {
   "cell_type": "code",
   "execution_count": 51,
   "id": "fdaec162-4f98-4bc2-bdcd-b4ea37fc1d54",
   "metadata": {},
   "outputs": [
    {
     "data": {
      "text/plain": [
       "1"
      ]
     },
     "execution_count": 51,
     "metadata": {},
     "output_type": "execute_result"
    }
   ],
   "source": [
    "cursor.execute(SQL)"
   ]
  },
  {
   "cell_type": "code",
   "execution_count": 52,
   "id": "fa822619-09c8-456b-baab-59fc50a7fbd9",
   "metadata": {},
   "outputs": [],
   "source": [
    "db.commit()"
   ]
  }
 ],
 "metadata": {
  "kernelspec": {
   "display_name": "Python 3 (ipykernel)",
   "language": "python",
   "name": "python3"
  },
  "language_info": {
   "codemirror_mode": {
    "name": "ipython",
    "version": 3
   },
   "file_extension": ".py",
   "mimetype": "text/x-python",
   "name": "python",
   "nbconvert_exporter": "python",
   "pygments_lexer": "ipython3",
   "version": "3.13.5"
  }
 },
 "nbformat": 4,
 "nbformat_minor": 5
}
