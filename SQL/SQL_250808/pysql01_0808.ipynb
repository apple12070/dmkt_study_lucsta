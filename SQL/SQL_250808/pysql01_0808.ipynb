{
 "cells": [
  {
   "cell_type": "code",
   "execution_count": 1,
   "id": "1a70f5db-ff47-4a6d-9496-d02ac4c09379",
   "metadata": {},
   "outputs": [
    {
     "name": "stdout",
     "output_type": "stream",
     "text": [
      "Requirement already satisfied: pymysql in c:\\users\\user\\downloads\\fireshot\\lib\\site-packages (1.1.1)\n",
      "Note: you may need to restart the kernel to use updated packages.\n"
     ]
    }
   ],
   "source": [
    "pip install pymysql"
   ]
  },
  {
   "cell_type": "code",
   "execution_count": 1,
   "id": "cf9b2bb4-348c-40f5-8599-3484abcc5d6d",
   "metadata": {},
   "outputs": [],
   "source": [
    "import pymysql\n",
    "\n",
    "db = pymysql.connect(\n",
    "    host=\"127.0.0.1\",  # = host=\"localhost\" 둘중에 아무거나 써도 됨\n",
    "    port=3306,\n",
    "    user=\"root\",\n",
    "    passwd=\"forena1303!!\",\n",
    "    db=\"ecommerce\",\n",
    "    charset=\"utf8\"\n",
    ") "
   ]
  },
  {
   "cell_type": "code",
   "execution_count": 26,
   "id": "22a9d0cc-7d18-433f-a67b-93d47f40be87",
   "metadata": {},
   "outputs": [],
   "source": [
    "ecommerce=db.cursor()"
   ]
  },
  {
   "cell_type": "code",
   "execution_count": 27,
   "id": "30819184-23ae-4077-852a-ea014806df04",
   "metadata": {},
   "outputs": [],
   "source": [
    "sql = \"\"\" \n",
    "    CREATE TABLE product (\n",
    "        PRODUCT_CODE VARCHAR(20) NOT NULL PRIMARY KEY,\n",
    "        TITLE VARCHAR(200) NOT NULL,\n",
    "        ORI_PRICE INT,\n",
    "        DISCOUNT_PRICE INT,\n",
    "        DISCOUNT_PRECENT INT,\n",
    "        DELIVERY VARCHAR(10)\n",
    "    );\n",
    "\"\"\""
   ]
  },
  {
   "cell_type": "code",
   "execution_count": 28,
   "id": "b2a16d8e-a8b5-439d-94ae-903a6e0da954",
   "metadata": {},
   "outputs": [
    {
     "data": {
      "text/plain": [
       "' \\n    CREATE TABLE product (\\n        PRODUCT_CODE VARCHAR(20) NOT NULL PRIMARY KEY,\\n        TITLE VARCHAR(200) NOT NULL,\\n        ORI_PRICE INT,\\n        DISCOUNT_PRICE INT,\\n        DISCOUNT_PRECENT INT,\\n        DELIVERY VARCHAR(10)\\n    );\\n'"
      ]
     },
     "execution_count": 28,
     "metadata": {},
     "output_type": "execute_result"
    }
   ],
   "source": [
    "sql"
   ]
  },
  {
   "cell_type": "code",
   "execution_count": 29,
   "id": "a2b27cbd-3b61-44b1-9dcb-29d4098f9c47",
   "metadata": {},
   "outputs": [
    {
     "ename": "OperationalError",
     "evalue": "(1050, \"Table 'product' already exists\")",
     "output_type": "error",
     "traceback": [
      "\u001b[1;31m---------------------------------------------------------------------------\u001b[0m",
      "\u001b[1;31mOperationalError\u001b[0m                          Traceback (most recent call last)",
      "Cell \u001b[1;32mIn[29], line 1\u001b[0m\n\u001b[1;32m----> 1\u001b[0m ecommerce\u001b[38;5;241m.\u001b[39mexecute(sql)\n",
      "File \u001b[1;32m~\\Downloads\\FireShot\\Lib\\site-packages\\pymysql\\cursors.py:153\u001b[0m, in \u001b[0;36mCursor.execute\u001b[1;34m(self, query, args)\u001b[0m\n\u001b[0;32m    149\u001b[0m     \u001b[38;5;28;01mpass\u001b[39;00m\n\u001b[0;32m    151\u001b[0m query \u001b[38;5;241m=\u001b[39m \u001b[38;5;28mself\u001b[39m\u001b[38;5;241m.\u001b[39mmogrify(query, args)\n\u001b[1;32m--> 153\u001b[0m result \u001b[38;5;241m=\u001b[39m \u001b[38;5;28mself\u001b[39m\u001b[38;5;241m.\u001b[39m_query(query)\n\u001b[0;32m    154\u001b[0m \u001b[38;5;28mself\u001b[39m\u001b[38;5;241m.\u001b[39m_executed \u001b[38;5;241m=\u001b[39m query\n\u001b[0;32m    155\u001b[0m \u001b[38;5;28;01mreturn\u001b[39;00m result\n",
      "File \u001b[1;32m~\\Downloads\\FireShot\\Lib\\site-packages\\pymysql\\cursors.py:322\u001b[0m, in \u001b[0;36mCursor._query\u001b[1;34m(self, q)\u001b[0m\n\u001b[0;32m    320\u001b[0m conn \u001b[38;5;241m=\u001b[39m \u001b[38;5;28mself\u001b[39m\u001b[38;5;241m.\u001b[39m_get_db()\n\u001b[0;32m    321\u001b[0m \u001b[38;5;28mself\u001b[39m\u001b[38;5;241m.\u001b[39m_clear_result()\n\u001b[1;32m--> 322\u001b[0m conn\u001b[38;5;241m.\u001b[39mquery(q)\n\u001b[0;32m    323\u001b[0m \u001b[38;5;28mself\u001b[39m\u001b[38;5;241m.\u001b[39m_do_get_result()\n\u001b[0;32m    324\u001b[0m \u001b[38;5;28;01mreturn\u001b[39;00m \u001b[38;5;28mself\u001b[39m\u001b[38;5;241m.\u001b[39mrowcount\n",
      "File \u001b[1;32m~\\Downloads\\FireShot\\Lib\\site-packages\\pymysql\\connections.py:563\u001b[0m, in \u001b[0;36mConnection.query\u001b[1;34m(self, sql, unbuffered)\u001b[0m\n\u001b[0;32m    561\u001b[0m     sql \u001b[38;5;241m=\u001b[39m sql\u001b[38;5;241m.\u001b[39mencode(\u001b[38;5;28mself\u001b[39m\u001b[38;5;241m.\u001b[39mencoding, \u001b[38;5;124m\"\u001b[39m\u001b[38;5;124msurrogateescape\u001b[39m\u001b[38;5;124m\"\u001b[39m)\n\u001b[0;32m    562\u001b[0m \u001b[38;5;28mself\u001b[39m\u001b[38;5;241m.\u001b[39m_execute_command(COMMAND\u001b[38;5;241m.\u001b[39mCOM_QUERY, sql)\n\u001b[1;32m--> 563\u001b[0m \u001b[38;5;28mself\u001b[39m\u001b[38;5;241m.\u001b[39m_affected_rows \u001b[38;5;241m=\u001b[39m \u001b[38;5;28mself\u001b[39m\u001b[38;5;241m.\u001b[39m_read_query_result(unbuffered\u001b[38;5;241m=\u001b[39munbuffered)\n\u001b[0;32m    564\u001b[0m \u001b[38;5;28;01mreturn\u001b[39;00m \u001b[38;5;28mself\u001b[39m\u001b[38;5;241m.\u001b[39m_affected_rows\n",
      "File \u001b[1;32m~\\Downloads\\FireShot\\Lib\\site-packages\\pymysql\\connections.py:825\u001b[0m, in \u001b[0;36mConnection._read_query_result\u001b[1;34m(self, unbuffered)\u001b[0m\n\u001b[0;32m    823\u001b[0m \u001b[38;5;28;01melse\u001b[39;00m:\n\u001b[0;32m    824\u001b[0m     result \u001b[38;5;241m=\u001b[39m MySQLResult(\u001b[38;5;28mself\u001b[39m)\n\u001b[1;32m--> 825\u001b[0m     result\u001b[38;5;241m.\u001b[39mread()\n\u001b[0;32m    826\u001b[0m \u001b[38;5;28mself\u001b[39m\u001b[38;5;241m.\u001b[39m_result \u001b[38;5;241m=\u001b[39m result\n\u001b[0;32m    827\u001b[0m \u001b[38;5;28;01mif\u001b[39;00m result\u001b[38;5;241m.\u001b[39mserver_status \u001b[38;5;129;01mis\u001b[39;00m \u001b[38;5;129;01mnot\u001b[39;00m \u001b[38;5;28;01mNone\u001b[39;00m:\n",
      "File \u001b[1;32m~\\Downloads\\FireShot\\Lib\\site-packages\\pymysql\\connections.py:1199\u001b[0m, in \u001b[0;36mMySQLResult.read\u001b[1;34m(self)\u001b[0m\n\u001b[0;32m   1197\u001b[0m \u001b[38;5;28;01mdef\u001b[39;00m\u001b[38;5;250m \u001b[39m\u001b[38;5;21mread\u001b[39m(\u001b[38;5;28mself\u001b[39m):\n\u001b[0;32m   1198\u001b[0m     \u001b[38;5;28;01mtry\u001b[39;00m:\n\u001b[1;32m-> 1199\u001b[0m         first_packet \u001b[38;5;241m=\u001b[39m \u001b[38;5;28mself\u001b[39m\u001b[38;5;241m.\u001b[39mconnection\u001b[38;5;241m.\u001b[39m_read_packet()\n\u001b[0;32m   1201\u001b[0m         \u001b[38;5;28;01mif\u001b[39;00m first_packet\u001b[38;5;241m.\u001b[39mis_ok_packet():\n\u001b[0;32m   1202\u001b[0m             \u001b[38;5;28mself\u001b[39m\u001b[38;5;241m.\u001b[39m_read_ok_packet(first_packet)\n",
      "File \u001b[1;32m~\\Downloads\\FireShot\\Lib\\site-packages\\pymysql\\connections.py:775\u001b[0m, in \u001b[0;36mConnection._read_packet\u001b[1;34m(self, packet_type)\u001b[0m\n\u001b[0;32m    773\u001b[0m     \u001b[38;5;28;01mif\u001b[39;00m \u001b[38;5;28mself\u001b[39m\u001b[38;5;241m.\u001b[39m_result \u001b[38;5;129;01mis\u001b[39;00m \u001b[38;5;129;01mnot\u001b[39;00m \u001b[38;5;28;01mNone\u001b[39;00m \u001b[38;5;129;01mand\u001b[39;00m \u001b[38;5;28mself\u001b[39m\u001b[38;5;241m.\u001b[39m_result\u001b[38;5;241m.\u001b[39munbuffered_active \u001b[38;5;129;01mis\u001b[39;00m \u001b[38;5;28;01mTrue\u001b[39;00m:\n\u001b[0;32m    774\u001b[0m         \u001b[38;5;28mself\u001b[39m\u001b[38;5;241m.\u001b[39m_result\u001b[38;5;241m.\u001b[39munbuffered_active \u001b[38;5;241m=\u001b[39m \u001b[38;5;28;01mFalse\u001b[39;00m\n\u001b[1;32m--> 775\u001b[0m     packet\u001b[38;5;241m.\u001b[39mraise_for_error()\n\u001b[0;32m    776\u001b[0m \u001b[38;5;28;01mreturn\u001b[39;00m packet\n",
      "File \u001b[1;32m~\\Downloads\\FireShot\\Lib\\site-packages\\pymysql\\protocol.py:219\u001b[0m, in \u001b[0;36mMysqlPacket.raise_for_error\u001b[1;34m(self)\u001b[0m\n\u001b[0;32m    217\u001b[0m \u001b[38;5;28;01mif\u001b[39;00m DEBUG:\n\u001b[0;32m    218\u001b[0m     \u001b[38;5;28mprint\u001b[39m(\u001b[38;5;124m\"\u001b[39m\u001b[38;5;124merrno =\u001b[39m\u001b[38;5;124m\"\u001b[39m, errno)\n\u001b[1;32m--> 219\u001b[0m err\u001b[38;5;241m.\u001b[39mraise_mysql_exception(\u001b[38;5;28mself\u001b[39m\u001b[38;5;241m.\u001b[39m_data)\n",
      "File \u001b[1;32m~\\Downloads\\FireShot\\Lib\\site-packages\\pymysql\\err.py:150\u001b[0m, in \u001b[0;36mraise_mysql_exception\u001b[1;34m(data)\u001b[0m\n\u001b[0;32m    148\u001b[0m \u001b[38;5;28;01mif\u001b[39;00m errorclass \u001b[38;5;129;01mis\u001b[39;00m \u001b[38;5;28;01mNone\u001b[39;00m:\n\u001b[0;32m    149\u001b[0m     errorclass \u001b[38;5;241m=\u001b[39m InternalError \u001b[38;5;28;01mif\u001b[39;00m errno \u001b[38;5;241m<\u001b[39m \u001b[38;5;241m1000\u001b[39m \u001b[38;5;28;01melse\u001b[39;00m OperationalError\n\u001b[1;32m--> 150\u001b[0m \u001b[38;5;28;01mraise\u001b[39;00m errorclass(errno, errval)\n",
      "\u001b[1;31mOperationalError\u001b[0m: (1050, \"Table 'product' already exists\")"
     ]
    }
   ],
   "source": [
    "ecommerce.execute(sql)"
   ]
  },
  {
   "cell_type": "code",
   "execution_count": 13,
   "id": "5253f0ed-3f12-4f86-8e83-e5ecda3779b8",
   "metadata": {},
   "outputs": [],
   "source": [
    "db.commit()"
   ]
  },
  {
   "cell_type": "code",
   "execution_count": 14,
   "id": "61eb1615-867e-41c1-98ee-084fd6d29340",
   "metadata": {},
   "outputs": [],
   "source": [
    "db.close()"
   ]
  },
  {
   "cell_type": "code",
   "execution_count": 2,
   "id": "d2b1b505-ac49-4f8f-8fcb-bfa5fc3a4db4",
   "metadata": {},
   "outputs": [],
   "source": [
    "cursor = db.cursor()"
   ]
  },
  {
   "cell_type": "code",
   "execution_count": 3,
   "id": "00bdcf12-076d-431c-aa5f-3397076a828b",
   "metadata": {},
   "outputs": [
    {
     "name": "stdout",
     "output_type": "stream",
     "text": [
      "\n",
      "        INSERT INTO product VALUES(\n",
      "            '215673141',\n",
      "            '스위트바니 여름신상 5900원 ~ 롱원피스 티셔츠 / 긴팔 / 반팔',\n",
      "            23000,\n",
      "            6900,\n",
      "            70,\n",
      "            'T'\n",
      "        ); \n",
      "    \n",
      "\n",
      "        INSERT INTO product VALUES(\n",
      "            '215673142',\n",
      "            '스위트바니 여름신상 5900원 ~ 롱원피스 티셔츠 / 긴팔 / 반팔',\n",
      "            23000,\n",
      "            6900,\n",
      "            70,\n",
      "            'T'\n",
      "        ); \n",
      "    \n",
      "\n",
      "        INSERT INTO product VALUES(\n",
      "            '215673143',\n",
      "            '스위트바니 여름신상 5900원 ~ 롱원피스 티셔츠 / 긴팔 / 반팔',\n",
      "            23000,\n",
      "            6900,\n",
      "            70,\n",
      "            'T'\n",
      "        ); \n",
      "    \n",
      "\n",
      "        INSERT INTO product VALUES(\n",
      "            '215673144',\n",
      "            '스위트바니 여름신상 5900원 ~ 롱원피스 티셔츠 / 긴팔 / 반팔',\n",
      "            23000,\n",
      "            6900,\n",
      "            70,\n",
      "            'T'\n",
      "        ); \n",
      "    \n",
      "\n",
      "        INSERT INTO product VALUES(\n",
      "            '215673145',\n",
      "            '스위트바니 여름신상 5900원 ~ 롱원피스 티셔츠 / 긴팔 / 반팔',\n",
      "            23000,\n",
      "            6900,\n",
      "            70,\n",
      "            'T'\n",
      "        ); \n",
      "    \n",
      "\n",
      "        INSERT INTO product VALUES(\n",
      "            '215673146',\n",
      "            '스위트바니 여름신상 5900원 ~ 롱원피스 티셔츠 / 긴팔 / 반팔',\n",
      "            23000,\n",
      "            6900,\n",
      "            70,\n",
      "            'T'\n",
      "        ); \n",
      "    \n",
      "\n",
      "        INSERT INTO product VALUES(\n",
      "            '215673147',\n",
      "            '스위트바니 여름신상 5900원 ~ 롱원피스 티셔츠 / 긴팔 / 반팔',\n",
      "            23000,\n",
      "            6900,\n",
      "            70,\n",
      "            'T'\n",
      "        ); \n",
      "    \n",
      "\n",
      "        INSERT INTO product VALUES(\n",
      "            '215673148',\n",
      "            '스위트바니 여름신상 5900원 ~ 롱원피스 티셔츠 / 긴팔 / 반팔',\n",
      "            23000,\n",
      "            6900,\n",
      "            70,\n",
      "            'T'\n",
      "        ); \n",
      "    \n",
      "\n",
      "        INSERT INTO product VALUES(\n",
      "            '215673149',\n",
      "            '스위트바니 여름신상 5900원 ~ 롱원피스 티셔츠 / 긴팔 / 반팔',\n",
      "            23000,\n",
      "            6900,\n",
      "            70,\n",
      "            'T'\n",
      "        ); \n",
      "    \n",
      "\n",
      "        INSERT INTO product VALUES(\n",
      "            '215673150',\n",
      "            '스위트바니 여름신상 5900원 ~ 롱원피스 티셔츠 / 긴팔 / 반팔',\n",
      "            23000,\n",
      "            6900,\n",
      "            70,\n",
      "            'T'\n",
      "        ); \n",
      "    \n"
     ]
    }
   ],
   "source": [
    "for index in range(10) :\n",
    "    product_code = 215673140 + index + 1\n",
    "    sql = f\"\"\"\n",
    "        INSERT INTO product VALUES(\n",
    "            '{product_code}',\n",
    "            '스위트바니 여름신상 5900원 ~ 롱원피스 티셔츠 / 긴팔 / 반팔',\n",
    "            23000,\n",
    "            6900,\n",
    "            70,\n",
    "            'T'\n",
    "        ); \n",
    "    \"\"\"\n",
    "    print(sql)\n",
    "    cursor.execute(sql)"
   ]
  },
  {
   "cell_type": "code",
   "execution_count": 4,
   "id": "fdd0fa0f-c027-4b7f-a31a-d20d21066841",
   "metadata": {},
   "outputs": [],
   "source": [
    "db.commit()"
   ]
  },
  {
   "cell_type": "code",
   "execution_count": 5,
   "id": "6629c024-533f-44cd-8021-2a818227ecec",
   "metadata": {},
   "outputs": [],
   "source": [
    "db.close()"
   ]
  }
 ],
 "metadata": {
  "kernelspec": {
   "display_name": "Python 3 (ipykernel)",
   "language": "python",
   "name": "python3"
  },
  "language_info": {
   "codemirror_mode": {
    "name": "ipython",
    "version": 3
   },
   "file_extension": ".py",
   "mimetype": "text/x-python",
   "name": "python",
   "nbconvert_exporter": "python",
   "pygments_lexer": "ipython3",
   "version": "3.13.5"
  }
 },
 "nbformat": 4,
 "nbformat_minor": 5
}
