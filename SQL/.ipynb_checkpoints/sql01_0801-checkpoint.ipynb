{
 "cells": [
  {
   "cell_type": "markdown",
   "id": "9fe61c39-d21b-4b55-86d0-0487b474f915",
   "metadata": {},
   "source": [
    "### DDL (Data Definition Language) - 데이터 정의 언어 (*구조/스키마 관리)\n",
    "- CREATE DATABASE dbname\n",
    "- CREATE DATABASE IF NOT EXISTS dbname\n",
    "- SHOW DATABASES\n",
    "- USE dbname\n",
    "- CREATE TABLE tablename\n",
    "- DROP TABLE tablename\n",
    "- DROP TABLE IF EXISTS tablename\n",
    "- ALTER TABLE tablename ADD COLUMN 속성명 속성값;\n",
    "- ALTER TABLE tablename MODIFY COLUMN 속성명 속성값;\n",
    "- ALTER TABLE tablename CHANGE COLUMN 속성명A 속성명B 속성값;\n",
    "- ALTER TABLE tablename DROP COLUMN 속성명;"
   ]
  },
  {
   "cell_type": "markdown",
   "id": "0b88ba0f-7231-4792-bf77-3f998ede53f6",
   "metadata": {},
   "source": [
    "### DML (Data Manipulation Language) - 데이터 조작 언어 (*데이터 조작)\n",
    "- INSERT INTO tablename VALUES (Field Value, Field Value, Field Value, Field Value);\n",
    "- INSERT INTO tablename (Field, Field, Field, Field); VALUES (Field Value,Field Value,Field Value);\n",
    "```\n",
    "- INSERT INTO students (Field, Field, Field) VALUES\n",
    "      (Field Value, Field Value, Field Value),\n",
    "      (Field Value, Field Value, Field Value);\n",
    "```\n",
    "- DESC tablename\n",
    "- SELECT * FROM tablename;\n",
    "- SELECT column FROM tablename;\n",
    "- SELECT column, column FROM tablename;\n",
    "- SELECT * FROM tablename WHERE column = value;\n",
    "- \"=\" / \">\" / \"!=\" / \"<>\"\n",
    "- SELECT * FROM tablename WHERE column >= value AND column = value;\n",
    "- SELECT * FROM tablename WHERE column >= value OR column = value;\n",
    "- SELECT * FROM tablename WHERE name LIKE \"%value%\";\n",
    "- SELECT * FROM tablename WHERE name LIKE \"_value_\";\n",
    "- UPDATE tablename SET column = value;\n",
    "- UPDATE tablename SET column = value, column = value WHERE primarykey = 1;    # Safe Mode\n",
    "- DELETE FROM tablename;\n",
    "- DELETE FROM tablename WHERE primarykey = value;\n",
    "- ** 문자열은 \"\", 문자는 '' 구분!!"
   ]
  },
  {
   "cell_type": "markdown",
   "id": "f634794a-38e3-4b4a-a7b7-1940004368e5",
   "metadata": {},
   "source": [
    "### DCL (Data Control Language) — 데이터 제어 언어 (*권한 및 보안 관리)\n",
    "\n",
    "\n",
    "- USE mysql => 현재 존재하는 사용자 정보 확인\n",
    "- SELECT host, user FROM user; => 사용자별 세부 권한 확인\n",
    "\n",
    "```\n",
    "CREATE USER \"사용자이름@사용권한범위(*localhost)\"\n",
    "IDENTIFIED BY \"패스워드\"\n",
    "```\n",
    "\n",
    "- 사용권한범위 : localhost // %\n",
    "\n",
    "- SET PASSWORD FOR \"사용자이름\"@\"권한범위\" = \"변경하고싶은 패스워드\" => 패스워드 변경 시\n",
    "- DROP USER \"사용자이름\"@\"권한범위\" => 특정 사용자 계정 삭제 시\n",
    "- SHOW GRANTS FOR \"사용자이름@권한범위\" (ex. SHOW GRANTS FOR \"root@localhost\") => 특정 사용자가 가진 권한을 확인하고 싶을 때\n",
    "- GRANT SELECT ON db이름.테이블이름 TO \"사용자이름@권한범위\" => 특정 DB > 특정 Table에만 접근할 수 있도록 제한\n",
    "- GRANT ALL ON db.* TO \"사용자이름@권한범위\" => 특정 DB > 모든 Table에 접근할 수 있도록 제한\n",
    "- GRANT INSERT, UPDATE, SELECT ON . TO \"사용자이름@권한범위\" => 특정 권한만 줄 수 있도록 선택할 수 있음"
   ]
  },
  {
   "cell_type": "markdown",
   "id": "c8a5354a-a9e0-4932-a4de-ce68df8a7d10",
   "metadata": {},
   "source": [
    "#### 미션 1 ! 회원 정보 관리 시스템을 구축하기 위한 멤버십  DB를 하나 만들어주세요.\n",
    "- DB 안에는 1개의 테이블이 존재합니다.\n",
    "- 해당 테이블 내 각각의 레코드 안에는 회원 번호, 이름, 이메일, 생년월일, 가입일시, 포인트, 성별이 반드시 속성으로 포함되어있어야 합니다.\n",
    "- 최소 3명의 회원 정보가 삽입되어있도록 임의로 데이터를 적용해주세요.\n",
    "- 해당 DB 및 테이블이 모두 설계되었다면, 고객 포인트가 1000 이상인 회원만 조회할 수 있도록 코드를 작성해주세요.\n",
    "- 이메일 도메인이 @google.com인 사람만 조회할 수 있도록 코드를 작성해주세요."
   ]
  },
  {
   "cell_type": "markdown",
   "id": "5341ac75-8ebc-4e34-b368-192a88b0e21d",
   "metadata": {},
   "source": [
    "### SELECT 문법 :\n",
    "- LIMIT : 가져올 수 있는 데이터 중 일부만 가져오고 싶을 때\n",
    "- COUNT (*집계함수) : 데이터의 총 개수를 확인하고 싶을 때\n",
    "- DISTINCT : 특정 값을 가져올 때, 중복된 값을 출력하지 않고 싶을 때\n",
    "- SUM : 해당 컬럼값의 합계 -> 수치형 데이터\n",
    "- AVG : 해당 컬럼값의 평균 -> 수치형 데이터\n",
    "- MAX : 해당 컬럼값의 최댓값 -> 수치형 데이터\n",
    "- MIN : 해당 컬럼값의 최솟값 -> 수치형 데이터\n",
    "- GROUP BY : 특정 컬럼값을 기반으로 그룹핑하기\n",
    "  - SELECT rating FROM film GROUP BY rating -> film이라는 테이블에서 rating값을 찾아오는데, 해당 rating의 값을 그룹화해서 찾아와라!!\n",
    "  - SELECT COUNT(*) FROM film GROUP BY rating -> 각 rating 값의 종류별로 몇개의 데이터가 있는지 확인\n",
    "  - SELECT COUNT(*) FROM film WHERE 조건문 GROUP BY rating -> 특정 조건에 맞는 데이터 중 rating 값의 종류별로 몇 개의 데이터가 있는지 확인\n",
    "- ORDER BY : 특정 컬럼값을 기준으로 데이터를 정렬 (*오름차순 = ASC || 내림차순 = DESC)\n",
    "  - 만약 DESC, ASC 중 그 어떤 값도 입력하지 않는다면, 기본 디폴트 값은 ASC 정렬로 실행됨.\n",
    "\n",
    "```\n",
    "<사용 순서>\n",
    "SELECT 컬럼명\n",
    "FROM 테이블명\n",
    "WHERE 조건절\n",
    "GROUP BY 컬럼\n",
    "ORDER BY 컬럼\n",
    "LIMIT 출력갯수\n",
    "```"
   ]
  },
  {
   "cell_type": "markdown",
   "id": "2f9034c5-55c7-46d9-acff-26abff973010",
   "metadata": {},
   "source": [
    "### Data 대분류 리스트 :\n",
    "1) 수치형 데이터 : (1, 2, 1.1 등) -> 해당 수치값이 각각 고유한 의미\n",
    "2) 범주형 데이터 : (남/여, 미성년/성인 등) -> 중복값 제거해야하는 경우 많음 (*DISTINCT() 사용)"
   ]
  },
  {
   "cell_type": "markdown",
   "id": "5b98524b-a93d-4af4-8389-8d3815f20319",
   "metadata": {},
   "source": [
    "### SQL 중급 단계\n",
    "1) FOREIGN KEY (*외래키) <-> PRIMARY KEY (*고유키)\n",
    "2) "
   ]
  }
 ],
 "metadata": {
  "kernelspec": {
   "display_name": "Python 3 (ipykernel)",
   "language": "python",
   "name": "python3"
  },
  "language_info": {
   "codemirror_mode": {
    "name": "ipython",
    "version": 3
   },
   "file_extension": ".py",
   "mimetype": "text/x-python",
   "name": "python",
   "nbconvert_exporter": "python",
   "pygments_lexer": "ipython3",
   "version": "3.13.5"
  }
 },
 "nbformat": 4,
 "nbformat_minor": 5
}
