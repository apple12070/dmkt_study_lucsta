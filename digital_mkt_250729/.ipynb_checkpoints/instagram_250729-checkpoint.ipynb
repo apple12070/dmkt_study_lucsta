{
 "cells": [
  {
   "cell_type": "code",
   "execution_count": null,
   "id": "18d237c6-0a6e-4e63-8c40-bd53c81ed8b1",
   "metadata": {},
   "outputs": [],
   "source": [
    "from selenium import webdriver\n",
    "from selenium.webdriver.chrome.service import Service\n",
    "from selenium.webdriver.chrome.options import Options\n",
    "from webdriver_manager.chrome import ChromeDriverManager\n",
    "import pickle\n",
    "import time\n",
    "\n",
    "options = Options()\n",
    "options.add_argument(\"--start-maximized\")\n",
    "options.add_argument(\"window-size=1920x1080\")\n",
    "options.add_argument(\"lang=ko_KR\")\n",
    "\n",
    "service = Service(ChromeDriverManager().install())\n",
    "\n",
    "driver = webdriver.Chrome(service = service, options = options)\n",
    "\n",
    "driver.get(\"https://www.instagram.com/accounts/login/\")\n",
    "print(\"수동으로 인증 시작!\")\n",
    "time.sleep(30)\n",
    "\n",
    "# \"instagram_cookies.pkl\" -> 인스타그램이 우리에게 내려주는 쿠키\n",
    "# wb -> 2진수로 되어있는 이름을 쓰겠다는 뜻\n",
    "with open (\"instagram_cookies.pkl\", \"wb\") as f :\n",
    "    pickle.dump(driver.get_cookies(), f)  # 인스타그램에서 주는 모든 쿠키값을 직렬화해서 찾아옴\n",
    "\n",
    "print(\"쿠키 저장 완료\")\n",
    "driver.quit()"
   ]
  }
 ],
 "metadata": {
  "kernelspec": {
   "display_name": "Python [conda env:base] *",
   "language": "python",
   "name": "conda-base-py"
  },
  "language_info": {
   "codemirror_mode": {
    "name": "ipython",
    "version": 3
   },
   "file_extension": ".py",
   "mimetype": "text/x-python",
   "name": "python",
   "nbconvert_exporter": "python",
   "pygments_lexer": "ipython3",
   "version": "3.13.5"
  }
 },
 "nbformat": 4,
 "nbformat_minor": 5
}
