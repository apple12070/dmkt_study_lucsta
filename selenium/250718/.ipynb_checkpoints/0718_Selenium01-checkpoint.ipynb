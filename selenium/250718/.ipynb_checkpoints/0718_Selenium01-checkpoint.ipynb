{
 "cells": [
  {
   "cell_type": "markdown",
   "id": "575b249b-7776-45fc-97f3-530afed8d991",
   "metadata": {},
   "source": [
    "- Library VS Framework\n",
    "    - 라이브러리: 특정 언어 문법을 토대로 그 안에서 라이브러리만의 기능을 사용할 수 있도록 도와주는 도구// requests, BS4\n",
    "- 프레임워크\n",
    "    - 특정 언어의 문법안에서 자신들만의 독창적인 문법을 새롭게 창조했고, 해당 문법을 사용해야지만 사용할 수 있는 도구\n",
    "- Selenium :\n",
    "    - 파이썬을 활용해서 크롤링해오고자 할 때 사용할 수 있는 도구 (*Framework)\n",
    "    - 최근 웹 사이트들이 SPA (Single Page Application)방식으로 구현 → 기존 requestsm BS4 방식으로는 크롤링이 안되는 경우 빈번\n",
    "    - 직접 웹 브라우저를 통제.관리 기능 → 실제 사람이 접속해서 사이트를 보고있는 것인지, 아니면 크롤링을 통해서 웹사이트를 보고있는지 인지하지 못하도록 조치\n",
    "    - 동적 사이트의 정보값을 찾아오는데 아주 효율(*크롤링을 하는데, 일정시간 지연값을 적용, 자바스크립트 내 특정 구문을 찾아와서 크롤링을 하는 등의 기능)\n",
    "    - !pip install selenium\n",
    "    - pip install selenium\n",
    "    - 셀레니움이 브라우저를 통제하려면 브라우저가 사용하고 있는 웹드라이브를 통제할 수 있어야함 ⇒ 웹드라이버 매니저 설치\n",
    "    - !pip install webdriver-manager\n",
    "    - 각각의 고유한 브라우저들은 모두 저마다 웹브라우저 드라이버가 존재\n",
    "    - 해당 드라이버를 셀레니움이 통제 및 관리할 수 있도록 설정\n",
    "1. webdriver : 셀레니움이 브라우저를 통제.관리 할 수 있도록 도와주는 객체역할\n",
    "2. Service : webdriver를 통해서 설정해야 하는 서비스들이 있는데, 해당 서비스의 값을 정의할 수 있도록 해주는 프로토타입 객체\n",
    "3. ChromeDriverManager : 서비스 값을 실제 정의할 때 필요한 함수의 역할"
   ]
  },
  {
   "cell_type": "code",
   "execution_count": 1,
   "id": "1b0eaf50-46d5-4758-a2a5-4d3405ab97b9",
   "metadata": {},
   "outputs": [
    {
     "name": "stdout",
     "output_type": "stream",
     "text": [
      "Collecting webdriver-manager\n",
      "  Downloading webdriver_manager-4.0.2-py2.py3-none-any.whl.metadata (12 kB)\n",
      "Requirement already satisfied: requests in c:\\users\\user\\downloads\\fireshot\\lib\\site-packages (from webdriver-manager) (2.32.3)\n",
      "Requirement already satisfied: python-dotenv in c:\\users\\user\\downloads\\fireshot\\lib\\site-packages (from webdriver-manager) (1.1.0)\n",
      "Requirement already satisfied: packaging in c:\\users\\user\\downloads\\fireshot\\lib\\site-packages (from webdriver-manager) (24.2)\n",
      "Requirement already satisfied: charset-normalizer<4,>=2 in c:\\users\\user\\downloads\\fireshot\\lib\\site-packages (from requests->webdriver-manager) (3.3.2)\n",
      "Requirement already satisfied: idna<4,>=2.5 in c:\\users\\user\\downloads\\fireshot\\lib\\site-packages (from requests->webdriver-manager) (3.7)\n",
      "Requirement already satisfied: urllib3<3,>=1.21.1 in c:\\users\\user\\downloads\\fireshot\\lib\\site-packages (from requests->webdriver-manager) (2.5.0)\n",
      "Requirement already satisfied: certifi>=2017.4.17 in c:\\users\\user\\downloads\\fireshot\\lib\\site-packages (from requests->webdriver-manager) (2025.7.14)\n",
      "Downloading webdriver_manager-4.0.2-py2.py3-none-any.whl (27 kB)\n",
      "Installing collected packages: webdriver-manager\n",
      "Successfully installed webdriver-manager-4.0.2\n"
     ]
    }
   ],
   "source": [
    "!pip install webdriver-manager"
   ]
  },
  {
   "cell_type": "code",
   "execution_count": 3,
   "id": "cb56dd8d-7dbd-4cd8-a79c-e20fc4fd3536",
   "metadata": {},
   "outputs": [],
   "source": [
    "import selenium\n",
    "\n",
    "selenium.webdriver.chrome.service #selenium중에 찾아와야 할 게 webdriver이거나 service까지 필요하거나에 맞춰서 쓰면 됨"
   ]
  },
  {
   "cell_type": "code",
   "execution_count": 17,
   "id": "8719b6e6-0dd8-4ee0-bfa8-753538094cde",
   "metadata": {},
   "outputs": [
    {
     "name": "stdout",
     "output_type": "stream",
     "text": [
      "상품명: 보몽드 순면스퀘어 솔리드 누빔매트커버, 다크블루\n",
      "상품명: 슈에뜨룸 선인장 리플 침구 세트, 베이지\n",
      "상품명: 선우랜드 레인보우 2단 문걸이용 옷걸이 _중형, 화이트, 상세페이지참조\n",
      "상품명: 보드래 헬로우 누빔 매트리스커버, 핑크\n",
      "상품명: 보드래 퍼펙트 누빔 매트리스커버, 차콜\n",
      "상품명: 피아블 클래식 방수 매트리스커버, 화이트\n",
      "상품명: 더자리 에코항균 마이크로 매트리스커버, 밀키차콜그레이\n",
      "상품명: 더자리 프레쉬 퓨어 매트리스 커버, 퓨어 차콜그레이\n",
      "상품명: 몽쉐어 알러스킨 항균 매트리스 커버, 카키그레이\n",
      "상품명: 쿠팡 브랜드 - 코멧 홈 40수 트윌 순면 100% 홑겹 매트리스커버, 그레이\n",
      "상품명: 패브릭아트 항균 마이크로 원단 매트리스 커버, 아이보리\n",
      "상품명: 바숨 순면 누빔 침대 매트리스커버, 차콜\n",
      "상품명: WEMAX 다용도 문옷걸이, 화이트, 1개\n",
      "상품명: 타카타카 프리미엄 나노 화이바 누빔 매트리스 커버, 젠틀핑핑\n",
      "상품명: 보몽드 순면스퀘어 누빔매트커버, 다크그레이\n",
      "상품명: 보드래 국내산 순면 60수 누빔 매트리스커버, 그레이\n"
     ]
    }
   ],
   "source": [
    "from selenium import webdriver\n",
    "from selenium.webdriver.chrome.service import Service # Service -> 속성값을 관리하는 애\n",
    "from selenium.webdriver.common.by import By\n",
    "from  webdriver_manager.chrome import ChromeDriverManager\n",
    "import time\n",
    "\n",
    "service = Service(ChromeDriverManager().install())\n",
    "driver = webdriver.Chrome(service = service)\n",
    "\n",
    "driver.get(\"https://davelee-fun.github.io/\")\n",
    "\n",
    "# print(driver.title)\n",
    "# print(driver.current_url)\n",
    "\n",
    "# assert \"Teddy의 선물 블로그\" in driver.title   # 크롤링이 잘 되고 있는지 테스트하는 명령문 (\"~\"라는 title이 있어.라고 단언한거임. 크롤링 후 없다면 error 뜸)\n",
    "\n",
    "# element = driver.find_element(By.TAG_NAME,\"h1\")\n",
    "# print(element.text)\n",
    "elements = driver.find_elements(By.TAG_NAME,\"h4\")\n",
    "\n",
    "for element in elements :\n",
    "    print(element.text)\n",
    "\n",
    "time.sleep(1)\n",
    "\n",
    "driver.quit()"
   ]
  },
  {
   "cell_type": "code",
   "execution_count": 6,
   "id": "4a353d13-95f2-4819-b3ed-74e5f6a32ddb",
   "metadata": {},
   "outputs": [
    {
     "name": "stdout",
     "output_type": "stream",
     "text": [
      "\n"
     ]
    }
   ],
   "source": [
    "from selenium import webdriver\n",
    "from selenium.webdriver.chrome.service import Service # Service -> 속성값을 관리하는 애\n",
    "from selenium.webdriver.common.by import By\n",
    "from  webdriver_manager.chrome import ChromeDriverManager\n",
    "import time\n",
    "\n",
    "service = Service(ChromeDriverManager().install())\n",
    "driver = webdriver.Chrome(service = service)\n",
    "\n",
    "driver.get(\"https://davelee-fun.github.io/\")\n",
    "\n",
    "# print(driver.title)\n",
    "# print(driver.current_url)\n",
    "\n",
    "# assert \"Teddy의 선물 블로그\" in driver.title   # 크롤링이 잘 되고 있는지 테스트하는 명령문 (\"~\"라는 title이 있어.라고 단언한거임. 크롤링 후 없다면 error 뜸)\n",
    "\n",
    "# element = driver.find_element(By.TAG_NAME,\"h1\")\n",
    "# # print(element.text)\n",
    "element = driver.find_element(By.ID, \"navbarMediumish\")\n",
    "print(element.text)\n",
    "# print(element.text)\n",
    "# element = driver.find_element(By.TAG_NAME, \"h4\")\n",
    "# print(element.text)\n",
    "# elements = driver.find_elements(By.ID,\"navbarMediumish\")\n",
    "# for element in elements :\n",
    "#     print(element.text)\n",
    "\n",
    "time.sleep(1)\n",
    "\n",
    "driver.quit()"
   ]
  },
  {
   "cell_type": "code",
   "execution_count": 1,
   "id": "224919f2-867c-4d1e-8fe7-94ec474d6de3",
   "metadata": {
    "scrolled": true
   },
   "outputs": [
    {
     "name": "stdout",
     "output_type": "stream",
     "text": [
      "\n"
     ]
    }
   ],
   "source": [
    "from selenium import webdriver\n",
    "from selenium.webdriver.chrome.service import Service # Service -> 속성값을 관리하는 애\n",
    "from selenium.webdriver.common.by import By\n",
    "from  webdriver_manager.chrome import ChromeDriverManager\n",
    "import time\n",
    "\n",
    "service = Service(ChromeDriverManager().install())\n",
    "driver = webdriver.Chrome(service = service)\n",
    "\n",
    "driver.get(\"https://davelee-fun.github.io/\")\n",
    "element = driver.find_element(By.ID, \"navbarMediumish\")\n",
    "print(element.text)\n",
    "\n",
    "time.sleep(5)\n",
    "\n",
    "driver.quit()"
   ]
  }
 ],
 "metadata": {
  "kernelspec": {
   "display_name": "Python 3 (ipykernel)",
   "language": "python",
   "name": "python3"
  },
  "language_info": {
   "codemirror_mode": {
    "name": "ipython",
    "version": 3
   },
   "file_extension": ".py",
   "mimetype": "text/x-python",
   "name": "python",
   "nbconvert_exporter": "python",
   "pygments_lexer": "ipython3",
   "version": "3.13.5"
  }
 },
 "nbformat": 4,
 "nbformat_minor": 5
}
