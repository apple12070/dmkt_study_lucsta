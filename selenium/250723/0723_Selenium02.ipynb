{
 "cells": [
  {
   "cell_type": "markdown",
   "id": "14de83e7-72ee-46cc-b469-0ed1591bbcc7",
   "metadata": {},
   "source": [
    "### 셀레니움 : **pyautogui/화면 캡처**"
   ]
  },
  {
   "cell_type": "code",
   "execution_count": null,
   "id": "7105adcb-d3fb-4eee-8935-b91a0a76d0b5",
   "metadata": {},
   "outputs": [],
   "source": [
    "!pip install pyautogui\n",
    "# 외부 라이브러리라서 설치 먼저 해야 함!"
   ]
  },
  {
   "cell_type": "code",
   "execution_count": null,
   "id": "ff6c474d-9720-47c5-8b14-d05e8757855d",
   "metadata": {},
   "outputs": [],
   "source": [
    "from selenium import webdriver\n",
    "from selenium.webdriver.chrome.service import Service\n",
    "from selenium.webdriver.common.by import By\n",
    "from selenium.webdriver.common.keys import Keys\n",
    "from selenium.webdriver.chrome.options import Options\n",
    "from webdriver_manager.chrome import ChromeDriverManager\n",
    "import time\n",
    "import pyautogui # >>>>>>>> NEW!!\n",
    "\n",
    "service = Service(\"C:\\\\Users\\\\user\\\\Downloads\\\\chromedriver\\\\chromedriver.exe\")\n",
    "options = Options()\n",
    "options.add_argument(\"--disable-gpu\") \n",
    "options.add_argument(\"--start-maximized\") \n",
    "\n",
    "driver = webdriver.Chrome(service=service, options=options)\n",
    "driver.get(\"https://davelee-fun.github.io/\")\n",
    "\n",
    "#\n",
    "pyautogui.size() #반환값으로 너비,높이 찾아와줌\n",
    "# print(pyautogui.size(),\"\\n\") => Size(width=1920, height=1080)\n",
    "\n",
    "screen_width, screen_height = pyautogui.size() # 첫 번째 인자값을 첫 번째 변수에, 두 번째 인자값을 두 번째 변수에 넣어줌\n",
    "# print(screen_width, screen_height) =>1920 1080\n",
    "\n",
    "driver.set_window_size(screen_width,screen_height) # (가로(너비),세로(높이))\n",
    "element = driver.find_element(By.TAG_NAME, \"body\")\n",
    "\n",
    "element.screenshot(\"samplesite.png\")\n",
    "# .screenshot : 해당 요소의 해당 브라우저 화면을 캡처해 와라!+\"samplesite.png\"라는 이름으로 => 작업 중인 루트 폴더(250723)에 저장됨\n",
    "\n",
    "time.sleep(3)\n",
    "driver.quit()"
   ]
  },
  {
   "cell_type": "markdown",
   "id": "89251f0d-801a-49ec-accd-73708851e2aa",
   "metadata": {},
   "source": [
    "### 📌 **Headless** 기능\n",
    "- 실제 브라우저를 띄우지 않아도 마치 띄운 것처럼 인식시켜 주게 하는 기능\n",
    "- 사이트 n초 동안 뜨는 거 없애 줌"
   ]
  },
  {
   "cell_type": "code",
   "execution_count": 43,
   "id": "dd7962b5-b5af-45c2-b0af-325eecca897a",
   "metadata": {},
   "outputs": [
    {
     "name": "stdout",
     "output_type": "stream",
     "text": [
      "Teddy의 선물 블로그\n"
     ]
    }
   ],
   "source": [
    "from selenium import webdriver\n",
    "from selenium.webdriver.chrome.service import Service\n",
    "from selenium.webdriver.common.by import By\n",
    "from selenium.webdriver.common.keys import Keys\n",
    "from selenium.webdriver.chrome.options import Options\n",
    "from webdriver_manager.chrome import ChromeDriverManager\n",
    "import time\n",
    "\n",
    "service = Service(\"C:\\\\Users\\\\user\\\\Downloads\\\\chromedriver\\\\chromedriver.exe\")\n",
    "options = Options()\n",
    "options.add_argument(\"--disable-gpu\")\n",
    "options.add_argument(\"--start-maximized\")\n",
    "options.add_argument(\"--headless\") #>>>>> new!! (창 뜨는 거 막아줌->그만큼 해당 사이트는 민감하게 반응하니 주의!)\n",
    "# headless까지도 속이기 위해 아래 옵션을 더 넣어줌\n",
    "options.add_argument(\"--window-size=1920x1080\")\n",
    "# options.add_argument(\"User-Agent: Mozilla/5.0 (Linux; Android 6.0; Chrome 5...\") 너무 많음!! 이걸 일일히 쓸 수 없어서 찾아야 함\n",
    "# 웹사이트 -> console -> window.navigator.userAgent : 내 크롬 브라우저의 정보값\n",
    "# 결과 : 'Mozilla/5.0 (Windows NT 10.0; Win64; x64) AppleWebKit/537.36 (KHTML, like Gecko) Chrome/138.0.0.0 Safari/537.36' 붙여넣기\n",
    "options.add_argument(\"--User-agent=Mozilla/5.0 (Windows NT 10.0; Win64; x64) AppleWebKit/537.36 (KHTML, like Gecko) Chrome/138.0.0.0 Safari/537.36\")\n",
    "options.add_argument(\"--lang=ko_KR\")\n",
    "#이렇게 추가하면 완벽하게 속음\n",
    "\n",
    "driver = webdriver.Chrome(service=service, options=options)\n",
    "driver.get(\"https://davelee-fun.github.io/\")\n",
    "\n",
    "element = driver.find_element(By.TAG_NAME, \"h1\")\n",
    "print(element.text)\n",
    "\n",
    "time.sleep(1)\n",
    "\n",
    "driver.quit()"
   ]
  },
  {
   "cell_type": "markdown",
   "id": "8d12d540-afdb-44a8-b72d-7069ee2667f1",
   "metadata": {},
   "source": [
    "### 🚩 **MISSION** 다음 웹 사이트에 접속해서 selenium을 활용하여 크롤링 해 오시오. -1\n",
    "- https://crawlingtest.netlify.app/\n",
    "- 부모 요소의 id 속성값이 dev_course_list이면서 class가 course인 데이터만 출력하시오."
   ]
  },
  {
   "cell_type": "code",
   "execution_count": 4,
   "id": "66dca0d8-7bf0-4f9f-b421-b0c38f965006",
   "metadata": {},
   "outputs": [
    {
     "name": "stdout",
     "output_type": "stream",
     "text": [
      "(초급) - 강사가 실제 사용하는 자동 프로그램 소개 [2]\n",
      "(초급) - 필요한 프로그램 설치 시연 [5]\n",
      "(초급) - 데이터를 엑셀 파일로 만들기 [9]\n",
      "(초급) -     엑셀 파일 이쁘게! 이쁘게! [8]\n",
      "(초급) -     나대신 주기적으로 파이썬 프로그램 실행하기 [7]\n",
      "(초급) - 파이썬으로 슬랙(slack) 메신저에 글쓰기 [40]\n",
      "(초급) - 웹사이트 변경사항 주기적으로 체크해서, 메신저로 알람주기 [12]\n",
      "(초급) - 네이버 API 사용해서, 블로그에 글쓰기 [42]\n",
      "(중급) - 자동으로 쿠팡파트너스 API 로 가져온 상품 정보, 네이버 블로그/트위터에 홍보하기 [412]\n"
     ]
    }
   ],
   "source": [
    "from selenium import webdriver\n",
    "from selenium.webdriver.chrome.service import Service\n",
    "from selenium.webdriver.common.by import By\n",
    "from selenium.webdriver.common.keys import Keys\n",
    "from selenium.webdriver.chrome.options import Options\n",
    "from webdriver_manager.chrome import ChromeDriverManager\n",
    "import time\n",
    "\n",
    "service = Service(\"C:\\\\Users\\\\user\\\\Downloads\\\\chromedriver\\\\chromedriver.exe\")\n",
    "options = Options()\n",
    "options.add_argument(\"--disable-gpu\")\n",
    "options.add_argument(\"--start-maximized\")\n",
    "options.add_argument(\"--headless\")\n",
    "options.add_argument(\"--window-size=1920x1080\")\n",
    "options.add_argument(\"--user-agent=Mozilla/5.0 (Windows NT 10.0; Win64; x64) AppleWebKit/537.36 (KHTML, like Gecko) Chrome/138.0.0.0 Safari/537.36\")\n",
    "options.add_argument(\"--lang=ko_KR\")\n",
    "\n",
    "driver = webdriver.Chrome(service=service, options=options)\n",
    "driver.get(\"https://crawlingtest.netlify.app/\")\n",
    "\n",
    "elements = driver.find_elements(By.CSS_SELECTOR, \"ul#dev_course_list > li.course\")\n",
    "\n",
    "for element in elements:\n",
    "    print(element.text)\n",
    "\n",
    "time.sleep(3)\n",
    "driver.quit()"
   ]
  },
  {
   "cell_type": "markdown",
   "id": "e9f820da-bb78-47c3-a4dd-f0df0f97e732",
   "metadata": {},
   "source": [
    "### 🚩 **MISSION** 다음 웹 사이트에 접속해서 selenium을 활용하여 크롤링 해 오시오. -2\n",
    "- https://crawlingtest.netlify.app/\n",
    "- 해당 사이트 내 커리큘럼 일정표 안에 있는 데이터를 모두 추출해서 출력하시오."
   ]
  },
  {
   "cell_type": "raw",
   "id": "fdd0d06c-e4f9-449e-88f4-307e893d8171",
   "metadata": {},
   "source": [
    "table 데이터의 구조!\n",
    "    thead (생략가능)\n",
    "    tbody\n",
    "      tr (행)\n",
    "        td (열) >>> 얘를 찾아오면 되겠다 (By.TAG_NAME!)\n",
    "    tfooter (생략가능)"
   ]
  },
  {
   "cell_type": "code",
   "execution_count": 8,
   "id": "601e0c72-d1ab-45f7-b153-14a01bbd76c5",
   "metadata": {},
   "outputs": [
    {
     "name": "stdout",
     "output_type": "stream",
     "text": [
      "일정\n",
      "커리큘럼 타이틀\n",
      "난이도\n",
      "5.1 ~ 6.15\n",
      "나만의 엣지있는 블로그 사이트 만들기 (취미로 익히는 IT)\n",
      "초급\n",
      "6.16 ~ 7.31\n",
      "파이썬과 데이터과학 첫걸음 (IT 기본기 익히기)\n",
      "중급\n"
     ]
    }
   ],
   "source": [
    "from selenium import webdriver\n",
    "from selenium.webdriver.chrome.service import Service\n",
    "from selenium.webdriver.common.by import By\n",
    "from selenium.webdriver.common.keys import Keys\n",
    "from selenium.webdriver.chrome.options import Options\n",
    "from webdriver_manager.chrome import ChromeDriverManager\n",
    "import time\n",
    "\n",
    "service = Service(\"C:\\\\Users\\\\user\\\\Downloads\\\\chromedriver\\\\chromedriver.exe\")\n",
    "options = Options()\n",
    "options.add_argument(\"--disable-gpu\")\n",
    "options.add_argument(\"--start-maximized\")\n",
    "options.add_argument(\"--headless\")\n",
    "options.add_argument(\"--window-size=1920x1080\")\n",
    "options.add_argument(\"--user-agent=Mozilla/5.0 (Windows NT 10.0; Win64; x64) AppleWebKit/537.36 (KHTML, like Gecko) Chrome/138.0.0.0 Safari/537.36\")\n",
    "options.add_argument(\"--lang=ko_KR\")\n",
    "\n",
    "driver = webdriver.Chrome(service=service, options=options)\n",
    "driver.get(\"https://crawlingtest.netlify.app/\")\n",
    "\n",
    "elements = driver.find_elements(By.CSS_SELECTOR, \"td\") #정석대로는 (By.CSS_SELECTOR, \"table tr td\")\n",
    "# 같은 답 = elements = driver.find_elements(By.TAG_NAME, \"td\")\n",
    "\n",
    "for element in elements:\n",
    "    print(element.text)\n",
    "\n",
    "time.sleep(3)\n",
    "driver.quit()"
   ]
  },
  {
   "cell_type": "markdown",
   "id": "5db3460d-b8c7-4a29-a48b-5b1d8ca1e149",
   "metadata": {},
   "source": [
    "### 🚩 **MISSION** 다음 웹 사이트에 접속해서 selenium을 활용하여 크롤링 해 오시오. -3\n",
    "- https://crawlingtest.netlify.app/\n",
    "- 아래 데이터만 추출해 오시오\n",
    "- (중급) - 자동으로 쿠팡파트너스 API 로 가져온 상품 정보, 네이버 블로그/트위터에 홍보하기 [412]"
   ]
  },
  {
   "cell_type": "code",
   "execution_count": 26,
   "id": "08b8a874-5908-4fec-9e57-46bab57781ae",
   "metadata": {},
   "outputs": [
    {
     "name": "stdout",
     "output_type": "stream",
     "text": [
      "(중급) - 자동으로 쿠팡파트너스 API 로 가져온 상품 정보, 네이버 블로그/트위터에 홍보하기 [412]\n"
     ]
    }
   ],
   "source": [
    "from selenium import webdriver\n",
    "from selenium.webdriver.chrome.service import Service\n",
    "from selenium.webdriver.common.by import By\n",
    "from selenium.webdriver.common.keys import Keys\n",
    "from selenium.webdriver.chrome.options import Options\n",
    "from webdriver_manager.chrome import ChromeDriverManager\n",
    "import time\n",
    "\n",
    "service = Service(\"C:\\\\Users\\\\user\\\\Downloads\\\\chromedriver\\\\chromedriver.exe\")\n",
    "options = Options()\n",
    "options.add_argument(\"--disable-gpu\")\n",
    "options.add_argument(\"--start-maximized\")\n",
    "options.add_argument(\"--headless\")\n",
    "options.add_argument(\"--window-size=1920x1080\")\n",
    "options.add_argument(\"--user-agent=Mozilla/5.0 (Windows NT 10.0; Win64; x64) AppleWebKit/537.36 (KHTML, like Gecko) Chrome/138.0.0.0 Safari/537.36\")\n",
    "options.add_argument(\"--lang=ko_KR\")\n",
    "\n",
    "driver = webdriver.Chrome(service=service, options=options)\n",
    "driver.get(\"https://crawlingtest.netlify.app/\")\n",
    "\n",
    "elements = driver.find_elements(By.CSS_SELECTOR, \"ul#dev_course_list > li.course\")\n",
    "print(elements[-1].text) # 답 하나만 추출할 것 >>>>> 리스트로 뽑을 게 아니니까 for문 안 써도 된다!!!\n",
    "# 같은 답 = print(elements[8].text) \n",
    "\n",
    "time.sleep(1)\n",
    "driver.quit()"
   ]
  },
  {
   "cell_type": "markdown",
   "id": "8b141a4e-6304-41c8-ab57-ad4c76088b11",
   "metadata": {},
   "source": [
    "### 🚩 **MISSION** 다음 웹 사이트에 접속해서 selenium을 활용하여 크롤링 해 오시오. -4\n",
    "- https://divjason.github.io/sellenium-test/\n",
    "- class값이 \"news\"인 데이터를 출력하시오.\n",
    "- span 태그의 news 클래스 !!!!"
   ]
  },
  {
   "cell_type": "code",
   "execution_count": 33,
   "id": "4131cced-2f6f-4d62-b58f-56d1b07e6d14",
   "metadata": {},
   "outputs": [
    {
     "name": "stdout",
     "output_type": "stream",
     "text": [
      "뉴스: 머신러닝 강좌가 나왔어요~~~\n"
     ]
    }
   ],
   "source": [
    "from selenium import webdriver\n",
    "from selenium.webdriver.chrome.service import Service\n",
    "from selenium.webdriver.common.by import By\n",
    "from selenium.webdriver.common.keys import Keys\n",
    "from selenium.webdriver.chrome.options import Options\n",
    "from webdriver_manager.chrome import ChromeDriverManager\n",
    "import time\n",
    "\n",
    "service = Service(\"C:\\\\Users\\\\user\\\\Downloads\\\\chromedriver\\\\chromedriver.exe\")\n",
    "options = Options()\n",
    "options.add_argument(\"--disable-gpu\")\n",
    "options.add_argument(\"--start-maximized\")\n",
    "options.add_argument(\"--headless\")\n",
    "options.add_argument(\"--window-size=1920x1080\")\n",
    "options.add_argument(\"--user-agent=Mozilla/5.0 (Windows NT 10.0; Win64; x64) AppleWebKit/537.36 (KHTML, like Gecko) Chrome/138.0.0.0 Safari/537.36\")\n",
    "options.add_argument(\"--lang=ko_KR\")\n",
    "\n",
    "driver = webdriver.Chrome(service=service, options=options)\n",
    "driver.get(\"https://divjason.github.io/sellenium-test/\")\n",
    "\n",
    "element = driver.find_element(By.CSS_SELECTOR, \"span.news\") # 굳이 앞에 section.main 안 적어도 답 잘 나온다!\n",
    "print(element.text)\n",
    "\n",
    "time.sleep(1)\n",
    "driver.quit()"
   ]
  },
  {
   "cell_type": "markdown",
   "id": "f36ecf71-3f3a-4dcf-aa96-b84d0d412439",
   "metadata": {},
   "source": [
    "### 🚩 **MISSION 5-1** 다음 웹 사이트에 접속해서 selenium을 활용하여 크롤링 해 오시오.\n",
    "- https://divjason.github.io/sellenium-test/\n",
    "- input 요소에 아이디 error@error.com / 비밀번호 1234 입력 후, 로그인 버튼 자동으로 클릭하기\n",
    "### 🚩 **MISSION 5-2**\n",
    "- 클릭 이후 이동한 페이지에서 message라는 클래스 속성값을 가지고 있는 요소의 텍스트 정보를 출력하기\n",
    "### 🚩 **MISSION 5-3**\n",
    "- 로그아웃 버튼 클릭 후 이동한 페이지에서 다시 message라는 클래스 속성값을 가지고 있는 요소의 텍스트 정보를 출력하기"
   ]
  },
  {
   "cell_type": "code",
   "execution_count": 78,
   "id": "b1cfd6be-f70d-4b55-9f5c-cfbbe885290b",
   "metadata": {},
   "outputs": [
    {
     "name": "stdout",
     "output_type": "stream",
     "text": [
      "실제 사이트는 https://megaitlab.com/ 입니다\n",
      "본 페이지는 로그인된 페이지입니다!\n",
      "뉴스: 머신러닝 강좌가 나왔어요~~~\n",
      "실제 사이트는 https://megaitlab.com/ 입니다\n",
      "본 페이지는 로그인된 페이지입니다!\n",
      "뉴스: 머신러닝 강좌가 나왔어요~~~\n"
     ]
    }
   ],
   "source": [
    "from selenium import webdriver\n",
    "from selenium.webdriver.chrome.service import Service\n",
    "from selenium.webdriver.common.by import By\n",
    "from selenium.webdriver.common.keys import Keys\n",
    "from selenium.webdriver.chrome.options import Options\n",
    "from webdriver_manager.chrome import ChromeDriverManager\n",
    "import time\n",
    "\n",
    "service = Service(\"C:\\\\Users\\\\user\\\\Downloads\\\\chromedriver\\\\chromedriver.exe\")\n",
    "options = Options()\n",
    "options.add_argument(\"--disable-gpu\")\n",
    "options.add_argument(\"--start-maximized\")\n",
    "\n",
    "# 창이 안 떠서 headless 잠깐 주석 처리!\n",
    "# options.add_argument(\"--headless\")\n",
    "# options.add_argument(\"--window-size=1920x1080\")\n",
    "# options.add_argument(\"--user-agent=Mozilla/5.0 (Windows NT 10.0; Win64; x64) AppleWebKit/537.36 (KHTML, like Gecko) Chrome/138.0.0.0 Safari/537.36\")\n",
    "# options.add_argument(\"--lang=ko_KR\")\n",
    "\n",
    "driver = webdriver.Chrome(service=service, options=options)\n",
    "driver.get(\"https://divjason.github.io/sellenium-test/\")\n",
    "\n",
    "ID = driver.find_element(By.NAME, \"username\")   # By.ID,\"username\"도 가능, By.CSS_SELETOR도 가능)\n",
    "ID.clear() # 항상 초기화 먼저!!!\n",
    "ID.send_keys(\"error@error.com\")\n",
    "\n",
    "PW = driver.find_element(By.NAME, \"password\")\n",
    "PW.clear()\n",
    "PW.send_keys(\"아아6\")\n",
    "\n",
    "ID.send_keys(Keys.RETURN)\n",
    "\n",
    "time.sleep(1) # 이 머무르는 시간이 있어야 데이터 나옴\n",
    "\n",
    "element01 = driver.find_element(By.CSS_SELECTOR, \"div.message\")\n",
    "print(element01.text)\n",
    "\n",
    "time.sleep(1)\n",
    "\n",
    "button = driver.find_element(By.CSS_SELECTOR, \"input[type='submit']\")\n",
    "button.click\n",
    "\n",
    "time.sleep(1)\n",
    "\n",
    "element02 = driver.find_element(By.CSS_SELECTOR, \"div.message\")\n",
    "print(element02.text)\n",
    "\n",
    "time.sleep(3)\n",
    "driver.quit()"
   ]
  },
  {
   "cell_type": "code",
   "execution_count": 80,
   "id": "a40657a5-ee94-44f2-9608-169b1c75f98b",
   "metadata": {},
   "outputs": [
    {
     "name": "stdout",
     "output_type": "stream",
     "text": [
      "실제 사이트는 https://megaitlab.com/ 입니다\n",
      "본 페이지는 로그인된 페이지입니다!\n",
      "뉴스: 머신러닝 강좌가 나왔어요~~~\n"
     ]
    }
   ],
   "source": [
    "from selenium import webdriver\n",
    "from selenium.webdriver.chrome.service import Service\n",
    "from selenium.webdriver.common.by import By\n",
    "from selenium.webdriver.common.keys import Keys\n",
    "from selenium.webdriver.chrome.options import Options\n",
    "from webdriver_manager.chrome import ChromeDriverManager\n",
    "import time\n",
    "\n",
    "service = Service(\"C:\\\\Users\\\\user\\\\Downloads\\\\chromedriver\\\\chromedriver.exe\")\n",
    "options = Options()\n",
    "options.add_argument(\"--disable-gpu\")\n",
    "options.add_argument(\"--start-maximized\")\n",
    "\n",
    "# 창이 안 떠서 headless 잠깐 주석 처리!\n",
    "# options.add_argument(\"--headless\")\n",
    "# options.add_argument(\"--window-size=1920x1080\")\n",
    "# options.add_argument(\"--user-agent=Mozilla/5.0 (Windows NT 10.0; Win64; x64) AppleWebKit/537.36 (KHTML, like Gecko) Chrome/138.0.0.0 Safari/537.36\")\n",
    "# options.add_argument(\"--lang=ko_KR\")\n",
    "\n",
    "driver = webdriver.Chrome(service=service, options=options)\n",
    "driver.get(\"https://divjason.github.io/sellenium-test/\")\n",
    "\n",
    "ID = driver.find_element(By.NAME, \"username\")   # By.ID,\"username\"도 가능, By.CSS_SELETOR도 가능)\n",
    "ID.clear() # 항상 초기화 먼저!!!\n",
    "ID.send_keys(\"error@error.com\")\n",
    "\n",
    "PW = driver.find_element(By.NAME, \"password\")\n",
    "PW.clear()\n",
    "PW.send_keys(\"아아6\")\n",
    "\n",
    "ID.send_keys(Keys.RETURN)\n",
    "\n",
    "time.sleep(1) # 이 머무르는 시간이 있어야 데이터 나옴\n",
    "\n",
    "element01 = driver.find_element(By.CSS_SELECTOR, \"div.message\")\n",
    "print(element01.text)\n",
    "\n",
    "time.sleep(3)\n",
    "driver.quit()"
   ]
  },
  {
   "cell_type": "markdown",
   "id": "f980d1fd-351a-49f9-a1a2-5e66cb909b89",
   "metadata": {},
   "source": [
    "엔터 (Keys.RETURN) 말고 정석 (By.CSS_SELECTOR, \"input[type='submit']\")"
   ]
  },
  {
   "cell_type": "code",
   "execution_count": 81,
   "id": "cb2dfc04-0504-4a8c-b0f9-fe4707183039",
   "metadata": {},
   "outputs": [
    {
     "name": "stdout",
     "output_type": "stream",
     "text": [
      "🎉 로그인 성공!\n"
     ]
    }
   ],
   "source": [
    "from selenium import webdriver\n",
    "from selenium.webdriver.chrome.service import Service\n",
    "from selenium.webdriver.common.by import By\n",
    "from selenium.webdriver.common.keys import Keys\n",
    "from selenium.webdriver.chrome.options import Options\n",
    "from webdriver_manager.chrome import ChromeDriverManager\n",
    "import time\n",
    "\n",
    "service = Service(\"C:\\\\Users\\\\user\\\\Downloads\\\\chromedriver\\\\chromedriver.exe\")\n",
    "options = Options()\n",
    "options.add_argument(\"--disable-gpu\")\n",
    "options.add_argument(\"--start-maximized\")\n",
    "\n",
    "# 창이 안 떠서 headless 잠깐 주석 처리!\n",
    "# options.add_argument(\"--headless\")\n",
    "# options.add_argument(\"--window-size=1920x1080\")\n",
    "# options.add_argument(\"--user-agent=Mozilla/5.0 (Windows NT 10.0; Win64; x64) AppleWebKit/537.36 (KHTML, like Gecko) Chrome/138.0.0.0 Safari/537.36\")\n",
    "# options.add_argument(\"--lang=ko_KR\")\n",
    "\n",
    "driver = webdriver.Chrome(service=service, options=options)\n",
    "driver.get(\"https://divjason.github.io/sellenium-test/\")\n",
    "\n",
    "ID = driver.find_element(By.NAME, \"username\")   # By.ID,\"username\"도 가능, By.CSS_SELETOR도 가능)\n",
    "ID.clear() # 항상 초기화 먼저!!!\n",
    "ID.send_keys(\"error@error.com\")\n",
    "\n",
    "PW = driver.find_element(By.NAME, \"password\")\n",
    "PW.clear()\n",
    "PW.send_keys(\"12345\")\n",
    "\n",
    "time.sleep(5) # ID,PW가 제대로 쳐졌는지 확인용 타임슬립!\n",
    "\n",
    "#ID.send_keys(Keys.RETURN) -> 주석처리!\n",
    "#================\n",
    "# input 태그 애초에 ID/PW -> **엔터** -> 알아서 서버로 전송 (기본 개념)\n",
    "# 엔터키가 안 먹게 할 수도 있음!!! 이유 : 버튼 클릭(ex.로그인버튼)에 대한 이벤트를 설정할 때!(엔터로 서버 전송된 정보는 수집이 안 돼서 클릭율을 알아볼 수 없음ㅠ)\n",
    "# => prevent default -> 방해하는 기능\n",
    "# 예를 들어 둘 중 하나 선택하는 이벤트에서는 꼭 필요함! 구체적으로 버튼을 클릭할 수밖에 없게끔!\n",
    "\n",
    "element = driver.find_element(By.CSS_SELECTOR, \"input[type='submit']\")\n",
    "#CSS_SELECTOR에서 속성값을 찾아올 때 이런 형태로! 'submit' 이 속성값을 큰따옴표로 쓰면 오류나기 딱 좋아서 꼭 작은따옴표 안에 넣어 줘야 함!\n",
    "# html CRM 에 대한 정리가 하고 싶을 때! MDN 가서 검색!\n",
    "element.click()\n",
    "\n",
    "print(\"🎉 로그인 성공!\")\n",
    "\n",
    "time.sleep(5)\n",
    "driver.quit()"
   ]
  }
 ],
 "metadata": {
  "kernelspec": {
   "display_name": "Python 3 (ipykernel)",
   "language": "python",
   "name": "python3"
  },
  "language_info": {
   "codemirror_mode": {
    "name": "ipython",
    "version": 3
   },
   "file_extension": ".py",
   "mimetype": "text/x-python",
   "name": "python",
   "nbconvert_exporter": "python",
   "pygments_lexer": "ipython3",
   "version": "3.13.5"
  }
 },
 "nbformat": 4,
 "nbformat_minor": 5
}
