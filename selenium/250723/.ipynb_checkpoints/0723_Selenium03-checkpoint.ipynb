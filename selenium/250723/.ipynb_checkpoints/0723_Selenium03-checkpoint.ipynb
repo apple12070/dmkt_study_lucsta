{
 "cells": [
  {
   "cell_type": "markdown",
   "id": "676a12c1-fd3b-44b5-a18e-9021f205f476",
   "metadata": {},
   "source": [
    "### 🚩 **MISSION 5-3**\n",
    "- 로그아웃 버튼 클릭 후 이동한 페이지에서 다시 message라는 클래스 속성값을 가지고 있는 요소의 텍스트 정보를 출력하기"
   ]
  },
  {
   "cell_type": "code",
   "execution_count": 1,
   "id": "64631a65-cf0c-4707-bad8-a21099eabb6f",
   "metadata": {},
   "outputs": [
    {
     "name": "stdout",
     "output_type": "stream",
     "text": [
      "실제 사이트는 https://megaitlab.com/ 입니다\n",
      "뉴스: 머신러닝 강좌가 나왔어요~~~\n",
      "실제 사이트는 https://megaitlab.com/ 입니다\n",
      "뉴스: 머신러닝 강좌가 나왔어요~~~\n"
     ]
    }
   ],
   "source": [
    "from selenium import webdriver\n",
    "from selenium.webdriver.chrome.service import Service\n",
    "from selenium.webdriver.common.by import By\n",
    "from selenium.webdriver.common.keys import Keys\n",
    "from selenium.webdriver.chrome.options import Options\n",
    "from webdriver_manager.chrome import ChromeDriverManager\n",
    "import time\n",
    "\n",
    "service = Service(\"C:\\\\Users\\\\user\\\\Downloads\\\\chromedriver\\\\chromedriver.exe\")\n",
    "options = Options()\n",
    "options.add_argument(\"--disable-gpu\")\n",
    "options.add_argument(\"--start-maximized\")\n",
    "\n",
    "# 창이 안 떠서 headless 잠깐 주석 처리!\n",
    "# options.add_argument(\"--headless\")\n",
    "# options.add_argument(\"--window-size=1920x1080\")\n",
    "# options.add_argument(\"--user-agent=Mozilla/5.0 (Windows NT 10.0; Win64; x64) AppleWebKit/537.36 (KHTML, like Gecko) Chrome/138.0.0.0 Safari/537.36\")\n",
    "# options.add_argument(\"--lang=ko_KR\")\n",
    "\n",
    "driver = webdriver.Chrome(service=service, options=options)\n",
    "driver.get(\"https://divjason.github.io/sellenium-test/\")\n",
    "\n",
    "ID = driver.find_element(By.NAME, \"username\")   # By.ID,\"username\"도 가능, By.CSS_SELETOR도 가능)\n",
    "ID.clear() # 항상 초기화 먼저!!!\n",
    "ID.send_keys(\"error@error.com\")\n",
    "\n",
    "PW = driver.find_element(By.NAME, \"password\")\n",
    "PW.clear()\n",
    "PW.send_keys(\"아아6\")\n",
    "\n",
    "button = driver.find_element(By.CSS_SELECTOR, \"input[type='submit']\")\n",
    "button.click\n",
    "\n",
    "time.sleep(1) # 이 머무르는 시간이 있어야 데이터 나옴\n",
    "\n",
    "element01 = driver.find_element(By.CSS_SELECTOR, \"div.message\")\n",
    "print(element01.text)\n",
    "\n",
    "#time.sleep(1)\n",
    "\n",
    "button = driver.find_element(By.CSS_SELECTOR, \"input[type='submit']\")\n",
    "button.click\n",
    "\n",
    "#time.sleep(1)\n",
    "\n",
    "element02 = driver.find_element(By.CSS_SELECTOR, \"div.message\")\n",
    "print(element02.text)\n",
    "\n",
    "time.sleep(3)\n",
    "driver.quit()"
   ]
  },
  {
   "cell_type": "raw",
   "id": "46f35f34-b991-41f4-8a30-673dcfc09580",
   "metadata": {},
   "source": [
    "요거 안 됨!!!! 테스트용 허술한 사이트 -> 브라우저에서 경계 -> 비밀번호 노출 팝업 나올 수밖에 없음...!(우리가 보안 패치 설치하거나, 사용자가 보안 꺼야 됨;;=>불가)\n"
   ]
  },
  {
   "cell_type": "code",
   "execution_count": null,
   "id": "65025053-ebab-4bcb-992c-1ad3297162aa",
   "metadata": {},
   "outputs": [],
   "source": []
  },
  {
   "cell_type": "code",
   "execution_count": 8,
   "id": "93602187-9897-41c8-bfe1-ab348e4cde24",
   "metadata": {},
   "outputs": [
    {
     "name": "stdout",
     "output_type": "stream",
     "text": [
      "실제 사이트는 https://megaitlab.com/ 입니다\n",
      "본 페이지는 로그인된 페이지입니다!\n",
      "뉴스: 머신러닝 강좌가 나왔어요~~~\n",
      "실제 사이트는 https://megaitlab.com/ 입니다\n",
      "뉴스: 머신러닝 강좌가 나왔어요~~~\n"
     ]
    }
   ],
   "source": [
    "from selenium import webdriver\n",
    "from selenium.webdriver.chrome.service import Service\n",
    "from selenium.webdriver.common.by import By\n",
    "from selenium.webdriver.common.keys import Keys\n",
    "from selenium.webdriver.chrome.options import Options\n",
    "from webdriver_manager.chrome import ChromeDriverManager\n",
    "import time\n",
    "\n",
    "prefs = {\n",
    "    \"credentials_enable_service\" : False, # 크롬 웹 브라우저 자체 로그인 팝업 비활성화\n",
    "    \"profile.password_managet_enablled\" : False # 비밀번호 저장 팝업 끄기\n",
    "}\n",
    "\n",
    "service = Service(\"C:\\\\Users\\\\user\\\\Downloads\\\\chromedriver\\\\chromedriver.exe\")\n",
    "options = Options()\n",
    "options.add_argument(\"--disable-gpu\")\n",
    "options.add_argument(\"--start-maximized\")\n",
    "# 창이 안 떠서 headless 잠깐 주석 처리!\n",
    "# options.add_argument(\"--headless\")\n",
    "# options.add_argument(\"--window-size=1920x1080\")\n",
    "# options.add_argument(\"--user-agent=Mozilla/5.0 (Windows NT 10.0; Win64; x64) AppleWebKit/537.36 (KHTML, like Gecko) Chrome/138.0.0.0 Safari/537.36\")\n",
    "# options.add_argument(\"--lang=ko_KR\")\n",
    "options.add_experimental_option(\"prefs\", prefs) #====> new!\n",
    "\n",
    "driver = webdriver.Chrome(service=service, options=options)\n",
    "driver.get(\"https://divjason.github.io/sellenium-test/\")\n",
    "\n",
    "ID = driver.find_element(By.NAME, \"username\")   # By.ID,\"username\"도 가능, By.CSS_SELETOR도 가능)\n",
    "ID.clear() # 항상 초기화 먼저!!!\n",
    "ID.send_keys(\"error@error.com\")\n",
    "\n",
    "PW = driver.find_element(By.NAME, \"password\")\n",
    "PW.clear()\n",
    "PW.send_keys(\"ㅁㄴㅇㄹ\")\n",
    "\n",
    "button = driver.find_element(By.CSS_SELECTOR, \"input[type='submit']\")\n",
    "button.click()\n",
    "\n",
    "time.sleep(1)\n",
    "\n",
    "element01 = driver.find_element(By.CSS_SELECTOR, \"div.message\")\n",
    "print(element01.text)\n",
    "\n",
    "time.sleep(1)\n",
    "\n",
    "button = driver.find_element(By.CSS_SELECTOR, \"input[type='submit']\")\n",
    "button.click()\n",
    "\n",
    "time.sleep(1)\n",
    "\n",
    "element02 = driver.find_element(By.CSS_SELECTOR, \"div.message\")\n",
    "print(element02.text)\n",
    "\n",
    "time.sleep(1)\n",
    "driver.quit()\n",
    "\n",
    "# 이렇게 해도 안 됨!!!\n",
    "# 나는 time.sleep으로 운좋게 성공하긴 했는데 나만 된듯... 컴바컴... 쌤두 안 됨...ㅎ\n",
    "# 애초에 안 되는 문제였다!"
   ]
  },
  {
   "cell_type": "markdown",
   "id": "16d263cf-72d6-4477-8b0e-7d0f3799347b",
   "metadata": {},
   "source": [
    "### 🚩 **MISSION 6-1** 📌 크롤링 대상이 **여러 페이지**일 때!\n",
    "- h4 태그의 card-text 클래스를 가진 텍스트 데이터를 5페이지까지 크롤링을 해 보자!"
   ]
  },
  {
   "cell_type": "markdown",
   "id": "dae8a94e-64ff-46d8-b6c1-5c6596ab2b13",
   "metadata": {},
   "source": [
    "- <div class=\"pagination\"> 페이지 이동하는 버튼을 pagenation이라고 함!! next 버튼 클릭 4번 클릭 -> 5페이지로 이동!\n",
    "```\n",
    "- next 버튼 클릭하게 하기\n",
    "div 태그의 pagination 클래스 > a 태그의 ml-1 mr-1 클래스\n",
    " => \"div.pagination > a.ml-1 mr-1\""
   ]
  },
  {
   "cell_type": "code",
   "execution_count": 1,
   "id": "560b52a0-c2a2-4b29-b9ad-b937e41c6ccc",
   "metadata": {},
   "outputs": [
    {
     "name": "stdout",
     "output_type": "stream",
     "text": [
      "상품명: 보몽드 순면스퀘어 솔리드 누빔매트커버, 다크블루\n",
      "상품명: 슈에뜨룸 선인장 리플 침구 세트, 베이지\n",
      "상품명: 선우랜드 레인보우 2단 문걸이용 옷걸이 _중형, 화이트, 상세페이지참조\n",
      "상품명: 보드래 헬로우 누빔 매트리스커버, 핑크\n",
      "상품명: 보드래 퍼펙트 누빔 매트리스커버, 차콜\n",
      "상품명: 피아블 클래식 방수 매트리스커버, 화이트\n",
      "상품명: 더자리 에코항균 마이크로 매트리스커버, 밀키차콜그레이\n",
      "상품명: 더자리 프레쉬 퓨어 매트리스 커버, 퓨어 차콜그레이\n",
      "상품명: 몽쉐어 알러스킨 항균 매트리스 커버, 카키그레이\n",
      "상품명: 쿠팡 브랜드 - 코멧 홈 40수 트윌 순면 100% 홑겹 매트리스커버, 그레이\n",
      "상품명: 패브릭아트 항균 마이크로 원단 매트리스 커버, 아이보리\n",
      "상품명: 바숨 순면 누빔 침대 매트리스커버, 차콜\n",
      "상품명: WEMAX 다용도 문옷걸이, 화이트, 1개\n",
      "상품명: 타카타카 프리미엄 나노 화이바 누빔 매트리스 커버, 젠틀핑핑\n",
      "상품명: 보몽드 순면스퀘어 누빔매트커버, 다크그레이\n",
      "상품명: 보드래 국내산 순면 60수 누빔 매트리스커버, 그레이\n"
     ]
    },
    {
     "ename": "NameError",
     "evalue": "name 'elements2' is not defined",
     "output_type": "error",
     "traceback": [
      "\u001b[1;31m---------------------------------------------------------------------------\u001b[0m",
      "\u001b[1;31mNameError\u001b[0m                                 Traceback (most recent call last)",
      "Cell \u001b[1;32mIn[1], line 33\u001b[0m\n\u001b[0;32m     30\u001b[0m button[\u001b[38;5;241m-\u001b[39m\u001b[38;5;241m1\u001b[39m]\u001b[38;5;241m.\u001b[39mclick()\n\u001b[0;32m     32\u001b[0m elemenst2 \u001b[38;5;241m=\u001b[39m driver\u001b[38;5;241m.\u001b[39mfind_elements(By\u001b[38;5;241m.\u001b[39mCSS_SELECTOR, \u001b[38;5;124m\"\u001b[39m\u001b[38;5;124mh4.card-text\u001b[39m\u001b[38;5;124m\"\u001b[39m)\n\u001b[1;32m---> 33\u001b[0m \u001b[38;5;28;01mfor\u001b[39;00m element2 \u001b[38;5;129;01min\u001b[39;00m elements2 :\n\u001b[0;32m     34\u001b[0m     \u001b[38;5;28mprint\u001b[39m(element2\u001b[38;5;241m.\u001b[39mtext)\n\u001b[0;32m     36\u001b[0m driver\u001b[38;5;241m.\u001b[39mexecute_script(\u001b[38;5;124m\"\u001b[39m\u001b[38;5;124mwindow.scrollTo(0, document.body.scrollHeight)\u001b[39m\u001b[38;5;124m\"\u001b[39m)\n",
      "\u001b[1;31mNameError\u001b[0m: name 'elements2' is not defined"
     ]
    }
   ],
   "source": [
    "from selenium import webdriver\n",
    "from selenium.webdriver.chrome.service import Service\n",
    "from selenium.webdriver.common.by import By\n",
    "from selenium.webdriver.common.keys import Keys\n",
    "from selenium.webdriver.chrome.options import Options\n",
    "from webdriver_manager.chrome import ChromeDriverManager\n",
    "import time\n",
    "\n",
    "service = Service(\"C:\\\\Users\\\\user\\\\Downloads\\\\chromedriver\\\\chromedriver.exe\")\n",
    "options = Options()\n",
    "options.add_argument(\"--disable-gpu\")\n",
    "options.add_argument(\"--start-maximized\")\n",
    "#options.add_argument(\"--headless\")\n",
    "options.add_argument(\"--window-size=1920x1080\")\n",
    "options.add_argument(\"--user-agent=Mozilla/5.0 (Windows NT 10.0; Win64; x64) AppleWebKit/537.36 (KHTML, like Gecko) Chrome/138.0.0.0 Safari/537.36\")\n",
    "options.add_argument(\"--lang=ko_KR\")\n",
    "\n",
    "driver = webdriver.Chrome(service=service, options=options)\n",
    "driver.get(\"https://davelee-fun.github.io/\")\n",
    "\n",
    "elements = driver.find_elements(By.CSS_SELECTOR, \"h4.card-text\")\n",
    "for element in elements :\n",
    "    print(element.text)\n",
    "\n",
    "# <div class=\"pagination\"> 페이지 이동하는 버튼을 pagenation이라고 함!! next 버튼 클릭 4번 클릭 -> 5페이지로 이동!\n",
    "\n",
    "driver.execute_script(\"window.scrollTo(0, document.body.scrollHeight)\")\n",
    "\n",
    "button = driver.find_elements(By.CSS_SELECTOR, \"div.pagination > a.ml-1.mr-1\")\n",
    "button[-1].click()\n",
    "\n",
    "elemenst2 = driver.find_elements(By.CSS_SELECTOR, \"h4.card-text\")\n",
    "for element2 in elements2 :\n",
    "    print(element2.text)\n",
    "    \n",
    "driver.execute_script(\"window.scrollTo(0, document.body.scrollHeight)\")\n",
    "\n",
    "button = driver.find_elements(By.CSS_SELECTOR, \"div.pagination > a.ml-1.mr-1\")\n",
    "button[-1].click()\n",
    "\n",
    "elemenst3 = driver.find_elements(By.CSS_SELECTOR, \"h4.card-text\")\n",
    "for element3 in elements3 :\n",
    "    print(element3.text)\n",
    "\n",
    " \n",
    "time.sleep(1)\n",
    "driver.quit()"
   ]
  },
  {
   "cell_type": "code",
   "execution_count": null,
   "id": "27df3b99-e3ec-44f6-a09e-c3424cfb8274",
   "metadata": {},
   "outputs": [],
   "source": [
    "# =======> 풀이는 내일 !!!"
   ]
  }
 ],
 "metadata": {
  "kernelspec": {
   "display_name": "Python [conda env:base] *",
   "language": "python",
   "name": "conda-base-py"
  },
  "language_info": {
   "codemirror_mode": {
    "name": "ipython",
    "version": 3
   },
   "file_extension": ".py",
   "mimetype": "text/x-python",
   "name": "python",
   "nbconvert_exporter": "python",
   "pygments_lexer": "ipython3",
   "version": "3.13.5"
  }
 },
 "nbformat": 4,
 "nbformat_minor": 5
}
