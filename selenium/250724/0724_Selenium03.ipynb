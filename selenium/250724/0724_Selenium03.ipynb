{
 "cells": [
  {
   "cell_type": "markdown",
   "id": "b29b9842-277f-4d1b-a939-916d476b4780",
   "metadata": {},
   "source": [
    "#### 미션! 1. XPATH 활용! 2. 아이디 : error@error.com 입력 3. 비밀번호 : 1234 입력 4. 로그인 버튼 클릭 5. 로그인 페이지에서 message 클래스 속성값의 텍스트를 출력하세요."
   ]
  },
  {
   "cell_type": "code",
   "execution_count": 9,
   "id": "77a96187-7095-4198-b0fd-818b554912fb",
   "metadata": {},
   "outputs": [
    {
     "name": "stdout",
     "output_type": "stream",
     "text": [
      "실제 사이트는 https://megaitlab.com/ 입니다\n",
      "본 페이지는 로그인된 페이지입니다!\n",
      "뉴스: 머신러닝 강좌가 나왔어요~~~\n"
     ]
    }
   ],
   "source": [
    "from selenium import webdriver\n",
    "from selenium.webdriver.chrome.service import Service\n",
    "from selenium.webdriver.common.by import By\n",
    "from selenium.webdriver.common.keys import Keys\n",
    "from selenium.webdriver.chrome.options import Options\n",
    "from webdriver_manager.chrome import ChromeDriverManager\n",
    "from urllib.request import urlretrieve  #url을 수집해오는 라이브러리\n",
    "import time\n",
    "import pyautogui\n",
    "\n",
    "service = Service(\"C:\\\\Users\\\\user\\\\Desktop\\\\chromedriver\\\\chromedriver.exe\")\n",
    "options = Options()\n",
    "options.add_argument(\"--disable-gpu\")\n",
    "options.add_argument(\"--start-maximized\")\n",
    "# options.add_argument(\"--headless\")\n",
    "options.add_argument(\"--window-size=1920x1080\")\n",
    "options.add_argument(\"--user-agent=Mozilla/5.0 (Windows NT 10.0; Win64; x64) AppleWebKit/537.36 (KHTML, like Gecko) Chrome/138.0.0.0 Safari/537.36\")\n",
    "options.add_argument(\"--lang=ko_KR\")\n",
    "\n",
    "driver = webdriver.Chrome(service=service, options= options)\n",
    "driver.get(\"https://divjason.github.io/sellenium-test/\")\n",
    "\n",
    "element = driver.find_element(By.XPATH, \"//input[@id='username']\")\n",
    "element.clear()\n",
    "element.send_keys(\"error@error.com\")\n",
    "\n",
    "element = driver.find_element(By.XPATH, \"//input[@id='password']\")\n",
    "element.clear()\n",
    "element.send_keys(\"1234\")\n",
    "\n",
    "element = driver.find_element(By.XPATH, \"//input[@type='submit']\")\n",
    "element.click()\n",
    "\n",
    "time.sleep(3)\n",
    "\n",
    "element = driver.find_element(By.XPATH, \"//div[@class = 'message']\")\n",
    "print(element.text)\n",
    "\n",
    "driver.quit()"
   ]
  },
  {
   "cell_type": "markdown",
   "id": "82d05948-ac01-48ea-b101-089ac0284e80",
   "metadata": {},
   "source": [
    "#### 미션!! 사이트에서 로그아웃 버튼을 클릭하고 로그인 페이지에서의 message 속성값을 출력하세요."
   ]
  },
  {
   "cell_type": "code",
   "execution_count": 13,
   "id": "65561dc8-0e0a-4f5c-b386-4cb5d2fcf136",
   "metadata": {},
   "outputs": [
    {
     "name": "stdout",
     "output_type": "stream",
     "text": [
      "실제 사이트는 https://megaitlab.com/ 입니다\n",
      "뉴스: 머신러닝 강좌가 나왔어요~~~\n"
     ]
    }
   ],
   "source": [
    "from selenium import webdriver\n",
    "from selenium.webdriver.chrome.service import Service\n",
    "from selenium.webdriver.common.by import By\n",
    "from selenium.webdriver.common.keys import Keys\n",
    "from selenium.webdriver.chrome.options import Options\n",
    "from webdriver_manager.chrome import ChromeDriverManager\n",
    "from urllib.request import urlretrieve  #url을 수집해오는 라이브러리\n",
    "import time\n",
    "import pyautogui\n",
    "\n",
    "service = Service(\"C:\\\\Users\\\\user\\\\Desktop\\\\chromedriver\\\\chromedriver.exe\")\n",
    "options = Options()\n",
    "options.add_argument(\"--disable-gpu\")\n",
    "options.add_argument(\"--start-maximized\")\n",
    "# options.add_argument(\"--headless\")\n",
    "options.add_argument(\"--window-size=1920x1080\")\n",
    "options.add_argument(\"--user-agent=Mozilla/5.0 (Windows NT 10.0; Win64; x64) AppleWebKit/537.36 (KHTML, like Gecko) Chrome/138.0.0.0 Safari/537.36\")\n",
    "options.add_argument(\"--lang=ko_KR\")\n",
    "\n",
    "driver = webdriver.Chrome(service=service, options= options)\n",
    "driver.get(\"https://divjason.github.io/sellenium-test/index_login.html\")  # 로그인하기 전후의 사이트 url이 다름\n",
    "\n",
    "element = driver.find_element(By.XPATH, \"//input[@type='submit']\")\n",
    "                          \n",
    "element.click()\n",
    "\n",
    "time.sleep(3)\n",
    "\n",
    "element = driver.find_element(By.XPATH, \"//div[@class = 'message']\")\n",
    "print(element.text)\n",
    "\n",
    "driver.quit()"
   ]
  }
 ],
 "metadata": {
  "kernelspec": {
   "display_name": "Python 3 (ipykernel)",
   "language": "python",
   "name": "python3"
  },
  "language_info": {
   "codemirror_mode": {
    "name": "ipython",
    "version": 3
   },
   "file_extension": ".py",
   "mimetype": "text/x-python",
   "name": "python",
   "nbconvert_exporter": "python",
   "pygments_lexer": "ipython3",
   "version": "3.13.5"
  }
 },
 "nbformat": 4,
 "nbformat_minor": 5
}
