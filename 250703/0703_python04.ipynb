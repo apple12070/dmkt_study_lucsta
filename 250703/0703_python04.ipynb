{
 "cells": [
  {
   "cell_type": "markdown",
   "id": "4979303d-1573-47f8-bbbe-956170069536",
   "metadata": {},
   "source": [
    "#### 자료구조 형태\n",
    "- 숫자, 문자, 불리언\n",
    "- 리스트 (list)\n",
    "- 튜플 (Tuple)\n",
    "  - 리스트와 달리 튜플은 소괄호 형태를 띄고 있음\n",
    "  - 튜플은 최초 생성 후 값을 삭제,추가할 수 없음\n",
    "  - 단, 튜플 간 병합기능 혹은 튜플 자체의 복제 등은 가능함\n",
    "  - 튜플은 리스트처럼 이터러블한 객체 속성을 가지고 있음 => 반복문을 사용할 수 있음 && 튜플 내부 아이템들은 각각 저마다의 고유한 인덱스값을 가지고 있다는 의미이기도 함!\n",
    "  - 함수의 반환값으로 찾아온 값을 활용해서 일반 변수안에 값을 넣을 때, 구조분해할당의 형식으로 값을 전달할 수 있음!!\n",
    "  - 튜플을 수정,편집,삭제를 하고 싶다면 => 리스트로 바꿔주세요! => list(튜플자료형) => 리스트가 됨!!!"
   ]
  },
  {
   "cell_type": "code",
   "execution_count": 1,
   "id": "81305480-63ac-42b0-9ece-10a20cf7584f",
   "metadata": {},
   "outputs": [
    {
     "name": "stdout",
     "output_type": "stream",
     "text": [
      "<class 'list'>\n",
      "<class 'tuple'>\n"
     ]
    }
   ],
   "source": [
    "listItems = []\n",
    "tupleItems = ()\n",
    "\n",
    "print(type(listItems))\n",
    "print(type(tupleItems))"
   ]
  },
  {
   "cell_type": "code",
   "execution_count": 3,
   "id": "1ccd8c07-413c-46b8-9c16-67412831ddba",
   "metadata": {},
   "outputs": [
    {
     "name": "stdout",
     "output_type": "stream",
     "text": [
      "<class 'list'>\n",
      "<class 'tuple'>\n"
     ]
    }
   ],
   "source": [
    "listItems = []\n",
    "tupleItems = (1,2,3)\n",
    "\n",
    "print(type(listItems))\n",
    "print(type(tupleItems))"
   ]
  },
  {
   "cell_type": "code",
   "execution_count": 4,
   "id": "c268381d-49ea-46be-9c0d-27700cf82e1e",
   "metadata": {},
   "outputs": [
    {
     "name": "stdout",
     "output_type": "stream",
     "text": [
      "1\n",
      "2\n",
      "3\n"
     ]
    }
   ],
   "source": [
    "for item in tupleItems :\n",
    "    print(item)"
   ]
  },
  {
   "cell_type": "code",
   "execution_count": 7,
   "id": "1103a97f-f703-45c9-a4fe-3e3de3f00d80",
   "metadata": {},
   "outputs": [
    {
     "ename": "TypeError",
     "evalue": "'tuple' object doesn't support item deletion",
     "output_type": "error",
     "traceback": [
      "\u001b[1;31m---------------------------------------------------------------------------\u001b[0m",
      "\u001b[1;31mTypeError\u001b[0m                                 Traceback (most recent call last)",
      "Cell \u001b[1;32mIn[7], line 1\u001b[0m\n\u001b[1;32m----> 1\u001b[0m \u001b[38;5;28;01mdel\u001b[39;00m tupleItems[\u001b[38;5;241m1\u001b[39m]   \u001b[38;5;66;03m#tuple 값 삭제 불가\u001b[39;00m\n\u001b[0;32m      2\u001b[0m tupleItems\u001b[38;5;241m.\u001b[39mappend(\u001b[38;5;241m4\u001b[39m)\n",
      "\u001b[1;31mTypeError\u001b[0m: 'tuple' object doesn't support item deletion"
     ]
    }
   ],
   "source": [
    "del tupleItems[1]   #tuple 값 삭제 불가(deliete)\n",
    "tupleItems.append(4)  #tuple 값 추가 불가(appendix)\n",
    "tupleItems[4] = 4 #tuple 값 할당 불가(assignment)"
   ]
  },
  {
   "cell_type": "code",
   "execution_count": 9,
   "id": "8f189c21-43de-4c85-99f1-cb93b02286f8",
   "metadata": {},
   "outputs": [
    {
     "name": "stdout",
     "output_type": "stream",
     "text": [
      "(1, 2, 3, 4)\n",
      "(1, 2, 1, 2, 1, 2)\n"
     ]
    }
   ],
   "source": [
    "tuple01 = (1,2)\n",
    "tuple02 = (3,4)\n",
    "\n",
    "print(tuple01 + tuple02)\n",
    "print(tuple01*3)"
   ]
  },
  {
   "cell_type": "code",
   "execution_count": 27,
   "id": "51b13491-4575-4658-9bed-a55d6790fb07",
   "metadata": {},
   "outputs": [],
   "source": [
    "x = 1\n",
    "y = 2"
   ]
  },
  {
   "cell_type": "code",
   "execution_count": 15,
   "id": "eecd40f7-00d9-4fd6-8297-9ffe0c1e6800",
   "metadata": {},
   "outputs": [],
   "source": [
    "# temp = x\n",
    "# x = y\n",
    "# y = temp"
   ]
  },
  {
   "cell_type": "code",
   "execution_count": 30,
   "id": "c151591d-7474-4abf-8a3c-f776de50b181",
   "metadata": {},
   "outputs": [],
   "source": [
    "(x, y) = (y, x)   #tuple은 인자값의 exchange가 가능"
   ]
  },
  {
   "cell_type": "code",
   "execution_count": 31,
   "id": "4398aea2-4912-4536-b59d-96d71be99828",
   "metadata": {},
   "outputs": [
    {
     "data": {
      "text/plain": [
       "1"
      ]
     },
     "execution_count": 31,
     "metadata": {},
     "output_type": "execute_result"
    }
   ],
   "source": [
    "x"
   ]
  },
  {
   "cell_type": "code",
   "execution_count": 33,
   "id": "2dbb3392-487f-47b3-af08-968296ba5b6e",
   "metadata": {},
   "outputs": [],
   "source": [
    "def quot_and_rem(x,y) :\n",
    "    quot = x // y\n",
    "    rem = x % y\n",
    "    return quot, rem"
   ]
  },
  {
   "cell_type": "code",
   "execution_count": 38,
   "id": "bfe9ccf7-c685-465e-b0ce-b6a5b39a8c38",
   "metadata": {},
   "outputs": [
    {
     "name": "stdout",
     "output_type": "stream",
     "text": [
      "(3, 1)\n"
     ]
    },
    {
     "data": {
      "text/plain": [
       "tuple"
      ]
     },
     "execution_count": 38,
     "metadata": {},
     "output_type": "execute_result"
    }
   ],
   "source": [
    "result = quot_and_rem(10,3)\n",
    "print(result)\n",
    "type(result)"
   ]
  },
  {
   "cell_type": "code",
   "execution_count": 39,
   "id": "356860d3-c088-4b34-a1ee-ad00f8c6101d",
   "metadata": {},
   "outputs": [],
   "source": [
    "(quot01, rem01) = quot_and_rem(10,3)"
   ]
  },
  {
   "cell_type": "code",
   "execution_count": 42,
   "id": "449543c2-44d2-42d5-8ace-fbdc16c71853",
   "metadata": {},
   "outputs": [
    {
     "name": "stdout",
     "output_type": "stream",
     "text": [
      "3\n"
     ]
    },
    {
     "data": {
      "text/plain": [
       "int"
      ]
     },
     "execution_count": 42,
     "metadata": {},
     "output_type": "execute_result"
    }
   ],
   "source": [
    "print(quot01)\n",
    "type(quot01)"
   ]
  },
  {
   "cell_type": "code",
   "execution_count": 43,
   "id": "e86b0c0e-c553-4010-80cf-08eb1a8f0543",
   "metadata": {},
   "outputs": [
    {
     "name": "stdout",
     "output_type": "stream",
     "text": [
      "1\n"
     ]
    },
    {
     "data": {
      "text/plain": [
       "int"
      ]
     },
     "execution_count": 43,
     "metadata": {},
     "output_type": "execute_result"
    }
   ],
   "source": [
    "print(rem01)\n",
    "type(rem01)"
   ]
  },
  {
   "cell_type": "code",
   "execution_count": 44,
   "id": "4ae87408-611e-4495-9e26-16959052e8f2",
   "metadata": {},
   "outputs": [
    {
     "data": {
      "text/plain": [
       "tuple"
      ]
     },
     "execution_count": 44,
     "metadata": {},
     "output_type": "execute_result"
    }
   ],
   "source": [
    "data1 = (1,2,3)\n",
    "type(data1)"
   ]
  },
  {
   "cell_type": "code",
   "execution_count": 45,
   "id": "01bafdf4-dfd8-4e1b-afcb-d2129cd7a183",
   "metadata": {},
   "outputs": [
    {
     "data": {
      "text/plain": [
       "[1, 2, 3]"
      ]
     },
     "execution_count": 45,
     "metadata": {},
     "output_type": "execute_result"
    }
   ],
   "source": [
    "list(data1)"
   ]
  },
  {
   "cell_type": "code",
   "execution_count": 47,
   "id": "e02e8d7a-4da0-4304-9f35-5556b6b54287",
   "metadata": {},
   "outputs": [
    {
     "data": {
      "text/plain": [
       "list"
      ]
     },
     "execution_count": 47,
     "metadata": {},
     "output_type": "execute_result"
    }
   ],
   "source": [
    "type(list(data1))"
   ]
  },
  {
   "cell_type": "code",
   "execution_count": null,
   "id": "6c0f8746-4b9a-491a-9d55-45e0ac08524e",
   "metadata": {},
   "outputs": [],
   "source": []
  }
 ],
 "metadata": {
  "kernelspec": {
   "display_name": "Python 3 (ipykernel)",
   "language": "python",
   "name": "python3"
  },
  "language_info": {
   "codemirror_mode": {
    "name": "ipython",
    "version": 3
   },
   "file_extension": ".py",
   "mimetype": "text/x-python",
   "name": "python",
   "nbconvert_exporter": "python",
   "pygments_lexer": "ipython3",
   "version": "3.13.5"
  }
 },
 "nbformat": 4,
 "nbformat_minor": 5
}
