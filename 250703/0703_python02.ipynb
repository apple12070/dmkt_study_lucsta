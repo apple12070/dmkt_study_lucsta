{
 "cells": [
  {
   "cell_type": "markdown",
   "id": "20832656-1c6a-4437-b057-ca714b00a9c5",
   "metadata": {},
   "source": [
    "### 반복문\n",
    "\n",
    "```\n",
    "for 변수 in (리스트 || 문자열 => 이터러블한 객체속성을 가지고 있는 자료구조) (|| = or  && = and) :\n",
    "    실행문\n",
    "\n",
    "while은 조건이 존재\n",
    "    실행문 -> 조건이 참일 경우에 실행된다.\n",
    "```"
   ]
  },
  {
   "cell_type": "code",
   "execution_count": 2,
   "id": "399d35d9-7a87-4a27-9221-ea523be895fd",
   "metadata": {},
   "outputs": [
    {
     "name": "stdout",
     "output_type": "stream",
     "text": [
      "python\n",
      "TS\n",
      "Node\n",
      "python\n",
      "TS\n",
      "Node\n"
     ]
    }
   ],
   "source": [
    "lan = [\"python\",\"TS\",\"Node\"]\n",
    "for item in lan :\n",
    "    print(item)\n",
    "    \n",
    "# for item in [\"python\",\"TS\",\"Node\"] :\n",
    "#    print(item)\n",
    "    \n",
    "# 반복 순회해서 출력했다."
   ]
  },
  {
   "cell_type": "code",
   "execution_count": 4,
   "id": "3d168df0-d196-4070-861c-fcbc4a661320",
   "metadata": {},
   "outputs": [
    {
     "name": "stdout",
     "output_type": "stream",
     "text": [
      "1\n",
      "2\n",
      "3\n",
      "4\n",
      "5\n",
      "6\n",
      "7\n",
      "8\n",
      "9\n",
      "10\n"
     ]
    }
   ],
   "source": [
    "for num in [1,2,3,4,5,6,7,8,9,10] :\n",
    "    print(num)"
   ]
  },
  {
   "cell_type": "code",
   "execution_count": 30,
   "id": "27e2468b-8f65-4b2a-a523-c02ce6938bc6",
   "metadata": {},
   "outputs": [
    {
     "name": "stdout",
     "output_type": "stream",
     "text": [
      "0\n",
      "1\n",
      "2\n",
      "3\n",
      "4\n",
      "5\n",
      "6\n",
      "7\n",
      "8\n",
      "9\n"
     ]
    }
   ],
   "source": [
    "for num in range(10) : \n",
    "    print(num)"
   ]
  },
  {
   "cell_type": "markdown",
   "id": "bd216ea8-bf87-4dc0-b7bc-bc3a5c74485a",
   "metadata": {},
   "source": [
    "- range() 함수 사용법\n",
    "- range(시작값(start),끝값(stop),단계값(step))\n",
    "- start : 순서의 시작을 나타내는 숫자. 이 숫자는 포함되지 않으며, 기본값은 0\n",
    "- stop : 순서의 끝을 나타내는 숫자. 이 숫자는 포함되지 않음.(-1 숫자까지 포함됨)\n",
    "- step : 숫자 사이의 간격을 나타내는 숫자. 기본값은 1\n",
    "- range()함수는 start에서 시작하여 stop 전까지 step 간격으로 숫자를 생성. 이 생성된 숫자들은 기본적으로 정수로 표현되며, 리스트와 유사한 시퀀스 객체인 'range 객체'를 반환한다. "
   ]
  },
  {
   "cell_type": "code",
   "execution_count": 32,
   "id": "b618caf8-5b5f-4dfb-ad15-c5549b99330b",
   "metadata": {},
   "outputs": [
    {
     "name": "stdout",
     "output_type": "stream",
     "text": [
      "1\n",
      "3\n",
      "5\n",
      "7\n",
      "9\n"
     ]
    }
   ],
   "source": [
    "for i in range(1,11,2) :\n",
    "    print(i)"
   ]
  },
  {
   "cell_type": "code",
   "execution_count": 33,
   "id": "d2bd656e-ec15-4649-a894-1b6bf6122f9b",
   "metadata": {},
   "outputs": [
    {
     "name": "stdout",
     "output_type": "stream",
     "text": [
      "[1, 2, 3, 4, 5, 6, 7, 8, 9, 10]\n"
     ]
    }
   ],
   "source": [
    "numbers = list(range(1,11))\n",
    "\n",
    "print(numbers)"
   ]
  },
  {
   "cell_type": "code",
   "execution_count": 15,
   "id": "d0341b06-e719-46a4-acf0-065adaa5ba2b",
   "metadata": {},
   "outputs": [
    {
     "name": "stdout",
     "output_type": "stream",
     "text": [
      "0\n",
      "2\n",
      "4\n",
      "6\n",
      "8\n"
     ]
    }
   ],
   "source": [
    "for num in range(5) :\n",
    "    print(num * 2)"
   ]
  },
  {
   "cell_type": "code",
   "execution_count": 16,
   "id": "ef1af2a6-7f57-4da7-b00e-933c5ee6e95a",
   "metadata": {},
   "outputs": [
    {
     "name": "stdout",
     "output_type": "stream",
     "text": [
      "1\n",
      "2\n",
      "3\n",
      "4\n",
      "5\n",
      "6\n",
      "7\n",
      "8\n",
      "9\n",
      "10\n"
     ]
    }
   ],
   "source": [
    "for num in range(1,11) :\n",
    "    print(num)"
   ]
  },
  {
   "cell_type": "code",
   "execution_count": 19,
   "id": "7a6160f1-05b3-42b8-815c-66612394659e",
   "metadata": {},
   "outputs": [
    {
     "name": "stdin",
     "output_type": "stream",
     "text": [
      "최애 음식은? 햄버거\n",
      "최애 음식은? 피자\n",
      "최애 음식은? 짜장면\n"
     ]
    }
   ],
   "source": [
    "for num in range(1,4) :\n",
    "    input(\"최애 음식은?\")"
   ]
  },
  {
   "cell_type": "code",
   "execution_count": 21,
   "id": "7ec6df00-f7bd-40e3-b87b-70a174321f50",
   "metadata": {},
   "outputs": [
    {
     "name": "stdin",
     "output_type": "stream",
     "text": [
      "최애 음식은? 햄버거\n",
      "최애 음식은? 피자\n",
      "최애 음식은? 짜장면\n"
     ]
    }
   ],
   "source": [
    "# for in문에서는 num이라는 변수값이 굳이 필요가 없음.\n",
    "\n",
    "for _ in range(1,4) :\n",
    "    input(\"최애 음식은?\")"
   ]
  },
  {
   "cell_type": "code",
   "execution_count": 23,
   "id": "f058edd1-032d-4c00-b6a2-7ad57d6b36a6",
   "metadata": {},
   "outputs": [
    {
     "data": {
      "text/plain": [
       "range(0, 3)"
      ]
     },
     "execution_count": 23,
     "metadata": {},
     "output_type": "execute_result"
    }
   ],
   "source": [
    "range(3)\n",
    "\n",
    "# 0에서 시작해서 3 이전까지의 값을 찾아와라."
   ]
  },
  {
   "cell_type": "code",
   "execution_count": 25,
   "id": "7febe11e-7219-4094-b570-e51cf801d49e",
   "metadata": {},
   "outputs": [
    {
     "data": {
      "text/plain": [
       "range(0, 3)"
      ]
     },
     "execution_count": 25,
     "metadata": {},
     "output_type": "execute_result"
    }
   ],
   "source": [
    "range(0,3)\n",
    "\n",
    "# range(0,3) = [1,2,3]을 의미 / range라는 함수가 [1,2,3]의 값을 반환했다."
   ]
  },
  {
   "cell_type": "code",
   "execution_count": 26,
   "id": "cad40089-7914-4b35-9722-f2abcc335b16",
   "metadata": {},
   "outputs": [
    {
     "name": "stdout",
     "output_type": "stream",
     "text": [
      "list1\n",
      "list2\n",
      "list3\n"
     ]
    }
   ],
   "source": [
    "data_list = [\"list1\",\"list2\",\"list3\"]\n",
    "\n",
    "print(data_list[0])\n",
    "print(data_list[1])\n",
    "print(data_list[2])"
   ]
  },
  {
   "cell_type": "code",
   "execution_count": 29,
   "id": "7eca32e4-63d8-4f3c-9680-f3fae762e394",
   "metadata": {},
   "outputs": [
    {
     "name": "stdout",
     "output_type": "stream",
     "text": [
      "list1\n",
      "list2\n",
      "list3\n"
     ]
    }
   ],
   "source": [
    "data_list = [\"list1\",\"list2\",\"list3\"]\n",
    "\n",
    "for index in data_list :\n",
    "    print(index)"
   ]
  },
  {
   "cell_type": "code",
   "execution_count": 36,
   "id": "4812e660-ac03-4e48-b06f-f004370ee320",
   "metadata": {},
   "outputs": [
    {
     "name": "stdout",
     "output_type": "stream",
     "text": [
      "1\n",
      "2\n",
      "3\n",
      "4\n",
      "5\n",
      "6\n",
      "7\n",
      "8\n",
      "9\n",
      "10\n"
     ]
    },
    {
     "data": {
      "text/plain": [
       "11"
      ]
     },
     "execution_count": 36,
     "metadata": {},
     "output_type": "execute_result"
    }
   ],
   "source": [
    "for index in range(1,11) :\n",
    "    print(index)\n",
    "\n",
    "result = index + 1\n",
    "result"
   ]
  },
  {
   "cell_type": "code",
   "execution_count": 40,
   "id": "6261f4ea-6213-4844-902e-03948faadaea",
   "metadata": {},
   "outputs": [
    {
     "name": "stdout",
     "output_type": "stream",
     "text": [
      "55\n"
     ]
    }
   ],
   "source": [
    "sum = 0 # 전역변수 = 프로그램 전체에서 접근 가능한 변수\n",
    "\n",
    "for index in range(1,11) :\n",
    "    sum = sum + index\n",
    "\n",
    "\n",
    "print(sum)"
   ]
  },
  {
   "cell_type": "code",
   "execution_count": 43,
   "id": "4035c57f-24d9-44dd-ae58-49cf62279386",
   "metadata": {},
   "outputs": [
    {
     "data": {
      "text/plain": [
       "-55"
      ]
     },
     "execution_count": 43,
     "metadata": {},
     "output_type": "execute_result"
    }
   ],
   "source": [
    "sum = 0\n",
    "\n",
    "for index in range(1,11) :\n",
    "    # sum = sum + index\n",
    "    # 복합대입연산자\n",
    "    sum += index  #sum을 +하면 index\n",
    "    sum -= index  #sum을 -하면 index\n",
    "\n",
    "sum"
   ]
  },
  {
   "cell_type": "code",
   "execution_count": 70,
   "id": "85dd4052-98c7-4ba9-957e-f1c625ed67fd",
   "metadata": {},
   "outputs": [
    {
     "ename": "SyntaxError",
     "evalue": "invalid syntax (291923434.py, line 1)",
     "output_type": "error",
     "traceback": [
      "\u001b[1;36m  Cell \u001b[1;32mIn[70], line 1\u001b[1;36m\u001b[0m\n\u001b[1;33m    1 :            #truthy한 값으로 인식 -> while문은 무한출력의 늪에 빠짐. 컨트롤 위해서는 기저조건 필요.\u001b[0m\n\u001b[1;37m      ^\u001b[0m\n\u001b[1;31mSyntaxError\u001b[0m\u001b[1;31m:\u001b[0m invalid syntax\n"
     ]
    }
   ],
   "source": [
    "while 1 :            #truthy한 값으로 인식 -> while문은 무한출력의 늪에 빠짐. 컨트롤 위해서는 기저조건 필요.\n",
    "    print(\"Hello World\")       \n",
    "    "
   ]
  },
  {
   "cell_type": "code",
   "execution_count": 47,
   "id": "70317657-ec2e-41a7-8d06-8fcfec003470",
   "metadata": {},
   "outputs": [
    {
     "name": "stdin",
     "output_type": "stream",
     "text": [
      "What is your name? stacy\n"
     ]
    },
    {
     "name": "stdout",
     "output_type": "stream",
     "text": [
      "Hi~ stacy!! 'Where is foo?'\n"
     ]
    },
    {
     "name": "stdin",
     "output_type": "stream",
     "text": [
      "What is your name? Jung\n"
     ]
    },
    {
     "name": "stdout",
     "output_type": "stream",
     "text": [
      "Hi~ Jung!! 'Where is foo?'\n"
     ]
    },
    {
     "name": "stdin",
     "output_type": "stream",
     "text": [
      "What is your name? foo\n"
     ]
    },
    {
     "name": "stdout",
     "output_type": "stream",
     "text": [
      "Hi~ foo!! 'Where is foo?'\n"
     ]
    }
   ],
   "source": [
    "name = \"\"\n",
    "\n",
    "while name != \"foo\" :\n",
    "    name = input(\"What is your name?\")\n",
    "    print(f\"Hi~ {name}!! 'Where is foo?'\")"
   ]
  },
  {
   "cell_type": "markdown",
   "id": "d46924c7-2384-49c1-8f63-75ee89d02ad6",
   "metadata": {},
   "source": [
    "### 1~10까지의 숫자에 대해 모두 더한 값을 출력하는 프로그램을 for문을 활용해서 작성해주세요."
   ]
  },
  {
   "cell_type": "code",
   "execution_count": 51,
   "id": "28c2990c-4bdd-436b-a416-299c7d9edb56",
   "metadata": {},
   "outputs": [
    {
     "name": "stdout",
     "output_type": "stream",
     "text": [
      "55\n"
     ]
    }
   ],
   "source": [
    "sum = 0\n",
    "\n",
    "for _ in range(1,11) :\n",
    "    sum = sum + _\n",
    "print(sum)"
   ]
  },
  {
   "cell_type": "markdown",
   "id": "8eb20f7b-e634-45d1-b416-be6f4ea3123e",
   "metadata": {},
   "source": [
    "### 사용자로부터 2~9 사이의 숫자를 입력받은 후 해당 숫자에 대한 구구단을 출력해주세요!"
   ]
  },
  {
   "cell_type": "code",
   "execution_count": 60,
   "id": "94071544-93ec-4f0a-b3d2-41d131e6834c",
   "metadata": {},
   "outputs": [],
   "source": [
    "# 1. 사용자에게 값을 받는다.\n",
    "# 2. 사용자에게 받은 값을 변수에 넣고, 해당 변수의 값을 가지고 반복적으로 1~9까지 곱해준다.\n",
    "# 3. 1~9까지 반복적으로 곱해주기 위해서 반복문을 사용한다.\n",
    "# 4. 반복문을 사용하기 위해서 range(1,10) 함수 및 인자값을 사용한다."
   ]
  },
  {
   "cell_type": "code",
   "execution_count": 67,
   "id": "3610bc31-5c1d-4734-9f87-03d36a865c61",
   "metadata": {},
   "outputs": [
    {
     "name": "stdin",
     "output_type": "stream",
     "text": [
      "구구단을 위한 숫자를 입력해주세요! 6\n"
     ]
    },
    {
     "name": "stdout",
     "output_type": "stream",
     "text": [
      "6 x 1 = 6\n",
      "6 x 2 = 12\n",
      "6 x 3 = 18\n",
      "6 x 4 = 24\n",
      "6 x 5 = 30\n",
      "6 x 6 = 36\n",
      "6 x 7 = 42\n",
      "6 x 8 = 48\n",
      "6 x 9 = 54\n"
     ]
    }
   ],
   "source": [
    "data = int(input(\"구구단을 위한 숫자를 입력해주세요!\"))\n",
    "\n",
    "\n",
    "if data >=2 and data <=9 :\n",
    "    for digit in range(1,10) :\n",
    "        print(f\"{data} x {digit} = {data * digit}\")\n",
    "else :\n",
    "    print(\"2~9사이의 숫자만 입력해주세요!\")"
   ]
  },
  {
   "cell_type": "markdown",
   "id": "99b1aaf1-4dd4-4f23-949c-022371d8884d",
   "metadata": {},
   "source": [
    "### name = \"[Dave],[David],[Andy],[Juliet]\"\n",
    "- 위 name이라는 변수 안에 담긴 값을 다음처럼 화면에 출력해주세요.\n",
    "``` \n",
    "  Dave\n",
    "  David\n",
    "  Andy\n",
    "  Juliet\n",
    "```"
   ]
  },
  {
   "cell_type": "code",
   "execution_count": 82,
   "id": "e3ecadc4-83ae-4f96-b64a-1c5e9c687a2b",
   "metadata": {},
   "outputs": [
    {
     "name": "stdout",
     "output_type": "stream",
     "text": [
      "Dave\n",
      "David\n",
      "Andy\n",
      "Juliet\n"
     ]
    }
   ],
   "source": [
    "name = \"[Dave],[David],[Andy],[Juliet]\"\n",
    "\n",
    "name01 = name.split(\",\")\n",
    "\n",
    "for str_name in name01 :\n",
    "    print(str_name[1:-1])"
   ]
  },
  {
   "cell_type": "markdown",
   "id": "e8d94e32-f906-4e76-9064-2210fd28a50b",
   "metadata": {},
   "source": [
    "### 1부터 30까지의 숫자 중 3의 배수만 출력해주세요!! (*while문을 활용해서 값을 도출하세요.)"
   ]
  },
  {
   "cell_type": "code",
   "execution_count": 83,
   "id": "5ab2a86e-c6ee-4106-8d3f-582a000651ba",
   "metadata": {},
   "outputs": [
    {
     "name": "stdout",
     "output_type": "stream",
     "text": [
      "3\n",
      "6\n",
      "9\n",
      "12\n",
      "15\n",
      "18\n",
      "21\n",
      "24\n",
      "27\n",
      "30\n"
     ]
    }
   ],
   "source": [
    "# 1부터 30까지의 숫자를 반복문을 활용해서 생성 및 찾아오기\n",
    "# 생성 및 찾아온 숫자 중에서 3의 배수를 찾는다 => 3으로 나누었을 때, 나머지의 값이 0 => %\n",
    "\n",
    "num = 0\n",
    "\n",
    "while num <= 30 :\n",
    "    num += 1\n",
    "    if num % 3 == 0 :\n",
    "        print(num)"
   ]
  },
  {
   "cell_type": "markdown",
   "id": "53808d42-f031-453c-8e5d-9600928bceb5",
   "metadata": {},
   "source": [
    "### 1부터 30까지의 숫자 중 3의 배수만 출력해주세요! ( *for문을 활용해서 값을 도출하세요)"
   ]
  },
  {
   "cell_type": "code",
   "execution_count": 85,
   "id": "39d5ae76-9647-435d-8525-0438c0608150",
   "metadata": {},
   "outputs": [
    {
     "name": "stdout",
     "output_type": "stream",
     "text": [
      "3\n",
      "6\n",
      "9\n",
      "12\n",
      "15\n",
      "18\n",
      "21\n",
      "24\n",
      "27\n",
      "30\n"
     ]
    }
   ],
   "source": [
    "for data in range(1, 31) :\n",
    "    if data % 3 == 0 :\n",
    "        print(data)"
   ]
  },
  {
   "cell_type": "markdown",
   "id": "4a30109c-7d72-48da-86a5-0c9c0fed1c9f",
   "metadata": {},
   "source": [
    "### 다음 리스트 자료구조에서 음수값은 삭제하고, 양수값만 가지고 있는 새로운 리스트 변수로 만들어서 출력해주세요.\n",
    "- num_list = [0, -11, 31, 22, -11, 33, -44, -55]"
   ]
  },
  {
   "cell_type": "markdown",
   "id": "7ba04253-3d13-4375-8be9-193034fa6042",
   "metadata": {},
   "source": [
    "- num_list 변수값 지정하기\n",
    "- 생성한 변수에서 음수값 찾고 삭제 지정하기\n",
    "- 생성한 변수에서 양수값 찾기\n",
    "- 남아있는 양수값으로 새로운 리스트 변수 만들기"
   ]
  },
  {
   "cell_type": "code",
   "execution_count": 91,
   "id": "260bcc67-cfe3-43ab-a7c9-c1b8a77e50bf",
   "metadata": {},
   "outputs": [
    {
     "data": {
      "text/plain": [
       "[0, 31, 22, 33]"
      ]
     },
     "execution_count": 91,
     "metadata": {},
     "output_type": "execute_result"
    }
   ],
   "source": [
    "num_list = [0, -11, 31, 22, -11, 33, -44, -55]\n",
    "new_list = list()\n",
    "\n",
    "for num in num_list :\n",
    "    if num >= 0 :\n",
    "        new_list.append(num)\n",
    "new_list          "
   ]
  },
  {
   "cell_type": "markdown",
   "id": "7575f15c-613d-43bc-a5f4-498324ce414d",
   "metadata": {},
   "source": [
    "### 아래 리스트에 있는 데이터들의 길이를 출력해주세요. (*단, 1줄에 1개씩 구분해서 출력)\n",
    "- list_data = [\"Java\",\"C++\",\"Python\",\"Node\"]\n",
    "```\n",
    "4\n",
    "3\n",
    "6\n",
    "4\n",
    "```"
   ]
  },
  {
   "cell_type": "code",
   "execution_count": 97,
   "id": "9ee9358f-2d88-4b60-b69c-4a5a9c87efe9",
   "metadata": {},
   "outputs": [
    {
     "name": "stdout",
     "output_type": "stream",
     "text": [
      "4\n",
      "3\n",
      "6\n",
      "4\n"
     ]
    }
   ],
   "source": [
    "list_data = [\"Java\",\"C++\",\"Python\",\"Node\"]\n",
    "\n",
    "for data in list_data :\n",
    "    print(len(data))"
   ]
  },
  {
   "cell_type": "markdown",
   "id": "323048b5-9a06-4864-af24-87d8e0a2077b",
   "metadata": {},
   "source": [
    "filelist = [\"exercise01.docx\",\"exercise02.docx\",\"exercise03.docx\",\"exercise04.docx\"]\n",
    "```\n",
    "exercise01\n",
    "exercise02\n",
    "exercise03\n",
    "exercise04\n",
    "```"
   ]
  },
  {
   "cell_type": "code",
   "execution_count": 111,
   "id": "77aa7faf-b318-4fd8-89b1-b982c12e2e78",
   "metadata": {},
   "outputs": [
    {
     "name": "stdout",
     "output_type": "stream",
     "text": [
      "exercise01\n",
      "exercise02\n",
      "exercise03\n",
      "exercise04\n"
     ]
    }
   ],
   "source": [
    "filelist = [\"exercise01.docx\",\"exercise02.docx\",\"exercise03.docx\",\"exercise04.docx\"]\n",
    "\n",
    "for file in filelist :\n",
    "    print(file.split(\".\")[0])"
   ]
  },
  {
   "cell_type": "markdown",
   "id": "8cd336d1-ee13-4561-a2af-56665dd1fb5b",
   "metadata": {},
   "source": [
    "### filelist = [\"exercise01.docx\",\"exercise02.csv\",\"exercise03.txt\",\"exercise04.hwp\"]\n",
    "- 확장자가 \"txt\"인 값만 출력 !!!!\n",
    "```\n",
    "exercise03.txt\n",
    "```"
   ]
  },
  {
   "cell_type": "code",
   "execution_count": 112,
   "id": "f12b0753-c603-4d3d-a1d8-7c5912aefd90",
   "metadata": {},
   "outputs": [
    {
     "name": "stdout",
     "output_type": "stream",
     "text": [
      "exercise03.txt\n"
     ]
    }
   ],
   "source": [
    "filelist = [\"exercise01.docx\",\"exercise02.csv\",\"exercise03.txt\",\"exercise04.hwp\"]\n",
    "\n",
    "for filename in filelist :\n",
    "    if filename.split(\".\")[1] == \"txt\" :\n",
    "        print(filename)"
   ]
  },
  {
   "cell_type": "code",
   "execution_count": 114,
   "id": "add62f34-e248-4546-b35f-cb6e3fa501c7",
   "metadata": {},
   "outputs": [
    {
     "name": "stdout",
     "output_type": "stream",
     "text": [
      "exercise04.hwp\n"
     ]
    }
   ],
   "source": [
    "filelist = [\"exercise01.docx\",\"exercise02.csv\",\"exercise03.txt\",\"exercise04.hwp\"]\n",
    "\n",
    "for filename in filelist :\n",
    "    if filename.split(\".\")[1] == \"hwp\" :\n",
    "        print(filename)"
   ]
  }
 ],
 "metadata": {
  "kernelspec": {
   "display_name": "Python 3 (ipykernel)",
   "language": "python",
   "name": "python3"
  },
  "language_info": {
   "codemirror_mode": {
    "name": "ipython",
    "version": 3
   },
   "file_extension": ".py",
   "mimetype": "text/x-python",
   "name": "python",
   "nbconvert_exporter": "python",
   "pygments_lexer": "ipython3",
   "version": "3.13.5"
  }
 },
 "nbformat": 4,
 "nbformat_minor": 5
}
