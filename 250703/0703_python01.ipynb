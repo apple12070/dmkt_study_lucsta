{
 "cells": [
  {
   "cell_type": "markdown",
   "id": "41850331-17a9-48de-8e26-1bf10c674ca6",
   "metadata": {},
   "source": [
    "### 사용자로부터 점수를 입력받은 후 등급을 출력하세요.\n",
    "- (A : 100 ~ 81 , B : 80 ~ 61 , C : 60 ~ 0)"
   ]
  },
  {
   "cell_type": "code",
   "execution_count": null,
   "id": "ac0c76fb-e12f-4cc8-a42e-a71e02c6d99b",
   "metadata": {},
   "outputs": [],
   "source": [
    "# else는 if 와 elif의 중간에 올 수 없고 여러번 쓸 수 없다."
   ]
  },
  {
   "cell_type": "code",
   "execution_count": 11,
   "id": "dccfee0b-5fc3-46ae-aa2d-0ea64a0013af",
   "metadata": {},
   "outputs": [
    {
     "name": "stdin",
     "output_type": "stream",
     "text": [
      "사용자의 점수 70\n"
     ]
    },
    {
     "name": "stdout",
     "output_type": "stream",
     "text": [
      "B\n"
     ]
    }
   ],
   "source": [
    "data = int(input(\"사용자의 점수\"))\n",
    "\n",
    "if data >= 81 and data <= 100 :\n",
    "    print(\"A\")\n",
    "elif data >= 61 and data <= 80 :\n",
    "    print(\"B\")\n",
    "else :\n",
    "    print(\"C\")   "
   ]
  },
  {
   "cell_type": "code",
   "execution_count": 7,
   "id": "4e0348a9-a6cc-4961-8b7e-e0aeb73bb9f2",
   "metadata": {},
   "outputs": [
    {
     "name": "stdin",
     "output_type": "stream",
     "text": [
      "사용자의 점수 100\n"
     ]
    },
    {
     "name": "stdout",
     "output_type": "stream",
     "text": [
      "A\n"
     ]
    }
   ],
   "source": [
    "data = int(input(\"사용자의 점수\"))\n",
    "\n",
    "if data >= 81 and data <= 100 :\n",
    "    print(\"A\")\n",
    "elif data >= 61 and data <= 80 :\n",
    "    print(\"B\")\n",
    "elif data >= 0 and data <= 60 :\n",
    "    print(\"C\")"
   ]
  },
  {
   "cell_type": "markdown",
   "id": "4a8eac51-91d0-4c69-b410-a48424935b19",
   "metadata": {},
   "source": [
    "### 사용자로부터 주민등록번호를 입력받아서 출생연도만 확인 후 출력해주세요.\n",
    "- 예) 800000 - 1234567 => 80년생 입니다."
   ]
  },
  {
   "cell_type": "code",
   "execution_count": null,
   "id": "27616735-92c1-4ce6-a9d5-5ddccf9859b5",
   "metadata": {},
   "outputs": [],
   "source": [
    "# 인덱스로 문자열로 받아야 하므로 변수는 int로 받지 않음(주민번호 중간의 \"-\"도 문자열에 포함되므로)d"
   ]
  },
  {
   "cell_type": "code",
   "execution_count": 9,
   "id": "d09f7367-243c-4dc0-a1d4-99f1f948e570",
   "metadata": {},
   "outputs": [
    {
     "name": "stdin",
     "output_type": "stream",
     "text": [
      "주민등록번호 입력 970000 - 1234567\n"
     ]
    },
    {
     "name": "stdout",
     "output_type": "stream",
     "text": [
      "97\n"
     ]
    }
   ],
   "source": [
    "data = input(\"주민등록번호 입력\")\n",
    "print(data[0 : 2])"
   ]
  },
  {
   "cell_type": "code",
   "execution_count": 12,
   "id": "3d9c2829-ed5e-4ee6-8051-3fe15ff931c6",
   "metadata": {},
   "outputs": [
    {
     "name": "stdin",
     "output_type": "stream",
     "text": [
      "주민등록번호 입력 970000 - 1234567\n"
     ]
    },
    {
     "name": "stdout",
     "output_type": "stream",
     "text": [
      "97\n"
     ]
    }
   ],
   "source": [
    "data = input(\"주민등록번호 입력\")\n",
    "age = data[0 : 2]\n",
    "\n",
    "print(age)"
   ]
  },
  {
   "cell_type": "code",
   "execution_count": 13,
   "id": "94c72a44-6b2a-43bf-89ad-bd6b26446bd9",
   "metadata": {},
   "outputs": [
    {
     "name": "stdin",
     "output_type": "stream",
     "text": [
      "주민등록번호 입력 970000 - 1234567\n"
     ]
    },
    {
     "name": "stdout",
     "output_type": "stream",
     "text": [
      "97년생\n"
     ]
    }
   ],
   "source": [
    "data = input(\"주민등록번호 입력\")\n",
    "age = data[0 : 2]\n",
    "\n",
    "print(f\"{age}년생\")"
   ]
  },
  {
   "cell_type": "code",
   "execution_count": null,
   "id": "814c5959-ae53-49ac-90a1-872a000ea8dd",
   "metadata": {},
   "outputs": [],
   "source": [
    "# split 안에 들어가는 인자값 = 구분자 => 구분자를 기준으로 값을 쪼개줌"
   ]
  },
  {
   "cell_type": "code",
   "execution_count": 17,
   "id": "fcacf491-9c1e-4dbb-b452-5a5f30d1d6de",
   "metadata": {},
   "outputs": [
    {
     "name": "stdin",
     "output_type": "stream",
     "text": [
      "주민등록번호 입력 970000 - 1234567\n"
     ]
    },
    {
     "name": "stdout",
     "output_type": "stream",
     "text": [
      "97\n"
     ]
    }
   ],
   "source": [
    "data = input(\"주민등록번호 입력\")\n",
    "age = data.split(\"-\")\n",
    "age01 = age[0]\n",
    "print(age01 [0:2])"
   ]
  },
  {
   "cell_type": "code",
   "execution_count": 18,
   "id": "be66d738-8a88-4626-bcf0-e0598081726d",
   "metadata": {},
   "outputs": [
    {
     "name": "stdin",
     "output_type": "stream",
     "text": [
      "주민등록번호 입력 970000 - 1234567\n"
     ]
    },
    {
     "name": "stdout",
     "output_type": "stream",
     "text": [
      "97\n"
     ]
    }
   ],
   "source": [
    "data = input(\"주민등록번호 입력\")\n",
    "# age = data.split(\"-\")\n",
    "print(data.split(\"-\") [0] [0:2])"
   ]
  },
  {
   "cell_type": "code",
   "execution_count": 16,
   "id": "290e545a-4789-4b22-b5bc-1dcde16542df",
   "metadata": {},
   "outputs": [
    {
     "name": "stdin",
     "output_type": "stream",
     "text": [
      "주민등록번호 입력 970000 - 1234567\n"
     ]
    },
    {
     "name": "stdout",
     "output_type": "stream",
     "text": [
      "97\n"
     ]
    }
   ],
   "source": [
    "data = input(\"주민등록번호 입력\")\n",
    "age = data.split(\"-\")\n",
    "print(age[0] [0:2])"
   ]
  },
  {
   "cell_type": "code",
   "execution_count": 19,
   "id": "12149c31-c69f-4a39-a56c-7a999926b5df",
   "metadata": {},
   "outputs": [
    {
     "name": "stdin",
     "output_type": "stream",
     "text": [
      "주민등록번호 입력 970000 - 1234567\n"
     ]
    },
    {
     "name": "stdout",
     "output_type": "stream",
     "text": [
      "97년생\n"
     ]
    }
   ],
   "source": [
    "data = input(\"주민등록번호 입력\")\n",
    "# age = data.split(\"-\")\n",
    "print(f\"{data.split(\"-\") [0] [0:2]}년생\")"
   ]
  },
  {
   "cell_type": "markdown",
   "id": "3e6718e1-1d9a-4078-a1b7-439ef5b348c8",
   "metadata": {},
   "source": [
    "### 사용자로부터 주민등록번호를 입력받아서 성별을 \"남성\" 또는 \"여성\"으로 출력해주세요.\n",
    "- 주민등록번호 뒷자리 첫번째 숫자가 \"1\" => 남성 // \"2\" => 여성"
   ]
  },
  {
   "cell_type": "code",
   "execution_count": 31,
   "id": "363201ab-073f-422c-b8d5-e25948731b50",
   "metadata": {},
   "outputs": [
    {
     "name": "stdin",
     "output_type": "stream",
     "text": [
      "주민등록번호 입력 970000-2234567\n"
     ]
    },
    {
     "name": "stdout",
     "output_type": "stream",
     "text": [
      "여성\n"
     ]
    }
   ],
   "source": [
    "data = input(\"주민등록번호 입력\")\n",
    "\n",
    "gender = data.split(\"-\")[1][0]\n",
    "\n",
    "if gender == \"1\" :\n",
    "    print(\"남성\")\n",
    "elif gender == \"2\" :\n",
    "    print(\"여성\")\n"
   ]
  },
  {
   "cell_type": "code",
   "execution_count": null,
   "id": "7ed6321c-3df8-4ec7-8187-951d6283c9b1",
   "metadata": {},
   "outputs": [],
   "source": [
    "# strip 함수는 문자열의 특정 요소(\"~~\")를 제거해줌"
   ]
  },
  {
   "cell_type": "code",
   "execution_count": 20,
   "id": "8ec5e976-68c0-41b5-946a-481ba82f264f",
   "metadata": {},
   "outputs": [
    {
     "data": {
      "text/plain": [
       "'A man goes into the room'"
      ]
     },
     "execution_count": 20,
     "metadata": {},
     "output_type": "execute_result"
    }
   ],
   "source": [
    "mystr = \"A man goes into the room...\"\n",
    "\n",
    "result = mystr.strip(\".\")\n",
    "result"
   ]
  },
  {
   "cell_type": "code",
   "execution_count": 33,
   "id": "67a3deca-f688-4d75-82f4-ee2da7b7b806",
   "metadata": {},
   "outputs": [],
   "source": [
    "# strip() : 문자열 앞.뒤 상관 없이 공백이라고 판단되는 문자열(*공백,개행,탭 등등)을 모두 제거하는 역할을 하는 메서드 함수"
   ]
  },
  {
   "cell_type": "code",
   "execution_count": 32,
   "id": "9156b5eb-c007-4012-9104-7e43e5ce2fce",
   "metadata": {},
   "outputs": [
    {
     "data": {
      "text/plain": [
       "'000770'"
      ]
     },
     "execution_count": 32,
     "metadata": {},
     "output_type": "execute_result"
    }
   ],
   "source": [
    "code = \"          000770\"\n",
    "code.strip()"
   ]
  },
  {
   "cell_type": "code",
   "execution_count": null,
   "id": "0181fe56-d2a8-4156-bd44-d1579b8f631d",
   "metadata": {},
   "outputs": [],
   "source": [
    "# \"\\n\"은 new line의 약자로 줄바꿈을 해줌(개행처리)"
   ]
  },
  {
   "cell_type": "code",
   "execution_count": 37,
   "id": "d0d7ad5a-378c-4f1d-a9c5-b278daa35ccd",
   "metadata": {},
   "outputs": [
    {
     "data": {
      "text/plain": [
       "'000770'"
      ]
     },
     "execution_count": 37,
     "metadata": {},
     "output_type": "execute_result"
    }
   ],
   "source": [
    "code = \"000770\\n\"\n",
    "code.strip()"
   ]
  },
  {
   "cell_type": "code",
   "execution_count": null,
   "id": "9a2247ad-8622-4c1c-9608-85b25b97f2d0",
   "metadata": {},
   "outputs": [],
   "source": [
    "# 각 셀의 마지막 행은 print를 쓰지 않아도 값을 출력해준다."
   ]
  },
  {
   "cell_type": "code",
   "execution_count": 8,
   "id": "dc91ec20-0697-4a7d-a0b7-57a7b52aa151",
   "metadata": {},
   "outputs": [
    {
     "name": "stdout",
     "output_type": "stream",
     "text": [
      "3\n",
      "0\n"
     ]
    },
    {
     "data": {
      "text/plain": [
       "'Installing Python is generally easy, and nowadays many Linux and UNIX distributions include a recent Python. Even some Windows computers (notably those from HP) now come with Python already installed.'"
      ]
     },
     "execution_count": 8,
     "metadata": {},
     "output_type": "execute_result"
    }
   ],
   "source": [
    "python_desc = \"Installing Python is generally easy, and nowadays many Linux and UNIX distributions include a recent Python. Even some Windows computers (notably those from HP) now come with Python already installed.\"\n",
    "print(python_desc.count(\"Python\"))\n",
    "print(python_desc.count(\"python\"))"
   ]
  },
  {
   "cell_type": "markdown",
   "id": "04faae1c-3523-43c2-93bc-53c6bb29a519",
   "metadata": {},
   "source": [
    "### 사용자로부터 note라는 문자열을 받았다고 가정할 때 해당 문자열 안에 n이 들어가있는지 확인 후 n이 들어가있으면 숫자 0을 출력하고, 만약 그렇지 않다면 1을 출력하세요."
   ]
  },
  {
   "cell_type": "code",
   "execution_count": 48,
   "id": "9173582d-2f2a-4928-b7ce-bdabfc654dc7",
   "metadata": {},
   "outputs": [
    {
     "name": "stdin",
     "output_type": "stream",
     "text": [
      " aarrr\n"
     ]
    },
    {
     "data": {
      "text/plain": [
       "-1"
      ]
     },
     "execution_count": 48,
     "metadata": {},
     "output_type": "execute_result"
    }
   ],
   "source": [
    "letters = input()\n",
    "\n",
    "var = letters.find(\"n\")\n",
    "\n",
    "var\n",
    "# if var == 0 :\n",
    "#    print(0)\n",
    "# else :\n",
    "#    print(-1)\n",
    "\n",
    "# 일반적으로 프로그래밍언어는 true,false 값을 갖고 있음\n",
    "# truethy, falsy => 참인듯한 값, 거짓인듯한 값\n",
    "# 0, null, undefied => falsy (부정에 가까운 값)\n",
    "# but 파이썬의 경우는 0 => truethy한 값으로, -1 => falsy한 값으로 처리"
   ]
  },
  {
   "cell_type": "markdown",
   "id": "7b7a3ec0-cdab-400c-bae6-f581e2ff1809",
   "metadata": {},
   "source": [
    "### 사용자로부터 주민등록번호를 입력받은 후 사용자의 출생지가 어디인지 확인 후 출력해주세요.\n",
    "- 주민등록번호 중 뒤에 8자리 중에서 첫번째 숫자가 성별을 의미하고, 두 번째 숫자부터 세번째 숫자까지가 출생지를 의미하는 숫자입니다.\n",
    "- \"00 ~ 08 : 서울\", \"09 ~ 12 : 부산\""
   ]
  },
  {
   "cell_type": "code",
   "execution_count": 9,
   "id": "d957fa32-7c60-43f0-9f2a-f9acefdab9e2",
   "metadata": {},
   "outputs": [
    {
     "name": "stdin",
     "output_type": "stream",
     "text": [
      "주민등록번호 970000-2054567\n"
     ]
    },
    {
     "data": {
      "text/plain": [
       "str"
      ]
     },
     "execution_count": 9,
     "metadata": {},
     "output_type": "execute_result"
    }
   ],
   "source": [
    "data = input(\"주민등록번호\")\n",
    "\n",
    "location = int(data.split(\"-\")[1][1:3])\n",
    "\n",
    "if location >= 0 and "
   ]
  },
  {
   "cell_type": "code",
   "execution_count": 72,
   "id": "71b28761-fc31-4a78-8649-d7c5fa86109c",
   "metadata": {},
   "outputs": [
    {
     "name": "stdin",
     "output_type": "stream",
     "text": [
      "주민등록번호? 970000-2054567\n"
     ]
    },
    {
     "name": "stdout",
     "output_type": "stream",
     "text": [
      "서울출생입니다.\n"
     ]
    }
   ],
   "source": [
    "data = input(\"주민등록번호?\")\n",
    "\n",
    "location = int(data.split(\"-\")[1][1:3])\n",
    "\n",
    "if location >=0 and location <=8 :\n",
    "    print(\"서울출생입니다.\")\n",
    "elif location >=9 and location <=12 :\n",
    "    print(\"부산출생입니다.\")"
   ]
  }
 ],
 "metadata": {
  "kernelspec": {
   "display_name": "Python 3 (ipykernel)",
   "language": "python",
   "name": "python3"
  },
  "language_info": {
   "codemirror_mode": {
    "name": "ipython",
    "version": 3
   },
   "file_extension": ".py",
   "mimetype": "text/x-python",
   "name": "python",
   "nbconvert_exporter": "python",
   "pygments_lexer": "ipython3",
   "version": "3.13.5"
  }
 },
 "nbformat": 4,
 "nbformat_minor": 5
}
