{
 "cells": [
  {
   "cell_type": "markdown",
   "id": "50c4bd97-e042-41e6-9227-12cf4a83c2de",
   "metadata": {},
   "source": [
    "#### 함수(function)\n",
    "- 함수는 선언&호출 개념 (선언하다 : definition)\n",
    "- 인자값 혹은 인수 개념\n",
    "- 함수를 선언하는 단계에서는 매개변수를 지정한다라고 부르고, 실제로 함수를 호출하는 단계에서는 이미 지정해놓은 매개변수의 공간에 입력할 값을 인자값 혹은 인수라고 부름!!\n",
    "- 매개변수를 지정했다면, 반드시 인자값이 필요하다!!\n",
    "- 매개변수와 인자값의 개수는 반드시 일치해야 한다.\n",
    "  ```\n",
    "  def 함수이름(인자값/인수) : -> 구현하고자 하는 목적에 따라 만들면 됨\n",
    "      실행문\n",
    "      return 반환하고자 하는 값을 입력 (return문은 함수에 대한 종결을 의미하므로 가장 마지막에 써야함)\n",
    "  ```"
   ]
  },
  {
   "cell_type": "code",
   "execution_count": 4,
   "id": "b993f503-b901-47b2-978c-1d9fd63717da",
   "metadata": {},
   "outputs": [],
   "source": [
    "def func1() :\n",
    "    print(\"Hello\")\n",
    "    print(\"Hello\")\n",
    "    print(\"Hello\")\n",
    "    print(\"Hello\")"
   ]
  },
  {
   "cell_type": "code",
   "execution_count": 6,
   "id": "d50628e3-4ec2-4b9a-9392-96136bde6c07",
   "metadata": {},
   "outputs": [
    {
     "name": "stdout",
     "output_type": "stream",
     "text": [
      "Hello\n",
      "Hello\n",
      "Hello\n",
      "Hello\n"
     ]
    }
   ],
   "source": [
    "func1()"
   ]
  },
  {
   "cell_type": "code",
   "execution_count": 28,
   "id": "c8080d45-a165-4041-ba53-4a161ffcc07b",
   "metadata": {},
   "outputs": [],
   "source": [
    "def func2(parameter01, parameter02) :\n",
    "    print(f\"Hello, {parameter01} {parameter02}\")\n",
    "    return f\"Hello, {parameter01} {parameter02}\""
   ]
  },
  {
   "cell_type": "code",
   "execution_count": 29,
   "id": "85edbc2b-6294-458f-80be-5990d7abd5b2",
   "metadata": {},
   "outputs": [
    {
     "name": "stdout",
     "output_type": "stream",
     "text": [
      "Hello, Python World\n"
     ]
    },
    {
     "data": {
      "text/plain": [
       "'Hello, Python World'"
      ]
     },
     "execution_count": 29,
     "metadata": {},
     "output_type": "execute_result"
    }
   ],
   "source": [
    "func2(\"Python\",\"World\")"
   ]
  },
  {
   "cell_type": "code",
   "execution_count": 30,
   "id": "d0401e21-43f6-42ad-81ec-41315d86b7f3",
   "metadata": {},
   "outputs": [
    {
     "name": "stdout",
     "output_type": "stream",
     "text": [
      "Hello, Python World\n"
     ]
    },
    {
     "data": {
      "text/plain": [
       "'Hello, Python World'"
      ]
     },
     "execution_count": 30,
     "metadata": {},
     "output_type": "execute_result"
    }
   ],
   "source": [
    "result = func2(\"Python\",\"World\")\n",
    "result"
   ]
  },
  {
   "cell_type": "code",
   "execution_count": 35,
   "id": "8dfefd3b-3549-4bdd-9cda-3068b26a08d3",
   "metadata": {},
   "outputs": [],
   "source": [
    "def sum(a, b) :\n",
    "    c = 1  #1.지역변수 = local\n",
    "    result02 = a + b\n",
    "    return(result)\n",
    "a = 1  #2.전역변수 = global"
   ]
  },
  {
   "cell_type": "code",
   "execution_count": 34,
   "id": "0b17daac-a9ab-43ab-94e8-1a2533b0415f",
   "metadata": {},
   "outputs": [
    {
     "data": {
      "text/plain": [
       "8"
      ]
     },
     "execution_count": 34,
     "metadata": {},
     "output_type": "execute_result"
    }
   ],
   "source": [
    "sum(3,5)"
   ]
  },
  {
   "cell_type": "code",
   "execution_count": 42,
   "id": "5673cf66-beea-4d27-9979-f3031bd68278",
   "metadata": {},
   "outputs": [
    {
     "data": {
      "text/plain": [
       "1"
      ]
     },
     "execution_count": 42,
     "metadata": {},
     "output_type": "execute_result"
    }
   ],
   "source": [
    "a"
   ]
  },
  {
   "cell_type": "code",
   "execution_count": null,
   "id": "0cdd4c5d-404e-46b4-98ff-27b18b7b82d2",
   "metadata": {},
   "outputs": [],
   "source": [
    "for item in [1,2,3] :\n",
    "    print(item)   #item => 3.블록변수 = block"
   ]
  },
  {
   "cell_type": "code",
   "execution_count": 43,
   "id": "0b7e96af-6117-47dd-8d33-45a9f197c529",
   "metadata": {},
   "outputs": [],
   "source": [
    "def func7(a) :\n",
    "    b = a + 1\n",
    "    return a, b"
   ]
  },
  {
   "cell_type": "code",
   "execution_count": 45,
   "id": "63d5c139-5e9c-46da-8ced-d5457df825e2",
   "metadata": {},
   "outputs": [
    {
     "name": "stdout",
     "output_type": "stream",
     "text": [
      "(4, 5)\n",
      "<class 'tuple'>\n"
     ]
    }
   ],
   "source": [
    "result07 = func7(4)\n",
    "print(result07)\n",
    "print(type(result07))\n",
    "\n",
    "# tuple : 값,형태,개수가 정해져 있는 리스트 형태의 타입(but 리스트는 아님)"
   ]
  },
  {
   "cell_type": "code",
   "execution_count": 47,
   "id": "47e81633-a65f-4ec9-99f6-fc9b5d1006f5",
   "metadata": {},
   "outputs": [
    {
     "name": "stdout",
     "output_type": "stream",
     "text": [
      "<class 'str'>\n",
      "<class 'int'>\n",
      "<class 'bool'>\n",
      "<class 'list'>\n"
     ]
    }
   ],
   "source": [
    "print(type(\"str\"))\n",
    "print(type(1))\n",
    "print(type(True))\n",
    "print(type([1,2,3]))"
   ]
  },
  {
   "cell_type": "code",
   "execution_count": 52,
   "id": "a77468f7-5836-4ae6-a587-2e97a307130d",
   "metadata": {},
   "outputs": [],
   "source": [
    "def id_check(id) :\n",
    "    if id == \"admin\" : \n",
    "        print(\"invalid id : admin\")\n",
    "        return\n",
    "    else :\n",
    "        print(\"valid id :\", id)"
   ]
  },
  {
   "cell_type": "code",
   "execution_count": 54,
   "id": "55d57c30-f368-46e8-94cd-96f1f3f0db35",
   "metadata": {},
   "outputs": [
    {
     "name": "stdout",
     "output_type": "stream",
     "text": [
      "invalid id : admin\n"
     ]
    }
   ],
   "source": [
    "id_check(\"admin\")"
   ]
  },
  {
   "cell_type": "code",
   "execution_count": null,
   "id": "003b5ada-ddae-4e10-a254-adb0f640216a",
   "metadata": {},
   "outputs": [],
   "source": [
    "# if문에서 else는 꼭 사용될 필요가 없으며, else문이 독립적으로 쓰이기도 함. 위 문장의 else문은 필요가 없는 수식임. return구문이 이미 반환하고 있기때문"
   ]
  },
  {
   "cell_type": "code",
   "execution_count": 55,
   "id": "7f3cf800-ba4c-4d78-bb84-925085ada594",
   "metadata": {},
   "outputs": [],
   "source": [
    "def id_check(id) :\n",
    "    if id == \"admin\" : \n",
    "        print(\"invalid id : admin\")\n",
    "        return\n",
    "    print(\"valid id :\", id)"
   ]
  },
  {
   "cell_type": "code",
   "execution_count": 57,
   "id": "f4e14665-23d4-40fb-b71c-8022d2b2d2bc",
   "metadata": {},
   "outputs": [
    {
     "name": "stdout",
     "output_type": "stream",
     "text": [
      "valid id : admin02\n"
     ]
    }
   ],
   "source": [
    "id_check(\"admin02\")"
   ]
  }
 ],
 "metadata": {
  "kernelspec": {
   "display_name": "Python 3 (ipykernel)",
   "language": "python",
   "name": "python3"
  },
  "language_info": {
   "codemirror_mode": {
    "name": "ipython",
    "version": 3
   },
   "file_extension": ".py",
   "mimetype": "text/x-python",
   "name": "python",
   "nbconvert_exporter": "python",
   "pygments_lexer": "ipython3",
   "version": "3.13.5"
  }
 },
 "nbformat": 4,
 "nbformat_minor": 5
}
