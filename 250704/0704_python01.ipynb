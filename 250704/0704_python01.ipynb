{
 "cells": [
  {
   "cell_type": "markdown",
   "id": "db79a4ba-76e0-4e07-8a7a-0ac2755372e8",
   "metadata": {},
   "source": [
    "#### 파이썬 자료구조\n",
    "- list => 하나의 그룹안에 순번을 매겨서 값을 저장해놓은 형태 (*단일 값을 수정, 삭제 등 변경 허용)\n",
    "- tuple => 하나의 그룹안에 순번을 매겨서 값을 저장해놓은 형태 (*단일 값을 수정, 삭제 등 변경 허용x)\n",
    "- dictionary => 사전 (*단어 : 뜻, 형태, 예시 등등 세부정보) => key(*단어) & value(*해당 단어에 대한 의미) => 속성(*property)(항상 같이 움직임)\n",
    "- CRUD => 웹사이트 구현정도 // 프로그램의 난이도 // 고급언어인지, 저급언어인지 등을 구분\n",
    "- Create // Read // Update // Delete => 고급언어로 난이도 상단계 포지션\n",
    "- 프로그래밍 언어는 절대 정답 x => 예제 문제 => 제가 문제를 해결한 방법 // 수강생이 문제를 해결한 방법 => 맞다 틀리다가 없음\n",
    "- ex) 2 = 1+1 / 10/5 / 2*1 다 정답\n",
    "- 문자열 => 숫자 => 문법 해결 // 문자열 => 문법 해결 다 정답\n",
    "- 세상에 듣도보도 못한 어떤 문법체계를 가져와서 문제를 해결\n",
    "- 개발영역 => 결과가 도출된다면 모두 답 => 어떤 답이 효과적 || 효율이 있는가?\n",
    "- 만들고자 하는 프로그램이 지향하는 것이 무엇이냐? => 안정성 // 속도 // 메모리?\n",
    "- 시간 => 빠른시간 내 코드를 처리할 수 있는가\n",
    "- 어떤 코드가 실행되는데 있어서 얼만큼 빨리 처리하냐 => 빅오메가 // 빅세타 // 빅오 개념 => 하드웨어 => 컴퓨터의 성능차이\n",
    "- 빅오 시간 체크 => 가장 많은 시간을 차지하는 것 하나를 체크 => 반복문"
   ]
  },
  {
   "cell_type": "code",
   "execution_count": 2,
   "id": "de38b6c8-dba9-4b4e-a86a-70f558f585ff",
   "metadata": {},
   "outputs": [
    {
     "data": {
      "text/plain": [
       "{'name': 'David'}"
      ]
     },
     "execution_count": 2,
     "metadata": {},
     "output_type": "execute_result"
    }
   ],
   "source": [
    "dict1 = {\"name\":\"David\"}\n",
    "dict1"
   ]
  },
  {
   "cell_type": "code",
   "execution_count": 3,
   "id": "a93b069d-53d2-40fa-aa5e-8948534a11f9",
   "metadata": {},
   "outputs": [
    {
     "data": {
      "text/plain": [
       "{'korean': 95, 'math': 100, 'science': 80}"
      ]
     },
     "execution_count": 3,
     "metadata": {},
     "output_type": "execute_result"
    }
   ],
   "source": [
    "dict2 = {\"korean\":95,\"math\":100,\"science\":80}\n",
    "dict2"
   ]
  },
  {
   "cell_type": "code",
   "execution_count": 5,
   "id": "1d68f435-d7eb-4d7d-b474-48945b58ec39",
   "metadata": {},
   "outputs": [
    {
     "name": "stdout",
     "output_type": "stream",
     "text": [
      "<class 'dict'>\n"
     ]
    }
   ],
   "source": [
    "# list1 = [] | [1,2] | list()\n",
    "# tupl1 = () | (1,2) | tuple()\n",
    "\n",
    "dict1 = {} #{} => list함수일수도 있지만 set라는 자료구조일 수 있음. 혼동 주의.\n",
    "dict2 = dict()\n",
    "\n",
    "print(type(dict2))"
   ]
  },
  {
   "cell_type": "code",
   "execution_count": 9,
   "id": "40865c38-b360-47ef-bacf-45362b8b1dfb",
   "metadata": {},
   "outputs": [],
   "source": [
    "data_dict = {\"한국\":\"KR\",\"일본\":\"JP\",\"중국\":\"CN\"}"
   ]
  },
  {
   "cell_type": "code",
   "execution_count": 10,
   "id": "6e2497fc-4062-4ce0-b781-a88c48664e5d",
   "metadata": {},
   "outputs": [
    {
     "data": {
      "text/plain": [
       "'KR'"
      ]
     },
     "execution_count": 10,
     "metadata": {},
     "output_type": "execute_result"
    }
   ],
   "source": [
    "data_dict[\"한국\"]"
   ]
  },
  {
   "cell_type": "code",
   "execution_count": 13,
   "id": "66f2c138-9d5b-4c44-bf36-6a6149eddb74",
   "metadata": {},
   "outputs": [],
   "source": [
    "data_dict[\"미국\"] = \"US\""
   ]
  },
  {
   "cell_type": "code",
   "execution_count": 14,
   "id": "70d4c21b-f8a1-4afc-9ad7-435896f6ea25",
   "metadata": {},
   "outputs": [
    {
     "data": {
      "text/plain": [
       "{'한국': 'KR', '일본': 'JP', '중국': 'CN', '미국': 'US'}"
      ]
     },
     "execution_count": 14,
     "metadata": {},
     "output_type": "execute_result"
    }
   ],
   "source": [
    "data_dict"
   ]
  },
  {
   "cell_type": "code",
   "execution_count": 15,
   "id": "d7e52368-93d2-4d36-a5a3-afa9632423eb",
   "metadata": {},
   "outputs": [],
   "source": [
    "#del -> 예약어 혹은 명령어\n",
    "\n",
    "del data_dict[\"일본\"]"
   ]
  },
  {
   "cell_type": "code",
   "execution_count": 16,
   "id": "184fb73d-00af-49d5-8590-fc2f4f32cda9",
   "metadata": {},
   "outputs": [
    {
     "data": {
      "text/plain": [
       "{'한국': 'KR', '중국': 'CN', '미국': 'US'}"
      ]
     },
     "execution_count": 16,
     "metadata": {},
     "output_type": "execute_result"
    }
   ],
   "source": [
    "data_dict"
   ]
  },
  {
   "cell_type": "code",
   "execution_count": 20,
   "id": "4cec9cb7-9251-482d-93e7-97c2fa195007",
   "metadata": {},
   "outputs": [],
   "source": [
    "data_dict[\"미국\"]=\"USA\"  # 이미 할당한 값을 변경할 수도 있음"
   ]
  },
  {
   "cell_type": "code",
   "execution_count": 21,
   "id": "c6015d58-46d0-4644-b585-e6926463ff7e",
   "metadata": {},
   "outputs": [
    {
     "data": {
      "text/plain": [
       "{'한국': 'KR', '중국': 'CN', '미국': 'USA'}"
      ]
     },
     "execution_count": 21,
     "metadata": {},
     "output_type": "execute_result"
    }
   ],
   "source": [
    "data_dict"
   ]
  },
  {
   "cell_type": "code",
   "execution_count": 25,
   "id": "672b7ad6-0ba1-4c29-bb5f-6cd38f37d5bf",
   "metadata": {},
   "outputs": [
    {
     "name": "stdout",
     "output_type": "stream",
     "text": [
      "dict_keys(['한국', '중국', '미국'])\n",
      "dict_values(['KR', 'CN', 'USA'])\n",
      "dict_items([('한국', 'KR'), ('중국', 'CN'), ('미국', 'USA')])\n"
     ]
    }
   ],
   "source": [
    "keys = data_dict.keys()\n",
    "print(keys)\n",
    "type(keys)\n",
    "\n",
    "values = data_dict.values()\n",
    "print(values)\n",
    "\n",
    "items = data_dict.items()\n",
    "print(items)"
   ]
  },
  {
   "cell_type": "code",
   "execution_count": 26,
   "id": "b03fdc8c-e703-42f8-867a-30b39775f1d9",
   "metadata": {},
   "outputs": [
    {
     "name": "stdout",
     "output_type": "stream",
     "text": [
      "한국\n",
      "중국\n",
      "미국\n"
     ]
    }
   ],
   "source": [
    "for key in keys :\n",
    "    print(key)"
   ]
  },
  {
   "cell_type": "code",
   "execution_count": 28,
   "id": "0519a839-d24c-4569-8cf5-49db24309272",
   "metadata": {},
   "outputs": [],
   "source": [
    "# 거의 모든 함수는 리스트로 통용이 됨."
   ]
  },
  {
   "cell_type": "code",
   "execution_count": 29,
   "id": "970579f8-278c-426d-80dd-e783865bc6b3",
   "metadata": {},
   "outputs": [
    {
     "name": "stdout",
     "output_type": "stream",
     "text": [
      "('한국', 'KR')\n",
      "('중국', 'CN')\n",
      "('미국', 'USA')\n"
     ]
    }
   ],
   "source": [
    "for item in items :\n",
    "    print(item)"
   ]
  },
  {
   "cell_type": "markdown",
   "id": "30c5e66d-02b4-4bd5-86eb-dd2aa7e1efe1",
   "metadata": {},
   "source": [
    "### 리스트"
   ]
  },
  {
   "cell_type": "markdown",
   "id": "4707d660-4fce-4d1f-a785-a45423630e42",
   "metadata": {},
   "source": [
    "- HTML 문서상에 제목이 여러개 있는 경우"
   ]
  },
  {
   "cell_type": "code",
   "execution_count": 32,
   "id": "a5c9e3b1-fd3b-4346-a9d4-a0ba8e39ccb6",
   "metadata": {},
   "outputs": [
    {
     "name": "stdout",
     "output_type": "stream",
     "text": [
      "뉴스A\n",
      "뉴스B\n",
      "뉴스C\n",
      "뉴스A\n"
     ]
    }
   ],
   "source": [
    "titles = [\"뉴스A\", \"뉴스B\", \"뉴스C\", \"뉴스A\"]\n",
    "for title in titles :\n",
    "    print(title)"
   ]
  },
  {
   "cell_type": "markdown",
   "id": "0a44b496-e5d5-4375-bdef-f3eaf44b26df",
   "metadata": {},
   "source": [
    "### 딕셔너리"
   ]
  },
  {
   "cell_type": "code",
   "execution_count": 35,
   "id": "0e87ef99-ce6f-42e4-876b-b8cc4b5d9972",
   "metadata": {},
   "outputs": [],
   "source": [
    "article01 = {\n",
    "    \"title\" : \"뉴스A\", \n",
    "    \"link\" : \"https://www.naver.com\"\n",
    "}\n",
    "\n",
    "article02 = {\n",
    "    \"title\" : \"뉴스B\",\n",
    "    \"link\" : \"https://www.naver.com\"\n",
    "}\n",
    "\n",
    "articlelist = [article01,article02]"
   ]
  }
 ],
 "metadata": {
  "kernelspec": {
   "display_name": "Python 3 (ipykernel)",
   "language": "python",
   "name": "python3"
  },
  "language_info": {
   "codemirror_mode": {
    "name": "ipython",
    "version": 3
   },
   "file_extension": ".py",
   "mimetype": "text/x-python",
   "name": "python",
   "nbconvert_exporter": "python",
   "pygments_lexer": "ipython3",
   "version": "3.13.5"
  }
 },
 "nbformat": 4,
 "nbformat_minor": 5
}
