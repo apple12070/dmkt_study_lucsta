{
 "cells": [
  {
   "cell_type": "markdown",
   "id": "739d07e8-700d-468d-87d9-c68c9cff070f",
   "metadata": {},
   "source": [
    "#### 자료구조 : set = 집합\n",
    "- 서로 다른 그룹간 연산작업을 보다 쉽게 하기 위한 목적으로 탄생된 자료구조\n",
    "- set() // list() // tuple() // dict()\n",
    "- 리스트 (*각각의 세부값에 인덱스 값을 부여해서 이터러블한 객체라고 부를 수 있는 것이고 이터러블하기 때문에 반복문을 쓸 수 있음)\n",
    "- 튜플 (*각각의 세부값에 인덱스 값을 부여해서 이터러블한 객체라고 부를 수 있는 것이고 이터러블하기 때문에 반복문을 쓸 수 있음)\n",
    "- 딕셔너리 (*각각의 세부값에 인덱스 값을 부여하지 않았기 때문에 이터러블한 객체라 할 수 없고, 반복문도 쓸 수 없음)\n",
    "- 세트=집합(*인덱스 값을 부여받지 않았으나, 이터러블한 객체이고 반복문도 쓸 수 있음) ->유사배열,겉으로는 유사하나 실제로는 DNA가 다름\n",
    "- set은 데이터의 중복값을 필터링할 수 있는 유일한 함수\n",
    "- 크롤링 시, 찾아온 값이 거의 대부분 리스트의 형태로 들어옴. => 굳이 반복적으로 불필요하게 값을 찾아오는 경우가 부지기수 => 중복된 값을 하나로 정리하는 기능을 가장 많이 사용함!!"
   ]
  },
  {
   "cell_type": "code",
   "execution_count": 1,
   "id": "51306dbd-15d6-4649-b8a1-c948ef4a217b",
   "metadata": {},
   "outputs": [
    {
     "data": {
      "text/plain": [
       "set"
      ]
     },
     "execution_count": 1,
     "metadata": {},
     "output_type": "execute_result"
    }
   ],
   "source": [
    "data_set01 = set()\n",
    "type(data_set01)"
   ]
  },
  {
   "cell_type": "code",
   "execution_count": 2,
   "id": "bb6bb6da-6c35-4a21-9260-80717edcaf8f",
   "metadata": {},
   "outputs": [
    {
     "data": {
      "text/plain": [
       "{'apple', 'dell', 'lg', 'samsung'}"
      ]
     },
     "execution_count": 2,
     "metadata": {},
     "output_type": "execute_result"
    }
   ],
   "source": [
    "data_set02 = {\"apple\", \"dell\", \"samsung\" , \"lg\"}\n",
    "data_set02"
   ]
  },
  {
   "cell_type": "code",
   "execution_count": 3,
   "id": "65d0bfc6-3ced-4d98-98c5-4e31855db9d0",
   "metadata": {},
   "outputs": [
    {
     "data": {
      "text/plain": [
       "{'a', 'e', 'l', 'p'}"
      ]
     },
     "execution_count": 3,
     "metadata": {},
     "output_type": "execute_result"
    }
   ],
   "source": [
    "data_set03 = set(\"apple\")\n",
    "data_set03"
   ]
  },
  {
   "cell_type": "code",
   "execution_count": 6,
   "id": "c63d3136-b7a0-4e8d-b51e-15306987eae8",
   "metadata": {},
   "outputs": [
    {
     "data": {
      "text/plain": [
       "{'jyp', 'sm'}"
      ]
     },
     "execution_count": 6,
     "metadata": {},
     "output_type": "execute_result"
    }
   ],
   "source": [
    "# data_set04 =set(\"sm\",\"jyp\") -> set에는 두 개의 인자값을 줄 수 없음. 아래처럼 중괄호로 묶어야 가능\n",
    "\n",
    "{\"sm\", \"jyp\"}"
   ]
  },
  {
   "cell_type": "code",
   "execution_count": 7,
   "id": "7de22a22-78c9-49ba-a2e1-d2856e0bc8fd",
   "metadata": {},
   "outputs": [
    {
     "name": "stdout",
     "output_type": "stream",
     "text": [
      "lg\n",
      "apple\n",
      "dell\n",
      "samsung\n"
     ]
    }
   ],
   "source": [
    "for data in data_set02 : \n",
    "    print(data)"
   ]
  },
  {
   "cell_type": "code",
   "execution_count": 11,
   "id": "93166f6b-9072-48b1-82c9-f5d57574c9a5",
   "metadata": {},
   "outputs": [
    {
     "name": "stdout",
     "output_type": "stream",
     "text": [
      "False\n",
      "True\n"
     ]
    }
   ],
   "source": [
    "# data_set02[0]  -> 이터러블 하지만, 인덱스 값 없어서 오류 뜸\n",
    "\n",
    "print(\"motorola\" in data_set02)\n",
    "print(\"apple\" in data_set02)\n"
   ]
  },
  {
   "cell_type": "code",
   "execution_count": 12,
   "id": "29536bb7-ff35-42d7-b6ab-bf83d3e600fa",
   "metadata": {},
   "outputs": [],
   "source": [
    "data04 = {\"피카츄\",\"라이츄\",\"꼬부기\"}"
   ]
  },
  {
   "cell_type": "code",
   "execution_count": 13,
   "id": "c6c99e95-1d6c-4713-b6dd-5c52222fcb61",
   "metadata": {},
   "outputs": [],
   "source": [
    "data05 = {\"잠만보\",\"파이리\",\"피카츄\"}"
   ]
  },
  {
   "cell_type": "code",
   "execution_count": 17,
   "id": "d5373934-59b4-46d1-a4d8-88b14e169589",
   "metadata": {},
   "outputs": [
    {
     "data": {
      "text/plain": [
       "{'피카츄'}"
      ]
     },
     "execution_count": 17,
     "metadata": {},
     "output_type": "execute_result"
    }
   ],
   "source": [
    "data04 & data05   # 교집합    #그룹간 비교 가능한게 set의 장점"
   ]
  },
  {
   "cell_type": "code",
   "execution_count": 18,
   "id": "f19b221f-0725-4b2f-af1c-0191a80b9169",
   "metadata": {},
   "outputs": [
    {
     "data": {
      "text/plain": [
       "{'꼬부기', '라이츄', '잠만보', '파이리', '피카츄'}"
      ]
     },
     "execution_count": 18,
     "metadata": {},
     "output_type": "execute_result"
    }
   ],
   "source": [
    "data04 | data05   #합집합"
   ]
  },
  {
   "cell_type": "code",
   "execution_count": 19,
   "id": "2ed0bbd9-de9b-43b3-a96a-7274304a4f99",
   "metadata": {},
   "outputs": [
    {
     "data": {
      "text/plain": [
       "{'꼬부기', '라이츄'}"
      ]
     },
     "execution_count": 19,
     "metadata": {},
     "output_type": "execute_result"
    }
   ],
   "source": [
    "data04 - data05"
   ]
  },
  {
   "cell_type": "code",
   "execution_count": 20,
   "id": "29d105fb-7507-4241-b105-5d0ecc136533",
   "metadata": {},
   "outputs": [
    {
     "data": {
      "text/plain": [
       "{'잠만보', '파이리'}"
      ]
     },
     "execution_count": 20,
     "metadata": {},
     "output_type": "execute_result"
    }
   ],
   "source": [
    "data05 - data04"
   ]
  },
  {
   "cell_type": "code",
   "execution_count": 22,
   "id": "7c11b76d-5e7c-490a-bbe8-ab3327e08d86",
   "metadata": {},
   "outputs": [
    {
     "data": {
      "text/plain": [
       "{'꼬부기', '라이츄', '잠만보', '파이리'}"
      ]
     },
     "execution_count": 22,
     "metadata": {},
     "output_type": "execute_result"
    }
   ],
   "source": [
    "data04 ^ data05   #교집합을 제외한 나머지 요소들만 출력"
   ]
  }
 ],
 "metadata": {
  "kernelspec": {
   "display_name": "Python 3 (ipykernel)",
   "language": "python",
   "name": "python3"
  },
  "language_info": {
   "codemirror_mode": {
    "name": "ipython",
    "version": 3
   },
   "file_extension": ".py",
   "mimetype": "text/x-python",
   "name": "python",
   "nbconvert_exporter": "python",
   "pygments_lexer": "ipython3",
   "version": "3.13.5"
  }
 },
 "nbformat": 4,
 "nbformat_minor": 5
}
