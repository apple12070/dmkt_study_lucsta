{
 "cells": [
  {
   "cell_type": "markdown",
   "id": "6ac7b179-577b-4426-bda6-47bc161ab0df",
   "metadata": {},
   "source": [
    "### 문자열 관련 함수 리스트\n",
    "- count : 문자열에 있는 특정 문자 갯수 세기\n",
    "- index : 문자열에 있는 특정 문자의 인덱스 위치를 알려주기\n",
    "- find : 문자열에 있는 특정 문자의 인덱스를 찾아오긴 하나, 만약 존재하지 않는다면 에러를 발생하지 않고 -1을 발생!!!\n",
    "- join : 문자열 사이에 다른 문자를 끼워넣기\n",
    "- strip : 문자열 앞뒤에 공백 지우기\n",
    "- upper : 소문자를 대문자로 변경하기\n",
    "- lower : 대문자를 소문자로 변경하기\n",
    "- split : 특정 문자열을 기준으로 나누기 (split안에 값 넣지 않으면 공백을 기준을 나눔)\n",
    "- replace : 문자열 중 일부를 다른 문자로 바꾸거나 혹은 삭제하기"
   ]
  },
  {
   "cell_type": "code",
   "execution_count": 48,
   "id": "c78f3346-c786-4b49-bd5d-23076fff1a2c",
   "metadata": {},
   "outputs": [
    {
     "data": {
      "text/plain": [
       "2"
      ]
     },
     "execution_count": 48,
     "metadata": {},
     "output_type": "execute_result"
    }
   ],
   "source": [
    "data = \"Dave David\"\n",
    "data.count(\"Dave\")\n",
    "data.count(\"D\")"
   ]
  },
  {
   "cell_type": "code",
   "execution_count": 12,
   "id": "61288d4e-662f-4855-8f07-4e2f23deaadb",
   "metadata": {},
   "outputs": [
    {
     "data": {
      "text/plain": [
       "11"
      ]
     },
     "execution_count": 12,
     "metadata": {},
     "output_type": "execute_result"
    }
   ],
   "source": [
    "string = \"Dave ID is dave\"\n",
    "string.index(\"D\")\n",
    "string.index(\"d\")  #왼쪽부터 카운트하다가 만나는 순간 종결\n",
    "# string.index(\"x\")\n"
   ]
  },
  {
   "cell_type": "code",
   "execution_count": 19,
   "id": "b6903864-4f79-4954-a80e-e2937a68b547",
   "metadata": {},
   "outputs": [
    {
     "name": "stdout",
     "output_type": "stream",
     "text": [
      "x는 string01 문자열 객체 안에 없습니다.\n"
     ]
    }
   ],
   "source": [
    "string01 = \"Dave ID is dave\"\n",
    "string01.find(\"a\")\n",
    "string01.find(\"x\")\n",
    "\n",
    "if string01.find(\"x\") == -1 :\n",
    "    print(\"x는 string01 문자열 객체 안에 없습니다.\")"
   ]
  },
  {
   "cell_type": "code",
   "execution_count": 20,
   "id": "df7ddd0f-9076-41e5-9abe-2f997145ec05",
   "metadata": {},
   "outputs": [
    {
     "data": {
      "text/plain": [
       "'1,2,3,4,5'"
      ]
     },
     "execution_count": 20,
     "metadata": {},
     "output_type": "execute_result"
    }
   ],
   "source": [
    "string02 = \"12345\"\n",
    "comma = \",\"\n",
    "\n",
    "comma.join(string02)"
   ]
  },
  {
   "cell_type": "code",
   "execution_count": 25,
   "id": "49a89c12-11ec-494b-a8c2-5e21876ed628",
   "metadata": {},
   "outputs": [
    {
     "data": {
      "text/plain": [
       "'Dave03  '"
      ]
     },
     "execution_count": 25,
     "metadata": {},
     "output_type": "execute_result"
    }
   ],
   "source": [
    "data01 = \"      Dave      \"\n",
    "data01.strip()\n",
    "\n",
    "data02 = \"    Dave02       \"\n",
    "data02.rstrip()\n",
    "\n",
    "data03 = \"    Dave03  \"\n",
    "data03.lstrip()"
   ]
  },
  {
   "cell_type": "code",
   "execution_count": 35,
   "id": "e4397412-492a-4829-b62b-f89027b47bf6",
   "metadata": {},
   "outputs": [
    {
     "data": {
      "text/plain": [
       "'Dave'"
      ]
     },
     "execution_count": 35,
     "metadata": {},
     "output_type": "execute_result"
    }
   ],
   "source": [
    "string03 = \"      9999999999999(Dave)88888888888888        \"\n",
    "\n",
    "string03.strip(\"9\")  # 9 하나만 날림\n",
    "string03.strip(\" 9\")  #여백과 함께 9를 다 날림\n",
    "string03.strip(\" 98\")  #여백과 함께 9와 8을 다 날림\n",
    "string03.strip(\" 98()\")  #여백과 함께 9와 8과 ()을 다 날림"
   ]
  },
  {
   "cell_type": "code",
   "execution_count": 39,
   "id": "28912950-ec03-479c-85f1-69730f697c9f",
   "metadata": {},
   "outputs": [
    {
     "data": {
      "text/plain": [
       "'DAVE ID IS DAVE'"
      ]
     },
     "execution_count": 39,
     "metadata": {},
     "output_type": "execute_result"
    }
   ],
   "source": [
    "string04 = \"Dave ID is dave\"\n",
    "string04.upper()"
   ]
  },
  {
   "cell_type": "code",
   "execution_count": 37,
   "id": "b9fa0dff-4e9b-4b0d-849f-3c279211b1e8",
   "metadata": {},
   "outputs": [
    {
     "data": {
      "text/plain": [
       "'dave id is dave'"
      ]
     },
     "execution_count": 37,
     "metadata": {},
     "output_type": "execute_result"
    }
   ],
   "source": [
    "string05 = \"Dave ID is dave\"\n",
    "string05.lower()"
   ]
  },
  {
   "cell_type": "code",
   "execution_count": 46,
   "id": "781db72a-ecf2-4d43-91ca-be774e260494",
   "metadata": {},
   "outputs": [
    {
     "data": {
      "text/plain": [
       "['Dave', 'goes', 'to', 'Korea']"
      ]
     },
     "execution_count": 46,
     "metadata": {},
     "output_type": "execute_result"
    }
   ],
   "source": [
    "string06 = \"Dave goes to Korea\"\n",
    "string06.split()\n",
    "string06.split(\" \")  #두 명령문은 같음"
   ]
  },
  {
   "cell_type": "code",
   "execution_count": 42,
   "id": "e5ad9fc3-02e9-4566-ba43-9040066ba6c0",
   "metadata": {},
   "outputs": [
    {
     "data": {
      "text/plain": [
       "'Korea'"
      ]
     },
     "execution_count": 42,
     "metadata": {},
     "output_type": "execute_result"
    }
   ],
   "source": [
    "string06 = \"Dave goes to Korea\"\n",
    "string06.split()[3]"
   ]
  },
  {
   "cell_type": "code",
   "execution_count": 47,
   "id": "0bfa8df6-124d-42e0-b5eb-0ac5ded2e1e0",
   "metadata": {},
   "outputs": [
    {
     "data": {
      "text/plain": [
       "['Dave', 'goes', 'to', 'Korea']"
      ]
     },
     "execution_count": 47,
     "metadata": {},
     "output_type": "execute_result"
    }
   ],
   "source": [
    "string07 = \"Dave/goes/to/Korea\"\n",
    "string07.split(\"/\")"
   ]
  },
  {
   "cell_type": "markdown",
   "id": "4ca6884e-93a6-4d82-bed2-3ea8a7b6a5c5",
   "metadata": {},
   "source": [
    "#### 문자열 \"10,11,12,13,14\" 해당 값을 리스트 자료형태 [10,11,12,13,14]로 변환시켜보세요!!"
   ]
  },
  {
   "cell_type": "code",
   "execution_count": 68,
   "id": "17d569d7-cdc0-4821-8252-2b91d416453c",
   "metadata": {},
   "outputs": [
    {
     "name": "stdout",
     "output_type": "stream",
     "text": [
      "[10, 11, 12, 13, 14]\n"
     ]
    }
   ],
   "source": [
    "string = \"10,11,12,13,14\"\n",
    "split_string = string.split(\",\")\n",
    "\n",
    "for index,split_item in enumerate(split_string) :\n",
    "    split_string[index] = int(split_item)\n",
    "print(split_string)"
   ]
  },
  {
   "cell_type": "code",
   "execution_count": 6,
   "id": "1a8716ca-738e-43e7-89f7-aee062eb1bef",
   "metadata": {},
   "outputs": [
    {
     "name": "stdout",
     "output_type": "stream",
     "text": [
      "[10, 11, 12, 13, 14]\n"
     ]
    }
   ],
   "source": [
    "string = \"10,11,12,13,14\"\n",
    "split_string = string.split(\",\")\n",
    "\n",
    "for index,item in enumerate(split_string) :\n",
    "    split_string[index] = int(item)\n",
    "print(split_string)"
   ]
  },
  {
   "cell_type": "code",
   "execution_count": 4,
   "id": "a55af1d1-f2e7-4bdd-adac-19ba8b6d2619",
   "metadata": {},
   "outputs": [
    {
     "data": {
      "text/plain": [
       "'David'"
      ]
     },
     "execution_count": 4,
     "metadata": {},
     "output_type": "execute_result"
    }
   ],
   "source": [
    "string08 = \"Dave goes to Korea\"\n",
    "string08.replace(\"Dave\", \"David\")\n",
    "\n",
    "string09 = \"(David)\"\n",
    "string09.replace(\"(\",\"\")\n",
    "\n",
    "string10 = \"(David)\"\n",
    "string10.replace(\"()\",\"\")   #제거하고자하는 문자열이 해당 문자열과 정확하게 일치해야 제거할 수 있음\n",
    "\n",
    "string11 = \"(David)\"\n",
    "# string12 = string11.replace(\"(\",\"\")\n",
    "# string12.replace(\")\",\"\")\n",
    "\n",
    "# Method Chaining\n",
    "string13 = string11.replace(\"(\",\"\").replace(\")\",\"\")\n",
    "string13"
   ]
  }
 ],
 "metadata": {
  "kernelspec": {
   "display_name": "Python 3 (ipykernel)",
   "language": "python",
   "name": "python3"
  },
  "language_info": {
   "codemirror_mode": {
    "name": "ipython",
    "version": 3
   },
   "file_extension": ".py",
   "mimetype": "text/x-python",
   "name": "python",
   "nbconvert_exporter": "python",
   "pygments_lexer": "ipython3",
   "version": "3.13.5"
  }
 },
 "nbformat": 4,
 "nbformat_minor": 5
}
