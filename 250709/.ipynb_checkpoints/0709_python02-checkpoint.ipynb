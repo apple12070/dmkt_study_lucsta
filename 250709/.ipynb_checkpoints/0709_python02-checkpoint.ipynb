{
 "cells": [
  {
   "cell_type": "markdown",
   "id": "744f5546-5d7b-4227-9b1f-eb999807550c",
   "metadata": {},
   "source": [
    "#### 파이썬 크롤링\n",
    "1. 크롤링을 하는 수많은 프로그래밍 언어와 툴이 존재하는데 왜? 파이썬?\n",
    "   - 파이썬은 라이브러리의 천국이다\n",
    "   - 라이브러리란? => 도서관 => 특정 분야에 대한 전문지식을 습득하기 위해서 해당 책을 빌려보거나 서재에서 가져다가 참고!\n",
    "   - 크롤링을 하려고 하는데, a to z까지 직접 크롤링을 위한 코드를 작성한다면 시간,효율이 매우 안좋을 것임\n",
    "   - 파이썬은 미리 크롤링할 수 있도록 도와줄 수 있는 일종의 참고서적을 만들어놓음 (*참고서적 => 라이브러리)\n",
    "   - 특정 라이브러리를 가져와서 사용하려면 import라는 예약어(*명령어)를 사용해야 함\n",
    "   - 만약에 해당 라이브러리가 파이썬에 내장되어있는 라이브러리가 아니라고 한다면 반드시 사전에 설치가 필요함\n",
    "     - !pip = (Python Install Pachage)\n",
    "     - !pip install 설치하고 싶은 라이브러리명 = ex) pandas"
   ]
  },
  {
   "cell_type": "code",
   "execution_count": 2,
   "id": "f04ba05f-ec97-460e-b291-22ebe9bc00b2",
   "metadata": {},
   "outputs": [
    {
     "name": "stdout",
     "output_type": "stream",
     "text": [
      "Requirement already satisfied: pandas in c:\\users\\user\\downloads\\fireshot\\lib\\site-packages (2.2.3)\n",
      "Requirement already satisfied: numpy>=1.26.0 in c:\\users\\user\\downloads\\fireshot\\lib\\site-packages (from pandas) (2.1.3)\n",
      "Requirement already satisfied: python-dateutil>=2.8.2 in c:\\users\\user\\downloads\\fireshot\\lib\\site-packages (from pandas) (2.9.0.post0)\n",
      "Requirement already satisfied: pytz>=2020.1 in c:\\users\\user\\downloads\\fireshot\\lib\\site-packages (from pandas) (2024.1)\n",
      "Requirement already satisfied: tzdata>=2022.7 in c:\\users\\user\\downloads\\fireshot\\lib\\site-packages (from pandas) (2025.2)\n",
      "Requirement already satisfied: six>=1.5 in c:\\users\\user\\downloads\\fireshot\\lib\\site-packages (from python-dateutil>=2.8.2->pandas) (1.17.0)\n"
     ]
    }
   ],
   "source": [
    "!pip install pandas"
   ]
  },
  {
   "cell_type": "code",
   "execution_count": 3,
   "id": "dc797152-865d-4c23-8ab0-15159dab7083",
   "metadata": {},
   "outputs": [],
   "source": [
    "import pandas"
   ]
  },
  {
   "cell_type": "code",
   "execution_count": 19,
   "id": "bab61cf2-8453-4026-a7c9-03ae644c92af",
   "metadata": {},
   "outputs": [
    {
     "data": {
      "text/plain": [
       "2.5"
      ]
     },
     "execution_count": 19,
     "metadata": {},
     "output_type": "execute_result"
    }
   ],
   "source": [
    "# import statistics\n",
    "# from statistics import mean ,stdev\n",
    "# from statistics import *   # * => 전체 선택자(에스테릭)\n",
    "# import statistics as s    # as = alias(별칭)의 약자 \n",
    "from statistics import mean as m    # m을 mean의 별칭으로 지정\n",
    "\n",
    "data = [1,2,3,4]\n",
    "\n",
    "m(data)\n",
    "\n",
    "# print(s.mean(data))\n",
    "# print(s.stdev(data))\n",
    "\n",
    "# print(statistics.mean(data))    #mean() = 리스트 안 인자값들의 평균값을 구해주는 메서드함수  # statistics => 객체\n",
    "# print(statistics.stdev(data))   #stdev() = 표준편차값 구해주는 메서드함수"
   ]
  }
 ],
 "metadata": {
  "kernelspec": {
   "display_name": "Python 3 (ipykernel)",
   "language": "python",
   "name": "python3"
  },
  "language_info": {
   "codemirror_mode": {
    "name": "ipython",
    "version": 3
   },
   "file_extension": ".py",
   "mimetype": "text/x-python",
   "name": "python",
   "nbconvert_exporter": "python",
   "pygments_lexer": "ipython3",
   "version": "3.13.5"
  }
 },
 "nbformat": 4,
 "nbformat_minor": 5
}
