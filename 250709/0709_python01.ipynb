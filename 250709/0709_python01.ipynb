{
 "cells": [
  {
   "cell_type": "markdown",
   "id": "a23c7ba7-f8db-4a9a-a610-95f5ada03625",
   "metadata": {},
   "source": [
    "### 1. 파이썬 객체에 대한 개념\n",
    "    - 파이썬은 객체지향 언어이다.\n",
    "    - 프로그래밍 언어는 크게 2가지 부류로 나눠서 볼 수 있음\n",
    "        1. C언어 : 절차지향언어\n",
    "        2. C++, C#, Java, JS, PY : 객체지향언어\n",
    "### 2. class에 대한 개념\n",
    "### 3. 파이썬 크롤링 예제 (크롤링을 하고자 하는 대상에 대한 이해)\n",
    "    - 사이트 html, css, js가 어떻게 유기적으로 돌아가는지\n",
    "    - html class, id, js (java script)\n",
    "    - 간단한 사이트를 하나 만들면서 이해하기\n",
    "### 4. 크롤링에 대한 문법 예제"
   ]
  },
  {
   "cell_type": "markdown",
   "id": "852bcb26-a418-4bb4-8930-b5aa954339b3",
   "metadata": {},
   "source": [
    "## 1. 절차지향 언어가 문제를 해결해가는 과정\n",
    "\n",
    "- EX) \"냉장고에 코끼리를 넣어라\"\n",
    "- 1. 냉장고 문을 연다 // open 냉장고\n",
    "  2. 코끼리를 냉장고에 넣는다 // insert 코끼리 into 냉장고\n",
    "  3. 냉장고 문을 닫는다 // close 냉장고"
   ]
  },
  {
   "cell_type": "markdown",
   "id": "40f693b7-ed5a-4c35-b542-277cd200f2b3",
   "metadata": {},
   "source": [
    "## 2.객체지향 언어가 문제를 해결해가는 과정\n",
    "\n",
    "- EX) 냉장고에 코끼리를 넣는다\n",
    "- 1. 코끼리라는 동물의 정보를 수집해서 해당 동물에 대한 설계도를 만든다.(*코끼리는 냉장고의 문을 열 수 있고, 안으로 들어갈 수 있는 기능을 사전에 정의)\n",
    "  2. 이전 단계에서 만든 코끼리 설계도를 기반으로 코끼리1 이라는 객체를 하나 만든다.\n",
    "  3. 냉장고라는 사물의 정보를 수집해서 해당 사물에 대한 설계도를 만든다.(*만약 코끼리가 냉장고안에 들어오면 문이 자동으로 닫혀지도록 하는 기능을 사전에 정의)\n",
    "  4. 이전 단계에서 만든 냉장고 설계도를 기반으로 냉장고1 이라는 객체를 하나 만든다.\n",
    "  5. 코끼리1 이라는 객체 안에 \"내장\"되어있는 기능을 호출해서 냉장고1 이라는 객체의 문을 열게 한다.\n",
    "  6. 코끼리1 이라는 객체 안에 \"내장\"되어있는 기능을 호출해서 냉장고1 이라는 객체 안으로 들어가게 한다.\n",
    "  7. 냉장고1 이라는 객체 안에 \"내장\"되어있는 기능을 호출해서 냉장고1 이라는 객체의 문을 닫게 한다."
   ]
  },
  {
   "cell_type": "markdown",
   "id": "11aea5f6-0a3b-46a0-81ed-afc786efedd9",
   "metadata": {},
   "source": [
    "## 3.객체지향 프로그래밍 언어의 핵심 요소\n",
    "\n",
    "1. 어떤 사물 혹은 동물을 나타낼 수 있는 설계도를 객체지향언어에서 class라고 부름\n",
    "    - attribute (속성) : 코끼리의 다리는 4개 / 코끼리의 손은 코는 1개 = 코는 손의 역할을 함\n",
    "    - method (기능 = 객체만의 기능을 구현할 수 있는 함수) : 코끼리가 냉장고를 보면 자신의 코로 문을 연다. / 코끼리가 자신의 코로 냉장고의 문을 연다면 그 안으로 들어간다.\n",
    "    - 만약 해당 객체가 사전에 설계도면에 정의가 되어있는 속성값과 기능을 구현하고 싶다면 이렇게 작성해라 => 객체.속성 // 객체.메서드함수()\n",
    "3. 어떤 사물 혹은 동물의 정보를 가지고 있는 설계도를 가지고 만들어진 객체를 object라고 부름 * object = 객체\n",
    "   - 객체명.속성 : 객체가 가지고 있는 어떤 정보들을 찾아올 수 있음\n",
    "   - 객체명.메서드함수() : 객체가 가지고 있는 고유한 메서드함수를 실행하겠다는 의미"
   ]
  },
  {
   "cell_type": "markdown",
   "id": "6a1613ec-f92e-4317-910f-c9e57c2c72e2",
   "metadata": {},
   "source": [
    "## 4.class를 활용한 객체생성 문법\n",
    "\n",
    "1. 클래스 정의 : class라는 예약어를 써야함 => class Student => Student라는 클래스를 정의하겠다는 의미!\n",
    "2. 클래스 안에 \"속성\"과 \"메서드함수\"를 정의하려면, \"생성자 함수 = 초기화 함수\"를 만들어야 함!\n",
    "   - __init__ : 클래스를 통해서 객체가 생성될 때 자동으로 호출되는 특별한 함수\n",
    "   - self : (매개변수) __init__이라는 특별한 함수를 선언할 때, 반드시 첫번째 매개변수로 작성해야 함! => 자기자신 = 클래스를 통해서 생성되어질 객체 당사자\n",
    "   - EX) __init__(self, name, grade) => 클래스를 활용해서 최초에 객체를 생성할 때, name이라는 속성값과 grade라는 속성값을 받아서 객체본인의 속성으로 정의하겠다는 의미를 내포하고 있다.\n",
    "   - 클래스 안에서 생성자 함수를 사용하는 예.\n",
    "   - def __init__(self,name,grade) :\n",
    "          self.name = name\n",
    "          self.grade = grade\n",
    "   - self.name => 클래스 안에 있는 하나의 변수로서 인식\n",
    "   - 생성자 함수를 선언한 이후에 메서드함수를 선언!!! => 개발자가 원하는 직관적인 이름으로 메서드함수명을 선언\n",
    "   - def study(self) :\n",
    "         print(f\"{self.name}가 공부를 열심히 합니다.\")\n",
    "   - 클래스를 통해서 새롭게 탄생한 객체.study(공유) => 공유가 공부를 열심히 합니다. 라는 구문이 출력 !!! "
   ]
  },
  {
   "cell_type": "code",
   "execution_count": 1,
   "id": "a69557c9-bb6e-49d9-86de-1bc45415c19d",
   "metadata": {},
   "outputs": [
    {
     "name": "stdout",
     "output_type": "stream",
     "text": [
      "Fun Coding\n"
     ]
    }
   ],
   "source": [
    "# 함수선언\n",
    "def print_string(data) :   #data = 참조변수\n",
    "    print(data)\n",
    "\n",
    "# 함수호출\n",
    "print_string(\"Fun Coding\")"
   ]
  },
  {
   "cell_type": "code",
   "execution_count": 6,
   "id": "cea9dc01-79b3-4906-88b2-e7f14dfc6fe5",
   "metadata": {},
   "outputs": [
    {
     "name": "stdout",
     "output_type": "stream",
     "text": [
      "<class 'str'>\n"
     ]
    }
   ],
   "source": [
    "string = \"Fun Coding\"  # string = 문자열의 구조를 띄고 있는 객체\n",
    "string.split()     # split()은 내장함수이기 때문에 해당 함수를 선언하지 않아도 사용 가능.\n",
    "print(type(string))   # class로 만들어진 str이라는 내장함수를 가지고 있음"
   ]
  },
  {
   "cell_type": "code",
   "execution_count": 13,
   "id": "6e9a11f2-9425-4716-b6e3-54f264bcbb13",
   "metadata": {},
   "outputs": [],
   "source": [
    "class Student :   #student라는 class를 정의할거야\n",
    "    def __init__(self, name, grade) :\n",
    "        self.name = name\n",
    "        self.grade = grade\n",
    "\n",
    "    def study(self) :\n",
    "            print(f\"{self.name}가 공부를 열심히 합니다.\")\n",
    "    def take_exam(self) :\n",
    "            print(f\"{self.grade}가 시험을 봅니다.\")"
   ]
  },
  {
   "cell_type": "code",
   "execution_count": 14,
   "id": "e8c162bf-f74b-4893-a104-8f5087da6dcb",
   "metadata": {},
   "outputs": [
    {
     "name": "stdout",
     "output_type": "stream",
     "text": [
      "David 3\n",
      "David가 공부를 열심히 합니다.\n"
     ]
    }
   ],
   "source": [
    "student = Student(\"David\",3)\n",
    "print(student.name,student.grade)\n",
    "student.study()"
   ]
  }
 ],
 "metadata": {
  "kernelspec": {
   "display_name": "Python 3 (ipykernel)",
   "language": "python",
   "name": "python3"
  },
  "language_info": {
   "codemirror_mode": {
    "name": "ipython",
    "version": 3
   },
   "file_extension": ".py",
   "mimetype": "text/x-python",
   "name": "python",
   "nbconvert_exporter": "python",
   "pygments_lexer": "ipython3",
   "version": "3.13.5"
  }
 },
 "nbformat": 4,
 "nbformat_minor": 5
}
