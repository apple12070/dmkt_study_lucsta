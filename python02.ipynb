{
 "cells": [
  {
   "cell_type": "markdown",
   "id": "64c3de13-7de5-49ff-b21e-078104d00c5b",
   "metadata": {},
   "source": [
    "#### 파이썬 입.출력 예시\n",
    "\n",
    "- 사용자로부터 2개의 숫자를 입력받은 후 해당 2개의 숫자를 더한 값을 출력하는 프로그램을 작성해보세요."
   ]
  },
  {
   "cell_type": "code",
   "execution_count": 4,
   "id": "33ca6055-b091-4b8e-8635-2d1f5f591e29",
   "metadata": {},
   "outputs": [
    {
     "name": "stdin",
     "output_type": "stream",
     "text": [
      "first number 3\n",
      "second number 2\n"
     ]
    },
    {
     "name": "stdout",
     "output_type": "stream",
     "text": [
      "OUTPUT= 5\n"
     ]
    }
   ],
   "source": [
    "num1=int(input(\"first number\"))\n",
    "num2=int(input(\"second number\"))\n",
    "\n",
    "result=num1+num2\n",
    "\n",
    "print(\"OUTPUT=\", result)\n"
   ]
  }
 ],
 "metadata": {
  "kernelspec": {
   "display_name": "Python 3 (ipykernel)",
   "language": "python",
   "name": "python3"
  },
  "language_info": {
   "codemirror_mode": {
    "name": "ipython",
    "version": 3
   },
   "file_extension": ".py",
   "mimetype": "text/x-python",
   "name": "python",
   "nbconvert_exporter": "python",
   "pygments_lexer": "ipython3",
   "version": "3.13.5"
  }
 },
 "nbformat": 4,
 "nbformat_minor": 5
}
