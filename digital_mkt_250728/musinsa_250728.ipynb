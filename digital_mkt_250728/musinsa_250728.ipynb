{
 "cells": [
  {
   "cell_type": "code",
   "execution_count": 16,
   "id": "4d78390a-4891-4c47-a8bd-5eb62699addd",
   "metadata": {},
   "outputs": [
    {
     "name": "stdout",
     "output_type": "stream",
     "text": [
      "상품명 : 엣지 라인 트윌리 스카프 (화이트 & 핑크)\n",
      "1. 화이트블라우스에 포인트로 하려고 구매 이쁘네요 슬림하게나온 트윌리보다 넓어서 스카프느낌\n",
      "2. 예쁜데 너무 생화이트라 코디하기 생각보다 어려워요! 부드럽고 원단은 좋은데 쉽게 오염될 것 같습니다\n",
      "3. 색상이 화사하고 이쁘네요,살짝 넓이가 좁았으면 좋았을듯해요\n"
     ]
    }
   ],
   "source": [
    "from selenium import webdriver\n",
    "from selenium.webdriver.chrome.service import Service\n",
    "from selenium.webdriver.chrome.options import Options\n",
    "from selenium.webdriver.common.by import By\n",
    "from selenium.webdriver.support.ui import WebDriverWait\n",
    "from selenium.webdriver.support import expected_conditions as EC\n",
    "from bs4 import BeautifulSoup\n",
    "from webdriver_manager.chrome import ChromeDriverManager\n",
    "from openpyxl import Workbook\n",
    "import time\n",
    "\n",
    "options = Options()\n",
    "options.add_argument(\"--headless\")\n",
    "options.add_argument(\"--no-sandbox\")\n",
    "options.add_argument(\"--disable-dev-shm-usage\")\n",
    "service = Service(ChromeDriverManager().install())\n",
    "driver = webdriver.Chrome(service=service, options=options)\n",
    "\n",
    "\n",
    "url = \"https://www.musinsa.com/products/3143803\"\n",
    "driver.get(url)\n",
    "\n",
    "try :\n",
    "    review_tab = WebDriverWait(driver,10).until(\n",
    "        EC.element_to_be_clickable((By.XPATH,\"//span[contains(text(),'스냅·후기')]\"))\n",
    "    )\n",
    "    review_tab.click()\n",
    "    time.sleep(2)\n",
    "except Exception as e :\n",
    "    print(\"리뷰 탭 클릭 실패 : \", e)\n",
    "\n",
    "scroll_pause = 1\n",
    "last_height = driver.execute_script(\"return document.body.scrollHeight\")\n",
    "for _ in range(5) :\n",
    "    driver.execute_script(\"window.scrollTo(0, document.body.scrollHeight)\")\n",
    "    time.sleep(scroll_pause)\n",
    "    new_height = driver.execute_script(\"return document.body.scrollHeight\")\n",
    "    if new_height == last_height :\n",
    "        break\n",
    "    last_height = new_height\n",
    "\n",
    "soup = BeautifulSoup(driver.page_source, \"html.parser\")\n",
    "\n",
    "product_name = soup.select_one(\"span.text-title_18px_med.sc-1omefes-1.exqQRL.font-pretendard\").get_text(strip=True)\n",
    "\n",
    "review_cards = soup.select(\"div.GoodsReviewStaticList__Container-sc-s1ucwv-0.lnqPxe\")\n",
    "\n",
    "reviews = []\n",
    "for card in review_cards :\n",
    "    text_tags = card.select(\"span.text-body_13px_reg.text-black.font-pretendard\")\n",
    "    for tag in text_tags :\n",
    "        text = tag.get_text(strip=True)\n",
    "        if text and len(text) > 10 :\n",
    "            reviews.append(text)\n",
    "\n",
    "reviews = list(set(reviews))\n",
    "\n",
    "print(f\"상품명 : {product_name}\")\n",
    "for index, review in enumerate(reviews,start = 1) :\n",
    "    clean_review = review.replace(\"\\n\",\" \")\n",
    "    print(f\"{index}. {clean_review}\")"
   ]
  }
 ],
 "metadata": {
  "kernelspec": {
   "display_name": "Python [conda env:base] *",
   "language": "python",
   "name": "conda-base-py"
  },
  "language_info": {
   "codemirror_mode": {
    "name": "ipython",
    "version": 3
   },
   "file_extension": ".py",
   "mimetype": "text/x-python",
   "name": "python",
   "nbconvert_exporter": "python",
   "pygments_lexer": "ipython3",
   "version": "3.13.5"
  }
 },
 "nbformat": 4,
 "nbformat_minor": 5
}
