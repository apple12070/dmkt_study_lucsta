{
 "cells": [
  {
   "cell_type": "code",
   "execution_count": 3,
   "id": "298141b9-a6c0-427d-8cf7-36e598b25bdf",
   "metadata": {},
   "outputs": [
    {
     "name": "stdout",
     "output_type": "stream",
     "text": [
      "[]\n"
     ]
    }
   ],
   "source": [
    "import requests\n",
    "from bs4 import BeautifulSoup\n",
    "from openpyxl import Workbook\n",
    "\n",
    "url = \"https://www.kurly.com/goods/1001193583\"\n",
    "res = requests.get(url)\n",
    "soup = BeautifulSoup(res.text, \"html.parser\")\n",
    "\n",
    "test = soup.select(\".css-y49dcn.e36z05c13\")  # test라는 변수에 \".\"로 class값 부여\n",
    "print(test)"
   ]
  },
  {
   "cell_type": "code",
   "execution_count": 5,
   "id": "72e5e9b0-3318-418a-b146-89eca2407b1f",
   "metadata": {},
   "outputs": [
    {
     "name": "stdout",
     "output_type": "stream",
     "text": [
      "Requirement already satisfied: selenium in c:\\users\\user\\downloads\\fireshot\\lib\\site-packages (4.34.2)\n",
      "Requirement already satisfied: urllib3~=2.5.0 in c:\\users\\user\\downloads\\fireshot\\lib\\site-packages (from urllib3[socks]~=2.5.0->selenium) (2.5.0)\n",
      "Requirement already satisfied: trio~=0.30.0 in c:\\users\\user\\downloads\\fireshot\\lib\\site-packages (from selenium) (0.30.0)\n",
      "Requirement already satisfied: trio-websocket~=0.12.2 in c:\\users\\user\\downloads\\fireshot\\lib\\site-packages (from selenium) (0.12.2)\n",
      "Requirement already satisfied: certifi>=2025.6.15 in c:\\users\\user\\downloads\\fireshot\\lib\\site-packages (from selenium) (2025.7.14)\n",
      "Requirement already satisfied: typing_extensions~=4.14.0 in c:\\users\\user\\downloads\\fireshot\\lib\\site-packages (from selenium) (4.14.1)\n",
      "Requirement already satisfied: websocket-client~=1.8.0 in c:\\users\\user\\downloads\\fireshot\\lib\\site-packages (from selenium) (1.8.0)\n",
      "Requirement already satisfied: attrs>=23.2.0 in c:\\users\\user\\downloads\\fireshot\\lib\\site-packages (from trio~=0.30.0->selenium) (24.3.0)\n",
      "Requirement already satisfied: sortedcontainers in c:\\users\\user\\downloads\\fireshot\\lib\\site-packages (from trio~=0.30.0->selenium) (2.4.0)\n",
      "Requirement already satisfied: idna in c:\\users\\user\\downloads\\fireshot\\lib\\site-packages (from trio~=0.30.0->selenium) (3.7)\n",
      "Requirement already satisfied: outcome in c:\\users\\user\\downloads\\fireshot\\lib\\site-packages (from trio~=0.30.0->selenium) (1.3.0.post0)\n",
      "Requirement already satisfied: sniffio>=1.3.0 in c:\\users\\user\\downloads\\fireshot\\lib\\site-packages (from trio~=0.30.0->selenium) (1.3.0)\n",
      "Requirement already satisfied: cffi>=1.14 in c:\\users\\user\\downloads\\fireshot\\lib\\site-packages (from trio~=0.30.0->selenium) (1.17.1)\n",
      "Requirement already satisfied: wsproto>=0.14 in c:\\users\\user\\downloads\\fireshot\\lib\\site-packages (from trio-websocket~=0.12.2->selenium) (1.2.0)\n",
      "Requirement already satisfied: pysocks!=1.5.7,<2.0,>=1.5.6 in c:\\users\\user\\downloads\\fireshot\\lib\\site-packages (from urllib3[socks]~=2.5.0->selenium) (1.7.1)\n",
      "Requirement already satisfied: pycparser in c:\\users\\user\\downloads\\fireshot\\lib\\site-packages (from cffi>=1.14->trio~=0.30.0->selenium) (2.21)\n",
      "Requirement already satisfied: h11<1,>=0.9.0 in c:\\users\\user\\downloads\\fireshot\\lib\\site-packages (from wsproto>=0.14->trio-websocket~=0.12.2->selenium) (0.16.0)\n",
      "Note: you may need to restart the kernel to use updated packages.\n"
     ]
    }
   ],
   "source": [
    "pip install selenium"
   ]
  },
  {
   "cell_type": "code",
   "execution_count": 6,
   "id": "ac4f454c-0bdb-49af-a0ce-6ca7bf06df1c",
   "metadata": {},
   "outputs": [
    {
     "name": "stdout",
     "output_type": "stream",
     "text": [
      "해찬미소 남도식 된장 꽃게탕🦀\n",
      "\n",
      "꽃게탕 좋아하는 울 아들 위해 주문해봤어요^^\n",
      "꽃게를 사서 정통으로 다 꽃게탕을 하나부터 열까지 끓이기는 자신이 없었는데..\n",
      "요거 해찬미소 남도식 된장 꽃게탕 밀키트면\n",
      "완전 금손 엄마 가능이더라구요?!?ㅋㅋ\n",
      "\n",
      "꽃게탕 만드는데 필요한 재료는\n",
      "다 들어가있어요.\n",
      "\n",
      "물 끓이고 동봉된 꽃게와 코인육수 넣어\n",
      "센불에 팔팔 끓여내고\n",
      "\n",
      "된장소스와 파마늘 넣어 중불에 8분정도 더 끓여내면\n",
      "맛있는 꽃게탕 완성🦀\n",
      "\n",
      "우리 아들 신나서 살 쏙쏙 발라 잘 먹었어요~!\n",
      "캠핑요리로도 완벽합니다ㅎㅎ\n",
      "\n",
      "컬리에서 고기와 채소 그리고 요 꽃게탕 주문해서\n",
      "캠핑했는데\n",
      "정말 완벽했어요^0^\n",
      "\n",
      "그리고 핵 꿀 팁!!!\n",
      "요 해찬미소 남도식 된장 꽃게탕 한국자\n",
      "컵라면에 넣어주면\n",
      "진짜 환상적입니다..\n",
      "미쳤어요^^\n",
      "꼭 한 번 드셔보세요☺️🤍\n",
      "해찬미소 상품은 가격에 비해 퀄리티가 참 좋아요\n",
      "연포탕, 양념게장, 간장게장, 새우장 다 맛있게 먹었는데\n",
      "이번 꽃게탕 신상도~  와!! 가격도 너무 좋고, 맛은 더 좋네요?\n",
      "살과 알이 찬 꽃게게 5개 들어있었어요~\n",
      "행사까지 하니까 미춋따!!\n",
      "\n",
      "🦀레시피\n",
      " 1. 하루 전에 냉장실에서 해동했어요\n",
      " 2. 흐르는 물에 꽃게를 살살 씻어내주구요 야채도 씻어서 준비해요\n",
      " 3. 물 850ml에 육수한알과 씻은 꽃게를 넣고 팔팔 끊여줍니다\n",
      " 4. 끊는물은 5국자 그릇에 담아 동봉된 소스를 풀어줘요\n",
      " 5. 풀어준 소스와 야채를 넣고 팔팔 끊여줍니다\n",
      " 6. 그릇에 담아 맛있게 드세요\n",
      "\n",
      "✔️ 부재료 없이 레시피 그대로 끊였는데도 너무 맛있더라구요\n",
      " 아니 어쩜 국물이 이렇게 시원한지요!\n",
      " 작년쯤 고창에 갔을때 해찬미소 식당에가서 식사하면서 나왔던 꽃게탕이 정말 맛있었는데\n",
      " 그 맛이 생각날 정도로 너무 맛있더라구요~\n",
      " 오늘 같이 비오는 날 더 생각이 나네요^^\n",
      "컬리 신상풍 구경하다가 구매한 해찬미소 꽃게탕을 먹어봤는데, 진심으로 감동했습니다. 보통 냉동식품은 간편함 때문에 구매하지만 맛은 큰 기대를 하지 않는데, 이 제품은 예상을 완전히 뒤엎었어요.\n",
      " ",
      "첫 입부터 진한 된장의 구수한 맛과 꽃게에서 우러나온 해물 육수가 국물에 깊이를 더해줍니다. 시판 제품인데도 불구하고 마치 엄마가 정성껏 끓여준 꽂게탕 같은 느낌이랄까요? 꽃게도 속살이 꽉 차서 국물 맛을 내기에 충분했어요.\n",
      "\n",
      "냄비에 끓이기만 하면 되니 조리는 간단했어요. 패키지에서 바로 꺼내서 냄비에 넣고 7~8분만 끓이면 완성! 간이 세지 않아서 기호에 따라 두부나 버섯, 청양고추를 조금 추가하면 더 풍성하게 즐길 수 있습니다. 저는 냉장고에 있던 두부와 쑥갓을 넣었더니 한층 더 집밥스러워졌어요.🍚🦀\n",
      " ",
      "맛, 재료, 조리 편의성 모든 면에서 만족스러웠고, 무엇보다 이 가격에 이 정도 퀄리티는 가성비 최고라고 생각합니다. 저는 벌써 두 팩 더 쟁여놨어요😋\n",
      "잘먹긴했지만 재구매는 안할것같아요\n",
      "꽃게도 많고, 맛있어요.\n",
      "국물도 시원하고요.\n",
      "해물종류는 무조건 좋아하는 남편~\n",
      "무 좀 더 썰어 넣고 먹으면 한끼 딱 좋아요. 맛도 좋고 꽃게도 많이 들어있는 편이에요. 저희 집 재구매 템입니다.\n",
      "재구매에요 간편하고 너무 맛있게 먹어서 구매했어요 애호박 추가로 넣어 먹었어요\n",
      "맛있게 먹고 재구매 했어요\n",
      "너무 맛있게 잘~~~먹었어요\n"
     ]
    }
   ],
   "source": [
    "from selenium import webdriver\n",
    "from selenium.webdriver.chrome.options import Options\n",
    "from bs4 import BeautifulSoup\n",
    "import time\n",
    "\n",
    "# 1. 셀레니움 기본 옵션 설정\n",
    "options = Options()\n",
    "options.add_argument(\"--no-sandbox\")  # google chrome이 갖고있는 보안장치(sandbox)\n",
    "options.add_argument(\"--disable-dev-shm-usage\") # 개발자도구에서 보안정책 위반으로 단속하는 것을 막아주는 명령어\n",
    "options.add_argument(\"--headless\") #보안관련창 뜨는것을 막아줌\n",
    "\n",
    "driver = webdriver.Chrome(options = options)\n",
    "\n",
    "# 2. 페이지 접속\n",
    "url = \"https://www.kurly.com/goods/1001193583\"\n",
    "driver.get(url)\n",
    "\n",
    "time.sleep(5) # 페이지 로딩 대기시간 설정(5초)b\n",
    "\n",
    "# 3. HTML 가져오기\n",
    "soup = BeautifulSoup(driver.page_source, \"html.parser\")\n",
    "\n",
    "# 4. 리뷰 텍스트 추출하기\n",
    "reviews = soup.select(\"p.css-y49dcn.e36z05c13\")\n",
    "for review in reviews :\n",
    "    print(review.get_text().strip())\n",
    "\n",
    "driver.quit()  # 값을 찾아온 후 quit값으로 종료시켜주지 않으면 웹에서 의심해서 차단할 수 있음(나오는 척)\n",
    "\n",
    "# selenium.webdriver.chrome.options.Options\n",
    "# selenium.webdriver.Chrome()"
   ]
  },
  {
   "cell_type": "code",
   "execution_count": 7,
   "id": "96ce1367-b6c0-47a0-9199-23d7cb4db092",
   "metadata": {},
   "outputs": [
    {
     "name": "stdout",
     "output_type": "stream",
     "text": [
      "엑셀 저장 완료 : kurly_reviews.xlsx\n"
     ]
    }
   ],
   "source": [
    "from selenium import webdriver\n",
    "from selenium.webdriver.chrome.options import Options\n",
    "from bs4 import BeautifulSoup\n",
    "import time\n",
    "from openpyxl import Workbook\n",
    "\n",
    "# 1. 셀레니움 기본 옵션 설정\n",
    "options = Options()\n",
    "options.add_argument(\"--no-sandbox\")\n",
    "options.add_argument(\"--disable-dev-shm-usage\") \n",
    "options.add_argument(\"--headless\")\n",
    "driver = webdriver.Chrome(options = options)\n",
    "\n",
    "# 2. 페이지 접속\n",
    "url = \"https://www.kurly.com/goods/1001193583\"\n",
    "driver.get(url)\n",
    "\n",
    "time.sleep(5) # 페이지 로딩 대기시간 설정(5초)\n",
    "\n",
    "# 3. HTML 가져오기\n",
    "soup = BeautifulSoup(driver.page_source, \"html.parser\")\n",
    "\n",
    "# 4. 리뷰 텍스트 추출하기\n",
    "reviews = soup.select(\"p.css-y49dcn.e36z05c13\")\n",
    "review_lists =[review.get_text().strip() for review in reviews]\n",
    "\n",
    "driver.quit()\n",
    "\n",
    "wb = Workbook()\n",
    "ws = wb.active\n",
    "ws.title = \"Kurly Reviews\"\n",
    "\n",
    "ws.append([\"리뷰 내용\"])\n",
    "for item in review_lists :\n",
    "    ws.append([item])\n",
    "\n",
    "wb.save(\"kurly_reviews.xlsx\")\n",
    "print(\"엑셀 저장 완료 : kurly_reviews.xlsx\")"
   ]
  }
 ],
 "metadata": {
  "kernelspec": {
   "display_name": "Python 3 (ipykernel)",
   "language": "python",
   "name": "python3"
  },
  "language_info": {
   "codemirror_mode": {
    "name": "ipython",
    "version": 3
   },
   "file_extension": ".py",
   "mimetype": "text/x-python",
   "name": "python",
   "nbconvert_exporter": "python",
   "pygments_lexer": "ipython3",
   "version": "3.13.5"
  }
 },
 "nbformat": 4,
 "nbformat_minor": 5
}
