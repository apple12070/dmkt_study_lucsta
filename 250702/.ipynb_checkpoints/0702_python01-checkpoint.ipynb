{
 "cells": [
  {
   "cell_type": "markdown",
   "id": "676066c1-4374-4cc4-8b6c-b4a744783a5e",
   "metadata": {},
   "source": [
    "## *Python Basic\n",
    "### 1. 변수\n",
    "\n",
    "### 2. 내장함수 ( *Built-in Function)\n",
    "- print()\n",
    "- input()\n",
    "- type()\n",
    "  \n",
    "### 3. 연산자\n",
    "- 사칙연산\n",
    "- 비교연산\n",
    "  \n",
    "### 4. 자료타입\n",
    "- string\n",
    "- int\n",
    "- float\n",
    "- boolean\n",
    "  \n",
    "### 5. 형변환\n",
    "- int() # 정수로 변환\n",
    "- float() # 부동소수로 변환\n",
    "- str() # 문자열로 변환\n",
    "\n",
    "### 6. F-string\n",
    "- F\"{변수}\"\n",
    "  \n",
    "### 7. 문자열\n",
    "- \"\"\" \"\"\"\n",
    "- \\n (개행)\n",
    "- len()\n",
    "- find()\n",
    "- replace()\n",
    "- strip() (앞뒤 여백/불필요한 요소 제거)\n",
    "- format()=> 유의사항!!!!!\n",
    "- [index]\n",
    "- [index:index] (슬라이스)"
   ]
  },
  {
   "cell_type": "code",
   "execution_count": 23,
   "id": "c9afbdb3-77ad-4a1f-9a9e-ebd959e9d3fe",
   "metadata": {},
   "outputs": [],
   "source": [
    "# 단축키!!!\n",
    "# above : 위쪽에 셀 추가\n",
    "# below : 아래쪽에 셀 추가\n",
    "# dd : 셀 삭제\n",
    "# ctrl + z : 되돌리기\n",
    "# enter : 행바꿈 (*개행)\n",
    "# ctrl + enter : 셀 실행"
   ]
  },
  {
   "cell_type": "code",
   "execution_count": 3,
   "id": "7cc3dae8-f9bb-415d-abbf-1d69fe6144d3",
   "metadata": {},
   "outputs": [
    {
     "name": "stdout",
     "output_type": "stream",
     "text": [
      "1\n"
     ]
    }
   ],
   "source": [
    "num = 1 \n",
    "# num, lion, apple ... => 변수 (*어떤 값을 담을 수 있는 그릇, 직관적이고 명시적)\n",
    "# sneak 표기법 => hello_world ( 중간에 뱀처럼 언더바표기)\n",
    "# camel 표기법 => helloWorld (중간에 낙타의 혹처럼 대문자표기) (*추천)\n",
    "# Hungarian 표기법 => HelloWorld (첫번째 글자에 대문자표기)\n",
    "# 변수의 이름이 숫자로 시작되어서는 절대 안됨!!! (*반드시)\n",
    "# num이라는 변수 안에 1이라는 값을 할당했다.\n",
    "\n",
    "print(num) \n",
    "# print() => 함수 (*Function : 기능)\n",
    "# print라는 함수안에 num이라는 변수를 인자(=argument)값으로 사용했다."
   ]
  },
  {
   "cell_type": "code",
   "execution_count": 6,
   "id": "2c2300d7-d95e-49ee-b4ba-7204cb24da08",
   "metadata": {},
   "outputs": [
    {
     "name": "stdout",
     "output_type": "stream",
     "text": [
      "Hello World\n"
     ]
    }
   ],
   "source": [
    "print(\"Hello World\")"
   ]
  },
  {
   "cell_type": "code",
   "execution_count": 9,
   "id": "6346c877-c50f-4a7d-95db-245583daff3e",
   "metadata": {},
   "outputs": [
    {
     "name": "stdout",
     "output_type": "stream",
     "text": [
      "<class 'int'>\n",
      "<class 'str'>\n"
     ]
    }
   ],
   "source": [
    "# 자료타입이 왜 중요한가?\n",
    "print(type(1))\n",
    "print(type(\"1\"))"
   ]
  },
  {
   "cell_type": "code",
   "execution_count": 14,
   "id": "9e62884f-4cf3-456c-88fe-9029065b0428",
   "metadata": {},
   "outputs": [
    {
     "name": "stdout",
     "output_type": "stream",
     "text": [
      "10\n",
      "4\n",
      "21\n",
      "50\n",
      "2.3333333333333335\n"
     ]
    }
   ],
   "source": [
    "# 사칙연산 & 우선연산 가능\n",
    "num01 = 3\n",
    "num02 = 7\n",
    "\n",
    "print(num01 + num02)\n",
    "print(num02 - num01)\n",
    "print(num01 * num02)\n",
    "print((7 + 3) * 5)\n",
    "print(num02 / num01)"
   ]
  },
  {
   "cell_type": "code",
   "execution_count": 18,
   "id": "422f0c41-3e6f-4740-bb36-3609e33620bf",
   "metadata": {},
   "outputs": [
    {
     "name": "stdout",
     "output_type": "stream",
     "text": [
      "2.142857142857143\n",
      "2\n",
      "1\n",
      "9\n"
     ]
    }
   ],
   "source": [
    "print(15/7) # 나누기 연산자\n",
    "print(15//7) # 나누기 후 몫의 값을 정수로 찾아오는 연산자\n",
    "print(15 % 7) # 나머지 연산자\n",
    "print(3 ** 2) # 제곱 연산자(밑과 지수)"
   ]
  },
  {
   "cell_type": "code",
   "execution_count": 20,
   "id": "9e0aff89-6cc5-4ab7-b1d5-51e0a4414288",
   "metadata": {},
   "outputs": [
    {
     "name": "stdout",
     "output_type": "stream",
     "text": [
      "<class 'str'> <class 'int'> <class 'float'> <class 'bool'>\n"
     ]
    }
   ],
   "source": [
    "str_data = \"Hello\" # 문자열\n",
    "int_data = 1 # 정수\n",
    "float_data = 1.1 # 부동소수\n",
    "bool_data = True # 논리형\n",
    "\n",
    "print(type(str_data), type(int_data), type(float_data), type(bool_data))"
   ]
  },
  {
   "cell_type": "code",
   "execution_count": 22,
   "id": "18bf3026-fae4-4eb6-b599-0e82785900f7",
   "metadata": {},
   "outputs": [
    {
     "name": "stdout",
     "output_type": "stream",
     "text": [
      "30\n"
     ]
    }
   ],
   "source": [
    "digit1 = 10\n",
    "digit2 = 20\n",
    "name = \"David\"\n",
    "\n",
    "print(digit1 + digit2) # 동일한 자료형태의 경우에는 연산처리 가능!"
   ]
  },
  {
   "cell_type": "code",
   "execution_count": 26,
   "id": "befd3401-7c09-4dd1-96c0-a48c9e829970",
   "metadata": {},
   "outputs": [
    {
     "name": "stdout",
     "output_type": "stream",
     "text": [
      "True\n",
      "False\n",
      "False\n",
      "True\n",
      "False\n",
      "True\n"
     ]
    }
   ],
   "source": [
    "num1 = 2\n",
    "num2 = 4\n",
    "\n",
    "print(num1 < num2)\n",
    "print(num1 > num2)\n",
    "print(num1 >= num2)\n",
    "print(num1 <= num2)\n",
    "print(num1 == num2) # num1과 num2의 변수값이 같다.\n",
    "print(num1 != num2) # 부정연산자, num1과 num2의 변수값이 같지 않다."
   ]
  },
  {
   "cell_type": "code",
   "execution_count": null,
   "id": "6419b4ee-0aae-478b-9ca2-8752fd36d797",
   "metadata": {},
   "outputs": [],
   "source": [
    "age = 28\n",
    "name = \"Stacy\"\n",
    "height = 160\n",
    "weight = 50\n",
    "foot_size = 225\n",
    "glass = False\n",
    "marriage = False\n",
    "gender = \"female\"\n",
    "hobby = \"singing\""
   ]
  },
  {
   "cell_type": "markdown",
   "id": "bee6eeef-d31b-41c1-892d-b95723ad07a0",
   "metadata": {},
   "source": [
    "### 반지름이 10인 변수를 선언하시고, 해당 반지름을 기준으로 하는 원의 지름, 둘레, 넓이 값을 변수로 선언 및 할당 => 출력!"
   ]
  },
  {
   "cell_type": "code",
   "execution_count": 42,
   "id": "1351be15-71f0-4cd6-9ded-15504e65d5e1",
   "metadata": {},
   "outputs": [
    {
     "name": "stdout",
     "output_type": "stream",
     "text": [
      "1.원의 반지름 :  10\n",
      "2.원의 지름 :  20\n",
      "3.원의 둘레 :  62.83184\n",
      "4.원의 넓이 :  314.1592\n",
      "1.원의 반지름 :  10 2.원의 지름 :  20 3.원의 둘레 :  62.83184 4.원의 넓이 :  314.1592\n",
      "1.반지름 : 10\n"
     ]
    }
   ],
   "source": [
    "radius = 10\n",
    "pi = 3.141592\n",
    "diameter = 2 * radius\n",
    "circumference = 2 * radius * pi\n",
    "area = radius ** 2 * pi\n",
    "\n",
    "print(\"1.원의 반지름 : \", radius)\n",
    "print(\"2.원의 지름 : \", diameter)\n",
    "print(\"3.원의 둘레 : \", circumference)\n",
    "print(\"4.원의 넓이 : \", area)\n",
    "\n",
    "print(\"1.원의 반지름 : \", radius,\"2.원의 지름 : \", diameter,\"3.원의 둘레 : \", circumference,\"4.원의 넓이 : \", area)\n",
    "print(f\"1.반지름 : {radius}\") # F-String = Formatted String"
   ]
  },
  {
   "cell_type": "code",
   "execution_count": 61,
   "id": "965d4f3a-530c-43f9-b5ad-ece0d30b3601",
   "metadata": {},
   "outputs": [
    {
     "name": "stdin",
     "output_type": "stream",
     "text": [
      "What is your name? Stacy\n",
      "Where are you from? Suwon\n",
      "man or woman? woman\n",
      "How old are you? 28\n"
     ]
    },
    {
     "name": "stdout",
     "output_type": "stream",
     "text": [
      "<class 'str'>\n",
      "Hi Stacy in Suwon\n"
     ]
    }
   ],
   "source": [
    "name = input(\"What is your name?\")\n",
    "address = input(\"Where are you from?\")\n",
    "gender = input(\"man or woman?\")\n",
    "age = input(\"How old are you?\")\n",
    "\n",
    "print(type(age))\n",
    "print(f\"Hi {name} in {address}\")"
   ]
  },
  {
   "cell_type": "code",
   "execution_count": 58,
   "id": "5c9b6b4e-6325-4c98-a90d-7cc8a56d6099",
   "metadata": {},
   "outputs": [
    {
     "name": "stdin",
     "output_type": "stream",
     "text": [
      " 10\n",
      " 10\n"
     ]
    },
    {
     "name": "stdout",
     "output_type": "stream",
     "text": [
      "100\n"
     ]
    }
   ],
   "source": [
    "num1 = int(input())\n",
    "num2 = int(input())\n",
    "\n",
    "print(num1 * num2)"
   ]
  },
  {
   "cell_type": "code",
   "execution_count": 67,
   "id": "47211c6c-c3a4-4792-a3bc-8ad313f303aa",
   "metadata": {},
   "outputs": [
    {
     "name": "stdout",
     "output_type": "stream",
     "text": [
      "6.3\n",
      "6\n",
      "1 <class 'int'>\n",
      "1.0\n",
      "1 <class 'int'>\n",
      "<class 'str'>\n"
     ]
    }
   ],
   "source": [
    "num3 = 6.3\n",
    "num4 = 1\n",
    "\n",
    "print(num3)\n",
    "print(int(num3))\n",
    "\n",
    "print(num4, type(num4))\n",
    "print(float(num4))\n",
    "print(str(num4), type(num4))\n",
    "\n",
    "num5 = str(num4)\n",
    "print(type(num5))"
   ]
  },
  {
   "cell_type": "code",
   "execution_count": 76,
   "id": "6c7c6780-9f30-4101-a731-a5ad4fb2923d",
   "metadata": {},
   "outputs": [
    {
     "name": "stdout",
     "output_type": "stream",
     "text": [
      "<class 'float'>\n",
      "<class 'int'>\n",
      "<class 'float'>\n",
      "<class 'int'>\n",
      "<class 'str'>\n"
     ]
    }
   ],
   "source": [
    "num3 = 6.3\n",
    "num4 = 1\n",
    "\n",
    "print(type(num3))\n",
    "print(type(num4))\n",
    "\n",
    "num5 = int(num3)\n",
    "num6 = str(num3)\n",
    "\n",
    "print(type(num3))\n",
    "print(type(num5))\n",
    "print(type(num6))b"
   ]
  },
  {
   "cell_type": "code",
   "execution_count": 97,
   "id": "075f8d8a-5402-49df-b351-633541651292",
   "metadata": {},
   "outputs": [
    {
     "name": "stdout",
     "output_type": "stream",
     "text": [
      "성인이 된 기훈은 이혼한 뒤 대리운전 기사 등을 전전하다 백발의 노모에게 얹혀살고 있었고, \n",
      "하나뿐인 어린 딸 가영의 생일 선물을 살 돈도 어머니에게서 받아내는 비루한 인생을 살고 있었다. \n",
      "이혼 후 가영은 재혼한 전처가 키우고 있었지만, 기훈은 가영의 생일도 챙겨주지 않고 \n",
      "어머니의 돈을 몰래 빼내서 경마 도박에 올인하는데 딸의 생일(6월 8일) 날짜를 이용해 베팅하며 \n",
      "우여곡절 끝에 456만 원이라는 거금을 얻게 된다.[4] \n",
      " 밖으로 나와 가영이와 전화 통화를 하며 즐거워하던 것도 잠시, \n",
      "자신을 찾아온 사채업자 김정래 대표 때문에 황급히 도망치다 누군가와 부딪히고 주머니에 있는 455만 원을 전부 소매치기당하고 만다. \n",
      "기훈은 이를 눈치챌 틈도 없이 도망치다 결국 사채업자들에게 붙잡혀 화장실에서 신체포기각서를 쓰게 된다.[5] \n",
      "어떻게든 만 원이라도 만들어서[6] 인형뽑기로 권총 라이터를 선물했다가[7] 황급히 가져간 뒤에 떡볶이를 사주지만, \n",
      "아버지 노릇도 제대로 못해준 나머지 그저 자괴감만 든다. 결국 \"내년 생일에는 더 잘 챙겨줄게.\"라며 애써 가영을 위로하지만 \n",
      "가영이는 아무런 대답을 못하고 머뭇거린다.\n"
     ]
    }
   ],
   "source": [
    "article1 = \"주인공 성기훈의 내레이션과 함께, 어릴 적 기훈이 동네 친구들과의 오징어 게임에서 이기는 장면을 보여준 후 타이틀이 등장하면서 시작한다.\"\n",
    "article2 = \"\"\"성인이 된 기훈은 이혼한 뒤 대리운전 기사 등을 전전하다 백발의 노모에게 얹혀살고 있었고, \n",
    "하나뿐인 어린 딸 가영의 생일 선물을 살 돈도 어머니에게서 받아내는 비루한 인생을 살고 있었다. \n",
    "이혼 후 가영은 재혼한 전처가 키우고 있었지만, 기훈은 가영의 생일도 챙겨주지 않고 \n",
    "어머니의 돈을 몰래 빼내서 경마 도박에 올인하는데 딸의 생일(6월 8일) 날짜를 이용해 베팅하며 \n",
    "우여곡절 끝에 456만 원이라는 거금을 얻게 된다.[4] \\n 밖으로 나와 가영이와 전화 통화를 하며 즐거워하던 것도 잠시, \n",
    "자신을 찾아온 사채업자 김정래 대표 때문에 황급히 도망치다 누군가와 부딪히고 주머니에 있는 455만 원을 전부 소매치기당하고 만다. \n",
    "기훈은 이를 눈치챌 틈도 없이 도망치다 결국 사채업자들에게 붙잡혀 화장실에서 신체포기각서를 쓰게 된다.[5] \n",
    "어떻게든 만 원이라도 만들어서[6] 인형뽑기로 권총 라이터를 선물했다가[7] 황급히 가져간 뒤에 떡볶이를 사주지만, \n",
    "아버지 노릇도 제대로 못해준 나머지 그저 자괴감만 든다. 결국 \"내년 생일에는 더 잘 챙겨줄게.\"라며 애써 가영을 위로하지만 \n",
    "가영이는 아무런 대답을 못하고 머뭇거린다.\"\"\"\n",
    "\n",
    "print(article2)"
   ]
  },
  {
   "cell_type": "code",
   "execution_count": 100,
   "id": "ec392518-4a6d-48e1-8bf4-706ffddd36ac",
   "metadata": {},
   "outputs": [
    {
     "name": "stdout",
     "output_type": "stream",
     "text": [
      "3\n",
      "577\n",
      "0\n",
      "1\n"
     ]
    }
   ],
   "source": [
    "# article2라는 변수를 선언했고, 해당 변수에 문자열 형태의 값을 할당\n",
    "# article2라는 변수에 문자열 형태의 값이 할당됨으로 인해서 이제 article2라는 변수는 문자열 객체라고 부를 수 있게 됨!\n",
    "# 객체는 어떤 타입의 객체이냐에 따라서 사용할 수 있는 메서드 함수(*문자열())가 결정됨 (독립적으로 쓸 수 있는 print,int 등의 독립함수와 다름)\n",
    "\n",
    "print(article2.count(\"기훈\"))\n",
    "print(len(article2))\n",
    "print(article2.find(\"성\"))  # \"성\"이라는 문자열은 0번째 인덱스값을 가지고 있음\n",
    "print(article2.find(\"인\"))\n",
    "\n",
    "# 동의보감 => 동 : 0번째 인덱스 // 감 : 3번째 인덱스 => 문자열의 전체 총개수-1 = 마지막 번째 문자열의 인덱스값과 항상 동일"
   ]
  },
  {
   "cell_type": "code",
   "execution_count": 103,
   "id": "511c6635-b8ab-4ffb-8452-6c9898a9d44a",
   "metadata": {},
   "outputs": [
    {
     "name": "stdout",
     "output_type": "stream",
     "text": [
      "Actor Brad Pitt's home in Los Angeles has been ransacked by a trio of thieves.\n",
      "\n",
      "Three suspects broke into the home in Los Feliz late on Wednesday through a front window and \"ransacked the location,\" according to the Los Angeles Police Department.\n",
      "\n",
      "Police did not confirm the home belonged to the Oscar-winning actor, but the address matched that of a home Mr Pitt purchased in 2023.\n",
      "0\n",
      "8\n",
      "Actor David's home in Los Angeles has been ransacked by a trio of thieves.\n",
      "\n",
      "Three suspects broke into the home in Los Feliz late on Wednesday through a front window and \"ransacked the location,\" according to the Los Angeles Police Department.\n",
      "\n",
      "Police did not confirm the home belonged to the Oscar-winning actor, but the address matched that of a home Mr Pitt purchased in 2023.\n"
     ]
    }
   ],
   "source": [
    "article3 = \"\"\"Actor Brad Pitt's home in Los Angeles has been ransacked by a trio of thieves.\n",
    "\n",
    "Three suspects broke into the home in Los Feliz late on Wednesday through a front window and \"ransacked the location,\" according to the Los Angeles Police Department.\n",
    "\n",
    "Police did not confirm the home belonged to the Oscar-winning actor, but the address matched that of a home Mr Pitt purchased in 2023.\"\"\"\n",
    "\n",
    "print(article3)\n",
    "print(article3.find(\"A\"))\n",
    "print(article3.find(\"a\"))\n",
    "print(article3.replace(\"Brad Pitt's\",\"David's\"))"
   ]
  },
  {
   "cell_type": "code",
   "execution_count": 114,
   "id": "6dcb4988-49fb-4796-9357-becd637bb053",
   "metadata": {},
   "outputs": [
    {
     "name": "stdout",
     "output_type": "stream",
     "text": [
      "python\n",
      "p\n",
      "y\n",
      "6\n",
      "n\n",
      "py\n",
      "pytho\n",
      "th\n",
      "o\n"
     ]
    }
   ],
   "source": [
    "# 파이썬 > 문자열 > 슬라이스 기능\n",
    "\n",
    "text01 = \"python\"\n",
    "print(text01)\n",
    "print(text01[0])\n",
    "print(text01[1])\n",
    "print(len(text01))\n",
    "print(text01[len(text01)-1])\n",
    "\n",
    "print(text01[0:2]) # 뒤의 숫자 바로 앞자리 문자까지 출력됨. 문자 카운트는 0부터!(1부터 x)\n",
    "print(text01[0:5])\n",
    "print(text01[2:4])\n",
    "print(text01[-2]) # 맨 뒤 문자(n)부터 앞쪽으로 -1,-2,-3 순으로 카운트됨"
   ]
  },
  {
   "cell_type": "code",
   "execution_count": 118,
   "id": "3f04f4e5-e558-44c7-b9ea-c4faf2a134eb",
   "metadata": {},
   "outputs": [
    {
     "name": "stdout",
     "output_type": "stream",
     "text": [
      "14\n",
      "8\n",
      "David\n"
     ]
    }
   ],
   "source": [
    "some_string=\"   computer   \"\n",
    "print(len(some_string))\n",
    "\n",
    "some_string2 = some_string.strip()\n",
    "print(len(some_string2))\n",
    "\n",
    "some_string3= \",,,David,,,\"\n",
    "print(some_string3.strip(\",\"))"
   ]
  },
  {
   "cell_type": "code",
   "execution_count": 126,
   "id": "aa5a4ebc-eeee-4021-8c41-6a310cac5359",
   "metadata": {},
   "outputs": [
    {
     "name": "stdout",
     "output_type": "stream",
     "text": [
      "I have a pen. I have a apple.\n",
      "I have a pen. I have a apple.\n",
      "I have a apple. I have a pen\n",
      "I have a pen. I have a pen\n"
     ]
    }
   ],
   "source": [
    "var01 = \"pen\"\n",
    "var02 = \"apple\"\n",
    "print(f\"I have a {var01}. I have a {var02}.\")\n",
    "\n",
    "print(\"I have a {}. I have a {}.\".format(\"pen\",\"apple\")) # format 함수 안에 들어온 인자들의 순서에 맞춰 앞 문장의 빈칸에 넣어줌\n",
    "print(\"I have a {1}. I have a {0}\".format(\"pen\",\"apple\")) # but 빈칸에 0과 1로 순서를 지정해주면 지정한 순서대로 단어 대입됨.\n",
    "print(\"I have a {0}. I have a {0}\".format(\"pen\",\"apple\")) "
   ]
  },
  {
   "cell_type": "code",
   "execution_count": 127,
   "id": "d57fa488-88cf-4a96-92b7-3971378f6835",
   "metadata": {},
   "outputs": [
    {
     "name": "stdout",
     "output_type": "stream",
     "text": [
      "0.90\n"
     ]
    }
   ],
   "source": [
    "interest = 0.897\n",
    "print(format(interest, \".2f\"))"
   ]
  },
  {
   "cell_type": "code",
   "execution_count": 131,
   "id": "41b75971-baee-487c-abe9-3563d853c069",
   "metadata": {},
   "outputs": [
    {
     "name": "stdout",
     "output_type": "stream",
     "text": [
      "I have a pen. I have a apple\n"
     ]
    }
   ],
   "source": [
    "print(\"I have a %s. I have a %s\" % (\"pen\",\"apple\"))\n",
    "\n",
    "# %s : 문자열 입력\n",
    "# %d : 정수 입력\n",
    "# %f : 부동소수값 입력"
   ]
  }
 ],
 "metadata": {
  "kernelspec": {
   "display_name": "Python 3 (ipykernel)",
   "language": "python",
   "name": "python3"
  },
  "language_info": {
   "codemirror_mode": {
    "name": "ipython",
    "version": 3
   },
   "file_extension": ".py",
   "mimetype": "text/x-python",
   "name": "python",
   "nbconvert_exporter": "python",
   "pygments_lexer": "ipython3",
   "version": "3.13.5"
  }
 },
 "nbformat": 4,
 "nbformat_minor": 5
}
