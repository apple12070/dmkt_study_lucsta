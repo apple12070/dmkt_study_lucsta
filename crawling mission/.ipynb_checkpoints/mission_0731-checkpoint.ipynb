{
 "cells": [
  {
   "cell_type": "markdown",
   "id": "04c6d260-a4fa-4ac6-bccb-2283b38b594f",
   "metadata": {},
   "source": [
    "### 🖱미션 No.2) 위키백과에서 '마케팅' 문서의 첫 문단 요약을 추출하세요."
   ]
  },
  {
   "cell_type": "code",
   "execution_count": 7,
   "id": "f45d37c4-5427-4c1b-ace5-9081d325e90a",
   "metadata": {},
   "outputs": [
    {
     "name": "stdout",
     "output_type": "stream",
     "text": [
      "'마케팅' 문서 첫 문단 요약:\n",
      "\n",
      "마케팅(영어: marketing)은 시장 경제(영어: exchange relationship) 또는 수요를 관리하는 경영학의 한 분야이다. 소비자를 대상으로 고객을 창조하고 유지 · 관리함으로써 고정고객으로 만드는 모든 활동 즉, 고객과 관련된 모든 활동을 의미한다. 마케팅은 광고, 영업 등을 포함하며 창의성을 내포하는 산업이자 소비자가 가질 수 있는 미래의 요구와 욕구를 예측하는 일로 한정되었으나 21세기 이후에는 어떤 '잠재적인 욕구'를 자극하여 표면상으로 이끌어 내는 행위나 동기로 용어의 적용 범위가 확대되고, 시장에서 벗어나 일상의 행위에서도 마케팅이라는 용어가 등장하게 되었다.\n"
     ]
    }
   ],
   "source": [
    "from selenium import webdriver\n",
    "from selenium.webdriver.chrome.service import Service\n",
    "from selenium.webdriver.chrome.options import Options\n",
    "from selenium.webdriver.common.by import By\n",
    "from webdriver_manager.chrome import ChromeDriverManager\n",
    "import time\n",
    "\n",
    "chrome_options = Options()\n",
    "# chrome_options.add_argument('--headless')\n",
    "# chrome_options.add_argument('--disable-gpu')\n",
    "chrome_options.add_argument('--window-size=1920x1080')\n",
    "\n",
    "\n",
    "service = Service(ChromeDriverManager().install())\n",
    "driver = webdriver.Chrome(service=service, options=chrome_options)\n",
    "\n",
    "url = 'https://ko.wikipedia.org/wiki/%EB%A7%88%EC%BC%80%ED%8C%85'\n",
    "driver.get(url)\n",
    "\n",
    "try:\n",
    "    summary_paragraph = driver.find_element(By.CSS_SELECTOR, 'div.mw-parser-output > p')\n",
    "    print(\"'마케팅' 문서 첫 문단 요약:\\n\")\n",
    "    print(summary_paragraph.text.strip())\n",
    "    \n",
    "except Exception as e:\n",
    "    print(f\" 오류 발생: {e}\")\n",
    "\n",
    "driver.quit()"
   ]
  },
  {
   "cell_type": "markdown",
   "id": "21adc4cc-48e5-4507-9db2-2920f173fa91",
   "metadata": {},
   "source": [
    "### 🖱미션 No.3) 서울 열린데이터광장 공공데이터 목록에서 데이터셋 제목을 10개 수집하세요."
   ]
  },
  {
   "cell_type": "code",
   "execution_count": 2,
   "id": "9902f21b-9f51-4f01-b74a-969a9081c6da",
   "metadata": {},
   "outputs": [
    {
     "name": "stdout",
     "output_type": "stream",
     "text": [
      "[공공데이터셋 목록] \n",
      "\n",
      "1.서울글로벌센터 접수유형 및 상담유형별(월) 상담실적\n",
      "2.상상대로 서울 자유제안 정보\n",
      "3.서울글로벌센터 상담유형별(월) 상담실적\n",
      "4.서울글로벌센터 상담유형별(분기) 상담실적\n",
      "5.서울글로벌센터 접수유형별 언어별 상담실적\n",
      "6.서울시 위생업소 전체 행정처분내역 현황\n",
      "7.서울시 집수리닷컴 공지사항\n",
      "8.서울시 중구 위생처리업 공중위생업소 현황\n",
      "9.서울시 위생처리업 현황\n",
      "10.서울시 기타 위생용품 제조업 현황\n"
     ]
    }
   ],
   "source": [
    "from selenium import webdriver\n",
    "from selenium.webdriver.chrome.service import Service\n",
    "from selenium.webdriver.chrome.options import Options\n",
    "from selenium.webdriver.common.by import By\n",
    "from webdriver_manager.chrome import ChromeDriverManager\n",
    "import time\n",
    "\n",
    "chrome_options = Options()\n",
    "# chrome_options.add_argument('--headless')\n",
    "# chrome_options.add_argument('--disable-gpu')\n",
    "chrome_options.add_argument('--disable-dev-shm-usage') \n",
    "chrome_options.add_argument('--window-size=1920x1080')\n",
    "\n",
    "\n",
    "service = Service(ChromeDriverManager().install())\n",
    "driver = webdriver.Chrome(service=service, options=chrome_options)\n",
    "\n",
    "url = 'https://data.seoul.go.kr/dataList/datasetList.do?datasetKind=1&searchFlag=M'\n",
    "driver.get(url)\n",
    "time.sleep(5)\n",
    "\n",
    "titles = driver.find_elements(By.CSS_SELECTOR, 'div.list-statistics > dl.type-b > dt')\n",
    "\n",
    "print(f\"[공공데이터셋 목록] \\n\")\n",
    "for idx, title in enumerate(titles[:10],1):\n",
    "    print(f\"{idx}.{title.text.strip()}\")\n",
    "\n",
    "\n",
    "driver.quit()"
   ]
  },
  {
   "cell_type": "markdown",
   "id": "a742dca7-3cb2-439f-833a-b7c529bc92e4",
   "metadata": {},
   "source": [
    "### 🖱미션 No.4) 인터파크 티켓에서 인기 콘서트 제목과 일정을 수집하세요."
   ]
  },
  {
   "cell_type": "code",
   "execution_count": 2,
   "id": "c87eac52-370d-4f6b-9609-239679e93a3c",
   "metadata": {},
   "outputs": [
    {
     "name": "stdout",
     "output_type": "stream",
     "text": [
      "<selenium.webdriver.remote.webelement.WebElement (session=\"8cfb99d92a8b05483e946b7e994f3948\", element=\"f.22C69ACE0699D42C640051DC9F94EB26.d.C8C18ABFD7B2C905FD26E19DDF10FB19.e.458\")>\n"
     ]
    },
    {
     "data": {
      "text/html": [
       "<div>\n",
       "<style scoped>\n",
       "    .dataframe tbody tr th:only-of-type {\n",
       "        vertical-align: middle;\n",
       "    }\n",
       "\n",
       "    .dataframe tbody tr th {\n",
       "        vertical-align: top;\n",
       "    }\n",
       "\n",
       "    .dataframe thead th {\n",
       "        text-align: right;\n",
       "    }\n",
       "</style>\n",
       "<table border=\"1\" class=\"dataframe\">\n",
       "  <thead>\n",
       "    <tr style=\"text-align: right;\">\n",
       "      <th></th>\n",
       "      <th>title</th>\n",
       "      <th>date</th>\n",
       "      <th>place</th>\n",
       "    </tr>\n",
       "  </thead>\n",
       "  <tbody>\n",
       "    <tr>\n",
       "      <th>0</th>\n",
       "      <td>LOVE CHIPS FESTIVAL 2025</td>\n",
       "      <td>2025.09.06 - 2025.09.07</td>\n",
       "      <td>상상플랫폼 야외광장</td>\n",
       "    </tr>\n",
       "    <tr>\n",
       "      <th>1</th>\n",
       "      <td>2025 이승철 콘서트 〈오케스트락2〉</td>\n",
       "      <td>2025.08.02 - 2025.09.14</td>\n",
       "      <td>인천,당진,광주</td>\n",
       "    </tr>\n",
       "    <tr>\n",
       "      <th>2</th>\n",
       "      <td>2025 타일러, 더 크리에이터(Tyler, The Creator)내한공연</td>\n",
       "      <td>2025.09.13 ~ 2025.09.14</td>\n",
       "      <td>킨텍스 제2전시장 10홀</td>\n",
       "    </tr>\n",
       "    <tr>\n",
       "      <th>3</th>\n",
       "      <td>2025 김창옥 토크콘서트 시즌5</td>\n",
       "      <td>2025.04.19 -</td>\n",
       "      <td>전국 각 지역</td>\n",
       "    </tr>\n",
       "    <tr>\n",
       "      <th>4</th>\n",
       "      <td>변진섭 전국투어 콘서트 : 변천사 시즌2</td>\n",
       "      <td>2025.02.09 -</td>\n",
       "      <td>전국 각 지역</td>\n",
       "    </tr>\n",
       "  </tbody>\n",
       "</table>\n",
       "</div>"
      ],
      "text/plain": [
       "                                       title                     date  \\\n",
       "0                   LOVE CHIPS FESTIVAL 2025  2025.09.06 - 2025.09.07   \n",
       "1                      2025 이승철 콘서트 〈오케스트락2〉  2025.08.02 - 2025.09.14   \n",
       "2  2025 타일러, 더 크리에이터(Tyler, The Creator)내한공연  2025.09.13 ~ 2025.09.14   \n",
       "3                         2025 김창옥 토크콘서트 시즌5             2025.04.19 -   \n",
       "4                     변진섭 전국투어 콘서트 : 변천사 시즌2             2025.02.09 -   \n",
       "\n",
       "           place  \n",
       "0     상상플랫폼 야외광장  \n",
       "1       인천,당진,광주  \n",
       "2  킨텍스 제2전시장 10홀  \n",
       "3        전국 각 지역  \n",
       "4        전국 각 지역  "
      ]
     },
     "execution_count": 2,
     "metadata": {},
     "output_type": "execute_result"
    }
   ],
   "source": [
    "from selenium import webdriver\n",
    "from selenium.webdriver.chrome.options import Options\n",
    "from selenium.webdriver.chrome.service import Service\n",
    "from selenium.webdriver.common.by import By\n",
    "from webdriver_manager.chrome import ChromeDriverManager\n",
    "import time\n",
    "import pandas as pd\n",
    "\n",
    "service = Service(ChromeDriverManager().install())\n",
    "\n",
    "options = Options()\n",
    "# options.add_argument(\"--headless\")\n",
    "options.add_argument(\"--window-size=1920x1080\")\n",
    "options.add_argument(\"--lang=ko_KR\")\n",
    "options.add_argument(\"--start-maximized\")\n",
    "options.add_argument(\"--user-agent=Mozilla/5.0 (Macintosh; Intel Mac OS X 10_15_7) AppleWebKit/537.36 (KHTML, like Gecko) Chrome/138.0.0.0 Safari/537.36\")\n",
    "\n",
    "driver = webdriver.Chrome(service=service, options=options)\n",
    "\n",
    "url = \"https://tickets.interpark.com/contents/genre/concert\"\n",
    "driver.get(url)\n",
    "time.sleep(2)\n",
    "\n",
    "try :\n",
    "    hot_button = driver.find_element(By.XPATH, \"//button[contains(text(), '요즘 HOT')]\")\n",
    "    print(hot_button)\n",
    "    hot_button.click()\n",
    "    time.sleep(2)\n",
    "    \n",
    "except Exception as e :\n",
    "    print(\"요즘 HOT 버튼 클릭 실패 : \", e)\n",
    "\n",
    "scroll_pause = 1\n",
    "last_height = driver.execute_script(\"return document.body.scrollHeight\")\n",
    "\n",
    "for _ in range(5) :\n",
    "    driver.execute_script(\"window.scrollTo(0, document.body.scrollHeight);\")\n",
    "    time.sleep(scroll_pause)\n",
    "    new_height = driver.execute_script(\"return document.body.scrollHeight\")\n",
    "    if new_height == last_height :\n",
    "        break\n",
    "    last_height = new_height\n",
    "\n",
    "titles = driver.find_elements(By.CSS_SELECTOR, \".TicketItem_goodsName__Ju76j\")\n",
    "dates = driver.find_elements(By.CSS_SELECTOR, \".TicketItem_playDate__5ePr2\")\n",
    "places = driver.find_elements(By.CSS_SELECTOR, \".TicketItem_placeName__ls_9C\")\n",
    "\n",
    "data = []\n",
    "\n",
    "for t, d, p in zip(titles, dates, places) :\n",
    "    data.append({\n",
    "        \"title\":t.text.strip(),\n",
    "        \"date\":d.text.strip(),\n",
    "        \"place\":p.text.strip()\n",
    "    })\n",
    "\n",
    "driver.quit()\n",
    "\n",
    "df = pd.DataFrame(data)\n",
    "df.head()"
   ]
  },
  {
   "cell_type": "markdown",
   "id": "760e6e92-5eaf-4541-98c6-72cee10d0cee",
   "metadata": {},
   "source": [
    "### 🖱미션 No.5) 대법원 판례 검색 페이지에서 최근 등록된 판례 제목을 10개 수집하세요."
   ]
  },
  {
   "cell_type": "code",
   "execution_count": 18,
   "id": "01aefc5e-3700-4117-91b5-cb1e48618b49",
   "metadata": {},
   "outputs": [
    {
     "name": "stdout",
     "output_type": "stream",
     "text": [
      "1. 항소인이 항소장의 인지를 유효하게 보정할 수 있는 기한이 문제된 사건[대법원 202 ...\n",
      "2. 채무자가 소멸시효가 완성된 상태에서 채무를 일부 변제한 경우 시효이익을 포기한 것인 ...\n",
      "3. 대법원 2025. 7. 24. 선고 전원합의체 판결 및 2025. 7. 24. 자  ...\n",
      "4. 승무정지의 징계처분이 단체협약 위반인지 및 징계절차가 공정대표의무에 위배되어 중대한 ...\n",
      "5. 중소기업 간의 통합에 대한 양도소득세의 이월과세를 적용한 사건[대법원 2025. 7 ...\n",
      "6. 학교법인의 임시이사 선임사유 해소로 인한 정식이사 선임 시 의견을 청취하여야 하는  ...\n",
      "7. 성적 학대행위에 해당하는 메시지가 피해아동에게 도달하였으나 피해아동이 이를 현실적으 ...\n",
      "8. 조합장의 농업협동조합법 위반 행위를 고발하기 위하여 개인정보가 포함된 자료들을 수사 ...\n",
      "9. 연예기획사 대표가 소속 가수의 마약류취급과 관련하여 허위 진술을 요구한 사건[대법원 ...\n",
      "10. 가처분 사건의 채무자가 법원에 입주민들의 개인정보가 기재된 입주자카드를 제출한 사건 ...\n"
     ]
    }
   ],
   "source": [
    "import requests\n",
    "from bs4 import BeautifulSoup\n",
    "\n",
    "res = requests.get(\"https://www.scourt.go.kr/portal/news/NewsListAction.work?gubun=4\")\n",
    "soup = BeautifulSoup(res.content,\"html.parser\")\n",
    "\n",
    "datas = soup.select(\"table.tableHor tbody tr\")\n",
    "\n",
    "for idx, data in enumerate(datas) :\n",
    "    print(f\"{idx +1}. {data.select_one(\"td.tit a\").get_text().strip()}\")"
   ]
  },
  {
   "cell_type": "markdown",
   "id": "56d4c394-aec4-4035-b6a2-ba49ce76a826",
   "metadata": {},
   "source": [
    "### 🖱미션 No.6) 삼성전자 뉴스룸에서 최근 기사 제목과 날짜를 수집하세요."
   ]
  },
  {
   "cell_type": "code",
   "execution_count": 3,
   "id": "f4193770-20e2-46c0-bb86-c8db7b32c656",
   "metadata": {},
   "outputs": [
    {
     "name": "stdout",
     "output_type": "stream",
     "text": [
      "삼성전자, 세계 최초 ‘마이크로 RGB TV’ 출시… 프리미엄 TV 기술의 새 기준 제시 2025/08/12\n",
      "[차세대 통신 리더십 인터뷰] ② “6G 표준화는 합의의 기술” 3GPP RAN 의장 김윤선 마스터 2025/08/12\n",
      "[인포그래픽] 결제를 넘어 일상의 모든 순간까지, ‘삼성월렛’ 10년의 기록 2025/08/11\n",
      "삼성월렛 출시 10주년, 결제를 넘어 일상 속 디지털 지갑으로 진화 2025/08/11\n",
      "삼성전자, 장 줄리앙 협업 갤럭시 폴더블 체험존 방문객 10만명 돌파…1030세대 사로잡다 2025/08/10\n",
      "삼성전자, 미국 정부 주최 ‘AI 사이버 챌린지(AIxCC)’에서 우승, 글로벌 보안 기술 리더십 입증 2025/08/09\n"
     ]
    }
   ],
   "source": [
    "import requests\n",
    "from bs4 import BeautifulSoup\n",
    "\n",
    "url = \"https://news.samsung.com/kr/latest\"\n",
    "headers = {\n",
    "    \"User-Agent\" : \"Mozilla/5.0 (Windows NT 10.0; Win64; x64) AppleWebKit/537.36 (KHTML, like Gecko) Chrome/138.0.0.0 Safari/537.36\"\n",
    "}\n",
    "\n",
    "response = requests.get(url, headers=headers)\n",
    "soup = BeautifulSoup(response.text, \"html.parser\")\n",
    "\n",
    "datas = soup.select(\"div.board_news li\")\n",
    "#print(datas)\n",
    "\n",
    "for data in datas :\n",
    "    title = data.select_one(\"span.title.ellipsis\").text\n",
    "    date = data.select_one(\"span.date\").text\n",
    "    print(title, date)"
   ]
  },
  {
   "cell_type": "markdown",
   "id": "d90c2e7a-d7ad-4d08-9b5e-f1b0ccdf7b97",
   "metadata": {},
   "source": [
    "### 🖱미션 No.7) 롯데시네마에서 현재 상영작 제목을 수집하세요."
   ]
  },
  {
   "cell_type": "code",
   "execution_count": null,
   "id": "179bb994-0d9f-41e6-b3ca-b5ae2298fb87",
   "metadata": {},
   "outputs": [],
   "source": []
  }
 ],
 "metadata": {
  "kernelspec": {
   "display_name": "Python 3 (ipykernel)",
   "language": "python",
   "name": "python3"
  },
  "language_info": {
   "codemirror_mode": {
    "name": "ipython",
    "version": 3
   },
   "file_extension": ".py",
   "mimetype": "text/x-python",
   "name": "python",
   "nbconvert_exporter": "python",
   "pygments_lexer": "ipython3",
   "version": "3.13.5"
  }
 },
 "nbformat": 4,
 "nbformat_minor": 5
}
