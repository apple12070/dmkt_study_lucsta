{
 "cells": [
  {
   "cell_type": "markdown",
   "id": "8136708d-c908-4639-a603-b46fa836c1c1",
   "metadata": {},
   "source": [
    "#### 조건문\n",
    "``` \n",
    "if 조건 : 참이면 실행문이 실행됨\n",
    "if 조건1 and 조건2 : \n",
    "     실행문\n",
    "if 조건1 or 조건2 :\n",
    "     실행문\n",
    "if not 조건 :\n",
    "     실행문\n",
    "```\n",
    "\n",
    "```\n",
    "if 조건 : \n",
    "     실행문\n",
    "else : \n",
    "     실행문\n",
    "``` (<-물결표)"
   ]
  },
  {
   "cell_type": "code",
   "execution_count": 3,
   "id": "8aa959e2-0535-4daf-a222-b508a25d443c",
   "metadata": {},
   "outputs": [
    {
     "name": "stdin",
     "output_type": "stream",
     "text": [
      "당신의 나이는? 25\n"
     ]
    },
    {
     "name": "stdout",
     "output_type": "stream",
     "text": [
      "당신은 성인입니다!\n",
      "축하드립니다!\n",
      "이제부터 인생은 시작입니다!\n",
      "무엇이든 할 수 있습니다!\n",
      "응원합니다!\n"
     ]
    }
   ],
   "source": [
    "age = int(input(\"당신의 나이는?\"))\n",
    "\n",
    "if age>= 19 :\n",
    "    print(\"당신은 성인입니다!\")\n",
    "    print(\"축하드립니다!\")\n",
    "    print(\"이제부터 인생은 시작입니다!\")\n",
    "    print(\"무엇이든 할 수 있습니다!\")\n",
    "    print(\"응원합니다!\")"
   ]
  },
  {
   "cell_type": "code",
   "execution_count": 3,
   "id": "9213eb8e-fd48-4982-b11f-ccc5db41c071",
   "metadata": {},
   "outputs": [
    {
     "name": "stdin",
     "output_type": "stream",
     "text": [
      "인성이의 나이는? 15\n",
      "지섭이의 나이는? 20\n"
     ]
    },
    {
     "name": "stdout",
     "output_type": "stream",
     "text": [
      "영화관 입장 가능!\n"
     ]
    }
   ],
   "source": [
    "age1 = int(input(\"인성이의 나이는?\"))\n",
    "age2 = int(input(\"지섭이의 나이는?\"))\n",
    "\n",
    "if age1>= 19 or age2 >= 19:\n",
    "    print(\"영화관 입장 가능!\")"
   ]
  },
  {
   "cell_type": "code",
   "execution_count": 4,
   "id": "0466f07e-0dec-4e32-840a-7fd5da758c74",
   "metadata": {},
   "outputs": [
    {
     "name": "stdin",
     "output_type": "stream",
     "text": [
      "승원이의 나이는? 24\n"
     ]
    },
    {
     "name": "stdout",
     "output_type": "stream",
     "text": [
      "영화관 입장 가능!\n"
     ]
    }
   ],
   "source": [
    "age3 = int(input(\"승원이의 나이는?\"))\n",
    "\n",
    "if not age3 <= 19 :\n",
    "    print(\"영화관 입장 가능!\")"
   ]
  },
  {
   "cell_type": "code",
   "execution_count": 7,
   "id": "7e6801b5-2cf2-46d7-bfd7-45aab35e7969",
   "metadata": {},
   "outputs": [
    {
     "name": "stdin",
     "output_type": "stream",
     "text": [
      "현재 가지고 있는 현금은 얼마인가요? 760000\n"
     ]
    },
    {
     "name": "stdout",
     "output_type": "stream",
     "text": [
      "오늘 저녁은 VIPS!\n"
     ]
    }
   ],
   "source": [
    "cash = int(input(\"현재 가지고 있는 현금은 얼마인가요?\"))\n",
    "\n",
    "if cash > 100000 :\n",
    "    print(\"오늘 저녁은 VIPS!\")\n",
    "else :\n",
    "    print(\"오늘 저녁은 집에서!\")"
   ]
  },
  {
   "cell_type": "markdown",
   "id": "288f36cb-b0ee-4a56-8ae8-fec1d63a909a",
   "metadata": {},
   "source": [
    "- 사용자로부터 나이를 입력받아서, 나이가 19세 이상이면 \"당신은 성인입니다\" 출력, 19세 미만이라면 \"당신은 청소년입니다.\" 출력"
   ]
  },
  {
   "cell_type": "code",
   "execution_count": 13,
   "id": "53a355e2-37d8-4696-a17f-3df46beefb60",
   "metadata": {},
   "outputs": [
    {
     "name": "stdin",
     "output_type": "stream",
     "text": [
      "당신의 나이는? 24\n"
     ]
    },
    {
     "name": "stdout",
     "output_type": "stream",
     "text": [
      "당신은 성인입니다.\n"
     ]
    }
   ],
   "source": [
    "userAge = int(input(\"당신의 나이는?\"))\n",
    "\n",
    "if userAge >= 19 :\n",
    "    print(\"당신은 성인입니다.\")\n",
    "else :\n",
    "    print(\"당신은 청소년입니다.\")"
   ]
  },
  {
   "cell_type": "markdown",
   "id": "1718c409-bdfd-4d78-abd2-2e5089493b13",
   "metadata": {},
   "source": [
    "### 사용자로부터 나이를 입력받아서, 나이가 19세 이상이면 \"당신은 성인입니다.\" 13세 이상 19세 미만이면 \"당신은 청소년입니다.\" 13세 미만이면 \"당신은 아동입니다\" 출력"
   ]
  },
  {
   "cell_type": "code",
   "execution_count": 21,
   "id": "1f0462ef-8ad6-4040-a65f-c5005d1c9753",
   "metadata": {},
   "outputs": [
    {
     "name": "stdin",
     "output_type": "stream",
     "text": [
      "당신의 나이는? 20\n"
     ]
    },
    {
     "name": "stdout",
     "output_type": "stream",
     "text": [
      "당신은 성인입니다.\n"
     ]
    }
   ],
   "source": [
    "userAge = int(input(\"당신의 나이는?\"))\n",
    "\n",
    "if userAge >= 19 :\n",
    "              print(\"당신은 성인입니다.\")\n",
    "if userAge >=13 and userAge < 19 :\n",
    "              print(\"당신은 청소년입니다.\")\n",
    "if userAge < 13 :\n",
    "              print(\"당신은 아동입니다.\")"
   ]
  },
  {
   "cell_type": "markdown",
   "id": "6108ef69-94dd-43a1-b10b-1bc8631884ce",
   "metadata": {},
   "source": [
    "#### * else문 유의사항\n",
    "- 어떤 조건문 안에서도 1회만 사용할 수 있음!!!\n",
    "- else문은 조건문 중간에 절대 입력할 수 없음!!!\n",
    "- else문은 독립적으로 조건식을 받을 수 없음!!!\n",
    "- elif는 else+if의 약자로 if문과 else문 중간에 사용 가능\n",
    "- else문은 조건문 내 반드시 작성해야 하는 필수값은 아님!!!"
   ]
  },
  {
   "cell_type": "code",
   "execution_count": 24,
   "id": "cf4ef4e3-f4ec-4b5a-a47d-063f7b559453",
   "metadata": {},
   "outputs": [
    {
     "name": "stdin",
     "output_type": "stream",
     "text": [
      "당신의 나이는? 15\n"
     ]
    },
    {
     "name": "stdout",
     "output_type": "stream",
     "text": [
      "당신은 청소년입니다!\n"
     ]
    }
   ],
   "source": [
    "age = int(input(\"당신의 나이는?\"))\n",
    "\n",
    "if age >= 19 :\n",
    "    print(\"당신은 성인입니다!\")\n",
    "elif age >= 13 and age < 19 :\n",
    "    print(\"당신은 청소년입니다!\")\n",
    "else :\n",
    "    print(\"당신은 아동입니다!\")"
   ]
  },
  {
   "cell_type": "markdown",
   "id": "fbeab100-47f5-44cb-8c8f-aa50d852c1b3",
   "metadata": {},
   "source": [
    "### 사용자로부터 나이를 입력받아서, 나이가 19세 이상이면 \"당신은 성인입니다.\" 13세 이상 19세 미만이면 \"당신은 청소년입니다.\" 13세 미만 5세 이상이면 \"당신은 아동입니다\" 출력"
   ]
  },
  {
   "cell_type": "code",
   "execution_count": 28,
   "id": "b2e3a5f7-efbe-4ae6-b44f-e43ae3407149",
   "metadata": {},
   "outputs": [],
   "source": [
    "# else는 필수값이 아님. (else 없이 elif만으로도 완성 가능)"
   ]
  },
  {
   "cell_type": "code",
   "execution_count": 27,
   "id": "c1b96035-6d18-43a8-8001-fb68890e9de8",
   "metadata": {},
   "outputs": [
    {
     "name": "stdin",
     "output_type": "stream",
     "text": [
      "당신의 나이는? 5\n"
     ]
    },
    {
     "name": "stdout",
     "output_type": "stream",
     "text": [
      "당신은 아동입니다!\n"
     ]
    }
   ],
   "source": [
    "age = int(input(\"당신의 나이는?\"))\n",
    "\n",
    "if age >= 19 :\n",
    "    print(\"당신은 성인입니다!\")\n",
    "elif age >= 13 and age < 19 :\n",
    "    print(\"당신은 청소년입니다!\")\n",
    "elif age<13 and age >= 5 :\n",
    "    print(\"당신은 아동입니다!\")"
   ]
  },
  {
   "cell_type": "markdown",
   "id": "4e7137d8-6846-4d34-b1dc-544969190b29",
   "metadata": {},
   "source": [
    "### 사용자로부터 현재 현금이 얼마있는지 확인 후 10만원 이상이라면 레스토랑으로 갑시다!라는 문장을, 그렇지 않은 경우, 만약 5만원 이상이라면 뷔페로 갑시다!라는 문장을, 5만원 미만이라면 집으로 가세요. 라는 문장을 출력하세요."
   ]
  },
  {
   "cell_type": "code",
   "execution_count": 38,
   "id": "31522768-a490-4605-8800-98194f30d1f7",
   "metadata": {},
   "outputs": [
    {
     "name": "stdin",
     "output_type": "stream",
     "text": [
      "지금 현금이 얼마나 있나요? 3749234125\n"
     ]
    },
    {
     "name": "stdout",
     "output_type": "stream",
     "text": [
      "레스토랑으로 갑시다!\n"
     ]
    }
   ],
   "source": [
    "cash = int(input(\"지금 현금이 얼마나 있나요?\"))\n",
    "\n",
    "if cash >= 100000 :\n",
    "   print(\"레스토랑으로 갑시다!\")\n",
    "elif cash <100000 and cash >=50000 :\n",
    "   print(\"뷔페로 갑시다!\")\n",
    "else :\n",
    "   print(\"집으로 가세요.\")"
   ]
  },
  {
   "cell_type": "code",
   "execution_count": 41,
   "id": "fd81d2e3-fad1-4d3b-b574-eb3cbc4c7e3a",
   "metadata": {},
   "outputs": [
    {
     "name": "stdin",
     "output_type": "stream",
     "text": [
      "당신의 현금은? 35\n"
     ]
    },
    {
     "name": "stdout",
     "output_type": "stream",
     "text": [
      "집으로 가세요!\n"
     ]
    }
   ],
   "source": [
    "cash = int(input(\"당신의 현금은?\"))\n",
    "\n",
    "if cash >= 100000 :\n",
    "      print(\"레스토랑으로 갑시다!\")\n",
    "else :\n",
    "    if cash >= 50000 :\n",
    "        print(\"뷔페로 갑시다!\")\n",
    "    else :\n",
    "        print(\"집으로 가세요!\")"
   ]
  },
  {
   "cell_type": "markdown",
   "id": "101e3af2-33b4-4c3c-8330-f73e84eb34dd",
   "metadata": {},
   "source": [
    "### 사용자로부터 얼마의 현금이 있는지 확인 후 10만원 초과인 경우 레스토랑 출력, 만약 5만원 미만인 경우 집 출력, 7만원 초과인 경우 패밀리레스토랑 출력, 6만원 초과인 경우 한식집 출력, 그렇지 않으면 분식집 출력"
   ]
  },
  {
   "cell_type": "code",
   "execution_count": 57,
   "id": "5bcf2c33-e2fc-40b1-9da9-7e29c24ceffe",
   "metadata": {},
   "outputs": [
    {
     "name": "stdin",
     "output_type": "stream",
     "text": [
      "지금 현금이 얼마나 있나요? 57000\n"
     ]
    },
    {
     "name": "stdout",
     "output_type": "stream",
     "text": [
      "분식집 가\n"
     ]
    }
   ],
   "source": [
    "cash = int(input(\"지금 현금이 얼마나 있나요?\"))\n",
    "\n",
    "if cash > 100000 :\n",
    "    print(\"레스토랑 가\")\n",
    "elif cash > 70000 :\n",
    "     print(\"패밀리레스토랑 가\")\n",
    "elif cash > 60000 :\n",
    "    print( \"한식집 가\")\n",
    "elif cash < 50000 :\n",
    "    print(\"집 가\")\n",
    "else : \n",
    "    print(\"분식집 가\")\n",
    "        "
   ]
  },
  {
   "cell_type": "code",
   "execution_count": 64,
   "id": "bd3d48cd-f098-4839-981f-ca322f0c289a",
   "metadata": {},
   "outputs": [
    {
     "name": "stdin",
     "output_type": "stream",
     "text": [
      "당신의 현금은? 57000\n"
     ]
    },
    {
     "name": "stdout",
     "output_type": "stream",
     "text": [
      "분식집\n"
     ]
    }
   ],
   "source": [
    "cash = int(input(\"당신의 현금은?\"))\n",
    "\n",
    "if cash > 100000 :\n",
    "       print(\"레스토랑\")\n",
    "else :\n",
    "       if cash > 50000 :\n",
    "            if cash > 70000 :\n",
    "                print(\"패밀리레스토랑\")\n",
    "            elif cash > 60000 :\n",
    "                print(\"한식집\")\n",
    "            else :\n",
    "                print(\"분식집\")\n",
    "       else :\n",
    "            print(\"집\")"
   ]
  },
  {
   "cell_type": "markdown",
   "id": "0a0fc4e0-6006-4266-8ab1-43ae530a1fc8",
   "metadata": {},
   "source": [
    "### 사용자로부터 특정 숫자를 입력받은 후 해당 숫자가 홀수인지, 짝수인지 분별해서 출력해주세요!"
   ]
  },
  {
   "cell_type": "code",
   "execution_count": 77,
   "id": "9b3e5fbc-d037-479b-bb76-7d00eed5a3fa",
   "metadata": {},
   "outputs": [
    {
     "name": "stdin",
     "output_type": "stream",
     "text": [
      " 2\n"
     ]
    },
    {
     "name": "stdout",
     "output_type": "stream",
     "text": [
      "짝수\n"
     ]
    }
   ],
   "source": [
    "num = int(input())\n",
    "\n",
    "if  num % 2 >= 1 :\n",
    "      print(\"홀수\")\n",
    "else :\n",
    "       print(\"짝수\") "
   ]
  },
  {
   "cell_type": "code",
   "execution_count": 83,
   "id": "5f232deb-c8f5-404d-b212-0bbe32e822a5",
   "metadata": {},
   "outputs": [
    {
     "name": "stdin",
     "output_type": "stream",
     "text": [
      " 3\n"
     ]
    },
    {
     "name": "stdout",
     "output_type": "stream",
     "text": [
      "홀수입니다.\n"
     ]
    }
   ],
   "source": [
    "# =는 할당연산자라서 =로 쓸거면 == 두개 써야함\n",
    "num = int(input())\n",
    "\n",
    "if num % 2 == 0 :\n",
    "    print(\"짝수입니다.\")\n",
    "else :\n",
    "    print(\"홀수입니다.\")\n",
    "    "
   ]
  },
  {
   "cell_type": "markdown",
   "id": "97887ca4-a50d-49f6-8e8c-1e4e2424d984",
   "metadata": {},
   "source": [
    "### 사용자로부터 3개의 숫자를 입력받은 후 그 중 가장 작은 숫자를 출력해주세요!"
   ]
  },
  {
   "cell_type": "code",
   "execution_count": 81,
   "id": "d2b6d060-d6da-4efa-9c74-dd185080c92a",
   "metadata": {},
   "outputs": [
    {
     "name": "stdin",
     "output_type": "stream",
     "text": [
      " 7\n",
      " 3\n",
      " 9\n"
     ]
    },
    {
     "name": "stdout",
     "output_type": "stream",
     "text": [
      "3\n"
     ]
    }
   ],
   "source": [
    "num1 = int(input())\n",
    "num2 = int(input())\n",
    "num3 = int(input())\n",
    "\n",
    "if num1 < num2 and num1 < num3 :\n",
    "    print(num1)\n",
    "else :\n",
    "    if num2 < num1 and num2 < num3 :\n",
    "        print(num2)\n",
    "    else :\n",
    "        print(num3)\n",
    "   "
   ]
  },
  {
   "cell_type": "code",
   "execution_count": 85,
   "id": "e3d3d1d5-5fd5-4a99-adee-6b5de6fe306b",
   "metadata": {},
   "outputs": [
    {
     "name": "stdin",
     "output_type": "stream",
     "text": [
      " 6\n",
      " 27\n",
      " 1\n"
     ]
    },
    {
     "name": "stdout",
     "output_type": "stream",
     "text": [
      "1\n"
     ]
    }
   ],
   "source": [
    "num1 = int(input())\n",
    "num2 = int(input())\n",
    "num3 = int(input())\n",
    "\n",
    "if num1 <= num2 and num1 <= num3 :\n",
    "    print(num1)\n",
    "elif num2 <= num1 and num2 <= num3 :\n",
    "    print(num2)\n",
    "elif num3 <= num1 and num3 <= num2 :\n",
    "    print(num3)"
   ]
  },
  {
   "cell_type": "code",
   "execution_count": 87,
   "id": "7d9d6c60-5c72-4195-a145-002cba647347",
   "metadata": {},
   "outputs": [
    {
     "name": "stdin",
     "output_type": "stream",
     "text": [
      " 3\n",
      " 7\n",
      " 1\n"
     ]
    },
    {
     "data": {
      "text/plain": [
       "1"
      ]
     },
     "execution_count": 87,
     "metadata": {},
     "output_type": "execute_result"
    }
   ],
   "source": [
    "num1 = int(input())\n",
    "num2 = int(input())\n",
    "num3 = int(input())\n",
    "\n",
    "min(num1,num2,num3)"
   ]
  },
  {
   "cell_type": "code",
   "execution_count": 88,
   "id": "a1c3f239-4020-4aa5-bc89-0ff359c22f44",
   "metadata": {},
   "outputs": [
    {
     "name": "stdin",
     "output_type": "stream",
     "text": [
      " 10\n",
      " 0\n",
      " 8\n"
     ]
    },
    {
     "data": {
      "text/plain": [
       "0"
      ]
     },
     "execution_count": 88,
     "metadata": {},
     "output_type": "execute_result"
    }
   ],
   "source": [
    "nums = [int(input()) for _ in range(3)] #3회만큼 반복 (for in문)\n",
    "min(nums)"
   ]
  }
 ],
 "metadata": {
  "kernelspec": {
   "display_name": "Python 3 (ipykernel)",
   "language": "python",
   "name": "python3"
  },
  "language_info": {
   "codemirror_mode": {
    "name": "ipython",
    "version": 3
   },
   "file_extension": ".py",
   "mimetype": "text/x-python",
   "name": "python",
   "nbconvert_exporter": "python",
   "pygments_lexer": "ipython3",
   "version": "3.13.5"
  }
 },
 "nbformat": 4,
 "nbformat_minor": 5
}
