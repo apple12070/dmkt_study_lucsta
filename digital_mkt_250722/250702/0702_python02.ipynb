{
 "cells": [
  {
   "cell_type": "markdown",
   "id": "64c3de13-7de5-49ff-b21e-078104d00c5b",
   "metadata": {},
   "source": [
    "#### 파이썬 입.출력 예시\n",
    "\n",
    "- 사용자로부터 2개의 숫자를 입력받은 후 해당 2개의 숫자를 더한 값을 출력하는 프로그램을 작성해보세요."
   ]
  },
  {
   "cell_type": "code",
   "execution_count": 9,
   "id": "33ca6055-b091-4b8e-8635-2d1f5f591e29",
   "metadata": {},
   "outputs": [
    {
     "name": "stdin",
     "output_type": "stream",
     "text": [
      " 5\n",
      " 5\n"
     ]
    },
    {
     "name": "stdout",
     "output_type": "stream",
     "text": [
      "합계= 10\n"
     ]
    }
   ],
   "source": [
    "num1=int(input())\n",
    "num2=int(input())\n",
    "\n",
    "result=num1+num2\n",
    "\n",
    "print(\"합계=\", result)"
   ]
  },
  {
   "cell_type": "markdown",
   "id": "5b2d2370-c784-4486-bee0-5ff379bc197a",
   "metadata": {},
   "source": [
    "- 사용자로부터 두 개의 숫자를 입력받은 후 곱한 값, 나눈 값, 나눈 몫, 나머지 값을 각각 출력하는 프로그램을 작성해보세요."
   ]
  },
  {
   "cell_type": "code",
   "execution_count": 17,
   "id": "32951823-99b5-4992-b8f5-296e105d442b",
   "metadata": {},
   "outputs": [
    {
     "name": "stdin",
     "output_type": "stream",
     "text": [
      "첫번째 숫자를 입력하세요 100\n",
      "두번째 숫자를 입력하세요 10\n"
     ]
    },
    {
     "name": "stdout",
     "output_type": "stream",
     "text": [
      "곱한 값 :  1000\n",
      "나눈 값 :  10.0\n",
      "나눈 값 : 100 / 10 = 10.0\n",
      "100 // 10 = 10\n",
      "나눈 몫 : 10\n",
      "나머지 값 : 100 % 10 = 0\n"
     ]
    }
   ],
   "source": [
    "num1 = int(input(\"첫번째 숫자를 입력하세요\"))\n",
    "num2 = int(input(\"두번째 숫자를 입력하세요\"))\n",
    "\n",
    "print(\"곱한 값 : \",num1 * num2)\n",
    "print(\"나눈 값 : \",num1 / num2)\n",
    "print(f\"나눈 값 : {num1} / {num2} = {num1 / num2}\")\n",
    "print(num1,\"//\",num2,\"=\",num1//num2)\n",
    "print(f\"나눈 몫 : {num1 // num2}\")\n",
    "print(f\"나머지 값 : {num1} % {num2} = {num1 % num2}\")\n"
   ]
  },
  {
   "cell_type": "markdown",
   "id": "849548b7-127c-49ac-8480-3d8e6d28a10a",
   "metadata": {},
   "source": [
    "### 데이터 자료구조 - 리스트 (list)\n",
    "- 파이썬의 리스트 => 다른 프로그래밍 언어에서 주로 배열(array)이라는 이름으로 많이 불림\n",
    "- 프로그래밍 언어 => 인간의 작업보다 효율적이다 => 패턴을 가지고 있는 반복적인 작업을 매우 빠르게 잘하기 대문이다.\n",
    "- 어떤 연산처리작업을 반복해서 할 수 있는 형태의 자료구조여야만 위의 작업을 할 수 있음\n",
    "- 이터러블 = iterable = 반복적인 // class\n",
    "- 문자열 역시 이터러블한 속성을 가지고 있음\n",
    "- 리스트 자료구조는 내부에 입력된 값에 고유한 개별적인 인덱스(index)값을 부여한다."
   ]
  },
  {
   "cell_type": "markdown",
   "id": "c5339ca8-5c1e-47b9-94a9-86dc47e9ab85",
   "metadata": {},
   "source": [
    "- 리스트는 각각 고유한 인덱스값을 가지고 있음 (*0부터 시작함)\n",
    "- 리스트에서 특정 인덱스값을 찾아오고자 할 때 => 변수명[인덱스값] & 만약 오른쪽부터 값을 찾아오고 싶다면 -1 음수값부터 시작!\n",
    "- 문자열과 동일하게 슬라이싱 기능이 있음. => 변수명[시작인덱스 : 종료인덱스 +1]\n",
    "- append() : 리스트 자료구조에서 왼쪽부터 신규로 값을 추가할 수 있도록 해주는 함수 => 한 번에 여러개 값을 추가할 수 없음!\n",
    "- insert() : 리스트 자료구조 안에 값을 추가할 수 있는 함수 => 첫번째 인덱스는 추가하고자 하는 위치를, 두번째 인덱스는 추가하고자 하는 값을 의미한다.\n",
    "- extend() : 리스트 자료구조에서 왼쪽부터 신규로 값을 추가하는데 있어서 복수의 값을 한 번에 추가할 수 있음!\n",
    "- remove() : 함수의 인자값을 리스트 자료구조의 왼쪽부터 서칭하다가 발견 시, 삭제해주는 함수\n",
    "- del : del 변수명[인덱스값] => 해당 인덱스값을 삭제해주는 함수\n",
    "- sort() : 리스트 안에 있는 값을 오름차순으로 정렬할 때 사용하는 함수\n",
    "- reverse() : 리스트 안에 있는 값을 내림차순으로 정렬할 때 사용하는 함수\n",
    "- split() : 문자열의 자료형태를 인자값을 기준으로 나눠서 리스트 자료형태로 변환시켜주는 함수"
   ]
  },
  {
   "cell_type": "markdown",
   "id": "230e47f9-b4e8-473d-a84f-3d26600e26cb",
   "metadata": {},
   "source": [
    "#### 리스트 자료구조 생성하는 방법\n",
    "- 객체 지향 언어\n",
    "1. 변수 선언과 함께 직접 대괄호 입력 후 내부에 요소들을 입력하는 방법\n",
    "2. 아무런 값도 존재하지 않는 빈 리스트를 만들어놓고 값을 하나씩 채워가는 방법\n",
    "3. 파이썬 내 클래스 문법을 통해서 이미 생성된 리스트 프로토타입을 활용해서 인스턴스 객체를 생성하는 방법"
   ]
  },
  {
   "cell_type": "code",
   "execution_count": 20,
   "id": "08bc9f59-5b26-4b30-a215-d023cb5d257d",
   "metadata": {},
   "outputs": [
    {
     "name": "stdout",
     "output_type": "stream",
     "text": [
      "오마이뉴스\n",
      "한국일보\n",
      "시사인\n",
      "뉴시스\n",
      "KBSNEWS\n",
      "스포츠조선\n"
     ]
    }
   ],
   "source": [
    "mydata = [] #변수안에 할당되어지는 값이 []로 시작한다 => 무조건 리스트 \n",
    "mydata = [\"hello\",1,2,\"world\"]\n",
    "news = [\"오마이뉴스\",\"한국일보\",\"시사인\",\"뉴시스\",\"KBSNEWS\",\"스포츠조선\"]\n",
    "\n",
    "for media in news :\n",
    "    print(media)"
   ]
  },
  {
   "cell_type": "code",
   "execution_count": 21,
   "id": "435eac76-1bbd-4541-adbe-67a4f561ab21",
   "metadata": {},
   "outputs": [
    {
     "name": "stdout",
     "output_type": "stream",
     "text": [
      "서울시\n",
      "경기도\n",
      "인천시\n",
      "['서울시', '경기도', '인천시']\n",
      "<class 'list'>\n"
     ]
    }
   ],
   "source": [
    "location = [\"서울시\",\"경기도\",\"인천시\"]\n",
    "\n",
    "print(location[0])\n",
    "print(location[1])\n",
    "print(location[2])\n",
    "print(location)\n",
    "print(type(location))"
   ]
  },
  {
   "cell_type": "code",
   "execution_count": 26,
   "id": "4a9ffca7-c227-4c9d-9a47-d0cef92ba750",
   "metadata": {},
   "outputs": [
    {
     "name": "stdout",
     "output_type": "stream",
     "text": [
      "['서울시', '경기도', '인천시', '부산시', '부산시', '부산시', '부산시', '부산시']\n"
     ]
    }
   ],
   "source": [
    "location.append(\"부산시\") # append함수 => 값을 추가한다(어펜딕스)\n",
    "\n",
    "\n",
    "print(location)\n",
    "#locaton"
   ]
  },
  {
   "cell_type": "code",
   "execution_count": 29,
   "id": "cfa208f1-54f2-494c-87d5-70ffe4239740",
   "metadata": {},
   "outputs": [],
   "source": [
    "location.append(\"완도군\") #append함수는 한 번에 하나씩밖에 값을 넣을 수가 없음"
   ]
  },
  {
   "cell_type": "code",
   "execution_count": 30,
   "id": "018c5de1-cb47-4678-a74c-b5580030b872",
   "metadata": {},
   "outputs": [
    {
     "data": {
      "text/plain": [
       "['서울시', '경기도', '인천시', '부산시', '부산시', '부산시', '부산시', '부산시', '완도군', '완도군']"
      ]
     },
     "execution_count": 30,
     "metadata": {},
     "output_type": "execute_result"
    }
   ],
   "source": [
    "location"
   ]
  },
  {
   "cell_type": "code",
   "execution_count": 32,
   "id": "c666b507-c94d-4275-879d-9948c645bf92",
   "metadata": {},
   "outputs": [
    {
     "data": {
      "text/plain": [
       "'부산시'"
      ]
     },
     "execution_count": 32,
     "metadata": {},
     "output_type": "execute_result"
    }
   ],
   "source": [
    "location[-3]"
   ]
  },
  {
   "cell_type": "code",
   "execution_count": 34,
   "id": "722bd8b3-0b85-4192-97a6-3a2bf685b5bc",
   "metadata": {},
   "outputs": [
    {
     "data": {
      "text/plain": [
       "['경기도', '인천시']"
      ]
     },
     "execution_count": 34,
     "metadata": {},
     "output_type": "execute_result"
    }
   ],
   "source": [
    "location[1:3]"
   ]
  },
  {
   "cell_type": "code",
   "execution_count": 35,
   "id": "e1aaa5dc-b363-4678-8974-dcaf85a832a7",
   "metadata": {},
   "outputs": [],
   "source": [
    "location.remove(\"부산시\")"
   ]
  },
  {
   "cell_type": "code",
   "execution_count": 36,
   "id": "e934e8ff-c2fd-4ba2-add1-717372ab9f61",
   "metadata": {},
   "outputs": [
    {
     "data": {
      "text/plain": [
       "['서울시', '경기도', '인천시', '부산시', '부산시', '부산시', '부산시', '완도군', '완도군']"
      ]
     },
     "execution_count": 36,
     "metadata": {},
     "output_type": "execute_result"
    }
   ],
   "source": [
    "location"
   ]
  },
  {
   "cell_type": "code",
   "execution_count": 37,
   "id": "b30af6ac-baf1-4dd7-b93f-be4e8dd311cf",
   "metadata": {},
   "outputs": [],
   "source": [
    "location.remove(\"완도군\")"
   ]
  },
  {
   "cell_type": "code",
   "execution_count": 39,
   "id": "3a986f13-be66-4070-bf4d-4fa0c8244795",
   "metadata": {},
   "outputs": [
    {
     "data": {
      "text/plain": [
       "['서울시', '경기도', '인천시', '부산시', '부산시', '부산시', '부산시', '완도군']"
      ]
     },
     "execution_count": 39,
     "metadata": {},
     "output_type": "execute_result"
    }
   ],
   "source": [
    "location"
   ]
  },
  {
   "cell_type": "code",
   "execution_count": 42,
   "id": "830b32f6-c7e7-464b-8584-f1911fa2e867",
   "metadata": {},
   "outputs": [],
   "source": [
    "del location[3]"
   ]
  },
  {
   "cell_type": "code",
   "execution_count": 43,
   "id": "6355d63b-6ee7-4017-b992-935b35ed7cdc",
   "metadata": {},
   "outputs": [
    {
     "data": {
      "text/plain": [
       "['서울시', '경기도', '인천시', '부산시', '부산시', '부산시', '완도군']"
      ]
     },
     "execution_count": 43,
     "metadata": {},
     "output_type": "execute_result"
    }
   ],
   "source": [
    "location"
   ]
  },
  {
   "cell_type": "code",
   "execution_count": 45,
   "id": "d15c0064-1592-41b2-bed0-526f750c0b84",
   "metadata": {},
   "outputs": [],
   "source": [
    "del location[3]"
   ]
  },
  {
   "cell_type": "code",
   "execution_count": 46,
   "id": "94f23fef-1493-49d6-9f27-a8f993506c97",
   "metadata": {},
   "outputs": [
    {
     "data": {
      "text/plain": [
       "['서울시', '경기도', '인천시', '부산시', '부산시', '완도군']"
      ]
     },
     "execution_count": 46,
     "metadata": {},
     "output_type": "execute_result"
    }
   ],
   "source": [
    "location"
   ]
  },
  {
   "cell_type": "code",
   "execution_count": 47,
   "id": "f3add76f-fb21-4e34-b732-4672657c2522",
   "metadata": {},
   "outputs": [],
   "source": [
    "del location[3]"
   ]
  },
  {
   "cell_type": "code",
   "execution_count": 48,
   "id": "6ff7ab7b-5a96-40ec-b617-d94d4cabed5c",
   "metadata": {},
   "outputs": [
    {
     "data": {
      "text/plain": [
       "['서울시', '경기도', '인천시', '부산시', '완도군']"
      ]
     },
     "execution_count": 48,
     "metadata": {},
     "output_type": "execute_result"
    }
   ],
   "source": [
    "location"
   ]
  },
  {
   "cell_type": "code",
   "execution_count": 49,
   "id": "1a53f11d-e630-4b6a-b162-6018633ba3df",
   "metadata": {},
   "outputs": [],
   "source": [
    "location.extend([\"천안\",\"대구\"])"
   ]
  },
  {
   "cell_type": "code",
   "execution_count": 50,
   "id": "d1dcad34-5c38-4254-8a50-dbcfa0bec616",
   "metadata": {},
   "outputs": [
    {
     "data": {
      "text/plain": [
       "['서울시', '경기도', '인천시', '부산시', '완도군', '천안', '대구']"
      ]
     },
     "execution_count": 50,
     "metadata": {},
     "output_type": "execute_result"
    }
   ],
   "source": [
    "location"
   ]
  },
  {
   "cell_type": "code",
   "execution_count": 51,
   "id": "9b6aaf1b-660d-4c12-afe3-ce3d8fca44f6",
   "metadata": {},
   "outputs": [],
   "source": [
    "location.insert(0, \"제주도\")"
   ]
  },
  {
   "cell_type": "code",
   "execution_count": 52,
   "id": "ee1ca8ac-2b61-4a50-ab65-7129a4a0653d",
   "metadata": {},
   "outputs": [
    {
     "data": {
      "text/plain": [
       "['제주도', '서울시', '경기도', '인천시', '부산시', '완도군', '천안', '대구']"
      ]
     },
     "execution_count": 52,
     "metadata": {},
     "output_type": "execute_result"
    }
   ],
   "source": [
    "location"
   ]
  },
  {
   "cell_type": "code",
   "execution_count": 53,
   "id": "078b26f1-a79d-4b23-ad66-f097f106d7ad",
   "metadata": {},
   "outputs": [
    {
     "data": {
      "text/plain": [
       "list"
      ]
     },
     "execution_count": 53,
     "metadata": {},
     "output_type": "execute_result"
    }
   ],
   "source": [
    "location01 = []\n",
    "\n",
    "type(location01)"
   ]
  },
  {
   "cell_type": "code",
   "execution_count": 56,
   "id": "b1ca576f-ef7b-4633-848b-c15cca453d72",
   "metadata": {},
   "outputs": [],
   "source": [
    "location01.append(\"강원도\")  #location01이란 변수를 리스트로 지정하여 append함수로 리스트 항목 추가"
   ]
  },
  {
   "cell_type": "code",
   "execution_count": 55,
   "id": "b36b3e9c-8692-4574-bd30-269157eaf383",
   "metadata": {},
   "outputs": [
    {
     "data": {
      "text/plain": [
       "['강원도']"
      ]
     },
     "execution_count": 55,
     "metadata": {},
     "output_type": "execute_result"
    }
   ],
   "source": [
    "location01"
   ]
  },
  {
   "cell_type": "code",
   "execution_count": 58,
   "id": "b4fca755-5cd0-454d-b97b-cfa52b963a97",
   "metadata": {},
   "outputs": [
    {
     "name": "stdout",
     "output_type": "stream",
     "text": [
      "<class 'list'>\n"
     ]
    }
   ],
   "source": [
    "location02 = list()    #프로토타입을 이용하여 리스트를 만들고싶다면 []가 아닌 list()를 이용해야 함\n",
    "print(type(location02))"
   ]
  },
  {
   "cell_type": "code",
   "execution_count": 61,
   "id": "ef94f6f7-b4b6-4b51-891d-53f03c540ec1",
   "metadata": {},
   "outputs": [
    {
     "name": "stdout",
     "output_type": "stream",
     "text": [
      "[2, 1, 4, 3]\n",
      "[1, 2, 3, 4]\n",
      "[4, 3, 2, 1]\n"
     ]
    }
   ],
   "source": [
    "numbers = [2,1,4,3]\n",
    "print(numbers)\n",
    "\n",
    "numbers.sort()\n",
    "print(numbers)\n",
    "\n",
    "numbers.reverse()\n",
    "print(numbers)"
   ]
  },
  {
   "cell_type": "code",
   "execution_count": 64,
   "id": "7f3b0170-2eb5-48ac-80b5-267373c07aed",
   "metadata": {},
   "outputs": [
    {
     "data": {
      "text/plain": [
       "'python'"
      ]
     },
     "execution_count": 64,
     "metadata": {},
     "output_type": "execute_result"
    }
   ],
   "source": [
    "pythonBasic = \"python is easy\"\n",
    "pylist = pythonBasic.split()\n",
    "pylist[0]"
   ]
  },
  {
   "cell_type": "code",
   "execution_count": null,
   "id": "61977f11-4494-496a-94a7-e3f3fac925aa",
   "metadata": {},
   "outputs": [],
   "source": []
  }
 ],
 "metadata": {
  "kernelspec": {
   "display_name": "Python 3 (ipykernel)",
   "language": "python",
   "name": "python3"
  },
  "language_info": {
   "codemirror_mode": {
    "name": "ipython",
    "version": 3
   },
   "file_extension": ".py",
   "mimetype": "text/x-python",
   "name": "python",
   "nbconvert_exporter": "python",
   "pygments_lexer": "ipython3",
   "version": "3.13.5"
  }
 },
 "nbformat": 4,
 "nbformat_minor": 5
}
