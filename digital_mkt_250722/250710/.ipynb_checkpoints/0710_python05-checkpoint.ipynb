{
 "cells": [
  {
   "cell_type": "markdown",
   "id": "ef7bdfeb-6a1a-4cfe-ab1f-587b8589a577",
   "metadata": {},
   "source": [
    "### 원하는 데이터를 크롤링 해왔다는 전제 > 해당 데이터가 문서화되어야 > 데이터를 활용\n",
    "- openpyxl 라이브러리 활용 (외부 라이브러리이기 때문에 설치해야함)\n",
    "- urllib => 파이썬 내장 라이브러리였기 때문에 별도로 설치하지 않아도 됨\n",
    "- 그동안은 주피터 노트북을 통해서 크롤링한 데이터를 찾아서 즉석에서 값을 보고 끝이었음\n",
    "- but from now on -> 1) 데이터를 찾아와서(for문### 원하는 데이터를 크롤링 해왔다는 전제 > 해당 데이터가 문서화되어야 > 데이터를 활용\n",
    "- openpyxl 라이브러리 활용 (외부 라이브러리이기 때문에 설치해야함)\n",
    "- urllib => 파이썬 내장 라이브러리였기 때문에 별도로 설치하지 않아도 됨\n",
    "- 그동안은 주피터 노트북을 통해서 크롤링한 데이터를 찾아서 즉석에서 값을 보고 끝이었음\n",
    "- but from now on -> 1) 데이터를 찾아와서(for문)  2) 찾아온 데이터를 데이터양식에 넣어놓고 3) 엑셀에다가 전달해야됨\n",
    "\n",
    "* 변수 종류 3가지 -> 전역변수 / 지역변수 / 블록변수\n",
    "\n",
    "- !pip install openpyxl"
   ]
  },
  {
   "cell_type": "code",
   "execution_count": 1,
   "id": "a789c83b-09fa-4c85-834a-b1e7656867c0",
   "metadata": {},
   "outputs": [
    {
     "name": "stdout",
     "output_type": "stream",
     "text": [
      "Requirement already satisfied: openpyxl in c:\\users\\user\\downloads\\fireshot\\lib\\site-packages (3.1.5)\n",
      "Requirement already satisfied: et-xmlfile in c:\\users\\user\\downloads\\fireshot\\lib\\site-packages (from openpyxl) (1.1.0)\n"
     ]
    }
   ],
   "source": [
    "!pip install openpyxl"
   ]
  },
  {
   "cell_type": "code",
   "execution_count": null,
   "id": "f5fbca70-1aed-4a43-a072-9cd13f7e80a4",
   "metadata": {},
   "outputs": [],
   "source": [
    "# openpyxl 라이브러리 찾아오기\n",
    "import openpyxl\n",
    "\n",
    "# Workbook() 프로토타입 객체를 실행시켜서 하나의 엑셀파일을 생성하겠다는 의미\n",
    "excel_file = openpyxl.Workbook()\n",
    "\n",
    "# 엑셀파일 내부에는 기본적으로 sheet가 1개 존재 => 해당 시트를 선택 (*active)\n",
    "excel_sheet = excel_file.active\n",
    "\n",
    "#선택한 엑셀시트 내부에 데이터 추가 및 삽입하기\n",
    "excel_sheet.append([\"data1\",\"data2\",\"data3\"])\n",
    "\n",
    "#엑셀파일 저장하기\n",
    "excel_file.save(tmp.xlsx)\n",
    "\n",
    "# 엑셀파일 종료하기\n",
    "excel_file.close()"
   ]
  },
  {
   "cell_type": "code",
   "execution_count": 18,
   "id": "7e215552-7bd9-422d-9802-cd66e5a91588",
   "metadata": {},
   "outputs": [],
   "source": [
    "# 1. 데이터 크롤링 파트\n",
    "import requests\n",
    "from bs4 import BeautifulSoup\n",
    "\n",
    "url = \"https://davelee-fun.github.io/\"\n",
    "product_lists = list()\n",
    "\n",
    "for page_num in range(10) :\n",
    "    if page_num == 0 :\n",
    "        res = requests.get(url)\n",
    "    else :\n",
    "        res = requests.get(f\"{url}page{page_num+1}\")\n",
    "    soup = BeautifulSoup(res.content,\"html.parser\")\n",
    "    datas = soup.select(\"div.card\")\n",
    "\n",
    "    for data in datas:\n",
    "        product_name = data.select_one(\"div.card-body > h4.card-text\")\n",
    "        product_date = data.select_one(\"div.wrapfooter span.post-date\")\n",
    "        product_info = [product_name.get_text().strip(), product_date.get_text().strip()]\n",
    "        product_lists.append(product_info)\n"
   ]
  },
  {
   "cell_type": "code",
   "execution_count": 19,
   "id": "119c4514-6fd7-4961-a5fd-88886cd477c3",
   "metadata": {},
   "outputs": [],
   "source": [
    "# 2. 엑셀시트 저장용 함수생성 파트\n",
    "\n",
    "import openpyxl\n",
    "\n",
    "def write_excel_template(filename, sheetname, listdata) :\n",
    "    excel_file = openpyxl.Workbook()\n",
    "    excel_sheet = excel_file.active\n",
    "    excel_sheet.column_dimensions[\"A\"].width = 100\n",
    "\n",
    "    if sheetname != \"\" :\n",
    "        excel_sheet.title = sheetname\n",
    "    for item in listdata :\n",
    "        excel_sheet.append(item)\n",
    "        \n",
    "    excel_file.save(filename)\n",
    "    excel_file.close()"
   ]
  },
  {
   "cell_type": "code",
   "execution_count": 21,
   "id": "a8106499-5de0-4aa6-a235-6358d8812b93",
   "metadata": {},
   "outputs": [],
   "source": [
    "# 3. 엑셀시트 저장용 함수호출 파트\n",
    "\n",
    "write_excel_template(\"tmp.xlsx\",\"상품정보\",product_lists)"
   ]
  }
 ],
 "metadata": {
  "kernelspec": {
   "display_name": "Python 3 (ipykernel)",
   "language": "python",
   "name": "python3"
  },
  "language_info": {
   "codemirror_mode": {
    "name": "ipython",
    "version": 3
   },
   "file_extension": ".py",
   "mimetype": "text/x-python",
   "name": "python",
   "nbconvert_exporter": "python",
   "pygments_lexer": "ipython3",
   "version": "3.13.5"
  }
 },
 "nbformat": 4,
 "nbformat_minor": 5
}
