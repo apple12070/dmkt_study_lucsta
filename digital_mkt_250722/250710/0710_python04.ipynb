{
 "cells": [
  {
   "cell_type": "markdown",
   "id": "19d8ad92-c1d9-4fde-99ef-b12320ad51b8",
   "metadata": {},
   "source": [
    "#### request로 크롤링하는 방법"
   ]
  },
  {
   "cell_type": "code",
   "execution_count": 1,
   "id": "e0d0f6c3-646f-4191-8902-fc3f18a7b979",
   "metadata": {},
   "outputs": [
    {
     "name": "stdout",
     "output_type": "stream",
     "text": [
      "상품명: 보몽드 순면스퀘어 솔리드 누빔매트커버, 다크블루\n",
      "상품명: 슈에뜨룸 선인장 리플 침구 세트, 베이지\n",
      "상품명: 선우랜드 레인보우 2단 문걸이용 옷걸이 _중형, 화이트, 상세페이지참조\n",
      "상품명: 보드래 헬로우 누빔 매트리스커버, 핑크\n",
      "상품명: 보드래 퍼펙트 누빔 매트리스커버, 차콜\n",
      "상품명: 피아블 클래식 방수 매트리스커버, 화이트\n",
      "상품명: 더자리 에코항균 마이크로 매트리스커버, 밀키차콜그레이\n",
      "상품명: 더자리 프레쉬 퓨어 매트리스 커버, 퓨어 차콜그레이\n",
      "상품명: 몽쉐어 알러스킨 항균 매트리스 커버, 카키그레이\n",
      "상품명: 쿠팡 브랜드 - 코멧 홈 40수 트윌 순면 100% 홑겹 매트리스커버, 그레이\n",
      "상품명: 패브릭아트 항균 마이크로 원단 매트리스 커버, 아이보리\n",
      "상품명: 바숨 순면 누빔 침대 매트리스커버, 차콜\n",
      "상품명: WEMAX 다용도 문옷걸이, 화이트, 1개\n",
      "상품명: 타카타카 프리미엄 나노 화이바 누빔 매트리스 커버, 젠틀핑핑\n",
      "상품명: 보몽드 순면스퀘어 누빔매트커버, 다크그레이\n",
      "상품명: 보드래 국내산 순면 60수 누빔 매트리스커버, 그레이\n"
     ]
    }
   ],
   "source": [
    "import requests\n",
    "from bs4 import BeautifulSoup\n",
    "\n",
    "res = requests.get(\"https://davelee-fun.github.io/\")\n",
    "soup = BeautifulSoup(res.content,\"html.parser\")\n",
    "\n",
    "datas = soup.select(\"h4.card-text\")\n",
    "for data in datas :\n",
    "    print(data.get_text().strip())"
   ]
  },
  {
   "cell_type": "markdown",
   "id": "bd2fc54f-06d5-40cf-9fe6-eff11a9a6bdb",
   "metadata": {},
   "source": [
    "#### urllib로 크롤링하는 방법"
   ]
  },
  {
   "cell_type": "code",
   "execution_count": 11,
   "id": "73f26176-e683-4261-bfc4-80d919b58a6b",
   "metadata": {},
   "outputs": [
    {
     "name": "stdout",
     "output_type": "stream",
     "text": [
      "상품명: 보몽드 순면스퀘어 솔리드 누빔매트커버, 다크블루\n",
      "상품명: 슈에뜨룸 선인장 리플 침구 세트, 베이지\n",
      "상품명: 선우랜드 레인보우 2단 문걸이용 옷걸이 _중형, 화이트, 상세페이지참조\n",
      "상품명: 보드래 헬로우 누빔 매트리스커버, 핑크\n",
      "상품명: 보드래 퍼펙트 누빔 매트리스커버, 차콜\n",
      "상품명: 피아블 클래식 방수 매트리스커버, 화이트\n",
      "상품명: 더자리 에코항균 마이크로 매트리스커버, 밀키차콜그레이\n",
      "상품명: 더자리 프레쉬 퓨어 매트리스 커버, 퓨어 차콜그레이\n",
      "상품명: 몽쉐어 알러스킨 항균 매트리스 커버, 카키그레이\n",
      "상품명: 쿠팡 브랜드 - 코멧 홈 40수 트윌 순면 100% 홑겹 매트리스커버, 그레이\n",
      "상품명: 패브릭아트 항균 마이크로 원단 매트리스 커버, 아이보리\n",
      "상품명: 바숨 순면 누빔 침대 매트리스커버, 차콜\n",
      "상품명: WEMAX 다용도 문옷걸이, 화이트, 1개\n",
      "상품명: 타카타카 프리미엄 나노 화이바 누빔 매트리스 커버, 젠틀핑핑\n",
      "상품명: 보몽드 순면스퀘어 누빔매트커버, 다크그레이\n",
      "상품명: 보드래 국내산 순면 60수 누빔 매트리스커버, 그레이\n"
     ]
    }
   ],
   "source": [
    "from urllib.request import urlopen\n",
    "from bs4 import BeautifulSoup\n",
    "\n",
    "#res = urlopen(\"https://davelee-fun.github.io/\")\n",
    "res = requests.get(\"https://davelee-fun.github.io/\")\n",
    "\n",
    "if res.status_code != 200 :\n",
    "    print(\"존재하지 않는 페이지입니다.\")\n",
    "else :\n",
    "     soup = BeautifulSoup(res.content,\"html.parser\")\n",
    "\n",
    "     datas = soup.select(\"h4.card-text\")\n",
    "     for data in datas :\n",
    "         print(data.get_text().strip())"
   ]
  },
  {
   "cell_type": "markdown",
   "id": "e6617a17-4a84-4258-9fee-dfe8374ca60e",
   "metadata": {},
   "source": [
    "### 여러 페이지 크롤링하기\n",
    "-> 파라미터(경로)들의 패턴 파악하기\n",
    "-> 해당 페이지의 id값,class값 확인하기\n",
    "-> Route(경로) // page routing -> 경로를 따다.\n",
    "\n",
    "- http://davelee-fun.gitbub.io/\n",
    "- http://davelee-fun.gitbub.io/product-83/\n",
    "- http://davelee-fun.gitbub.io/product-69/\n",
    "- http://davelee-fun.gitbub.io/product-20/"
   ]
  },
  {
   "cell_type": "code",
   "execution_count": 19,
   "id": "69e5c58d-8ada-4c9f-a610-b8a5a5bf4164",
   "metadata": {},
   "outputs": [
    {
     "name": "stdout",
     "output_type": "stream",
     "text": [
      "상품명: 보몽드 순면스퀘어 솔리드 누빔매트커버, 다크블루\n",
      "상품명: 슈에뜨룸 선인장 리플 침구 세트, 베이지\n",
      "상품명: 선우랜드 레인보우 2단 문걸이용 옷걸이 _중형, 화이트, 상세페이지참조\n",
      "상품명: 보드래 헬로우 누빔 매트리스커버, 핑크\n",
      "상품명: 보드래 퍼펙트 누빔 매트리스커버, 차콜\n",
      "상품명: 피아블 클래식 방수 매트리스커버, 화이트\n",
      "상품명: 더자리 에코항균 마이크로 매트리스커버, 밀키차콜그레이\n",
      "상품명: 더자리 프레쉬 퓨어 매트리스 커버, 퓨어 차콜그레이\n",
      "상품명: 몽쉐어 알러스킨 항균 매트리스 커버, 카키그레이\n",
      "상품명: 쿠팡 브랜드 - 코멧 홈 40수 트윌 순면 100% 홑겹 매트리스커버, 그레이\n",
      "상품명: 패브릭아트 항균 마이크로 원단 매트리스 커버, 아이보리\n",
      "상품명: 바숨 순면 누빔 침대 매트리스커버, 차콜\n",
      "상품명: WEMAX 다용도 문옷걸이, 화이트, 1개\n",
      "상품명: 타카타카 프리미엄 나노 화이바 누빔 매트리스 커버, 젠틀핑핑\n",
      "상품명: 보몽드 순면스퀘어 누빔매트커버, 다크그레이\n",
      "상품명: 보드래 국내산 순면 60수 누빔 매트리스커버, 그레이\n"
     ]
    }
   ],
   "source": [
    "import requests\n",
    "from bs4 import BeautifulSoup\n",
    "\n",
    "url = \"https://davelee-fun.github.io/\"\n",
    "\n",
    "for page_num in range(8) :\n",
    "    if page_num == 0 :\n",
    "        res = requests.get(url)\n",
    "    else :\n",
    "        res = requests.get(f\"{url}page-{page_num + 1}\")\n",
    "    soup = BeautifulSoup(res.content, \"html.parser\")\n",
    "    datas = soup.select(\"h4.card-text\")\n",
    "    for data in datas :\n",
    "        print(data.get_text().strip())"
   ]
  },
  {
   "cell_type": "code",
   "execution_count": null,
   "id": "7e55f359-1c06-403a-b375-94fcb6135b43",
   "metadata": {},
   "outputs": [],
   "source": []
  }
 ],
 "metadata": {
  "kernelspec": {
   "display_name": "Python 3 (ipykernel)",
   "language": "python",
   "name": "python3"
  },
  "language_info": {
   "codemirror_mode": {
    "name": "ipython",
    "version": 3
   },
   "file_extension": ".py",
   "mimetype": "text/x-python",
   "name": "python",
   "nbconvert_exporter": "python",
   "pygments_lexer": "ipython3",
   "version": "3.13.5"
  }
 },
 "nbformat": 4,
 "nbformat_minor": 5
}
