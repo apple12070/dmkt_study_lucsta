{
 "cells": [
  {
   "cell_type": "code",
   "execution_count": 1,
   "id": "3815c3de-d8cd-4a1b-8c34-52da1a7f0337",
   "metadata": {},
   "outputs": [
    {
     "name": "stdout",
     "output_type": "stream",
     "text": [
      "Collecting konlpy\n",
      "  Downloading konlpy-0.6.0-py2.py3-none-any.whl.metadata (1.9 kB)\n",
      "Collecting JPype1>=0.7.0 (from konlpy)\n",
      "  Downloading jpype1-1.6.0-cp313-cp313-win_amd64.whl.metadata (5.1 kB)\n",
      "Requirement already satisfied: lxml>=4.1.0 in c:\\users\\lucsta\\anaconda3\\lib\\site-packages (from konlpy) (5.3.0)\n",
      "Requirement already satisfied: numpy>=1.6 in c:\\users\\lucsta\\anaconda3\\lib\\site-packages (from konlpy) (2.1.3)\n",
      "Requirement already satisfied: packaging in c:\\users\\lucsta\\anaconda3\\lib\\site-packages (from JPype1>=0.7.0->konlpy) (24.2)\n",
      "Downloading konlpy-0.6.0-py2.py3-none-any.whl (19.4 MB)\n",
      "   ---------------------------------------- 0.0/19.4 MB ? eta -:--:--\n",
      "   ------ --------------------------------- 3.1/19.4 MB 21.4 MB/s eta 0:00:01\n",
      "   ----------------- ---------------------- 8.4/19.4 MB 23.6 MB/s eta 0:00:01\n",
      "   ------------------------------ --------- 14.7/19.4 MB 25.9 MB/s eta 0:00:01\n",
      "   ---------------------------------------- 19.4/19.4 MB 25.3 MB/s eta 0:00:00\n",
      "Downloading jpype1-1.6.0-cp313-cp313-win_amd64.whl (355 kB)\n",
      "Installing collected packages: JPype1, konlpy\n",
      "\n",
      "   ---------------------------------------- 2/2 [konlpy]\n",
      "\n",
      "Successfully installed JPype1-1.6.0 konlpy-0.6.0\n",
      "Note: you may need to restart the kernel to use updated packages.\n"
     ]
    }
   ],
   "source": [
    "pip install konlpy"
   ]
  },
  {
   "cell_type": "code",
   "execution_count": 7,
   "id": "52b22a2d-74bb-4aec-889e-893617d0c8c4",
   "metadata": {},
   "outputs": [
    {
     "name": "stdout",
     "output_type": "stream",
     "text": [
      "엑셀 저장 완료 : kurly_reviews.xlsx\n"
     ]
    }
   ],
   "source": [
    "from selenium import webdriver\n",
    "from selenium.webdriver.chrome.options import Options\n",
    "from bs4 import BeautifulSoup\n",
    "from openpyxl import Workbook\n",
    "from konlpy.tag import Okt #konlpy,okt -> 한국 자연어를 파이썬으로 가져와서 처리\n",
    "from collections import Counter\n",
    "import time\n",
    "\n",
    "options = Options()\n",
    "options.add_argument(\"--no-sandbox\") #sandbox ->브라우저가 의심스러운 동작으로부터 시스템을 보호하기 위해 격리된 환경(보안 기능)\n",
    "options.add_argument(\"--disable-dev-shm-usage\") #브라우저가 공유메모리(/dev/shm)을 사용하지 않도록 하는 명령어\n",
    "options.add_argument(\"--headless\") # selenium으로 크롤링했을때 뜨는 브라우저창 안뜨게 하는 명령어\n",
    "\n",
    "driver = webdriver.Chrome(options=options)\n",
    "\n",
    "url = \"https://www.kurly.com/goods/1000078028\"\n",
    "test = driver.get(url)\n",
    "time.sleep(5)\n",
    "\n",
    "soup = BeautifulSoup(driver.page_source, \"html.parser\")\n",
    "reviews = soup.select(\"p.css-y49dcn.e36z05c13\")\n",
    "review_lists = [review.get_text().strip() for review in reviews]\n",
    "\n",
    "driver.quit()\n",
    "\n",
    "wb = Workbook()\n",
    "ws = wb.active\n",
    "ws.title = \"Kurly Reviews\"\n",
    "ws.append([\"리뷰내용\"])\n",
    "\n",
    "for item in review_lists :\n",
    "    ws.append([item])\n",
    "    \n",
    "okt = Okt()\n",
    "all_text = \" \".join(review_lists)\n",
    "nouns = okt.nouns(all_text)\n",
    "filtered_nouns = [n for n in nouns if len(n) > 1]\n",
    "count = Counter(filtered_nouns)\n",
    "\n",
    "ws_keywords = wb.create_sheet(\"Keyword Frequency\")\n",
    "ws_keywords.append([\"키워드\",\"빈도수\"])\n",
    "for word, freq in count.most_common(30) :   #위에서부터 카운트가 얼마나 되는지\n",
    "    ws_keywords.append([word,freq])\n",
    "\n",
    "wb.save(\"kurly_reviews.xlsx\")\n",
    "print(\"엑셀 저장 완료 : kurly_reviews.xlsx\")"
   ]
  },
  {
   "cell_type": "code",
   "execution_count": 15,
   "id": "ad2ff764-36e0-4e6c-99b8-0a136ef1b597",
   "metadata": {},
   "outputs": [
    {
     "name": "stdout",
     "output_type": "stream",
     "text": [
      "완료 : 전체 키워드 분석 결과 저장됨\n"
     ]
    }
   ],
   "source": [
    "from openpyxl import load_workbook\n",
    "from konlpy.tag import Okt\n",
    "from collections import Counter   # 대문자로 시작되면 클래스로 시작되는 프로토타입\n",
    "\n",
    "wb = load_workbook(\"연관키워드 20250722.xlsx\")\n",
    "ws = wb.active\n",
    "\n",
    "texts= [row[0] for row in ws.iter_rows(min_row = 2, max_col = 1, values_only = True) if  row [0]]\n",
    "\n",
    "okt = Okt()\n",
    "all_text = \" \".join(texts)\n",
    "nouns = okt.nouns(all_text)\n",
    "filtered_nouns = [n for n in nouns if len(n) > 1]\n",
    "count = Counter(filtered_nouns)\n",
    "\n",
    "ws_keywords = wb.create_sheet(\"키워드 전체분석\")\n",
    "ws_keywords.append([\"명사\",\"빈도수\"])\n",
    "for word, freq in sorted(count.items(), key = lambda x : x[1], reverse = True) :\n",
    "    ws_keywords.append([word,freq])\n",
    "\n",
    "wb.save(\"연관키워드_분석결과.xlsx\")\n",
    "print(\"완료 : 전체 키워드 분석 결과 저장됨\")\n",
    "\n"
   ]
  },
  {
   "cell_type": "code",
   "execution_count": 18,
   "id": "8348d2e2-e0fd-4e21-b6a8-63b65d8cf826",
   "metadata": {},
   "outputs": [
    {
     "name": "stdout",
     "output_type": "stream",
     "text": [
      "완료 : 전체 키워드 분석 결과 저장됨\n"
     ]
    }
   ],
   "source": [
    "from openpyxl import load_workbook\n",
    "from konlpy.tag import Okt\n",
    "from collections import Counter  \n",
    "\n",
    "wb = load_workbook(\"연관키워드 20250722 1550.xlsx\")\n",
    "ws = wb.active\n",
    "\n",
    "texts= [row[0] for row in ws.iter_rows(min_row = 2, max_col = 1, values_only = True) if  row [0]]\n",
    "\n",
    "okt = Okt()\n",
    "all_text = \" \".join(texts)\n",
    "nouns = okt.nouns(all_text)\n",
    "filtered_nouns = [n for n in nouns if len(n) > 1]\n",
    "count = Counter(filtered_nouns)\n",
    "\n",
    "ws_keywords = wb.create_sheet(\"키워드 전체분석\")\n",
    "ws_keywords.append([\"명사\",\"빈도수\"])\n",
    "for word, freq in sorted(count.items(), key = lambda x : x[1], reverse = True) :\n",
    "    ws_keywords.append([word,freq])\n",
    "\n",
    "wb.save(\"케이스_연관키워드_분석결과.xlsx\")\n",
    "print(\"완료 : 전체 키워드 분석 결과 저장됨\")\n"
   ]
  },
  {
   "cell_type": "code",
   "execution_count": 19,
   "id": "31f4e362-c0f9-477b-85f2-8433c544f47f",
   "metadata": {},
   "outputs": [
    {
     "name": "stdout",
     "output_type": "stream",
     "text": [
      "완료 : 전체 키워드 분석 결과 저장됨\n"
     ]
    }
   ],
   "source": [
    "from openpyxl import load_workbook\n",
    "from konlpy.tag import Okt\n",
    "from collections import Counter  \n",
    "\n",
    "wb = load_workbook(\"연관키워드 20250722 1602.xlsx\")\n",
    "ws = wb.active\n",
    "\n",
    "texts= [row[0] for row in ws.iter_rows(min_row = 2, max_col = 1, values_only = True) if  row [0]]\n",
    "\n",
    "okt = Okt()\n",
    "all_text = \" \".join(texts)\n",
    "nouns = okt.nouns(all_text)\n",
    "filtered_nouns = [n for n in nouns if len(n) > 1]\n",
    "count = Counter(filtered_nouns)\n",
    "\n",
    "ws_keywords = wb.create_sheet(\"키워드 전체분석\")\n",
    "ws_keywords.append([\"명사\",\"빈도수\"])\n",
    "for word, freq in sorted(count.items(), key = lambda x : x[1], reverse = True) :\n",
    "    ws_keywords.append([word,freq])\n",
    "\n",
    "wb.save(\"핸드폰케이스_연관키워드_분석결과.xlsx\")\n",
    "print(\"완료 : 전체 키워드 분석 결과 저장됨\")\n"
   ]
  },
  {
   "cell_type": "code",
   "execution_count": 26,
   "id": "292c020b-9a09-4fc4-a7e7-3f56749baf93",
   "metadata": {},
   "outputs": [
    {
     "name": "stdout",
     "output_type": "stream",
     "text": [
      "✅완료 : 전체 키워드 분석 결과 저장됨\n"
     ]
    }
   ],
   "source": [
    "from openpyxl import load_workbook\n",
    "from konlpy.tag import Okt\n",
    "from collections import Counter\n",
    "import re\n",
    "\n",
    "wb = load_workbook(\"연관키워드 20250722.xlsx\")\n",
    "ws = wb.active\n",
    "\n",
    "texts= [row[0] for row in ws.iter_rows(min_row = 2, max_col = 1, values_only = True) if  row [0]]\n",
    "\n",
    "okt = Okt()\n",
    "all_text = \" \".join(texts)\n",
    "nouns_tokens = okt.nouns(all_text)\n",
    "\n",
    "regex_tokens = re.findall(r'[A-Za-z]*\\d+[A-Za-z]+|\\d+[A-Za-z]*', all_text)\n",
    "\n",
    "valid_one_letter = {\"금\",\"은\",\"동\"}\n",
    "stopwords = {\"사용\",\"정도\",\"조금\",\"제품\",\"때문\",\"생각\",\"만족\",\"구매\",\"다음\"}\n",
    "\n",
    "combined_tokens = nouns_tokens + regex_tokens\n",
    "filtered_tokens = [t for t in combined_tokens if (len(t) > 1 or t in valid_one_letter) and t not in stopwords]\n",
    "\n",
    "count = Counter(filtered_tokens)\n",
    "\n",
    "ws_keywords = wb.create_sheet(\"키워드 전체분석\")\n",
    "ws_keywords.append([\"명사\",\"빈도수\"])\n",
    "for word, freq in sorted(count.items(), key = lambda x : x[1], reverse = True) :\n",
    "    ws_keywords.append([word,freq])\n",
    "\n",
    "wb.save(\"연관키워드_분석결과.xlsx\")\n",
    "print(\"✅완료 : 전체 키워드 분석 결과 저장됨\")"
   ]
  }
 ],
 "metadata": {
  "kernelspec": {
   "display_name": "Python [conda env:base] *",
   "language": "python",
   "name": "conda-base-py"
  },
  "language_info": {
   "codemirror_mode": {
    "name": "ipython",
    "version": 3
   },
   "file_extension": ".py",
   "mimetype": "text/x-python",
   "name": "python",
   "nbconvert_exporter": "python",
   "pygments_lexer": "ipython3",
   "version": "3.13.5"
  }
 },
 "nbformat": 4,
 "nbformat_minor": 5
}
