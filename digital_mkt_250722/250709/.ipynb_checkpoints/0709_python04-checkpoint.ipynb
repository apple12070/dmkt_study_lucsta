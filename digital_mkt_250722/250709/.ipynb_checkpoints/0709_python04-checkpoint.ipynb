{
 "cells": [
  {
   "cell_type": "code",
   "execution_count": 34,
   "id": "70b2abb1-8a58-4e96-a4c7-203af0e2cd04",
   "metadata": {},
   "outputs": [
    {
     "name": "stdout",
     "output_type": "stream",
     "text": [
      "<h1 id=\"title\">[1]크롤링이란?</h1>\n",
      "[1]크롤링이란?\n",
      "[1]크롤링이란?\n"
     ]
    }
   ],
   "source": [
    "from bs4 import BeautifulSoup\n",
    "\n",
    "html = \"<html>\\\n",
    "            <body>\\\n",
    "                <h1 id='title'>[1]크롤링이란?</h1>\\\n",
    "                <p class='cssstyle'>웹페이지에서 필요한 데이터를 추출하는 것</p>\\\n",
    "                <p id='body' align='center'>파이썬을 중심으로 다양한 웹크롤링 기술 발달</p>\\\n",
    "            </body>\\\n",
    "        </html>\"\n",
    "\n",
    "soup = BeautifulSoup(html,\"html.parser\")\n",
    "data = soup.find(\"h1\")\n",
    "print(data)\n",
    "print(data.string)\n",
    "print(data.get_text())"
   ]
  },
  {
   "cell_type": "code",
   "execution_count": 33,
   "id": "a27dddbd-5e3a-4781-a081-ec2beac6ed57",
   "metadata": {},
   "outputs": [
    {
     "name": "stdout",
     "output_type": "stream",
     "text": [
      "<body> <h1 id=\"title\">[1]크롤링이란?</h1> <p class=\"cssstyle\">웹페이지에서 필요한 데이터를 추출하는 것</p> <p align=\"center\" id=\"body\">파이썬을 중심으로 다양한 웹크롤링 기술 발달</p> </body>\n",
      " [1]크롤링이란? 웹페이지에서 필요한 데이터를 추출하는 것 파이썬을 중심으로 다양한 웹크롤링 기술 발달 \n"
     ]
    }
   ],
   "source": [
    "from bs4 import BeautifulSoup\n",
    "\n",
    "html = \"<html>\\\n",
    "            <body>\\\n",
    "                <h1 id='title'>[1]크롤링이란?</h1>\\\n",
    "                <p class='cssstyle'>웹페이지에서 필요한 데이터를 추출하는 것</p>\\\n",
    "                <p id='body' align='center'>파이썬을 중심으로 다양한 웹크롤링 기술 발달</p>\\\n",
    "            </body>\\\n",
    "        </html>\"\n",
    "\n",
    "soup = BeautifulSoup(html,\"html.parser\")\n",
    "data = soup.find(\"body\") \n",
    "print(data)\n",
    "\n",
    "# string -> 크롤링하고자 하는 대상의 직접적인 텍스트 문자열을 찾아와야 할 때 사용\n",
    "#print(data.string) # body 안의 직접적인 text가 아니기 때문에 None이라고 출력됨\n",
    "\n",
    "#get_text() -> 자식요소의 텍스트 문자열까지 크롤링하고자 할 때\n",
    "print(data.get_text())"
   ]
  },
  {
   "cell_type": "code",
   "execution_count": 32,
   "id": "e87da0f4-0ac6-4c7e-b211-8d8cb23e3f4b",
   "metadata": {},
   "outputs": [
    {
     "name": "stdout",
     "output_type": "stream",
     "text": [
      "<p class=\"cssstyle\">웹페이지에서 필요한 데이터를 추출하는 것</p>\n",
      "웹페이지에서 필요한 데이터를 추출하는 것\n"
     ]
    }
   ],
   "source": [
    "from bs4 import BeautifulSoup\n",
    "\n",
    "html = \"<html>\\\n",
    "            <body>\\\n",
    "                <h1 id='title'>[1]크롤링이란?</h1>\\\n",
    "                <p class='cssstyle'>웹페이지에서 필요한 데이터를 추출하는 것</p>\\\n",
    "                <p id='body' align='center'>파이썬을 중심으로 다양한 웹크롤링 기술 발달</p>\\\n",
    "            </body>\\\n",
    "        </html>\"\n",
    "\n",
    "soup = BeautifulSoup(html,\"html.parser\")\n",
    "data = soup.find(\"p\") \n",
    "print(data)\n",
    "print(data.string)"
   ]
  },
  {
   "cell_type": "code",
   "execution_count": 31,
   "id": "c301fd39-cf56-40c7-90a5-38fb4492acea",
   "metadata": {},
   "outputs": [
    {
     "name": "stdout",
     "output_type": "stream",
     "text": [
      "웹페이지에서 필요한 데이터를 추출하는 것\n",
      "파이썬을 중심으로 다양한 웹크롤링 기술 발달\n"
     ]
    }
   ],
   "source": [
    "from bs4 import BeautifulSoup\n",
    "\n",
    "html = \"<html>\\\n",
    "            <body>\\\n",
    "                <h1 id='title'>[1]크롤링이란?</h1>\\\n",
    "                <p class='cssstyle'>웹페이지에서 필요한 데이터를 추출하는 것</p>\\\n",
    "                <p id='body' align='center'>파이썬을 중심으로 다양한 웹크롤링 기술 발달</p>\\\n",
    "            </body>\\\n",
    "        </html>\"\n",
    "\n",
    "soup = BeautifulSoup(html,\"html.parser\")\n",
    "data = soup.find_all(\"p\")  #리스트형태\n",
    "# print(data.string) <-리스트에는 string이라는 속성을 쓸 수 없어서 이렇게 명령어를 넣으면 오류가 뜸\n",
    "\n",
    "for item in data :\n",
    "    print(item.string)"
   ]
  },
  {
   "cell_type": "code",
   "execution_count": 30,
   "id": "07775374-f397-401c-942a-1dc1bbcaa66d",
   "metadata": {},
   "outputs": [
    {
     "name": "stdout",
     "output_type": "stream",
     "text": [
      "파이썬을 중심으로 다양한 웹크롤링 기술 발달\n"
     ]
    }
   ],
   "source": [
    "from bs4 import BeautifulSoup\n",
    "\n",
    "html = \"<html>\\\n",
    "            <body>\\\n",
    "                <h1 id='title'>[1]크롤링이란?</h1>\\\n",
    "                <p class='cssstyle'>웹페이지에서 필요한 데이터를 추출하는 것</p>\\\n",
    "                <p id='body' align='center'>파이썬을 중심으로 다양한 웹크롤링 기술 발달</p>\\\n",
    "            </body>\\\n",
    "        </html>\"\n",
    "\n",
    "soup = BeautifulSoup(html,\"html.parser\")\n",
    "\n",
    "# data = soup.find(\"p\",attrs={\"id\":\"body\"})\n",
    "data = soup.find(\"p\",attrs={\"align\":\"center\"})\n",
    "print(data.string)\n",
    "# 속성: class > 객체(property)\n",
    "# html 문서상 속성 => attribute라는 이름을 씀\n"
   ]
  },
  {
   "cell_type": "code",
   "execution_count": 29,
   "id": "810ee52c-12b6-4ca9-9dbe-804326019859",
   "metadata": {},
   "outputs": [
    {
     "name": "stdout",
     "output_type": "stream",
     "text": [
      "파이썬을 중심으로 다양한 웹크롤링 기술 발달 - 2\n"
     ]
    }
   ],
   "source": [
    "from bs4 import BeautifulSoup\n",
    "\n",
    "html = \"<html>\\\n",
    "            <body>\\\n",
    "                <h1 id='title'>[1]크롤링이란?</h1>\\\n",
    "                <p class='cssstyle'>웹페이지에서 필요한 데이터를 추출하는 것</p>\\\n",
    "                <p id='body01' align='center'>파이썬을 중심으로 다양한 웹크롤링 기술 발달 - 1</p>\\\n",
    "                <p id='body02' align='center'>파이썬을 중심으로 다양한 웹크롤링 기술 발달 - 2</p>\\\n",
    "            </body>\\\n",
    "        </html>\"\n",
    "\n",
    "soup = BeautifulSoup(html,\"html.parser\")\n",
    "# data = soup.find(\"p\",attrs={\"id\":\"body\"})\n",
    "#data = soup.find(\"p\",attrs={\"id\":\"body02\",\"align\":\"center\"})      # p태그이면서 속성값(attrs)를 가지고 있는.\n",
    "data = soup.find(\"p\",id =\"body02\")    \n",
    "print(data.string)"
   ]
  },
  {
   "cell_type": "code",
   "execution_count": 28,
   "id": "fc0379bb-e67e-426e-82e4-6963ea690682",
   "metadata": {},
   "outputs": [
    {
     "name": "stdout",
     "output_type": "stream",
     "text": [
      "웹페이지에서 필요한 데이터를 추출하는 것 - 2\n"
     ]
    }
   ],
   "source": [
    "from bs4 import BeautifulSoup\n",
    "\n",
    "html = \"<html>\\\n",
    "            <body>\\\n",
    "                <h1 id='title'>[1]크롤링이란?</h1>\\\n",
    "                <p class='cssstyle01'>웹페이지에서 필요한 데이터를 추출하는 것 - 1</p>\\\n",
    "                <p class='cssstyle02'>웹페이지에서 필요한 데이터를 추출하는 것 - 2</p>\\\n",
    "                <p id='body01' align='center'>파이썬을 중심으로 다양한 웹크롤링 기술 발달 - 1</p>\\\n",
    "                <p id='body02' align='center'>파이썬을 중심으로 다양한 웹크롤링 기술 발달 - 2</p>\\\n",
    "            </body>\\\n",
    "        </html>\"\n",
    "\n",
    "soup = BeautifulSoup(html,\"html.parser\")\n",
    "# data = soup.find(\"p\",attrs={\"id\":\"body\"})\n",
    "# data = soup.find(\"p\",attrs={\"id\":\"body02\",\"align\":\"center\"})\n",
    "# data = soup.find(\"p\",attrs={\"class\":\"cssstyle02\"})\n",
    "# data = soup.find(\"p\",class_=\"cssstyle02\")\n",
    "data = soup.find(\"p\",\"cssstyle02\") # class를 선언하지 않아도 값을 찾아와줌\n",
    "print(data.string)"
   ]
  }
 ],
 "metadata": {
  "kernelspec": {
   "display_name": "Python 3 (ipykernel)",
   "language": "python",
   "name": "python3"
  },
  "language_info": {
   "codemirror_mode": {
    "name": "ipython",
    "version": 3
   },
   "file_extension": ".py",
   "mimetype": "text/x-python",
   "name": "python",
   "nbconvert_exporter": "python",
   "pygments_lexer": "ipython3",
   "version": "3.13.5"
  }
 },
 "nbformat": 4,
 "nbformat_minor": 5
}
