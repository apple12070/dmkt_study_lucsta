{
 "cells": [
  {
   "cell_type": "markdown",
   "id": "2a984937-53f3-4996-bd15-6c288e65c5c2",
   "metadata": {},
   "source": [
    "#### 파이썬 Basic 크롤링 문법\n",
    "1. requests\n",
    "2. bs4 (BeautifulSoup4)\n",
    "\n",
    "*웹이라는 환경에는 user/client/server이 존재함\n",
    "- 파싱(parsing) : 컴퓨터의 언어를 사람이 인식할 수 있는 언어로 바꿔주는 것\n",
    "\n",
    "- html,css,js => 웹 사이트 구현&작동 원리\n",
    "* 개발자들은 위 3가지 언어를 사이트를 만들고 있음\n",
    "* 웹 에디터 도구를 활용해서 사이트 구현\n",
    "* 코드를 입력하면 > 화면에 출력!!!\n",
    "* visual studio code > MS\n",
    "* IDE > 통합 개발 환경 : Java,c,c++,C#"
   ]
  },
  {
   "cell_type": "code",
   "execution_count": 11,
   "id": "de53e063-37a8-4e3a-8087-199bb5f29352",
   "metadata": {},
   "outputs": [
    {
     "name": "stdout",
     "output_type": "stream",
     "text": [
      "잔금대출에도 DTI 규제 적용 검토\n"
     ]
    }
   ],
   "source": [
    "import requests\n",
    "from bs4 import BeautifulSoup\n",
    "\n",
    "res = requests.get(\"https://v.daum.net/v/20170615203441266\")\n",
    "soup = BeautifulSoup(res.content, \"html.parser\")\n",
    "\n",
    "mydata = soup.find(\"title\")\n",
    "print(mydata.get_text())"
   ]
  }
 ],
 "metadata": {
  "kernelspec": {
   "display_name": "Python 3 (ipykernel)",
   "language": "python",
   "name": "python3"
  },
  "language_info": {
   "codemirror_mode": {
    "name": "ipython",
    "version": 3
   },
   "file_extension": ".py",
   "mimetype": "text/x-python",
   "name": "python",
   "nbconvert_exporter": "python",
   "pygments_lexer": "ipython3",
   "version": "3.13.5"
  }
 },
 "nbformat": 4,
 "nbformat_minor": 5
}
