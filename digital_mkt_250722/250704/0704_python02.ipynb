{
 "cells": [
  {
   "cell_type": "markdown",
   "id": "406fad33-ce01-4741-b7a7-33922ebe9f62",
   "metadata": {},
   "source": [
    "#### 웹사이트 데이터를 크롤링 해오자!!\n",
    "- 크롤링 : 마치 동물의 발톱 혹은 갈퀴로 어떤 정보를 잡아채온다는 개념\n",
    "- 크롤링은 파이썬에서만  할 수 있나요?  파이썬이 아닌 언어로도 충분히 예전부터 할 수 있는 기능이었음 !!\n",
    "- 파이썬은 문법이 타 언어대비 굉장히 심플 & 간소 => 초심자 학습하기에 매우 적절\n",
    "- 꼭 굳이 개발자가 아니더라도, 비개발자가 보다 쉽고 간편하고 빠르게 개발언어를 활용해서 크롤링을 할 수 있도록 도와주는 거의 유일한 언어\n",
    "- 왜 다른 언어는 굳이 복잡한 것일까? => 파이썬 언어는 내부 혹은 외부 라이브러리 소스를 가져다가 사용할 수 있는 기회 혹은 상황이 정말 많음!!\n",
    "##### 라이브러리\n",
    "- beautifulsoup4 : 아래에 requests를 통해서 찾아온 html 문서를 파싱(parsing) \n",
    "- requests : 크롤링 해오고자 하는 웹사이트를 요청하고 html 문서 안에 있는 코드를 가져오는 역할"
   ]
  },
  {
   "cell_type": "code",
   "execution_count": 2,
   "id": "8247df2e-1646-4a5d-b6a0-a5dae017de72",
   "metadata": {},
   "outputs": [
    {
     "name": "stdout",
     "output_type": "stream",
     "text": [
      "Requirement already satisfied: requests in c:\\users\\user\\downloads\\fireshot\\lib\\site-packages (2.32.3)\n",
      "Requirement already satisfied: charset-normalizer<4,>=2 in c:\\users\\user\\downloads\\fireshot\\lib\\site-packages (from requests) (3.3.2)\n",
      "Requirement already satisfied: idna<4,>=2.5 in c:\\users\\user\\downloads\\fireshot\\lib\\site-packages (from requests) (3.7)\n",
      "Requirement already satisfied: urllib3<3,>=1.21.1 in c:\\users\\user\\downloads\\fireshot\\lib\\site-packages (from requests) (2.3.0)\n",
      "Requirement already satisfied: certifi>=2017.4.17 in c:\\users\\user\\downloads\\fireshot\\lib\\site-packages (from requests) (2025.4.26)\n",
      "Note: you may need to restart the kernel to use updated packages.\n"
     ]
    }
   ],
   "source": [
    "pip install requests"
   ]
  },
  {
   "cell_type": "code",
   "execution_count": 3,
   "id": "eca5188f-8811-4f4d-ad21-2abf617e8804",
   "metadata": {},
   "outputs": [
    {
     "name": "stdout",
     "output_type": "stream",
     "text": [
      "Requirement already satisfied: beautifulsoup4 in c:\\users\\user\\downloads\\fireshot\\lib\\site-packages (4.12.3)\n",
      "Requirement already satisfied: soupsieve>1.2 in c:\\users\\user\\downloads\\fireshot\\lib\\site-packages (from beautifulsoup4) (2.5)\n",
      "Note: you may need to restart the kernel to use updated packages.\n"
     ]
    }
   ],
   "source": [
    "pip install beautifulsoup4"
   ]
  },
  {
   "cell_type": "code",
   "execution_count": 6,
   "id": "d6fd078f-23f0-4b34-94ac-e018a70375ae",
   "metadata": {},
   "outputs": [
    {
     "name": "stdout",
     "output_type": "stream",
     "text": [
      "Requirement already satisfied: requests in c:\\users\\user\\downloads\\fireshot\\lib\\site-packages (2.32.3)\n",
      "Requirement already satisfied: beautifulsoup4 in c:\\users\\user\\downloads\\fireshot\\lib\\site-packages (4.12.3)\n",
      "Requirement already satisfied: charset-normalizer<4,>=2 in c:\\users\\user\\downloads\\fireshot\\lib\\site-packages (from requests) (3.3.2)\n",
      "Requirement already satisfied: idna<4,>=2.5 in c:\\users\\user\\downloads\\fireshot\\lib\\site-packages (from requests) (3.7)\n",
      "Requirement already satisfied: urllib3<3,>=1.21.1 in c:\\users\\user\\downloads\\fireshot\\lib\\site-packages (from requests) (2.3.0)\n",
      "Requirement already satisfied: certifi>=2017.4.17 in c:\\users\\user\\downloads\\fireshot\\lib\\site-packages (from requests) (2025.4.26)\n",
      "Requirement already satisfied: soupsieve>1.2 in c:\\users\\user\\downloads\\fireshot\\lib\\site-packages (from beautifulsoup4) (2.5)\n",
      "Note: you may need to restart the kernel to use updated packages.\n"
     ]
    }
   ],
   "source": [
    "pip install requests beautifulsoup4  "
   ]
  },
  {
   "cell_type": "code",
   "execution_count": 7,
   "id": "68044598-e449-40cf-b18b-4901bf83945f",
   "metadata": {},
   "outputs": [],
   "source": [
    "#설치 따로해도 되고 같이해도 되고"
   ]
  },
  {
   "cell_type": "code",
   "execution_count": 11,
   "id": "fa0e375e-cd16-420e-b4d1-0996be8757c4",
   "metadata": {},
   "outputs": [
    {
     "name": "stdout",
     "output_type": "stream",
     "text": [
      "[<img alt=\"매트리스커버 관련 상품 추천\" class=\"img-fluid\" src=\"https://static.coupangcdn.com/image/retail/images/2017/10/11/16/6/bf3b2157-528d-4b24-9991-b601a24f4c6f.jpg\"/>, <img alt=\"매트리스커버 관련 상품 추천\" class=\"img-fluid\" src=\"https://static.coupangcdn.com/image/product/image/vendoritem/2018/11/28/3647689009/d72a996d-1e4e-42be-a23c-f9f6872214bb.jpg\"/>, <img alt=\"매트리스커버 관련 상품 추천\" class=\"img-fluid\" src=\"https://static.coupangcdn.com/image/product/image/vendoritem/2019/06/11/3361297461/699c49cc-5f9f-4927-ab26-b184f90c1571.jpg\"/>, <img alt=\"매트리스커버 관련 상품 추천\" class=\"img-fluid\" src=\"https://static.coupangcdn.com/image/retail/images/2018/10/26/16/9/c6dfa004-442c-4f48-9ff1-b76d81bae046.jpg\"/>, <img alt=\"매트리스커버 관련 상품 추천\" class=\"img-fluid\" src=\"https://static.coupangcdn.com/image/retail/images/2019/04/01/22/6/f9566f49-cf8c-48dd-bc73-b543a3f47f62.jpg\"/>, <img alt=\"매트리스커버 관련 상품 추천\" class=\"img-fluid\" src=\"https://static.coupangcdn.com/image/retail/images/12859794410743-0ab1b2fe-1cd4-4599-b38a-3fb22f3bf620.jpg\"/>, <img alt=\"매트리스커버 관련 상품 추천\" class=\"img-fluid\" src=\"https://static.coupangcdn.com/image/retail/images/2019/03/28/19/3/2d9f9b52-0cc9-424f-8639-8f298429d244.jpg\"/>, <img alt=\"매트리스커버 관련 상품 추천\" class=\"img-fluid\" src=\"https://static.coupangcdn.com/image/retail/images/2017/10/19/15/4/95b93d25-7014-458a-a2a5-9b93189cdcef.jpg\"/>, <img alt=\"행거도어 관련 상품 추천\" class=\"img-fluid\" src=\"https://static.coupangcdn.com/image/retail/images/2019/07/29/12/3/704931d7-4dbd-4af7-9247-856831bdc61e.jpg\"/>, <img alt=\"매트리스커버 관련 상품 추천\" class=\"img-fluid\" src=\"https://static.coupangcdn.com/image/retail/images/2017/10/13/10/3/8379ffd3-63be-4da4-98f9-895aaa0c9b52.jpg\"/>, <img alt=\"매트리스커버 관련 상품 추천\" class=\"img-fluid\" src=\"https://static.coupangcdn.com/image/retail/images/2018/09/17/19/4/329dbb2f-a0ad-44d4-af46-1eea0c548b67.jpg\"/>, <img alt=\"매트리스커버 관련 상품 추천\" class=\"img-fluid\" src=\"https://static.coupangcdn.com/image/retail/images/339338956730835-5cbe0521-2a03-4fe2-8eb7-7a7ae9ff187f.jpg\"/>]\n"
     ]
    }
   ],
   "source": [
    "import requests\n",
    "from bs4 import BeautifulSoup\n",
    "\n",
    "url = \"https://davelee-fun.github.io\"\n",
    "response = requests.get(url)\n",
    "soup = BeautifulSoup(response.text, \"html.parser\")\n",
    "\n",
    "cards = soup.select(\"div.maxthumb img\")  # maxthumb의 후손은\n",
    "print(cards)"
   ]
  },
  {
   "cell_type": "code",
   "execution_count": 17,
   "id": "bb7fe65f-2585-4c86-9557-13754efbec91",
   "metadata": {},
   "outputs": [
    {
     "name": "stdout",
     "output_type": "stream",
     "text": [
      "<img alt=\"매트리스커버 관련 상품 추천\" class=\"img-fluid\" src=\"https://static.coupangcdn.com/image/retail/images/2017/10/11/16/6/bf3b2157-528d-4b24-9991-b601a24f4c6f.jpg\"/>\n",
      "<img alt=\"매트리스커버 관련 상품 추천\" class=\"img-fluid\" src=\"https://static.coupangcdn.com/image/product/image/vendoritem/2018/11/28/3647689009/d72a996d-1e4e-42be-a23c-f9f6872214bb.jpg\"/>\n",
      "<img alt=\"매트리스커버 관련 상품 추천\" class=\"img-fluid\" src=\"https://static.coupangcdn.com/image/product/image/vendoritem/2019/06/11/3361297461/699c49cc-5f9f-4927-ab26-b184f90c1571.jpg\"/>\n",
      "<img alt=\"매트리스커버 관련 상품 추천\" class=\"img-fluid\" src=\"https://static.coupangcdn.com/image/retail/images/2018/10/26/16/9/c6dfa004-442c-4f48-9ff1-b76d81bae046.jpg\"/>\n",
      "<img alt=\"매트리스커버 관련 상품 추천\" class=\"img-fluid\" src=\"https://static.coupangcdn.com/image/retail/images/2019/04/01/22/6/f9566f49-cf8c-48dd-bc73-b543a3f47f62.jpg\"/>\n",
      "<img alt=\"매트리스커버 관련 상품 추천\" class=\"img-fluid\" src=\"https://static.coupangcdn.com/image/retail/images/12859794410743-0ab1b2fe-1cd4-4599-b38a-3fb22f3bf620.jpg\"/>\n",
      "<img alt=\"매트리스커버 관련 상품 추천\" class=\"img-fluid\" src=\"https://static.coupangcdn.com/image/retail/images/2019/03/28/19/3/2d9f9b52-0cc9-424f-8639-8f298429d244.jpg\"/>\n",
      "<img alt=\"매트리스커버 관련 상품 추천\" class=\"img-fluid\" src=\"https://static.coupangcdn.com/image/retail/images/2017/10/19/15/4/95b93d25-7014-458a-a2a5-9b93189cdcef.jpg\"/>\n",
      "<img alt=\"행거도어 관련 상품 추천\" class=\"img-fluid\" src=\"https://static.coupangcdn.com/image/retail/images/2019/07/29/12/3/704931d7-4dbd-4af7-9247-856831bdc61e.jpg\"/>\n",
      "<img alt=\"매트리스커버 관련 상품 추천\" class=\"img-fluid\" src=\"https://static.coupangcdn.com/image/retail/images/2017/10/13/10/3/8379ffd3-63be-4da4-98f9-895aaa0c9b52.jpg\"/>\n",
      "<img alt=\"매트리스커버 관련 상품 추천\" class=\"img-fluid\" src=\"https://static.coupangcdn.com/image/retail/images/2018/09/17/19/4/329dbb2f-a0ad-44d4-af46-1eea0c548b67.jpg\"/>\n",
      "<img alt=\"매트리스커버 관련 상품 추천\" class=\"img-fluid\" src=\"https://static.coupangcdn.com/image/retail/images/339338956730835-5cbe0521-2a03-4fe2-8eb7-7a7ae9ff187f.jpg\"/>\n"
     ]
    }
   ],
   "source": [
    "import requests\n",
    "from bs4 import BeautifulSoup\n",
    "\n",
    "url = \"https://davelee-fun.github.io\"\n",
    "response = requests.get(url)\n",
    "soup = BeautifulSoup(response.text, \"html.parser\")\n",
    "\n",
    "cards = soup.select(\"div.maxthumb img\")\n",
    "for card in cards :\n",
    "    print(card)"
   ]
  },
  {
   "cell_type": "code",
   "execution_count": 30,
   "id": "b9a11111-990a-462f-acb5-eb8d2431db1a",
   "metadata": {},
   "outputs": [
    {
     "name": "stdout",
     "output_type": "stream",
     "text": [
      "https://static.coupangcdn.com/image/retail/images/2017/10/11/16/6/bf3b2157-528d-4b24-9991-b601a24f4c6f.jpg\n",
      "매트리스커버 관련 상품 추천\n",
      "https://static.coupangcdn.com/image/product/image/vendoritem/2018/11/28/3647689009/d72a996d-1e4e-42be-a23c-f9f6872214bb.jpg\n",
      "매트리스커버 관련 상품 추천\n",
      "https://static.coupangcdn.com/image/product/image/vendoritem/2019/06/11/3361297461/699c49cc-5f9f-4927-ab26-b184f90c1571.jpg\n",
      "매트리스커버 관련 상품 추천\n",
      "https://static.coupangcdn.com/image/retail/images/2018/10/26/16/9/c6dfa004-442c-4f48-9ff1-b76d81bae046.jpg\n",
      "매트리스커버 관련 상품 추천\n",
      "https://static.coupangcdn.com/image/retail/images/2019/04/01/22/6/f9566f49-cf8c-48dd-bc73-b543a3f47f62.jpg\n",
      "매트리스커버 관련 상품 추천\n",
      "https://static.coupangcdn.com/image/retail/images/12859794410743-0ab1b2fe-1cd4-4599-b38a-3fb22f3bf620.jpg\n",
      "매트리스커버 관련 상품 추천\n",
      "https://static.coupangcdn.com/image/retail/images/2019/03/28/19/3/2d9f9b52-0cc9-424f-8639-8f298429d244.jpg\n",
      "매트리스커버 관련 상품 추천\n",
      "https://static.coupangcdn.com/image/retail/images/2017/10/19/15/4/95b93d25-7014-458a-a2a5-9b93189cdcef.jpg\n",
      "매트리스커버 관련 상품 추천\n",
      "https://static.coupangcdn.com/image/retail/images/2019/07/29/12/3/704931d7-4dbd-4af7-9247-856831bdc61e.jpg\n",
      "행거도어 관련 상품 추천\n",
      "https://static.coupangcdn.com/image/retail/images/2017/10/13/10/3/8379ffd3-63be-4da4-98f9-895aaa0c9b52.jpg\n",
      "매트리스커버 관련 상품 추천\n",
      "https://static.coupangcdn.com/image/retail/images/2018/09/17/19/4/329dbb2f-a0ad-44d4-af46-1eea0c548b67.jpg\n",
      "매트리스커버 관련 상품 추천\n",
      "https://static.coupangcdn.com/image/retail/images/339338956730835-5cbe0521-2a03-4fe2-8eb7-7a7ae9ff187f.jpg\n",
      "매트리스커버 관련 상품 추천\n"
     ]
    }
   ],
   "source": [
    "import requests\n",
    "from bs4 import BeautifulSoup\n",
    "\n",
    "url = \"https://davelee-fun.github.io\"\n",
    "response = requests.get(url)\n",
    "soup = BeautifulSoup(response.text, \"html.parser\")\n",
    "\n",
    "cards = soup.select(\"div.maxthumb img\")\n",
    "for card in cards :\n",
    "    print(card.get(\"src\",\"\").strip())\n",
    "    print(card.get(\"alt\",\"제목 없음\").strip())\n"
   ]
  },
  {
   "cell_type": "code",
   "execution_count": 32,
   "id": "492e4996-d2f4-4684-a7d7-54b6e958ebe0",
   "metadata": {},
   "outputs": [
    {
     "name": "stdout",
     "output_type": "stream",
     "text": [
      "상품카테고리 : 매트리스커버 관련 상품 추천 / 상품이미지 : https://static.coupangcdn.com/image/retail/images/2017/10/11/16/6/bf3b2157-528d-4b24-9991-b601a24f4c6f.jpg\n",
      "상품카테고리 : 매트리스커버 관련 상품 추천 / 상품이미지 : https://static.coupangcdn.com/image/product/image/vendoritem/2018/11/28/3647689009/d72a996d-1e4e-42be-a23c-f9f6872214bb.jpg\n",
      "상품카테고리 : 매트리스커버 관련 상품 추천 / 상품이미지 : https://static.coupangcdn.com/image/product/image/vendoritem/2019/06/11/3361297461/699c49cc-5f9f-4927-ab26-b184f90c1571.jpg\n",
      "상품카테고리 : 매트리스커버 관련 상품 추천 / 상품이미지 : https://static.coupangcdn.com/image/retail/images/2018/10/26/16/9/c6dfa004-442c-4f48-9ff1-b76d81bae046.jpg\n",
      "상품카테고리 : 매트리스커버 관련 상품 추천 / 상품이미지 : https://static.coupangcdn.com/image/retail/images/2019/04/01/22/6/f9566f49-cf8c-48dd-bc73-b543a3f47f62.jpg\n",
      "상품카테고리 : 매트리스커버 관련 상품 추천 / 상품이미지 : https://static.coupangcdn.com/image/retail/images/12859794410743-0ab1b2fe-1cd4-4599-b38a-3fb22f3bf620.jpg\n",
      "상품카테고리 : 매트리스커버 관련 상품 추천 / 상품이미지 : https://static.coupangcdn.com/image/retail/images/2019/03/28/19/3/2d9f9b52-0cc9-424f-8639-8f298429d244.jpg\n",
      "상품카테고리 : 매트리스커버 관련 상품 추천 / 상품이미지 : https://static.coupangcdn.com/image/retail/images/2017/10/19/15/4/95b93d25-7014-458a-a2a5-9b93189cdcef.jpg\n",
      "상품카테고리 : 행거도어 관련 상품 추천 / 상품이미지 : https://static.coupangcdn.com/image/retail/images/2019/07/29/12/3/704931d7-4dbd-4af7-9247-856831bdc61e.jpg\n",
      "상품카테고리 : 매트리스커버 관련 상품 추천 / 상품이미지 : https://static.coupangcdn.com/image/retail/images/2017/10/13/10/3/8379ffd3-63be-4da4-98f9-895aaa0c9b52.jpg\n",
      "상품카테고리 : 매트리스커버 관련 상품 추천 / 상품이미지 : https://static.coupangcdn.com/image/retail/images/2018/09/17/19/4/329dbb2f-a0ad-44d4-af46-1eea0c548b67.jpg\n",
      "상품카테고리 : 매트리스커버 관련 상품 추천 / 상품이미지 : https://static.coupangcdn.com/image/retail/images/339338956730835-5cbe0521-2a03-4fe2-8eb7-7a7ae9ff187f.jpg\n"
     ]
    }
   ],
   "source": [
    "import requests\n",
    "from bs4 import BeautifulSoup\n",
    "\n",
    "url = \"https://davelee-fun.github.io\"\n",
    "response = requests.get(url)\n",
    "soup = BeautifulSoup(response.text, \"html.parser\")\n",
    "\n",
    "cards = soup.select(\"div.maxthumb img\")\n",
    "card_data = []\n",
    "\n",
    "for card in cards :\n",
    "    title = card.get(\"alt\",\"제목 없음\").strip()\n",
    "    img_url = card.get(\"src\",\"\").strip()\n",
    "\n",
    "    card_info = (title, img_url)\n",
    "    card_data.append(card_info)\n",
    "\n",
    "for item in card_data :\n",
    "    print(f\"상품카테고리 : {item[0]} / 상품이미지 : {item[1]}\")"
   ]
  },
  {
   "cell_type": "code",
   "execution_count": 35,
   "id": "36cfae44-3b44-4c1d-8fd1-fe75f1606d0a",
   "metadata": {},
   "outputs": [
    {
     "name": "stdout",
     "output_type": "stream",
     "text": [
      "1번째 상품카테고리 => 매트리스커버 관련 상품 추천 / 상품이미지 : https://static.coupangcdn.com/image/retail/images/2017/10/11/16/6/bf3b2157-528d-4b24-9991-b601a24f4c6f.jpg\n",
      "2번째 상품카테고리 => 매트리스커버 관련 상품 추천 / 상품이미지 : https://static.coupangcdn.com/image/product/image/vendoritem/2018/11/28/3647689009/d72a996d-1e4e-42be-a23c-f9f6872214bb.jpg\n",
      "3번째 상품카테고리 => 매트리스커버 관련 상품 추천 / 상품이미지 : https://static.coupangcdn.com/image/product/image/vendoritem/2019/06/11/3361297461/699c49cc-5f9f-4927-ab26-b184f90c1571.jpg\n",
      "4번째 상품카테고리 => 매트리스커버 관련 상품 추천 / 상품이미지 : https://static.coupangcdn.com/image/retail/images/2018/10/26/16/9/c6dfa004-442c-4f48-9ff1-b76d81bae046.jpg\n",
      "5번째 상품카테고리 => 매트리스커버 관련 상품 추천 / 상품이미지 : https://static.coupangcdn.com/image/retail/images/2019/04/01/22/6/f9566f49-cf8c-48dd-bc73-b543a3f47f62.jpg\n",
      "6번째 상품카테고리 => 매트리스커버 관련 상품 추천 / 상품이미지 : https://static.coupangcdn.com/image/retail/images/12859794410743-0ab1b2fe-1cd4-4599-b38a-3fb22f3bf620.jpg\n",
      "7번째 상품카테고리 => 매트리스커버 관련 상품 추천 / 상품이미지 : https://static.coupangcdn.com/image/retail/images/2019/03/28/19/3/2d9f9b52-0cc9-424f-8639-8f298429d244.jpg\n",
      "8번째 상품카테고리 => 매트리스커버 관련 상품 추천 / 상품이미지 : https://static.coupangcdn.com/image/retail/images/2017/10/19/15/4/95b93d25-7014-458a-a2a5-9b93189cdcef.jpg\n",
      "9번째 상품카테고리 => 행거도어 관련 상품 추천 / 상품이미지 : https://static.coupangcdn.com/image/retail/images/2019/07/29/12/3/704931d7-4dbd-4af7-9247-856831bdc61e.jpg\n",
      "10번째 상품카테고리 => 매트리스커버 관련 상품 추천 / 상품이미지 : https://static.coupangcdn.com/image/retail/images/2017/10/13/10/3/8379ffd3-63be-4da4-98f9-895aaa0c9b52.jpg\n",
      "11번째 상품카테고리 => 매트리스커버 관련 상품 추천 / 상품이미지 : https://static.coupangcdn.com/image/retail/images/2018/09/17/19/4/329dbb2f-a0ad-44d4-af46-1eea0c548b67.jpg\n",
      "12번째 상품카테고리 => 매트리스커버 관련 상품 추천 / 상품이미지 : https://static.coupangcdn.com/image/retail/images/339338956730835-5cbe0521-2a03-4fe2-8eb7-7a7ae9ff187f.jpg\n"
     ]
    }
   ],
   "source": [
    "import requests\n",
    "from bs4 import BeautifulSoup\n",
    "\n",
    "url = \"https://davelee-fun.github.io\"\n",
    "response = requests.get(url)\n",
    "soup = BeautifulSoup(response.text, \"html.parser\")\n",
    "\n",
    "cards = soup.select(\"div.maxthumb img\")\n",
    "card_data = []\n",
    "\n",
    "for idx, card in enumerate(cards, start = 1) :      #cards의 값을 순환할 때마다 idx의 값을 같이 반환함\n",
    "    title = card.get(\"alt\",\"제목 없음\").strip()\n",
    "    img_url = card.get(\"src\",\"\").strip()\n",
    "\n",
    "    card_info = (idx, title, img_url)\n",
    "    card_data.append(card_info)\n",
    "\n",
    "for item in card_data :\n",
    "    print(f\"{item[0]}번째 상품카테고리 => {item[1]} / 상품이미지 : {item[2]}\")"
   ]
  }
 ],
 "metadata": {
  "kernelspec": {
   "display_name": "Python 3 (ipykernel)",
   "language": "python",
   "name": "python3"
  },
  "language_info": {
   "codemirror_mode": {
    "name": "ipython",
    "version": 3
   },
   "file_extension": ".py",
   "mimetype": "text/x-python",
   "name": "python",
   "nbconvert_exporter": "python",
   "pygments_lexer": "ipython3",
   "version": "3.13.5"
  }
 },
 "nbformat": 4,
 "nbformat_minor": 5
}
