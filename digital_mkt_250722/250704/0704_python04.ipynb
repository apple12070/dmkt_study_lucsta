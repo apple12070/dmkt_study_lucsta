{
 "cells": [
  {
   "cell_type": "markdown",
   "id": "97bdd7f4-fa76-4ded-b210-e1df956f481a",
   "metadata": {},
   "source": [
    "### 사용자로부터 어떤 값을 받고, 해당 값을 한화(*한국돈)으로 바꿔서 출력되도록 해주세요.\n",
    "- ex) 100 => 환율 1112원 // 111200원으로 출력되도록 해주세요."
   ]
  },
  {
   "cell_type": "code",
   "execution_count": 4,
   "id": "62a38bd8-e833-4300-bf77-38c30d32a2c8",
   "metadata": {},
   "outputs": [],
   "source": [
    "# 1. 사용자에게 값을 받는다 -> input(),int()\n",
    "# 2. 사전에 환율을 정의해서 특정 변수에 할당해 놓는다. -> 변수 정의만 하면 됨\n",
    "# 3. 사용자에게 받은 값을 사전에 정의해놓은 환율과 계산한다.   -> 연산자만 알면 됨\n",
    "# 4. 사용자의 값과 환율을 계산한 그 결과값을 출력한다.  ->print()"
   ]
  },
  {
   "cell_type": "code",
   "execution_count": 16,
   "id": "866e1205-b494-4079-af5d-4a11f903cc63",
   "metadata": {},
   "outputs": [
    {
     "name": "stdin",
     "output_type": "stream",
     "text": [
      "환전하고 싶은 달러를 입력해주세요. ex)100달러 100달러\n"
     ]
    },
    {
     "name": "stdout",
     "output_type": "stream",
     "text": [
      "111200원\n"
     ]
    }
   ],
   "source": [
    "dollar = input(\"환전하고 싶은 달러를 입력해주세요. ex)100달러\")\n",
    "\n",
    "cash = int(dollar.strip(\"달러\"))\n",
    "\n",
    "won = cash * 1112\n",
    "print(f\"{won}원\")"
   ]
  },
  {
   "cell_type": "code",
   "execution_count": 19,
   "id": "53ddab4f-3344-4d08-93c0-060ee56e5f90",
   "metadata": {},
   "outputs": [
    {
     "name": "stdin",
     "output_type": "stream",
     "text": [
      "환전하고 싶은 달러를 입력해주세요, ex)100달러 100달러\n"
     ]
    },
    {
     "name": "stdout",
     "output_type": "stream",
     "text": [
      "111,200원\n"
     ]
    }
   ],
   "source": [
    "price = input(\"환전하고 싶은 달러를 입력해주세요, ex)100달러\")\n",
    "exchange = 1112 \n",
    "\n",
    "dollar = int(price.replace(\"달러\", \"\"))\n",
    "result = dollar * exchange\n",
    "print(f\"{result:,}원\")     #숫자의 경우 :,를 주면 천 단위에서 쉼표로 끊어줌"
   ]
  },
  {
   "cell_type": "markdown",
   "id": "b8816ae6-c11f-400e-95d6-14a433ca6c7c",
   "metadata": {},
   "source": [
    "### 달러의 환율을 1112원으로 설정하고 위안화의 환율을 171원으로 설정하고 엔화의 환율을 1010원으로 설정을 하되, 해당 화폐당 환율의 값을 딕셔너리라는 자료구조로 정의하고 사용자가 달러 혹은 엔화 혹은 위안화 값을 입력했을 때, 해당 값을 한화로 바꿔서 출력될 수 있도록 해주세요.\n",
    "- ex) 100달러 => 111,200원 // 100위안 => 17,100원"
   ]
  },
  {
   "cell_type": "code",
   "execution_count": 25,
   "id": "2743fc50-f2d6-4332-8eb7-ef0e5b3037ea",
   "metadata": {},
   "outputs": [
    {
     "name": "stdin",
     "output_type": "stream",
     "text": [
      "환전하고 싶은 금액 입력 20엔화\n"
     ]
    },
    {
     "name": "stdout",
     "output_type": "stream",
     "text": [
      "20,200원\n"
     ]
    }
   ],
   "source": [
    "exchange_list = {\"달러\":1112,\"위안\":171,\"엔화\":1010}\n",
    "user_money = input(\"환전하고 싶은 금액 입력\")\n",
    "#100달러\n",
    "\n",
    "if user_money[-2:] == \"달러\" :\n",
    "    print(f\"{exchange_list['달러'] * int(user_money[:-2]):,}원\")   #밖에서 큰 따옴표를 쓰려면 내부에서는 작은따옴표를 써야 함\n",
    "elif user_money[-2:] == \"위안\" :\n",
    "    print(f\"{exchange_list['위안'] * int(user_money[:-2]):,}원\")\n",
    "elif user_money[-2:] == \"엔화\" :\n",
    "    print(f\"{exchange_list['엔화'] * int(user_money[:-2]):,}원\")\n",
    "else :\n",
    "    print(\"달러,위안,엔화 중 하나를 입력해주세요!\")"
   ]
  },
  {
   "cell_type": "code",
   "execution_count": 26,
   "id": "4368ac81-d4de-4858-a899-4c354cfa8333",
   "metadata": {},
   "outputs": [],
   "source": [
    "# 2~9단까지 => 1) 숫자 2부터 9까지 반복순회!!!! 2) 피연산자로 1부터 9까지 반복순회!!! 2 * 1 = 2"
   ]
  },
  {
   "cell_type": "code",
   "execution_count": 30,
   "id": "223d5e09-8809-4bde-b04a-68366a27dd36",
   "metadata": {},
   "outputs": [
    {
     "name": "stdout",
     "output_type": "stream",
     "text": [
      "------------------------\n",
      "- 구구단 2단 -\n",
      "------------------------\n",
      "2 * 1 = 2\n",
      "2 * 2 = 4\n",
      "2 * 3 = 6\n",
      "2 * 4 = 8\n",
      "2 * 5 = 10\n",
      "2 * 6 = 12\n",
      "2 * 7 = 14\n",
      "2 * 8 = 16\n",
      "2 * 9 = 18\n",
      "\n",
      "\n",
      "------------------------\n",
      "- 구구단 3단 -\n",
      "------------------------\n",
      "3 * 1 = 3\n",
      "3 * 2 = 6\n",
      "3 * 3 = 9\n",
      "3 * 4 = 12\n",
      "3 * 5 = 15\n",
      "3 * 6 = 18\n",
      "3 * 7 = 21\n",
      "3 * 8 = 24\n",
      "3 * 9 = 27\n",
      "\n",
      "\n",
      "------------------------\n",
      "- 구구단 4단 -\n",
      "------------------------\n",
      "4 * 1 = 4\n",
      "4 * 2 = 8\n",
      "4 * 3 = 12\n",
      "4 * 4 = 16\n",
      "4 * 5 = 20\n",
      "4 * 6 = 24\n",
      "4 * 7 = 28\n",
      "4 * 8 = 32\n",
      "4 * 9 = 36\n",
      "\n",
      "\n",
      "------------------------\n",
      "- 구구단 5단 -\n",
      "------------------------\n",
      "5 * 1 = 5\n",
      "5 * 2 = 10\n",
      "5 * 3 = 15\n",
      "5 * 4 = 20\n",
      "5 * 5 = 25\n",
      "5 * 6 = 30\n",
      "5 * 7 = 35\n",
      "5 * 8 = 40\n",
      "5 * 9 = 45\n",
      "\n",
      "\n",
      "------------------------\n",
      "- 구구단 6단 -\n",
      "------------------------\n",
      "6 * 1 = 6\n",
      "6 * 2 = 12\n",
      "6 * 3 = 18\n",
      "6 * 4 = 24\n",
      "6 * 5 = 30\n",
      "6 * 6 = 36\n",
      "6 * 7 = 42\n",
      "6 * 8 = 48\n",
      "6 * 9 = 54\n",
      "\n",
      "\n",
      "------------------------\n",
      "- 구구단 7단 -\n",
      "------------------------\n",
      "7 * 1 = 7\n",
      "7 * 2 = 14\n",
      "7 * 3 = 21\n",
      "7 * 4 = 28\n",
      "7 * 5 = 35\n",
      "7 * 6 = 42\n",
      "7 * 7 = 49\n",
      "7 * 8 = 56\n",
      "7 * 9 = 63\n",
      "\n",
      "\n",
      "------------------------\n",
      "- 구구단 8단 -\n",
      "------------------------\n",
      "8 * 1 = 8\n",
      "8 * 2 = 16\n",
      "8 * 3 = 24\n",
      "8 * 4 = 32\n",
      "8 * 5 = 40\n",
      "8 * 6 = 48\n",
      "8 * 7 = 56\n",
      "8 * 8 = 64\n",
      "8 * 9 = 72\n",
      "\n",
      "\n",
      "------------------------\n",
      "- 구구단 9단 -\n",
      "------------------------\n",
      "9 * 1 = 9\n",
      "9 * 2 = 18\n",
      "9 * 3 = 27\n",
      "9 * 4 = 36\n",
      "9 * 5 = 45\n",
      "9 * 6 = 54\n",
      "9 * 7 = 63\n",
      "9 * 8 = 72\n",
      "9 * 9 = 81\n",
      "\n",
      "\n"
     ]
    }
   ],
   "source": [
    "for num01 in range(2,10) :\n",
    "    print(\"------------------------\")\n",
    "    print(f\"- 구구단 {num01}단 -\")\n",
    "    print(\"------------------------\")\n",
    "    for num02 in range(1,10) :\n",
    "        print(f\"{num01} * {num02} = {num01 * num02}\")\n",
    "    print(\"\\n\")"
   ]
  },
  {
   "cell_type": "markdown",
   "id": "86847941-7adf-473c-986b-60ff6ecd9921",
   "metadata": {},
   "source": [
    "### 위에서 작성한 코드를 활용해서 다음과 같은 결과를 출력해주세요. 구구단 2~9단까지 출력하되, 계산된 결과값이 짝수인 경우만 출력해주세요!! \n",
    "- ex) 3 x 3 = 9이기 때문에 출력되면 안됨. 2 x 4 = 8 이기 때문에 출력되어야 함"
   ]
  },
  {
   "cell_type": "code",
   "execution_count": 43,
   "id": "76eb6daf-cb3c-4349-86d1-fe7c2c2aef3c",
   "metadata": {},
   "outputs": [
    {
     "name": "stdout",
     "output_type": "stream",
     "text": [
      "------------------------\n",
      "- 구구단 2단 -\n",
      "------------------------\n",
      "2 * 1 = 2\n",
      "2 * 2 = 4\n",
      "2 * 3 = 6\n",
      "2 * 4 = 8\n",
      "2 * 5 = 10\n",
      "2 * 6 = 12\n",
      "2 * 7 = 14\n",
      "2 * 8 = 16\n",
      "2 * 9 = 18\n",
      "\n",
      "\n",
      "------------------------\n",
      "- 구구단 3단 -\n",
      "------------------------\n",
      "3 * 2 = 6\n",
      "3 * 4 = 12\n",
      "3 * 6 = 18\n",
      "3 * 8 = 24\n",
      "\n",
      "\n",
      "------------------------\n",
      "- 구구단 4단 -\n",
      "------------------------\n",
      "4 * 1 = 4\n",
      "4 * 2 = 8\n",
      "4 * 3 = 12\n",
      "4 * 4 = 16\n",
      "4 * 5 = 20\n",
      "4 * 6 = 24\n",
      "4 * 7 = 28\n",
      "4 * 8 = 32\n",
      "4 * 9 = 36\n",
      "\n",
      "\n",
      "------------------------\n",
      "- 구구단 5단 -\n",
      "------------------------\n",
      "5 * 2 = 10\n",
      "5 * 4 = 20\n",
      "5 * 6 = 30\n",
      "5 * 8 = 40\n",
      "\n",
      "\n",
      "------------------------\n",
      "- 구구단 6단 -\n",
      "------------------------\n",
      "6 * 1 = 6\n",
      "6 * 2 = 12\n",
      "6 * 3 = 18\n",
      "6 * 4 = 24\n",
      "6 * 5 = 30\n",
      "6 * 6 = 36\n",
      "6 * 7 = 42\n",
      "6 * 8 = 48\n",
      "6 * 9 = 54\n",
      "\n",
      "\n",
      "------------------------\n",
      "- 구구단 7단 -\n",
      "------------------------\n",
      "7 * 2 = 14\n",
      "7 * 4 = 28\n",
      "7 * 6 = 42\n",
      "7 * 8 = 56\n",
      "\n",
      "\n",
      "------------------------\n",
      "- 구구단 8단 -\n",
      "------------------------\n",
      "8 * 1 = 8\n",
      "8 * 2 = 16\n",
      "8 * 3 = 24\n",
      "8 * 4 = 32\n",
      "8 * 5 = 40\n",
      "8 * 6 = 48\n",
      "8 * 7 = 56\n",
      "8 * 8 = 64\n",
      "8 * 9 = 72\n",
      "\n",
      "\n",
      "------------------------\n",
      "- 구구단 9단 -\n",
      "------------------------\n",
      "9 * 2 = 18\n",
      "9 * 4 = 36\n",
      "9 * 6 = 54\n",
      "9 * 8 = 72\n",
      "\n",
      "\n"
     ]
    }
   ],
   "source": [
    "for num01 in range(2,10) :\n",
    "    print(\"------------------------\")\n",
    "    print(f\"- 구구단 {num01}단 -\")\n",
    "    print(\"------------------------\")\n",
    "    for num02 in range(1,10) :\n",
    "        if (num01 * num02) % 2 == 0 :\n",
    "            print(f\"{num01} * {num02} = {num01 * num02}\")\n",
    "    print(\"\\n\")"
   ]
  },
  {
   "cell_type": "markdown",
   "id": "5739a7e5-1c6e-41f6-b8b4-676a70838e0b",
   "metadata": {},
   "source": [
    "## dongs = [\"6209동\",\"6208동\",\"6207동\"]                   \n",
    "## hos = [\"101호\",\"102호\",\"103호\",\"104호\"]\n",
    "\n",
    "```\n",
    "6209동 101호\n",
    "6209동 102호\n",
    "6209동 103호\n",
    "6209동 104호\n",
    "\n",
    "6208동 101호\n",
    "6208동 102호\n",
    "6208동 103호\n",
    "6208동 104호\n",
    "\n",
    "6207동 101호\n",
    "6207동 102호\n",
    "6207동 103호\n",
    "6207동 104호\n",
    "```"
   ]
  },
  {
   "cell_type": "code",
   "execution_count": 54,
   "id": "c3ee1e5f-0e6c-4836-9b10-888a0394533f",
   "metadata": {},
   "outputs": [
    {
     "name": "stdout",
     "output_type": "stream",
     "text": [
      "\n",
      "\n",
      "6209동 101호\n",
      "6209동 102호\n",
      "6209동 103호\n",
      "6209동 104호\n",
      "\n",
      "\n",
      "6208동 101호\n",
      "6208동 102호\n",
      "6208동 103호\n",
      "6208동 104호\n",
      "\n",
      "\n",
      "6207동 101호\n",
      "6207동 102호\n",
      "6207동 103호\n",
      "6207동 104호\n"
     ]
    }
   ],
   "source": [
    "dongs = [\"6209동\",\"6208동\",\"6207동\"]\n",
    "hos = [\"101호\",\"102호\",\"103호\",\"104호\"]\n",
    "for dong in dongs :\n",
    "    print(\"\\n\")\n",
    "    for ho in hos :\n",
    "        print(f\"{dong} {ho}\")"
   ]
  },
  {
   "cell_type": "code",
   "execution_count": 49,
   "id": "fd49255d-42df-4bd4-b740-31060c987253",
   "metadata": {},
   "outputs": [
    {
     "name": "stdout",
     "output_type": "stream",
     "text": [
      "6209동 101호\n",
      "6209동 102호\n",
      "6209동 103호\n",
      "6209동 104호\n",
      "\n",
      "6208동 101호\n",
      "6208동 102호\n",
      "6208동 103호\n",
      "6208동 104호\n",
      "\n",
      "6207동 101호\n",
      "6207동 102호\n",
      "6207동 103호\n",
      "6207동 104호\n",
      "\n"
     ]
    }
   ],
   "source": [
    "dongs = [\"6209동\",\"6208동\",\"6207동\"]\n",
    "hos = [\"101호\",\"102호\",\"103호\",\"104호\"]\n",
    "\n",
    "for item_1 in dongs:\n",
    "    for item_2 in hos:\n",
    "        print(item_1,item_2)\n",
    "    print()"
   ]
  },
  {
   "cell_type": "code",
   "execution_count": 55,
   "id": "c0214dfc-90a7-4a53-aa01-59dac71e156e",
   "metadata": {},
   "outputs": [
    {
     "data": {
      "text/plain": [
       "('coding01', 'coding02', 'coding03', 'coding04')"
      ]
     },
     "execution_count": 55,
     "metadata": {},
     "output_type": "execute_result"
    }
   ],
   "source": [
    "tupledata = (\"coding01\",\"coding02\",\"coding03\")   #튜플 상태에서는 자료추가 안되므로 리스트 형태로 바꿔서 자료추가후 다시 튜플 형태로 전환\n",
    "temp_list = list(tupledata)\n",
    "temp_list.append(\"coding04\")\n",
    "result = tuple(temp_list)\n",
    "\n",
    "result"
   ]
  },
  {
   "cell_type": "code",
   "execution_count": 59,
   "id": "cd825b4e-ece8-4b26-9c18-6b46b328b3be",
   "metadata": {},
   "outputs": [
    {
     "data": {
      "text/plain": [
       "('coding01', 'coding02', 'coding03', 'coding04')"
      ]
     },
     "execution_count": 59,
     "metadata": {},
     "output_type": "execute_result"
    }
   ],
   "source": [
    "tupledata = (\"coding01\",\"coding02\",\"coding03\")       #but 튜플끼리 합치기는 가능!\n",
    "\n",
    "tuple(list(tupledata) + [\"coding04\"])"
   ]
  },
  {
   "cell_type": "markdown",
   "id": "0654749e-f62d-43f8-bb91-ab0b1fde5839",
   "metadata": {},
   "source": [
    "### 딕셔너리 형태의 자료구조를 하나 만들어서 아래와 같이 값을 출력해주세요.\n",
    "\n",
    "```\n",
    "environment : 환경\n",
    "company : 회사\n",
    "government : 정부\n",
    "face : 얼굴\n",
    "```"
   ]
  },
  {
   "cell_type": "code",
   "execution_count": 60,
   "id": "17ac7ef0-334d-4ae5-980d-d992d1d0faa4",
   "metadata": {},
   "outputs": [],
   "source": [
    "data = {\n",
    "    \"environment\":\"환경\",\n",
    "    \"company\":\"회사\",\n",
    "    \"government\":\"정부\",\n",
    "    \"face\":\"얼굴\",\n",
    "}"
   ]
  },
  {
   "cell_type": "code",
   "execution_count": 66,
   "id": "0aab1d8e-c5c5-4889-b435-e699aabfeffe",
   "metadata": {},
   "outputs": [
    {
     "name": "stdout",
     "output_type": "stream",
     "text": [
      "environment : 환경\n",
      "company : 회사\n",
      "government : 정부\n",
      "face : 얼굴\n"
     ]
    }
   ],
   "source": [
    "for item in data.keys() :\n",
    "    print(f\"{item} : {data[item]}\")"
   ]
  },
  {
   "cell_type": "markdown",
   "id": "f86b841e-0309-4177-a051-ab292df601db",
   "metadata": {},
   "source": [
    "### 딕셔너리 형태의 자료구조를 하나 만들어서 아래와 같이 값을 출력해주세요.\n",
    "\n",
    "```\n",
    "environment : 환경 x\n",
    "company : 회사 o\n",
    "government : 정부 x\n",
    "face : 얼굴 x\n",
    "```"
   ]
  },
  {
   "cell_type": "code",
   "execution_count": 69,
   "id": "6e0341bb-7a77-416b-91b6-8ab4303af88a",
   "metadata": {},
   "outputs": [],
   "source": [
    "data = {\n",
    "    \"environment\":[\"환경\",\"x\"],\n",
    "    \"company\":[\"회사\",\"o\"],\n",
    "    \"government\":[\"정부\",\"x\"],\n",
    "    \"face\":[\"얼굴\",\"x\"],\n",
    "}"
   ]
  },
  {
   "cell_type": "code",
   "execution_count": 70,
   "id": "786492db-5673-47bc-b4ca-0e63512a015d",
   "metadata": {},
   "outputs": [
    {
     "name": "stdout",
     "output_type": "stream",
     "text": [
      "environment : ['환경', 'x']\n",
      "company : ['회사', 'o']\n",
      "government : ['정부', 'x']\n",
      "face : ['얼굴', 'x']\n"
     ]
    }
   ],
   "source": [
    "for item in data.keys() :\n",
    "    print(f\"{item} : {data[item]}\")"
   ]
  },
  {
   "cell_type": "markdown",
   "id": "e94cf7fd-1655-4423-bcf3-7c91c9c3e95e",
   "metadata": {},
   "source": [
    "### 사용자로부터 사전에 등록되어 있는 단어들 중 1개를 입력받으세요. 그러면 입력받은 단어의 경우, 외움표시 o 표시로 수정하고, 아직 외우지 못한 단어들만 출력하는 프로그램 코드를 작성해주세요!!"
   ]
  },
  {
   "cell_type": "code",
   "execution_count": 89,
   "id": "e1295054-9876-40f4-8cd3-aff9710535a3",
   "metadata": {},
   "outputs": [
    {
     "name": "stdin",
     "output_type": "stream",
     "text": [
      "다 외운 단어 입력하기 face\n"
     ]
    }
   ],
   "source": [
    "english = input(\"다 외운 단어 입력하기\")\n",
    "if english in data.keys() :\n",
    "    data[english][1] = \"o\"\n",
    "else :\n",
    "    print(\"사전에 존재하지 않는 단어입니다!\")\n",
    "\n",
    "for item in data.keys() :\n",
    "    data_list = data[item]\n",
    "    if data_list[1] == \"x\" :\n",
    "        print(item)"
   ]
  },
  {
   "cell_type": "markdown",
   "id": "b818f3d3-19ce-4092-bc32-12353ec47836",
   "metadata": {},
   "source": [
    "### dict_all = {\"environment\":\"환경\",\"government\":\"정부\"}\n",
    "### dict2 = {\"company\":\"회사\",\"face\":\"얼굴\"}\n",
    "### dict3 = {\"apple\":\"사과\"}\n",
    "- dict_all 안에 dict2와 dict3 값을 모두 넣어주세요! 그리고 dict_all 값을 출력해주세요.\n",
    "- * 딕셔너리는 키값을 중심으로 출력됨"
   ]
  },
  {
   "cell_type": "code",
   "execution_count": 6,
   "id": "17fcd8ac-3708-4eca-aadb-f798290b0af6",
   "metadata": {},
   "outputs": [
    {
     "data": {
      "text/plain": [
       "{'environment': '환경',\n",
       " 'government': '정부',\n",
       " 'company': '회사',\n",
       " 'face': '얼굴',\n",
       " 'apple': '사과'}"
      ]
     },
     "execution_count": 6,
     "metadata": {},
     "output_type": "execute_result"
    }
   ],
   "source": [
    "dict_all = {\"environment\":\"환경\",\"government\":\"정부\"}\n",
    "dict2 = {\"company\":\"회사\",\"face\":\"얼굴\"}\n",
    "dict3 = {\"apple\":\"사과\"}\n",
    "\n",
    "for item in dict2 :\n",
    "    dict_all[item] = dict2[item]\n",
    "\n",
    "for item in dict3 :\n",
    "    dict_all[item] = dict3[item]\n",
    "\n",
    "dict_all"
   ]
  },
  {
   "cell_type": "code",
   "execution_count": 90,
   "id": "2443a154-8f6e-4420-9c20-74dad988dd15",
   "metadata": {},
   "outputs": [
    {
     "data": {
      "text/plain": [
       "{'environment': '환경',\n",
       " 'government': '정부',\n",
       " 'company': '회사',\n",
       " 'face': '얼굴',\n",
       " 'apple': '사과'}"
      ]
     },
     "execution_count": 90,
     "metadata": {},
     "output_type": "execute_result"
    }
   ],
   "source": [
    "dict_all = {\"environment\":\"환경\",\"government\":\"정부\"}\n",
    "dict2 = {\"company\":\"회사\",\"face\":\"얼굴\"}\n",
    "dict3 = {\"apple\":\"사과\"}\n",
    "\n",
    "for item in dict2.keys() :\n",
    "    dict_all[item] = dict2[item]\n",
    "    \n",
    "for item in dict3.keys() :\n",
    "    dict_all[item] = dict3[item]    \n",
    "\n",
    "dict_all"
   ]
  },
  {
   "cell_type": "code",
   "execution_count": 94,
   "id": "82981a41-7f9e-4339-949f-b2a8ad647dc9",
   "metadata": {},
   "outputs": [
    {
     "ename": "TypeError",
     "evalue": "set.add() takes exactly one argument (2 given)",
     "output_type": "error",
     "traceback": [
      "\u001b[1;31m---------------------------------------------------------------------------\u001b[0m",
      "\u001b[1;31mTypeError\u001b[0m                                 Traceback (most recent call last)",
      "Cell \u001b[1;32mIn[94], line 3\u001b[0m\n\u001b[0;32m      1\u001b[0m number_list \u001b[38;5;241m=\u001b[39m {\u001b[38;5;241m1\u001b[39m,\u001b[38;5;241m2\u001b[39m,\u001b[38;5;241m3\u001b[39m}\n\u001b[0;32m      2\u001b[0m number_list\u001b[38;5;241m.\u001b[39madd(\u001b[38;5;241m4\u001b[39m)\n\u001b[1;32m----> 3\u001b[0m number_list\u001b[38;5;241m.\u001b[39madd(\u001b[38;5;241m5\u001b[39m,\u001b[38;5;241m6\u001b[39m)      \u001b[38;5;66;03m#set.add()함수는 값을 추가할 수 있으나 한 번에 하나씩밖에 추가할 수 없음. 복수 추가 함수는 set.update([])(이터러블한 상태로 값을 주어야 하므로)\u001b[39;00m\n\u001b[0;32m      5\u001b[0m number_list\n",
      "\u001b[1;31mTypeError\u001b[0m: set.add() takes exactly one argument (2 given)"
     ]
    }
   ],
   "source": [
    "number_list = {1,2,3}\n",
    "number_list.add(4)\n",
    "number_list.add(5,6)      #set.add()함수는 값을 추가할 수 있으나 한 번에 하나씩밖에 추가할 수 없음. 복수 추가 함수는 set.update([])(이터러블한 상태로 값을 주어야 하므로)\n",
    "\n",
    "number_list"
   ]
  },
  {
   "cell_type": "code",
   "execution_count": 96,
   "id": "65181446-b46f-4c99-82f1-bf5f46178ce6",
   "metadata": {},
   "outputs": [
    {
     "data": {
      "text/plain": [
       "{1, 3, 4, 5, 6}"
      ]
     },
     "execution_count": 96,
     "metadata": {},
     "output_type": "execute_result"
    }
   ],
   "source": [
    "number_list = {1,2,3}\n",
    "number_list.add(4)\n",
    "number_list.update([5,6])\n",
    "number_list.remove(2)\n",
    "\n",
    "\n",
    "number_list"
   ]
  },
  {
   "cell_type": "markdown",
   "id": "db600b7f-e1dc-46e6-aa14-6127f0239e00",
   "metadata": {},
   "source": [
    "### 임의의 숫자 2개를 사용자에게 받으면 해당 2개의 숫자를 곱한 값을 반환하는 함수를 만들고, 해당 함수의 결과값을 화면에 출력해주세요."
   ]
  },
  {
   "cell_type": "code",
   "execution_count": 97,
   "id": "f0b34756-bc1b-4391-9bd6-60e21452675f",
   "metadata": {},
   "outputs": [
    {
     "name": "stdin",
     "output_type": "stream",
     "text": [
      "첫번째 숫자 2\n",
      "두번째 숫자 4\n"
     ]
    },
    {
     "name": "stdout",
     "output_type": "stream",
     "text": [
      "8\n"
     ]
    }
   ],
   "source": [
    "num1 = int(input(\"첫번째 숫자\"))\n",
    "num2 = int(input(\"두번째 숫자\"))\n",
    "\n",
    "def f1(num1,num2) :\n",
    "    return num1 * num2\n",
    "\n",
    "print(f1(num1,num2))"
   ]
  },
  {
   "cell_type": "code",
   "execution_count": 99,
   "id": "696bbbf8-7ce0-4b51-bcf5-d02aeeb1fcc3",
   "metadata": {},
   "outputs": [
    {
     "name": "stdin",
     "output_type": "stream",
     "text": [
      "숫자를 입력하세요 2\n",
      "숫자를 입력하세요 4\n"
     ]
    },
    {
     "name": "stdout",
     "output_type": "stream",
     "text": [
      "8\n"
     ]
    }
   ],
   "source": [
    "num_all = [int(input(\"숫자를 입력하세요\")) for _ in range(2)]\n",
    "\n",
    "def f1(num1,num2) :\n",
    "    return num1 * num2\n",
    "\n",
    "print(f1(num_all[0],num_all[1]))"
   ]
  },
  {
   "cell_type": "markdown",
   "id": "b2ec0c8a-9f8b-4e08-86df-2f040647af33",
   "metadata": {},
   "source": [
    "### 인자값 3개를 받을 수 있는 함수를 호출합니다.\n",
    "- func1(인자값1, 인자값2, 인자값3)\n",
    "- 해당 함수의 3번째 인자값 = 인자값3, + => 첫번째 인자값과 두번째 인자값을 더한 결과값을 반환하도록 하고, \n",
    " 만약 세번째 인자값이 *라면, 첫번째 인자값과 두번째 인자값을 곱한 결과값을 반환하세요. \n",
    " 그런데 만약 3번째 인자값이 +도 아니고, *도 아니라면 무조건 0이라는 값을 반환하도록 하는 함수를 만들어주세요!"
   ]
  },
  {
   "cell_type": "code",
   "execution_count": 101,
   "id": "b50cb3c6-bfa2-4f68-bb31-f083011c679e",
   "metadata": {},
   "outputs": [
    {
     "name": "stdout",
     "output_type": "stream",
     "text": [
      "3 6 0\n"
     ]
    }
   ],
   "source": [
    "def calc(data1,data2, way) :\n",
    "    if way == \"+\" :\n",
    "        return data1 + data2\n",
    "    elif way == \"*\" :\n",
    "        return data1 * data2\n",
    "    else :\n",
    "        return 0\n",
    "\n",
    "data01 = calc(1,2, \"+\")\n",
    "data02 = calc(3,2, \"*\")\n",
    "data03 = calc(2,4, \"-\")\n",
    "print(data01, data02, data03)"
   ]
  }
 ],
 "metadata": {
  "kernelspec": {
   "display_name": "Python 3 (ipykernel)",
   "language": "python",
   "name": "python3"
  },
  "language_info": {
   "codemirror_mode": {
    "name": "ipython",
    "version": 3
   },
   "file_extension": ".py",
   "mimetype": "text/x-python",
   "name": "python",
   "nbconvert_exporter": "python",
   "pygments_lexer": "ipython3",
   "version": "3.13.5"
  }
 },
 "nbformat": 4,
 "nbformat_minor": 5
}
