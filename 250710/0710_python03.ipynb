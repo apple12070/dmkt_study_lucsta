{
 "cells": [
  {
   "cell_type": "markdown",
   "id": "16bc88c0-463b-4874-a4a2-fc6f04c9b4af",
   "metadata": {},
   "source": [
    "#### 1. 다음 사이트를 크롤링 할 수 있도록 BS4, requests를 활용해서 기본 세팅해주세요!!\n",
    "- https://davelee-fun.github.io/"
   ]
  },
  {
   "cell_type": "code",
   "execution_count": 3,
   "id": "bc2ceef8-6a18-48c7-82d2-fe056b72a04c",
   "metadata": {},
   "outputs": [],
   "source": [
    "import requests\n",
    "from bs4 import BeautifulSoup\n",
    "\n",
    "res = requests.get(\"https://davelee-fun.github.io/\")\n",
    "soup = BeautifulSoup(res.content,\"html.parser\")"
   ]
  },
  {
   "cell_type": "markdown",
   "id": "25167cae-11ec-4a1c-90c1-89b601f6a329",
   "metadata": {},
   "source": [
    "#### 2. 현재 쇼핑몰 내 우측 상단 Blog, About 메뉴명을 크롤링해서 출력해주세요."
   ]
  },
  {
   "cell_type": "code",
   "execution_count": 8,
   "id": "2ab55f37-a703-4dce-b468-28a9600e7c68",
   "metadata": {},
   "outputs": [
    {
     "name": "stdout",
     "output_type": "stream",
     "text": [
      "\n",
      "Blog\n",
      "\n",
      "\n",
      "About\n",
      "\n"
     ]
    }
   ],
   "source": [
    "import requests\n",
    "from bs4 import BeautifulSoup\n",
    "\n",
    "url = \"https://davelee-fun.github.io/\"\n",
    "\n",
    "res = requests.get(url)\n",
    "soup = BeautifulSoup(res.content,\"html.parser\")\n",
    "\n",
    "# res = requests.get(f\"{url}product-83\") # 이런식으로 상세페이지도 크롤링 가능\n",
    "\n",
    "items = soup.select(\"li.nav-item\")  #class니까 앞에 온점찍기 // li태그를 적어도 안적어도 출력값은 동일함\n",
    "\n",
    "for item in items :\n",
    "    print(item.get_text())\n"
   ]
  },
  {
   "cell_type": "markdown",
   "id": "d86761e6-8641-4237-a5d2-8172a72e69b4",
   "metadata": {},
   "source": [
    "#### 3. 현재 찾아온 메뉴명 중에서 가상클래스 active가 적용된 메뉴명만 출력해주세요."
   ]
  },
  {
   "cell_type": "code",
   "execution_count": 12,
   "id": "1c4caf4b-46fe-4174-a8d3-63e0c189fbd9",
   "metadata": {},
   "outputs": [
    {
     "name": "stdout",
     "output_type": "stream",
     "text": [
      "Blog\n"
     ]
    }
   ],
   "source": [
    "import requests\n",
    "from bs4 import BeautifulSoup\n",
    "\n",
    "url = \"https://davelee-fun.github.io/\"\n",
    "\n",
    "res = requests.get(url)\n",
    "soup = BeautifulSoup(res.content,\"html.parser\")\n",
    "\n",
    "items = soup.select(\"li.nav-item.active\")\n",
    "print(item.get_text().strip())\n",
    "\n",
    "# for item in items :\n",
    "#     print(item.get_text())"
   ]
  },
  {
   "cell_type": "markdown",
   "id": "975f8d65-c80f-4b14-93fe-cad0cbf5179e",
   "metadata": {},
   "source": [
    "#### 4. 현재 사이트에서 sitetitle이라는 클래스 값을 가지고 있는 h1 태그 안 텍스트를 출력해주세요."
   ]
  },
  {
   "cell_type": "code",
   "execution_count": 15,
   "id": "ac4fcd6a-951d-4b9b-a22d-a68e299212c4",
   "metadata": {},
   "outputs": [
    {
     "name": "stdout",
     "output_type": "stream",
     "text": [
      "Teddy의 선물 블로그\n"
     ]
    }
   ],
   "source": [
    "item = soup.select_one(\"h1.sitetitle\")\n",
    "print(item.string)"
   ]
  },
  {
   "cell_type": "markdown",
   "id": "34c25f10-8975-4d5e-9612-1552396c45be",
   "metadata": {},
   "source": [
    "#### 5.현재 사이트에서 \"선물하기 좋은 선물을 고르고 골라서 소개하는 블로그입니다.\"라는 서브타이틀을 찾아서 크롤링해서 출력해주세요."
   ]
  },
  {
   "cell_type": "code",
   "execution_count": 20,
   "id": "aaf298cd-5857-4214-aff5-c63162775983",
   "metadata": {},
   "outputs": [
    {
     "name": "stdout",
     "output_type": "stream",
     "text": [
      "선물하기 좋은 선물을 고르고 골라서 소개하는 블로그입니다.\n"
     ]
    }
   ],
   "source": [
    "item = soup.select_one(\"p.lead\")\n",
    "\n",
    "print(item.string.strip())"
   ]
  },
  {
   "cell_type": "markdown",
   "id": "3dea2550-b47d-4711-8aee-54c2aaf93db5",
   "metadata": {},
   "source": [
    "#### 6. 현재 사이트에서 Featured 카테고리에 속해있는 상품들의 상품명만 가져와서 출력해주세요!"
   ]
  },
  {
   "cell_type": "code",
   "execution_count": 25,
   "id": "2acac8d3-9965-4726-8041-2cb7796d4f56",
   "metadata": {},
   "outputs": [
    {
     "name": "stdout",
     "output_type": "stream",
     "text": [
      " 보몽드 순면스퀘어 솔리드 누빔매트커버, 다크블루\n",
      " 슈에뜨룸 선인장 리플 침구 세트, 베이지\n",
      " 선우랜드 레인보우 2단 문걸이용 옷걸이 _중형, 화이트, 상세페이지참조\n",
      " 보드래 헬로우 누빔 매트리스커버, 핑크\n",
      " 보드래 퍼펙트 누빔 매트리스커버, 차콜\n",
      " 피아블 클래식 방수 매트리스커버, 화이트\n",
      " 더자리 에코항균 마이크로 매트리스커버, 밀키차콜그레이\n",
      " 더자리 프레쉬 퓨어 매트리스 커버, 퓨어 차콜그레이\n",
      " 몽쉐어 알러스킨 항균 매트리스 커버, 카키그레이\n",
      " 쿠팡 브랜드 - 코멧 홈 40수 트윌 순면 100% 홑겹 매트리스커버, 그레이\n",
      " 패브릭아트 항균 마이크로 원단 매트리스 커버, 아이보리\n",
      " 바숨 순면 누빔 침대 매트리스커버, 차콜\n",
      " WEMAX 다용도 문옷걸이, 화이트, 1개\n",
      " 타카타카 프리미엄 나노 화이바 누빔 매트리스 커버, 젠틀핑핑\n",
      " 보몽드 순면스퀘어 누빔매트커버, 다크그레이\n",
      " 보드래 국내산 순면 60수 누빔 매트리스커버, 그레이\n"
     ]
    }
   ],
   "source": [
    "items = soup.select(\"h4.card-text\")\n",
    "\n",
    "for item in items :\n",
    "    print(item.string.strip().split(\":\")[1])"
   ]
  },
  {
   "cell_type": "markdown",
   "id": "a7c44187-b393-4b43-a342-2b8a9920dc66",
   "metadata": {},
   "source": [
    "#### 7.현재 사이트에서 All Stories 카테고리에 속해있는 상품들의 상품명만 가져와서 출력해주세요."
   ]
  },
  {
   "cell_type": "code",
   "execution_count": 36,
   "id": "af29fdb4-fe56-4eec-a003-ac99b87e83e6",
   "metadata": {},
   "outputs": [
    {
     "name": "stdout",
     "output_type": "stream",
     "text": [
      " 보드래 퍼펙트 누빔 매트리스커버, 차콜\n",
      " 피아블 클래식 방수 매트리스커버, 화이트\n",
      " 더자리 에코항균 마이크로 매트리스커버, 밀키차콜그레이\n",
      " 더자리 프레쉬 퓨어 매트리스 커버, 퓨어 차콜그레이\n",
      " 몽쉐어 알러스킨 항균 매트리스 커버, 카키그레이\n",
      " 쿠팡 브랜드 - 코멧 홈 40수 트윌 순면 100% 홑겹 매트리스커버, 그레이\n",
      " 패브릭아트 항균 마이크로 원단 매트리스 커버, 아이보리\n",
      " 바숨 순면 누빔 침대 매트리스커버, 차콜\n",
      " WEMAX 다용도 문옷걸이, 화이트, 1개\n",
      " 타카타카 프리미엄 나노 화이바 누빔 매트리스 커버, 젠틀핑핑\n",
      " 보몽드 순면스퀘어 누빔매트커버, 다크그레이\n",
      " 보드래 국내산 순면 60수 누빔 매트리스커버, 그레이\n"
     ]
    }
   ],
   "source": [
    "import requests\n",
    "from bs4 import BeautifulSoup\n",
    "\n",
    "url = \"https://davelee-fun.github.io/\"\n",
    "\n",
    "res = requests.get(url)\n",
    "soup = BeautifulSoup(res.content,\"html.parser\")\n",
    "\n",
    "allstories = soup.select_one(\".recent-posts\")\n",
    "items = allstories.select(\"h4.card-text\")\n",
    "\n",
    "for item in items :\n",
    "    print(item.string.strip().split(\":\")[1])\n",
    "     "
   ]
  },
  {
   "cell_type": "markdown",
   "id": "e394d9af-301f-407f-a5ef-220d27c6bc73",
   "metadata": {},
   "source": [
    "#### 8. 현재 사이트에서 하단의 \"Never miss a story from us, subscribe to our newsletter\"을 가져와서 출력해주세요!"
   ]
  },
  {
   "cell_type": "code",
   "execution_count": 47,
   "id": "aa958582-1c73-461f-a719-ac4f1505e586",
   "metadata": {},
   "outputs": [
    {
     "name": "stdout",
     "output_type": "stream",
     "text": [
      "\n",
      "   Never miss a story from us, subscribe to our newsletter\n",
      "\n",
      "\n",
      "\n",
      "\n",
      "\n",
      "\n",
      "\n"
     ]
    }
   ],
   "source": [
    "item = soup.select_one(\"div.container.text-center\")\n",
    "print(item.get_text())\n",
    "\n",
    "     "
   ]
  }
 ],
 "metadata": {
  "kernelspec": {
   "display_name": "Python 3 (ipykernel)",
   "language": "python",
   "name": "python3"
  },
  "language_info": {
   "codemirror_mode": {
    "name": "ipython",
    "version": 3
   },
   "file_extension": ".py",
   "mimetype": "text/x-python",
   "name": "python",
   "nbconvert_exporter": "python",
   "pygments_lexer": "ipython3",
   "version": "3.13.5"
  }
 },
 "nbformat": 4,
 "nbformat_minor": 5
}
