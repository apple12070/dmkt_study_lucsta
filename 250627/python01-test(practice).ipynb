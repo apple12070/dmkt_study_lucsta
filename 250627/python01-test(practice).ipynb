{
 "cells": [
  {
   "cell_type": "markdown",
   "id": "b2cfe59f-f5fa-47f2-8c05-61539e0fff20",
   "metadata": {},
   "source": [
    "# 1. 셀 화면에 \"Hello World\"라는 문자열을 출력하세요."
   ]
  },
  {
   "cell_type": "code",
   "execution_count": 3,
   "id": "0c19f3fd-a78d-4a85-89f1-ec3db4021558",
   "metadata": {},
   "outputs": [
    {
     "name": "stdout",
     "output_type": "stream",
     "text": [
      "Hello World\n"
     ]
    }
   ],
   "source": [
    "print(\"Hello World\")"
   ]
  },
  {
   "cell_type": "markdown",
   "id": "08099e99-dfbc-4ce8-98cb-0ee9676639eb",
   "metadata": {},
   "source": [
    "# 2. 부동소수값 3.1415의 값을 출력하세요(*단, 소수점 첫번째 자리까지만 출력해주세요.)"
   ]
  },
  {
   "cell_type": "code",
   "execution_count": 12,
   "id": "28d5b242-8b01-4176-8e39-113a02daab0a",
   "metadata": {},
   "outputs": [
    {
     "name": "stdout",
     "output_type": "stream",
     "text": [
      "3.1\n"
     ]
    }
   ],
   "source": [
    "num=3.1415\n",
    "print(format(num,\".1f\"))"
   ]
  },
  {
   "cell_type": "markdown",
   "id": "5623219d-da4e-4187-83a6-be205f423ff4",
   "metadata": {},
   "source": [
    "# 3. 문자열 \"720\"을 정수형의 형태값으로 형변환 후 출력하세요."
   ]
  },
  {
   "cell_type": "code",
   "execution_count": 14,
   "id": "355e8204-2d16-41ab-b1bd-c2abe7fc9e64",
   "metadata": {},
   "outputs": [
    {
     "name": "stdout",
     "output_type": "stream",
     "text": [
      "720\n"
     ]
    },
    {
     "data": {
      "text/plain": [
       "int"
      ]
     },
     "execution_count": 14,
     "metadata": {},
     "output_type": "execute_result"
    }
   ],
   "source": [
    "str01=\"720\"\n",
    "int01=720\n",
    "print(int(str01))\n",
    "type(int(str01))"
   ]
  },
  {
   "cell_type": "markdown",
   "id": "a0e6c5ab-9dd5-4018-9692-2e175c6e290c",
   "metadata": {},
   "source": [
    "# 4.밑이 6이고, 지수가 2인 거듭제곱의 값을 출력하세요. "
   ]
  },
  {
   "cell_type": "code",
   "execution_count": 15,
   "id": "a92f89d6-e735-49d6-b87a-baa64ae3183a",
   "metadata": {},
   "outputs": [
    {
     "name": "stdout",
     "output_type": "stream",
     "text": [
      "36\n"
     ]
    }
   ],
   "source": [
    "print( 6**2)"
   ]
  },
  {
   "cell_type": "markdown",
   "id": "d7ec20ce-d07f-4ab4-8a31-d8c8bccc350f",
   "metadata": {},
   "source": [
    "# 5. 사용자로부터 2개의 숫자를 입력받은 후 해당 숫자들을 더한 값을 출력하세요,(*OUTPUT : 결과값)"
   ]
  },
  {
   "cell_type": "code",
   "execution_count": null,
   "id": "3f26e845-f6da-4f6e-b2d4-ccf3073fe2cb",
   "metadata": {},
   "outputs": [],
   "source": [
    "first= int(input(\"first number\"))\n",
    "second= int(input(\"second number\"))\n",
    "result= first + s"
   ]
  }
 ],
 "metadata": {
  "kernelspec": {
   "display_name": "Python [conda env:base] *",
   "language": "python",
   "name": "conda-base-py"
  },
  "language_info": {
   "codemirror_mode": {
    "name": "ipython",
    "version": 3
   },
   "file_extension": ".py",
   "mimetype": "text/x-python",
   "name": "python",
   "nbconvert_exporter": "python",
   "pygments_lexer": "ipython3",
   "version": "3.13.5"
  }
 },
 "nbformat": 4,
 "nbformat_minor": 5
}
